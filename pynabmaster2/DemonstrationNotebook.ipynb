{
 "cells": [
  {
   "cell_type": "markdown",
   "metadata": {},
   "source": [
    "# Demonstration Notebook\n",
    "This is a Notebook designed to demonstrate how to use some of the different functions in the code.\n",
    "It doesn't show everything but shows some of the core features. First we need to import pyNab itself."
   ]
  },
  {
   "cell_type": "markdown",
   "metadata": {},
   "source": [
    "First we need to import pyNab itself.\n",
    "You may see various messages during this import related to features being enabled or disabled. "
   ]
  },
  {
   "cell_type": "code",
   "execution_count": 1,
   "metadata": {},
   "outputs": [
    {
     "name": "stdout",
     "output_type": "stream",
     "text": [
      "Due to some ongoing work on experimental GPU features, some warning statments may print during import\n",
      "If you see statements about CUDA or cupy, they should be safe to ignore\n",
      "If you have any questions feel free to email me: dgma224@g.uky.edu\n"
     ]
    }
   ],
   "source": [
    "import pyNab as Nab"
   ]
  },
  {
   "cell_type": "markdown",
   "metadata": {},
   "source": [
    "pyNab has a variety of optional features that are enabled if they are detected on your computer. \n",
    "- GPU support through cupy\n",
    "- FPGA emulation through fxpmath fixed precision library\n",
    "- Accelerated FFT operations with pyFFTW (or GPU if available)\n",
    "- Custom HDF5 compression through nabCompression.h5 (soon to be renamed)"
   ]
  },
  {
   "cell_type": "markdown",
   "metadata": {},
   "source": [
    "## Introduction to pyNab and How it Works"
   ]
  },
  {
   "cell_type": "markdown",
   "metadata": {},
   "source": [
    "pyNab is built around a series of different modules/classes. \n",
    "Each module/class serves a distinct purpose motivated by data in the Nab experiment\n",
    "\n",
    "- pyNab.py: Defines DataRun Class\n",
    "    - Loads in all sub-modules to combine all of the data from a single run\n",
    "    - waveformFileClass.py: pyNab.wf : Defines waveformFile Class\n",
    "        - .singl, .pulsr, .noise, .coinc\n",
    "        - Loads in waveform files specifically\n",
    "        - Uses Dask/Numpy to load in the waveforms themselves\n",
    "        - Uses Pandas to handle the headers for each waveform\n",
    "    - temperatureFileClass.py : pyNab.tmf : temperatureFile Class\n",
    "        - .tmprt\n",
    "        - Loads in the FPGA temperatures\n",
    "    - parameterFileClass.py : pyNab.pf : parameterFile Class\n",
    "        - .param\n",
    "        - Parses the .param output file from Manitoba data to load in pixel maps and other useful run parameters\n",
    "        - For ORNL datasets, parses the HDF5 parameter group\n",
    "    - eventFileClass.py: pyNab.ef : Defines eventFile Class\n",
    "        - .event\n",
    "        - Loads in the events as identified by the DAQ. Not particularly useful for Manitoba data due to formatting issues\n",
    "        - Will be updated with more functionality for ORNL datasets\n",
    "    - triggerFileClass.py: pyNab.tf : Defines triggerFile Class\n",
    "        - .trigg\n",
    "        - This class handles the triggers returned from the FPGAs\n",
    "        - also implements some basic cutting routines\n",
    "    - resultFileClass.py : pyNab.rf : resultFile Class\n",
    "        - Handles the results from certain analysis functions in waveformFileClass\n",
    "        - Basically wraps around pandas dataframes with some extra functionality thrown in \n",
    "            - In particular cutting routines\n",
    "            - Some basic plotting routines and some other functionality as well\n",
    "    There are also other files that are responsible for file formatting and data processing.\n",
    "\n",
    "    - basicFunctions.py : bf\n",
    "        - It's name is a lie. This is where all the analysis code is defined\n",
    "    - gpuFunctions.py : pyNab.bf.gpu\n",
    "        - Where the GPU functions are defined. Currently doesn't have much, work in progress\n",
    "    - fileFormats.py : pyNab.ff\n",
    "        - This is where the binary file formats are defined for the structured binary files such as from Manitoba"
   ]
  },
  {
   "cell_type": "markdown",
   "metadata": {},
   "source": [
    "## Opening a whole Run of Data"
   ]
  },
  {
   "cell_type": "markdown",
   "metadata": {},
   "source": [
    "The Class DataRun handles opening entire sets of data that were output from the DAQ. The user is expected to pass this class a directory to search for files, and the run number. This code will automatically open ALL files associated with this run that are in the directory. Missing files will cause errors."
   ]
  },
  {
   "cell_type": "code",
   "execution_count": 86,
   "metadata": {},
   "outputs": [],
   "source": [
    "runNumber = 1374\n",
    "directory = 'C:\\\\Users\\\\David\\\\Documents\\\\datafiles\\\\pNabDemoData\\\\'"
   ]
  },
  {
   "cell_type": "code",
   "execution_count": 87,
   "metadata": {},
   "outputs": [],
   "source": [
    "runWithEvents = Nab.DataRun(directory, runNumber)"
   ]
  },
  {
   "cell_type": "markdown",
   "metadata": {},
   "source": [
    "You'll probably notice this takes a bit to run. This is normally due to the eventFile Class. This class is very inefficient for the Manitoba dataset because of file format issues. If you want to avoid that, try this instead."
   ]
  },
  {
   "cell_type": "code",
   "execution_count": 6,
   "metadata": {},
   "outputs": [],
   "source": [
    "runWithoutEvents = Nab.DataRun(directory, runNumber, ignoreEventFile = True)"
   ]
  },
  {
   "cell_type": "markdown",
   "metadata": {},
   "source": [
    "Now you have the same set of data, but one of them has the events and the other doesn't.\n",
    "\n",
    "Note that while these do use some RAM, they don't use nearly as much RAM as the whole file size. This is because of the use of Dask to handle the waveform files. These files are only loaded when you specifically request that data to be processed, saving memory and allowing you to handle very large amounts of data easily. "
   ]
  },
  {
   "cell_type": "code",
   "execution_count": 88,
   "metadata": {},
   "outputs": [],
   "source": [
    "runWithEvents = None\n",
    "runWithoutEvents = None"
   ]
  },
  {
   "cell_type": "markdown",
   "metadata": {},
   "source": [
    "## Getting information from the files"
   ]
  },
  {
   "cell_type": "markdown",
   "metadata": {},
   "source": [
    "Plenty of information is available through the class itself"
   ]
  },
  {
   "cell_type": "code",
   "execution_count": 2,
   "metadata": {},
   "outputs": [],
   "source": [
    "runNumber = 1375\n",
    "directory = 'G:\\\\Shared drives\\\\Nab\\\\Manitoba Tests\\\\Manitoba Data\\\\01-26-2022 Sn113 Partial Bias Scan + 3hr -300V Bias Run\\\\'\n",
    "run = Nab.DataRun(directory, runNumber, ignoreEventFile = True)"
   ]
  },
  {
   "cell_type": "code",
   "execution_count": 3,
   "metadata": {},
   "outputs": [
    {
     "name": "stdout",
     "output_type": "stream",
     "text": [
      "There are  127867  singles waveforms, each is  7000  long\n",
      "There are  0  coincidence waveforms, each is  0  long\n",
      "There are  386624  pulser waveforms, each is  7000  long\n",
      "There are  6496  noise waveforms, each is  32767  long\n",
      "There are  183762  triggers\n"
     ]
    }
   ],
   "source": [
    "print('There are ', run.singleWaves().numWaves, ' singles waveforms, each is ', run.singleWaves().wavelength, ' long')\n",
    "print('There are ', run.coincWaves().numWaves, ' coincidence waveforms, each is ', run.coincWaves().wavelength, ' long')\n",
    "print('There are ', run.pulsrWaves().numWaves, ' pulser waveforms, each is ', run.pulsrWaves().wavelength, ' long')\n",
    "print('There are ', run.noiseWaves().numWaves, ' noise waveforms, each is ', run.noiseWaves().wavelength, ' long')\n",
    "print('There are ', run.triggers().numtrigs, ' triggers')"
   ]
  },
  {
   "cell_type": "markdown",
   "metadata": {},
   "source": [
    "Metadata such as the filter parameters is available through the parameters class."
   ]
  },
  {
   "cell_type": "code",
   "execution_count": 10,
   "metadata": {
    "collapsed": true,
    "jupyter": {
     "outputs_hidden": true
    },
    "tags": []
   },
   "outputs": [
    {
     "name": "stdout",
     "output_type": "stream",
     "text": [
      "[('board', '<i4'), ('channel', '<i4'), ('threshold', '<i4'), ('DecayParameter', '<i4'), ('TrapFlatTop', '<i4'), ('TrapRiseTime', '<i4')]\n",
      "[( 0, 0,         20, 625, 10, 625) ( 0, 1,         20, 625, 10, 625)\n",
      " ( 0, 2,         20, 625, 10, 625) ( 0, 3,         20, 625, 10, 625)\n",
      " ( 0, 4,         20, 625, 10, 625) ( 0, 5,         20, 625, 10, 625)\n",
      " ( 0, 6,         20, 625, 10, 625) ( 0, 7,         20, 625, 10, 625)\n",
      " ( 1, 0,         20, 625, 10, 625) ( 1, 1,         20, 625, 10, 625)\n",
      " ( 1, 2,         20, 625, 10, 625) ( 1, 3,         20, 625, 10, 625)\n",
      " ( 1, 4,         20, 625, 10, 625) ( 1, 5,         20, 625, 10, 625)\n",
      " ( 1, 6,         20, 625, 10, 625) ( 1, 7,    1000000, 625, 10, 625)\n",
      " ( 2, 0,    1000000, 625, 10, 625) ( 2, 1,         20, 625, 10, 625)\n",
      " ( 2, 2,         20, 625, 10, 625) ( 2, 3,         20, 625, 10, 625)\n",
      " ( 2, 4,         20, 625, 10, 625) ( 2, 5,         20, 625, 10, 625)\n",
      " ( 2, 6,         20, 625, 10, 625) ( 2, 7,   10000000, 625, 10, 625)\n",
      " ( 3, 0,         20, 625, 10, 625) ( 3, 1,         20, 625, 10, 625)\n",
      " ( 3, 2,         20, 625, 10, 625) ( 3, 3,         20, 625, 10, 625)\n",
      " ( 3, 4,         20, 625, 10, 625) ( 3, 5,         20, 625, 10, 625)\n",
      " ( 3, 6,   10000000, 625, 10, 625) ( 3, 7,         20, 625, 10, 625)\n",
      " ( 4, 0,    1000000, 625, 10, 625) ( 4, 1,         20, 625, 10, 625)\n",
      " ( 4, 2,    1000000, 625, 10, 625) ( 4, 3,         20, 625, 10, 625)\n",
      " ( 4, 4,         20, 625, 10, 625) ( 4, 5,         20, 625, 10, 625)\n",
      " ( 4, 6,         20, 625, 10, 625) ( 4, 7,         20, 625, 10, 625)\n",
      " ( 5, 0,         20, 625, 10, 625) ( 5, 1,         20, 625, 10, 625)\n",
      " ( 5, 2,         20, 625, 10, 625) ( 5, 3,         20, 625, 10, 625)\n",
      " ( 5, 4,         20, 625, 10, 625) ( 5, 5,         20, 625, 10, 625)\n",
      " ( 5, 6,         20, 625, 10, 625) ( 5, 7,     200000, 625, 10, 625)\n",
      " ( 6, 0,         20, 625, 10, 625) ( 6, 1,         20, 625, 10, 625)\n",
      " ( 6, 2,         20, 625, 10, 625) ( 6, 3,         20, 625, 10, 625)\n",
      " ( 6, 4,         20, 625, 10, 625) ( 6, 5,         20, 625, 10, 625)\n",
      " ( 6, 6,         20, 625, 10, 625) ( 6, 7,         20, 625, 10, 625)\n",
      " ( 7, 0, 1000000000, 625, 10, 625) ( 7, 1,         20, 625, 10, 625)\n",
      " ( 7, 2, 2147483647, 625, 10, 625) ( 7, 3,   10000000, 625, 10, 625)\n",
      " ( 7, 4,   10000000, 625, 10, 625) ( 7, 5,         20, 625, 10, 625)\n",
      " ( 7, 6,         20, 625, 10, 625) ( 7, 7,         20, 625, 10, 625)\n",
      " ( 8, 0,         20, 625, 10, 625) ( 8, 1,         20, 625, 10, 625)\n",
      " ( 8, 2,         20, 625, 10, 625) ( 8, 3,         20, 625, 10, 625)\n",
      " ( 8, 4,         20, 625, 10, 625) ( 8, 5,         20, 625, 10, 625)\n",
      " ( 8, 6,         20, 625, 10, 625) ( 8, 7, 2147483647, 625, 10, 625)\n",
      " ( 9, 0,  100000000, 625, 10, 625) ( 9, 1,         20, 625, 10, 625)\n",
      " ( 9, 2,         20, 625, 10, 625) ( 9, 3,         20, 625, 10, 625)\n",
      " ( 9, 4,         20, 625, 10, 625) ( 9, 5,         20, 625, 10, 625)\n",
      " ( 9, 6,         20, 625, 10, 625) ( 9, 7,         20, 625, 10, 625)\n",
      " (10, 0,         20, 625, 10, 625) (10, 1,         20, 625, 10, 625)\n",
      " (10, 2,         20, 625, 10, 625) (10, 3,         20, 625, 10, 625)\n",
      " (10, 4,         20, 625, 10, 625) (10, 5,         20, 625, 10, 625)\n",
      " (10, 6,         20, 625, 10, 625) (10, 7,         20, 625, 10, 625)\n",
      " (11, 0,         20, 625, 10, 625) (11, 1,         20, 625, 10, 625)\n",
      " (11, 2,         20, 625, 10, 625) (11, 3,   10000000, 625, 10, 625)\n",
      " (11, 4,         20, 625, 10, 625) (11, 5,         20, 625, 10, 625)\n",
      " (11, 6,         20, 625, 10, 625) (11, 7,         20, 625, 10, 625)\n",
      " (12, 0, 2147483647, 625, 10, 625) (12, 1,         20, 625, 10, 625)\n",
      " (12, 2,         20, 625, 10, 625) (12, 3,         20, 625, 10, 625)\n",
      " (12, 4,         20, 625, 10, 625) (12, 5,         20, 625, 10, 625)\n",
      " (12, 6,         20, 625, 10, 625) (12, 7,         20, 625, 10, 625)\n",
      " (13, 0,         20, 625, 10, 625) (13, 1,         20, 625, 10, 625)\n",
      " (13, 2,         20, 625, 10, 625) (13, 3,         20, 625, 10, 625)\n",
      " (13, 4,         20, 625, 10, 625) (13, 5,         20, 625, 10, 625)\n",
      " (13, 6,         20, 625, 10, 625) (13, 7,         60, 625, 10,  50)]\n"
     ]
    }
   ],
   "source": [
    "parameters = run.parameterFile()\n",
    "print(parameters.FilterParameters.dtype)\n",
    "print(parameters.FilterParameters)"
   ]
  },
  {
   "cell_type": "markdown",
   "metadata": {},
   "source": [
    "Also information such as how the coincidence logic was configured is available"
   ]
  },
  {
   "cell_type": "code",
   "execution_count": 50,
   "metadata": {},
   "outputs": [
    {
     "data": {
      "text/plain": [
       "array([(  0,  90), (  1, 110), (  2, 111), (  3, 120), (  4, 127),\n",
       "       (  5, 119), (  6,  89), (  7,  99), (  8, 108), (  9, 126),\n",
       "       ( 10, 117), ( 11, 125), ( 12,  98), ( 13, 115), ( 14, 123),\n",
       "       ( 15, 109), ( 16, 118), ( 17,  76), ( 18, 124), ( 19,  97),\n",
       "       ( 20,  88), ( 21, 107), ( 22, 122), ( 23, 116), ( 24, 121),\n",
       "       ( 25,  96), ( 26, 105), ( 27,  87), ( 28, 113), ( 29,  95),\n",
       "       ( 30, 104), ( 31, 114), ( 32,  75), ( 33, 106), ( 34,  74),\n",
       "       ( 35,  84), ( 36,  86), ( 37,  85), ( 38,  71), ( 39,  83),\n",
       "       ( 40,  94), ( 41,  61), ( 42,  72), ( 43,  64), ( 44,  62),\n",
       "       ( 45,  73), ( 46,  60), ( 47,  63), ( 48,  48), ( 49,  46),\n",
       "       ( 50,  58), ( 51,  49), ( 52,  38), ( 53,  35), ( 54,  59),\n",
       "       ( 55,  47), ( 56,  50), ( 57,  25), ( 58,  26), ( 59,  28),\n",
       "       ( 60,  51), ( 61,  16), ( 62,  37), ( 63,  36), ( 64,  27),\n",
       "       ( 65,  18), ( 66,  17), ( 67,   1), ( 68,   9), ( 69,   8),\n",
       "       ( 70,  19), ( 71,  20), ( 72,  11), ( 73,   3), ( 74,   4),\n",
       "       ( 75,   2), ( 76,  39), ( 77,  21), ( 78,   6), ( 79,  10),\n",
       "       ( 80,   5), ( 81,  40), ( 82,  12), ( 83,  31), ( 84,  52),\n",
       "       ( 85,  30), ( 86,  13), ( 87,  29), ( 88,   7), ( 89,  32),\n",
       "       ( 90,  14), ( 91,  41), ( 92,  15), ( 93,  44), ( 94,  34),\n",
       "       ( 95,  23), ( 96,  53), ( 97,  22), ( 98,  42), ( 99,  66),\n",
       "       (100,  79), (101,  82), (102,  93), (103,  68), (104, 100),\n",
       "       (105,  77), (106,  78), (107,  -1), (108, 101), (109, 103),\n",
       "       (110,  -1), (111,  -2)], dtype=[('bc', '<i4'), ('pixel', '<i4')])"
      ]
     },
     "execution_count": 50,
     "metadata": {},
     "output_type": "execute_result"
    }
   ],
   "source": [
    "parameters.BoardChannelPixelMap"
   ]
  },
  {
   "cell_type": "markdown",
   "metadata": {},
   "source": [
    "If you want to access the raw original data for the classes, this can be done via a few helper functions.\n",
    "\n",
    "For waveform files, the following functions are what you'll want to use"
   ]
  },
  {
   "cell_type": "code",
   "execution_count": 29,
   "metadata": {},
   "outputs": [
    {
     "data": {
      "text/html": [
       "<div>\n",
       "<style scoped>\n",
       "    .dataframe tbody tr th:only-of-type {\n",
       "        vertical-align: middle;\n",
       "    }\n",
       "\n",
       "    .dataframe tbody tr th {\n",
       "        vertical-align: top;\n",
       "    }\n",
       "\n",
       "    .dataframe thead th {\n",
       "        text-align: right;\n",
       "    }\n",
       "</style>\n",
       "<table border=\"1\" class=\"dataframe\">\n",
       "  <thead>\n",
       "    <tr style=\"text-align: right;\">\n",
       "      <th></th>\n",
       "      <th>result</th>\n",
       "      <th>eventid</th>\n",
       "      <th>bc</th>\n",
       "      <th>timestamp</th>\n",
       "      <th>req</th>\n",
       "      <th>source</th>\n",
       "      <th>length</th>\n",
       "      <th>board</th>\n",
       "      <th>channel</th>\n",
       "      <th>pixel</th>\n",
       "    </tr>\n",
       "  </thead>\n",
       "  <tbody>\n",
       "    <tr>\n",
       "      <th>0</th>\n",
       "      <td>1</td>\n",
       "      <td>0</td>\n",
       "      <td>12</td>\n",
       "      <td>3751522</td>\n",
       "      <td>9470076</td>\n",
       "      <td>0</td>\n",
       "      <td>7000</td>\n",
       "      <td>1</td>\n",
       "      <td>4</td>\n",
       "      <td>98</td>\n",
       "    </tr>\n",
       "    <tr>\n",
       "      <th>1</th>\n",
       "      <td>1</td>\n",
       "      <td>0</td>\n",
       "      <td>27</td>\n",
       "      <td>3751522</td>\n",
       "      <td>9473622</td>\n",
       "      <td>1</td>\n",
       "      <td>7000</td>\n",
       "      <td>3</td>\n",
       "      <td>3</td>\n",
       "      <td>87</td>\n",
       "    </tr>\n",
       "    <tr>\n",
       "      <th>2</th>\n",
       "      <td>1</td>\n",
       "      <td>0</td>\n",
       "      <td>20</td>\n",
       "      <td>3751522</td>\n",
       "      <td>9476996</td>\n",
       "      <td>1</td>\n",
       "      <td>7000</td>\n",
       "      <td>2</td>\n",
       "      <td>4</td>\n",
       "      <td>88</td>\n",
       "    </tr>\n",
       "    <tr>\n",
       "      <th>3</th>\n",
       "      <td>1</td>\n",
       "      <td>0</td>\n",
       "      <td>19</td>\n",
       "      <td>3751522</td>\n",
       "      <td>9502154</td>\n",
       "      <td>1</td>\n",
       "      <td>7000</td>\n",
       "      <td>2</td>\n",
       "      <td>3</td>\n",
       "      <td>97</td>\n",
       "    </tr>\n",
       "    <tr>\n",
       "      <th>4</th>\n",
       "      <td>1</td>\n",
       "      <td>0</td>\n",
       "      <td>7</td>\n",
       "      <td>3751522</td>\n",
       "      <td>9483322</td>\n",
       "      <td>1</td>\n",
       "      <td>7000</td>\n",
       "      <td>0</td>\n",
       "      <td>7</td>\n",
       "      <td>99</td>\n",
       "    </tr>\n",
       "    <tr>\n",
       "      <th>...</th>\n",
       "      <td>...</td>\n",
       "      <td>...</td>\n",
       "      <td>...</td>\n",
       "      <td>...</td>\n",
       "      <td>...</td>\n",
       "      <td>...</td>\n",
       "      <td>...</td>\n",
       "      <td>...</td>\n",
       "      <td>...</td>\n",
       "      <td>...</td>\n",
       "    </tr>\n",
       "    <tr>\n",
       "      <th>51677</th>\n",
       "      <td>1</td>\n",
       "      <td>9985</td>\n",
       "      <td>106</td>\n",
       "      <td>172443494760</td>\n",
       "      <td>172451922628</td>\n",
       "      <td>1</td>\n",
       "      <td>7000</td>\n",
       "      <td>13</td>\n",
       "      <td>2</td>\n",
       "      <td>78</td>\n",
       "    </tr>\n",
       "    <tr>\n",
       "      <th>51678</th>\n",
       "      <td>1</td>\n",
       "      <td>9985</td>\n",
       "      <td>20</td>\n",
       "      <td>172443494760</td>\n",
       "      <td>172451929442</td>\n",
       "      <td>1</td>\n",
       "      <td>7000</td>\n",
       "      <td>2</td>\n",
       "      <td>4</td>\n",
       "      <td>88</td>\n",
       "    </tr>\n",
       "    <tr>\n",
       "      <th>51679</th>\n",
       "      <td>1</td>\n",
       "      <td>9985</td>\n",
       "      <td>6</td>\n",
       "      <td>172443494760</td>\n",
       "      <td>172451914060</td>\n",
       "      <td>1</td>\n",
       "      <td>7000</td>\n",
       "      <td>0</td>\n",
       "      <td>6</td>\n",
       "      <td>89</td>\n",
       "    </tr>\n",
       "    <tr>\n",
       "      <th>51680</th>\n",
       "      <td>1</td>\n",
       "      <td>9986</td>\n",
       "      <td>109</td>\n",
       "      <td>172487328906</td>\n",
       "      <td>172495694750</td>\n",
       "      <td>0</td>\n",
       "      <td>7000</td>\n",
       "      <td>13</td>\n",
       "      <td>5</td>\n",
       "      <td>103</td>\n",
       "    </tr>\n",
       "    <tr>\n",
       "      <th>51681</th>\n",
       "      <td>1</td>\n",
       "      <td>9986</td>\n",
       "      <td>102</td>\n",
       "      <td>172487328906</td>\n",
       "      <td>172495698294</td>\n",
       "      <td>1</td>\n",
       "      <td>7000</td>\n",
       "      <td>12</td>\n",
       "      <td>6</td>\n",
       "      <td>93</td>\n",
       "    </tr>\n",
       "  </tbody>\n",
       "</table>\n",
       "<p>51682 rows × 10 columns</p>\n",
       "</div>"
      ],
      "text/plain": [
       "       result  eventid   bc     timestamp           req  source  length  \\\n",
       "0           1        0   12       3751522       9470076       0    7000   \n",
       "1           1        0   27       3751522       9473622       1    7000   \n",
       "2           1        0   20       3751522       9476996       1    7000   \n",
       "3           1        0   19       3751522       9502154       1    7000   \n",
       "4           1        0    7       3751522       9483322       1    7000   \n",
       "...       ...      ...  ...           ...           ...     ...     ...   \n",
       "51677       1     9985  106  172443494760  172451922628       1    7000   \n",
       "51678       1     9985   20  172443494760  172451929442       1    7000   \n",
       "51679       1     9985    6  172443494760  172451914060       1    7000   \n",
       "51680       1     9986  109  172487328906  172495694750       0    7000   \n",
       "51681       1     9986  102  172487328906  172495698294       1    7000   \n",
       "\n",
       "       board  channel  pixel  \n",
       "0          1        4     98  \n",
       "1          3        3     87  \n",
       "2          2        4     88  \n",
       "3          2        3     97  \n",
       "4          0        7     99  \n",
       "...      ...      ...    ...  \n",
       "51677     13        2     78  \n",
       "51678      2        4     88  \n",
       "51679      0        6     89  \n",
       "51680     13        5    103  \n",
       "51681     12        6     93  \n",
       "\n",
       "[51682 rows x 10 columns]"
      ]
     },
     "execution_count": 29,
     "metadata": {},
     "output_type": "execute_result"
    }
   ],
   "source": [
    "run.singleWaves().headers()"
   ]
  },
  {
   "cell_type": "code",
   "execution_count": 30,
   "metadata": {},
   "outputs": [
    {
     "data": {
      "text/html": [
       "<table>\n",
       "    <tr>\n",
       "        <td>\n",
       "            <table>\n",
       "                <thead>\n",
       "                    <tr>\n",
       "                        <td> </td>\n",
       "                        <th> Array </th>\n",
       "                        <th> Chunk </th>\n",
       "                    </tr>\n",
       "                </thead>\n",
       "                <tbody>\n",
       "                    \n",
       "                    <tr>\n",
       "                        <th> Bytes </th>\n",
       "                        <td> 1.35 GiB </td>\n",
       "                        <td> 27.34 MiB </td>\n",
       "                    </tr>\n",
       "                    \n",
       "                    <tr>\n",
       "                        <th> Shape </th>\n",
       "                        <td> (51682, 7000) </td>\n",
       "                        <td> (1024, 7000) </td>\n",
       "                    </tr>\n",
       "                    <tr>\n",
       "                        <th> Count </th>\n",
       "                        <td> 460 Tasks </td>\n",
       "                        <td> 51 Chunks </td>\n",
       "                    </tr>\n",
       "                    <tr>\n",
       "                    <th> Type </th>\n",
       "                    <td> float32 </td>\n",
       "                    <td> numpy.ndarray </td>\n",
       "                    </tr>\n",
       "                </tbody>\n",
       "            </table>\n",
       "        </td>\n",
       "        <td>\n",
       "        <svg width=\"90\" height=\"170\" style=\"stroke:rgb(0,0,0);stroke-width:1\" >\n",
       "\n",
       "  <!-- Horizontal lines -->\n",
       "  <line x1=\"0\" y1=\"0\" x2=\"40\" y2=\"0\" style=\"stroke-width:2\" />\n",
       "  <line x1=\"0\" y1=\"4\" x2=\"40\" y2=\"4\" />\n",
       "  <line x1=\"0\" y1=\"11\" x2=\"40\" y2=\"11\" />\n",
       "  <line x1=\"0\" y1=\"19\" x2=\"40\" y2=\"19\" />\n",
       "  <line x1=\"0\" y1=\"23\" x2=\"40\" y2=\"23\" />\n",
       "  <line x1=\"0\" y1=\"30\" x2=\"40\" y2=\"30\" />\n",
       "  <line x1=\"0\" y1=\"38\" x2=\"40\" y2=\"38\" />\n",
       "  <line x1=\"0\" y1=\"42\" x2=\"40\" y2=\"42\" />\n",
       "  <line x1=\"0\" y1=\"49\" x2=\"40\" y2=\"49\" />\n",
       "  <line x1=\"0\" y1=\"57\" x2=\"40\" y2=\"57\" />\n",
       "  <line x1=\"0\" y1=\"61\" x2=\"40\" y2=\"61\" />\n",
       "  <line x1=\"0\" y1=\"68\" x2=\"40\" y2=\"68\" />\n",
       "  <line x1=\"0\" y1=\"76\" x2=\"40\" y2=\"76\" />\n",
       "  <line x1=\"0\" y1=\"80\" x2=\"40\" y2=\"80\" />\n",
       "  <line x1=\"0\" y1=\"87\" x2=\"40\" y2=\"87\" />\n",
       "  <line x1=\"0\" y1=\"95\" x2=\"40\" y2=\"95\" />\n",
       "  <line x1=\"0\" y1=\"99\" x2=\"40\" y2=\"99\" />\n",
       "  <line x1=\"0\" y1=\"106\" x2=\"40\" y2=\"106\" />\n",
       "  <line x1=\"0\" y1=\"114\" x2=\"40\" y2=\"114\" />\n",
       "  <line x1=\"0\" y1=\"120\" x2=\"40\" y2=\"120\" style=\"stroke-width:2\" />\n",
       "\n",
       "  <!-- Vertical lines -->\n",
       "  <line x1=\"0\" y1=\"0\" x2=\"0\" y2=\"120\" style=\"stroke-width:2\" />\n",
       "  <line x1=\"40\" y1=\"0\" x2=\"40\" y2=\"120\" style=\"stroke-width:2\" />\n",
       "\n",
       "  <!-- Colored Rectangle -->\n",
       "  <polygon points=\"0.0,0.0 40.20329190922006,0.0 40.20329190922006,120.0 0.0,120.0\" style=\"fill:#8B4903A0;stroke-width:0\"/>\n",
       "\n",
       "  <!-- Text -->\n",
       "  <text x=\"20.101646\" y=\"140.000000\" font-size=\"1.0rem\" font-weight=\"100\" text-anchor=\"middle\" >7000</text>\n",
       "  <text x=\"60.203292\" y=\"60.000000\" font-size=\"1.0rem\" font-weight=\"100\" text-anchor=\"middle\" transform=\"rotate(-90,60.203292,60.000000)\">51682</text>\n",
       "</svg>\n",
       "        </td>\n",
       "    </tr>\n",
       "</table>"
      ],
      "text/plain": [
       "dask.array<astype, shape=(51682, 7000), dtype=float32, chunksize=(1024, 7000), chunktype=numpy.ndarray>"
      ]
     },
     "execution_count": 30,
     "metadata": {},
     "output_type": "execute_result"
    }
   ],
   "source": [
    "run.singleWaves().waves()"
   ]
  },
  {
   "cell_type": "code",
   "execution_count": 36,
   "metadata": {},
   "outputs": [
    {
     "data": {
      "text/plain": [
       "array([-93., -92., -85., ..., -54., -44., -41.], dtype=float32)"
      ]
     },
     "execution_count": 36,
     "metadata": {},
     "output_type": "execute_result"
    }
   ],
   "source": [
    "run.singleWaves().waves()[0].compute()"
   ]
  },
  {
   "cell_type": "markdown",
   "metadata": {},
   "source": [
    "Notice the different return types. \n",
    "\n",
    ".headers() returns the headers as a Pandas DataFrame\n",
    "\n",
    ".waves() returns the waveforms as a Dask Array. This is synonomous with a Numpy array. If you want a Numpy array instead, simply add .compute()\n",
    "\n",
    "run.singleWaves().waves().compute()\n",
    "\n",
    "That will load the waveform data into RAM so hopefully you have enough memory. \n",
    "\n",
    "If you aren't sure what is available to you, try the following:\n",
    "    Let tab completion tell you what is available.\n",
    "Then if you find what you're looking for, use the question mark function to see what it does. "
   ]
  },
  {
   "cell_type": "code",
   "execution_count": 12,
   "metadata": {},
   "outputs": [
    {
     "ename": "SyntaxError",
     "evalue": "invalid syntax (Temp/ipykernel_3704/1082497932.py, line 1)",
     "output_type": "error",
     "traceback": [
      "\u001b[1;36m  File \u001b[1;32m\"C:\\Users\\David\\AppData\\Local\\Temp/ipykernel_3704/1082497932.py\"\u001b[1;36m, line \u001b[1;32m1\u001b[0m\n\u001b[1;33m    run.pulsrWaves().\u001b[0m\n\u001b[1;37m                     ^\u001b[0m\n\u001b[1;31mSyntaxError\u001b[0m\u001b[1;31m:\u001b[0m invalid syntax\n"
     ]
    }
   ],
   "source": [
    "run.pulsrWaves()."
   ]
  },
  {
   "cell_type": "code",
   "execution_count": 15,
   "metadata": {},
   "outputs": [
    {
     "name": "stdout",
     "output_type": "stream",
     "text": [
      "Object `headers` not found.\n"
     ]
    }
   ],
   "source": [
    "run.singleWaves().headers?"
   ]
  },
  {
   "cell_type": "code",
   "execution_count": null,
   "metadata": {},
   "outputs": [],
   "source": [
    "run.singleWaves().headers"
   ]
  },
  {
   "cell_type": "markdown",
   "metadata": {},
   "source": [
    "Note that for this you NEED to go to the original class structure. So for pulsrWaves(), this object is a waveform file. So you have to do Nab.wf.waveformFile.BLAHBLAH\n",
    "and then replace BLAHBLAH with the function of interest."
   ]
  },
  {
   "cell_type": "code",
   "execution_count": 17,
   "metadata": {
    "tags": []
   },
   "outputs": [
    {
     "data": {
      "text/plain": [
       "\u001b[1;31mSignature:\u001b[0m \u001b[0mNab\u001b[0m\u001b[1;33m.\u001b[0m\u001b[0mwf\u001b[0m\u001b[1;33m.\u001b[0m\u001b[0mwaveformFile\u001b[0m\u001b[1;33m.\u001b[0m\u001b[0mheaders\u001b[0m\u001b[1;33m(\u001b[0m\u001b[0mself\u001b[0m\u001b[1;33m,\u001b[0m \u001b[0morig\u001b[0m\u001b[1;33m=\u001b[0m\u001b[1;32mFalse\u001b[0m\u001b[1;33m)\u001b[0m\u001b[1;33m\u001b[0m\u001b[1;33m\u001b[0m\u001b[0m\n",
       "\u001b[1;31mDocstring:\u001b[0m\n",
       "Returns the waveform headers as a Pandas DataFrame.\n",
       "\n",
       "Parameters\n",
       "----------\n",
       "orig: bool\n",
       "        If orig is true, return the whole original DataFrame without cuts\n",
       "        If orig is false, return the DataFrame with cuts\n",
       "\n",
       "Returns\n",
       "-------\n",
       "headers: Pandas DataFrame\n",
       "\u001b[1;31mFile:\u001b[0m      c:\\users\\david\\documents\\datafilereadingscripts\\waveformfileclass.py\n",
       "\u001b[1;31mType:\u001b[0m      function\n"
      ]
     },
     "metadata": {},
     "output_type": "display_data"
    }
   ],
   "source": [
    "Nab.wf.waveformFile.headers?"
   ]
  },
  {
   "cell_type": "markdown",
   "metadata": {},
   "source": [
    "The difference is pretty obvious. Otherwise these are identical. If you don't plan on using the event information, I'd recommend using the ignoreEventFile flag."
   ]
  },
  {
   "cell_type": "markdown",
   "metadata": {},
   "source": [
    "If you want to see what boards and channels were recorded in a waveform file, along with how many times they were recorded, you can do that with the following command. The mapping variable tells you what board and channel each waveform was in the order they occured. "
   ]
  },
  {
   "cell_type": "code",
   "execution_count": 40,
   "metadata": {},
   "outputs": [
    {
     "name": "stdout",
     "output_type": "stream",
     "text": [
      "board channels [0, 1, 2, 6, 7, 8, 10, 11, 12, 13, 14, 17, 18, 19, 20, 21, 22, 23, 24, 25, 26, 27, 28, 29, 30, 31, 32, 33, 34, 35, 36, 37, 39, 40, 41, 42, 43, 44, 45, 46, 47, 48, 51, 99, 100, 102, 104, 105, 106, 108, 109, 111]\n",
      "mapping [ 8 21 14 ...  3 50 45]\n",
      "counts [1299  687  687 1595 1013  866  294  294 2385 1472  992 2446  523 2544\n",
      " 3020 1726 1149 1097  838 1325 1429 2796  893  916  607 1620 1463 1958\n",
      "  164  334 1420  674  169  334  164  169 1247  164  333  164  703  164\n",
      "  164  612  612  664  687 2298 1156  687  664    1]\n",
      "board channels [12, 13, 14, 17, 18, 19, 20, 21, 22, 24, 25, 26, 27, 28, 29, 31, 33, 35, 41, 105, 106, 108, 109, 111]\n",
      "mapping [ 0  0  0 ...  5 21 22]\n",
      "counts [50168 45593 45449 52237 45926 46376 48428 45883 44660 44683 46317 45475\n",
      " 53553 44853 44016 44846 45368 44056 43971 50110 50673 52437 51458 20751]\n"
     ]
    }
   ],
   "source": [
    "bcs = run.singleWaves().bcs\n",
    "print('board channels', bcs[0])\n",
    "print('mapping', bcs[1])\n",
    "print('counts', bcs[2])\n",
    "\n",
    "bcs = run.triggers().bcs\n",
    "print('board channels', bcs[0])\n",
    "print('mapping', bcs[1])\n",
    "print('counts', bcs[2])"
   ]
  },
  {
   "cell_type": "markdown",
   "metadata": {},
   "source": [
    "If you want to see the mapping between board/channel to pixel, that can be found in the parameter file. The first number is the board * 8 + channel number and the second is the pixel number in each element in the list"
   ]
  },
  {
   "cell_type": "raw",
   "metadata": {},
   "source": [
    "If you want to see where the system was triggering and where waveform information was recorded, use the following function.\n",
    "\n",
    "There are several options for this:\n",
    "    sourceFile: can be trigger, single, or coincidence files. It assumes trigger file if no option is passed\n",
    "    cmap: colormap that defines the colors\n",
    "    showNum: show pixel id numbers\n",
    "    showVal: show the raw value for each pixel (usually hit count)\n",
    "    alpha: \"density\" of the color, 0->1, 1 being more full. Can make text hard to read at high values\n",
    "    rounding: how many digits to round showVal to. For floating point values this is useful\n",
    "    size: affects how large the text and hexagons are. Recommend changing for your screen resolution\n",
    "\n",
    "Currently this only works for 1 detector but I'll update it to work for 2 at some point"
   ]
  },
  {
   "cell_type": "code",
   "execution_count": 51,
   "metadata": {},
   "outputs": [
    {
     "data": {
      "image/png": "[encoded data removed]",
      "text/plain": [
       "<Figure size 748.8x655.2 with 2 Axes>"
      ]
     },
     "metadata": {
      "needs_background": "light"
     },
     "output_type": "display_data"
    }
   ],
   "source": [
    "run.plotHitLocations(sourceFile = 'singles', cmap = 'cividis', showNum=True, showVal = True, alpha=0.8, rounding=1, size=1.3)"
   ]
  },
  {
   "cell_type": "markdown",
   "metadata": {},
   "source": [
    "## Analysis Functionality"
   ]
  },
  {
   "cell_type": "markdown",
   "metadata": {},
   "source": [
    "### Applying Data Cuts and Energy Extraction\n",
    "\n",
    "When you want to run analysis, it's often desirable to only look at part of the data file. That way you don't spend as much time running possibly complicated analysis over data you aren't interested in. \n",
    "\n",
    "Based on the pixel map above, it looks like pixel 87 has some data we might want so let's look at that."
   ]
  },
  {
   "cell_type": "code",
   "execution_count": 4,
   "metadata": {},
   "outputs": [
    {
     "name": "stdout",
     "output_type": "stream",
     "text": [
      "        result  eventid  bc     timestamp           req  source  length  \\\n",
      "9            1        3  20      57882948      63519760       0    7000   \n",
      "54           1        9  20      97777604     103532194       1    7000   \n",
      "59           1       10  20     108230464     114089244       1    7000   \n",
      "64           1       11  20     115011904     120535604       1    7000   \n",
      "73           1       12  20     117755646     123303162       1    7000   \n",
      "...        ...      ...  ..           ...           ...     ...     ...   \n",
      "127769       1    24988  20  434950530236  434962885278       1    7000   \n",
      "127810       1    24998  20  435138266264  435149466092       1    7000   \n",
      "127818       1    25001  20  435288021924  435299728634       0    7000   \n",
      "127842       1    25005  20  435312141840  435323236820       1    7000   \n",
      "127857       1    25010  20  435579609740  435590817276       1    7000   \n",
      "\n",
      "        board  channel  pixel  \n",
      "9           2        4     88  \n",
      "54          2        4     88  \n",
      "59          2        4     88  \n",
      "64          2        4     88  \n",
      "73          2        4     88  \n",
      "...       ...      ...    ...  \n",
      "127769      2        4     88  \n",
      "127810      2        4     88  \n",
      "127818      2        4     88  \n",
      "127842      2        4     88  \n",
      "127857      2        4     88  \n",
      "\n",
      "[7132 rows x 10 columns]\n"
     ]
    }
   ],
   "source": [
    "run.singleWaves().resetCuts()\n",
    "run.singleWaves().defineCut('pixel', '=', 88)\n",
    "headers = run.singleWaves().headers()\n",
    "print(headers)"
   ]
  },
  {
   "cell_type": "markdown",
   "metadata": {},
   "source": [
    "Now when you use either the .headers() or the .waves() functions, they will only return data that passes the cuts applied. Note that we can apply multiple cuts by simply using defineCut again. It's always recommended to use resetCuts() whenever you enter a new cell as the waveformFile object will remember the previous cuts applied until you reset them. \n",
    "\n",
    "Any parameter in the header information can be cut on. The cut functionality can be found below."
   ]
  },
  {
   "cell_type": "code",
   "execution_count": 55,
   "metadata": {
    "tags": []
   },
   "outputs": [
    {
     "data": {
      "text/plain": [
       "\u001b[1;31mSignature:\u001b[0m \u001b[0mNab\u001b[0m\u001b[1;33m.\u001b[0m\u001b[0mbf\u001b[0m\u001b[1;33m.\u001b[0m\u001b[0mdefineCut\u001b[0m\u001b[1;33m(\u001b[0m\u001b[0mdata\u001b[0m\u001b[1;33m,\u001b[0m \u001b[0mcategory\u001b[0m\u001b[1;33m,\u001b[0m \u001b[0moperator\u001b[0m\u001b[1;33m=\u001b[0m\u001b[1;32mNone\u001b[0m\u001b[1;33m,\u001b[0m \u001b[0moptionA\u001b[0m\u001b[1;33m=\u001b[0m\u001b[1;32mNone\u001b[0m\u001b[1;33m,\u001b[0m \u001b[0moptionB\u001b[0m\u001b[1;33m=\u001b[0m\u001b[1;32mNone\u001b[0m\u001b[1;33m)\u001b[0m\u001b[1;33m\u001b[0m\u001b[1;33m\u001b[0m\u001b[0m\n",
       "\u001b[1;31mDocstring:\u001b[0m\n",
       "This function defines a cut to apply to the dataset. \n",
       "You can only cut on data available in the headers\n",
       "\n",
       "Parameters\n",
       "----------\n",
       "data: dask.DataFrame\n",
       "        the DataFrame that contains the dataset\n",
       "category : str\n",
       "        the category to cut on. Must be a category in the waveform header\n",
       "        To check available categories, call yourWaveformFile.headerType\n",
       "        Also available categories:\n",
       "                'pixel': requires a pixel map to be defined in the class\n",
       "                'custom': unique operation that allows the user to pass a custom map of \n",
       "                        the data to request instead of determining the map within the class\n",
       "                        This changes the behavior of operator\n",
       "                'ca45Corruption': cut that is based on the conditions Noah described in his thesis.\n",
       "                        This removes the corruption issues from that version of the DAQ.\n",
       "                        Returns a dataset sorted by timestamp.\n",
       "operator: str, np.ndarray\n",
       "        The operation to be applied to that category\n",
       "        Supported options: >, >=, <, <=, ==, !=, between, outside, coincidence, anti-coincidence, or\n",
       "        If category='custom', then this expects a np.ndarray to be used as the mask\n",
       "optionA: int,float,list[int,float]\n",
       "        This is the first option being passed for the cut.\n",
       "        For option(s) >, >=, <, <=, ==, !=: int,float. this is the value they are being compared to\n",
       "        For option(s) between, outside, coincidence: int,float. this is the lower value\n",
       "        For option(s) or: list[int,float]. this is a list of allowed values for that category\n",
       "optionB: int,float\n",
       "        This is the second option passed for the cut. It is expected to be the upper value\n",
       "        For option(s) between, outside: this is the upper value\n",
       "Returns\n",
       "--------\n",
       "        This returns the indices in the dataset that \"survive\" the cut. \n",
       "        In the case of invalid input, the operation doesn't apply a cut.\n",
       "\u001b[1;31mFile:\u001b[0m      c:\\users\\david\\documents\\datafilereadingscripts\\basicfunctions.py\n",
       "\u001b[1;31mType:\u001b[0m      function\n"
      ]
     },
     "metadata": {},
     "output_type": "display_data"
    }
   ],
   "source": [
    "Nab.bf.defineCut?"
   ]
  },
  {
   "cell_type": "markdown",
   "metadata": {},
   "source": [
    "With this subset applied, we can look at the energy histogram for this pixel. \n",
    "\n",
    "Depending on your PC, this may take a while to complete. For large datasets this can be particularly taxing. The code is designed to use ALL of your CPU resources and will run in parallel by default."
   ]
  },
  {
   "cell_type": "code",
   "execution_count": 5,
   "metadata": {},
   "outputs": [],
   "source": [
    "results = run.singleWaves().determineEnergyTiming(method='trap', params=[1250, 50, 1250])"
   ]
  },
  {
   "cell_type": "markdown",
   "metadata": {},
   "source": [
    "Now we can plot this data and see what is there"
   ]
  },
  {
   "cell_type": "code",
   "execution_count": 6,
   "metadata": {},
   "outputs": [
    {
     "data": {
      "image/png": "[encoded data removed]",
      "text/plain": [
       "<Figure size 432x288 with 1 Axes>"
      ]
     },
     "metadata": {
      "needs_background": "light"
     },
     "output_type": "display_data"
    }
   ],
   "source": [
    "results.hist('energy', bins = Nab.np.arange(0, 200))\n",
    "results.show()"
   ]
  },
  {
   "cell_type": "markdown",
   "metadata": {},
   "source": [
    "Not too much for this dataset unfortunately. Mostly just noise.\n",
    "\n",
    "Note that the bins parameter expects a Numpy array defining the bin edges to be passed in. \n",
    "\n",
    "Most of the plotting functionality built into the resultFile class is just calling matplotlib.pyplot behind the scenes. For more plotting funcitonality, I'd recommend just parsing the results object itself.\n",
    "\n",
    "If you want to get fancy with it, we can do additional cuts to this. Let's look at a high amplitude waveform"
   ]
  },
  {
   "cell_type": "code",
   "execution_count": 76,
   "metadata": {},
   "outputs": [],
   "source": [
    "results.resetCuts()\n",
    "results.defineCut('energy', '>', 100)"
   ]
  },
  {
   "cell_type": "code",
   "execution_count": 77,
   "metadata": {},
   "outputs": [
    {
     "data": {
      "text/html": [
       "<div>\n",
       "<style scoped>\n",
       "    .dataframe tbody tr th:only-of-type {\n",
       "        vertical-align: middle;\n",
       "    }\n",
       "\n",
       "    .dataframe tbody tr th {\n",
       "        vertical-align: top;\n",
       "    }\n",
       "\n",
       "    .dataframe thead th {\n",
       "        text-align: right;\n",
       "    }\n",
       "</style>\n",
       "<table border=\"1\" class=\"dataframe\">\n",
       "  <thead>\n",
       "    <tr style=\"text-align: right;\">\n",
       "      <th></th>\n",
       "      <th>result</th>\n",
       "      <th>eventid</th>\n",
       "      <th>bc</th>\n",
       "      <th>timestamp</th>\n",
       "      <th>req</th>\n",
       "      <th>source</th>\n",
       "      <th>length</th>\n",
       "      <th>board</th>\n",
       "      <th>channel</th>\n",
       "      <th>pixel</th>\n",
       "      <th>energy</th>\n",
       "      <th>t0</th>\n",
       "    </tr>\n",
       "  </thead>\n",
       "  <tbody>\n",
       "    <tr>\n",
       "      <th>358</th>\n",
       "      <td>1</td>\n",
       "      <td>68</td>\n",
       "      <td>20</td>\n",
       "      <td>1260057960</td>\n",
       "      <td>1265807820</td>\n",
       "      <td>0</td>\n",
       "      <td>7000</td>\n",
       "      <td>2</td>\n",
       "      <td>4</td>\n",
       "      <td>88</td>\n",
       "      <td>221.382965</td>\n",
       "      <td>3508.5</td>\n",
       "    </tr>\n",
       "    <tr>\n",
       "      <th>616</th>\n",
       "      <td>1</td>\n",
       "      <td>122</td>\n",
       "      <td>20</td>\n",
       "      <td>2461316868</td>\n",
       "      <td>2467132056</td>\n",
       "      <td>0</td>\n",
       "      <td>7000</td>\n",
       "      <td>2</td>\n",
       "      <td>4</td>\n",
       "      <td>88</td>\n",
       "      <td>2467.415527</td>\n",
       "      <td>3502.0</td>\n",
       "    </tr>\n",
       "    <tr>\n",
       "      <th>674</th>\n",
       "      <td>1</td>\n",
       "      <td>131</td>\n",
       "      <td>20</td>\n",
       "      <td>2461318724</td>\n",
       "      <td>2467433714</td>\n",
       "      <td>1</td>\n",
       "      <td>7000</td>\n",
       "      <td>2</td>\n",
       "      <td>4</td>\n",
       "      <td>88</td>\n",
       "      <td>1756.840088</td>\n",
       "      <td>1647.0</td>\n",
       "    </tr>\n",
       "    <tr>\n",
       "      <th>679</th>\n",
       "      <td>1</td>\n",
       "      <td>132</td>\n",
       "      <td>20</td>\n",
       "      <td>2461318730</td>\n",
       "      <td>2467484056</td>\n",
       "      <td>1</td>\n",
       "      <td>7000</td>\n",
       "      <td>2</td>\n",
       "      <td>4</td>\n",
       "      <td>88</td>\n",
       "      <td>1755.792236</td>\n",
       "      <td>1640.5</td>\n",
       "    </tr>\n",
       "    <tr>\n",
       "      <th>721</th>\n",
       "      <td>1</td>\n",
       "      <td>139</td>\n",
       "      <td>20</td>\n",
       "      <td>2461320416</td>\n",
       "      <td>2467810908</td>\n",
       "      <td>1</td>\n",
       "      <td>7000</td>\n",
       "      <td>2</td>\n",
       "      <td>4</td>\n",
       "      <td>88</td>\n",
       "      <td>1107.697510</td>\n",
       "      <td>-117.0</td>\n",
       "    </tr>\n",
       "    <tr>\n",
       "      <th>...</th>\n",
       "      <td>...</td>\n",
       "      <td>...</td>\n",
       "      <td>...</td>\n",
       "      <td>...</td>\n",
       "      <td>...</td>\n",
       "      <td>...</td>\n",
       "      <td>...</td>\n",
       "      <td>...</td>\n",
       "      <td>...</td>\n",
       "      <td>...</td>\n",
       "      <td>...</td>\n",
       "      <td>...</td>\n",
       "    </tr>\n",
       "    <tr>\n",
       "      <th>50103</th>\n",
       "      <td>1</td>\n",
       "      <td>9686</td>\n",
       "      <td>20</td>\n",
       "      <td>167601753288</td>\n",
       "      <td>167610338302</td>\n",
       "      <td>0</td>\n",
       "      <td>7000</td>\n",
       "      <td>2</td>\n",
       "      <td>4</td>\n",
       "      <td>88</td>\n",
       "      <td>378.331085</td>\n",
       "      <td>3500.0</td>\n",
       "    </tr>\n",
       "    <tr>\n",
       "      <th>50242</th>\n",
       "      <td>1</td>\n",
       "      <td>9713</td>\n",
       "      <td>20</td>\n",
       "      <td>167953157244</td>\n",
       "      <td>167961337636</td>\n",
       "      <td>0</td>\n",
       "      <td>7000</td>\n",
       "      <td>2</td>\n",
       "      <td>4</td>\n",
       "      <td>88</td>\n",
       "      <td>182.871323</td>\n",
       "      <td>3505.0</td>\n",
       "    </tr>\n",
       "    <tr>\n",
       "      <th>50454</th>\n",
       "      <td>1</td>\n",
       "      <td>9751</td>\n",
       "      <td>20</td>\n",
       "      <td>168671461122</td>\n",
       "      <td>168679804600</td>\n",
       "      <td>0</td>\n",
       "      <td>7000</td>\n",
       "      <td>2</td>\n",
       "      <td>4</td>\n",
       "      <td>88</td>\n",
       "      <td>165.542267</td>\n",
       "      <td>3500.5</td>\n",
       "    </tr>\n",
       "    <tr>\n",
       "      <th>50885</th>\n",
       "      <td>1</td>\n",
       "      <td>9836</td>\n",
       "      <td>20</td>\n",
       "      <td>170126218256</td>\n",
       "      <td>170134592764</td>\n",
       "      <td>0</td>\n",
       "      <td>7000</td>\n",
       "      <td>2</td>\n",
       "      <td>4</td>\n",
       "      <td>88</td>\n",
       "      <td>602.257019</td>\n",
       "      <td>3501.0</td>\n",
       "    </tr>\n",
       "    <tr>\n",
       "      <th>50892</th>\n",
       "      <td>1</td>\n",
       "      <td>9837</td>\n",
       "      <td>20</td>\n",
       "      <td>170147992288</td>\n",
       "      <td>170156423086</td>\n",
       "      <td>0</td>\n",
       "      <td>7000</td>\n",
       "      <td>2</td>\n",
       "      <td>4</td>\n",
       "      <td>88</td>\n",
       "      <td>636.862305</td>\n",
       "      <td>3499.5</td>\n",
       "    </tr>\n",
       "  </tbody>\n",
       "</table>\n",
       "<p>160 rows × 12 columns</p>\n",
       "</div>"
      ],
      "text/plain": [
       "       result  eventid  bc     timestamp           req  source  length  board  \\\n",
       "358         1       68  20    1260057960    1265807820       0    7000      2   \n",
       "616         1      122  20    2461316868    2467132056       0    7000      2   \n",
       "674         1      131  20    2461318724    2467433714       1    7000      2   \n",
       "679         1      132  20    2461318730    2467484056       1    7000      2   \n",
       "721         1      139  20    2461320416    2467810908       1    7000      2   \n",
       "...       ...      ...  ..           ...           ...     ...     ...    ...   \n",
       "50103       1     9686  20  167601753288  167610338302       0    7000      2   \n",
       "50242       1     9713  20  167953157244  167961337636       0    7000      2   \n",
       "50454       1     9751  20  168671461122  168679804600       0    7000      2   \n",
       "50885       1     9836  20  170126218256  170134592764       0    7000      2   \n",
       "50892       1     9837  20  170147992288  170156423086       0    7000      2   \n",
       "\n",
       "       channel  pixel       energy      t0  \n",
       "358          4     88   221.382965  3508.5  \n",
       "616          4     88  2467.415527  3502.0  \n",
       "674          4     88  1756.840088  1647.0  \n",
       "679          4     88  1755.792236  1640.5  \n",
       "721          4     88  1107.697510  -117.0  \n",
       "...        ...    ...          ...     ...  \n",
       "50103        4     88   378.331085  3500.0  \n",
       "50242        4     88   182.871323  3505.0  \n",
       "50454        4     88   165.542267  3500.5  \n",
       "50885        4     88   602.257019  3501.0  \n",
       "50892        4     88   636.862305  3499.5  \n",
       "\n",
       "[160 rows x 12 columns]"
      ]
     },
     "execution_count": 77,
     "metadata": {},
     "output_type": "execute_result"
    }
   ],
   "source": [
    "results.data()"
   ]
  },
  {
   "cell_type": "markdown",
   "metadata": {},
   "source": [
    "Now my results class has the indices saved of the waveforms in the file that satisfy BOTH the original pixel 88 cut AND the energy > 100 cut.\n",
    "\n",
    "To look at waveforms above that energy range, do this."
   ]
  },
  {
   "cell_type": "code",
   "execution_count": 69,
   "metadata": {},
   "outputs": [],
   "source": [
    "run.singleWaves().defineCut('custom', results.returnCut())\n",
    "\n",
    "waves = run.singleWaves().waves()"
   ]
  },
  {
   "cell_type": "markdown",
   "metadata": {},
   "source": [
    "Now the only waves in that waves container are large amplitude waveforms"
   ]
  },
  {
   "cell_type": "code",
   "execution_count": 70,
   "metadata": {},
   "outputs": [
    {
     "data": {
      "image/png": "[encoded data removed]",
      "text/plain": [
       "<Figure size 432x288 with 1 Axes>"
      ]
     },
     "metadata": {
      "needs_background": "light"
     },
     "output_type": "display_data"
    }
   ],
   "source": [
    "for i in range(3):\n",
    "\tNab.plt.plot(waves[i], label=str(round(results.data()['energy'].iloc[i], 2)))\n",
    "Nab.plt.title('Some waveforms with their amplitudes')\n",
    "Nab.plt.legend()\n",
    "Nab.plt.show()"
   ]
  },
  {
   "cell_type": "code",
   "execution_count": 72,
   "metadata": {},
   "outputs": [
    {
     "name": "stdout",
     "output_type": "stream",
     "text": [
      "       result  eventid  bc     timestamp           req  source  length  board  \\\n",
      "2           1        0  20       3751522       9476996       1    7000      2   \n",
      "9           1        1  20      15277460      20981650       1    7000      2   \n",
      "16          1        2  20      45348982      50966840       1    7000      2   \n",
      "32          1        5  20      81463794      88313938       1    7000      2   \n",
      "37          1        6  20     106967042     112723642       1    7000      2   \n",
      "...       ...      ...  ..           ...           ...     ...     ...    ...   \n",
      "51567       1     9961  20  172093048668  172101622570       1    7000      2   \n",
      "51586       1     9965  20  172207360858  172214274928       1    7000      2   \n",
      "51667       1     9983  20  172411477366  172419726904       1    7000      2   \n",
      "51672       1     9984  20  172416860720  172425173262       1    7000      2   \n",
      "51678       1     9985  20  172443494760  172451929442       1    7000      2   \n",
      "\n",
      "       channel  pixel  \n",
      "2            4     88  \n",
      "9            4     88  \n",
      "16           4     88  \n",
      "32           4     88  \n",
      "37           4     88  \n",
      "...        ...    ...  \n",
      "51567        4     88  \n",
      "51586        4     88  \n",
      "51667        4     88  \n",
      "51672        4     88  \n",
      "51678        4     88  \n",
      "\n",
      "[3020 rows x 10 columns]\n"
     ]
    }
   ],
   "source": [
    "run.singleWaves().resetCuts()\n",
    "run.singleWaves().defineCut('pixel', '=', 88)\n",
    "headers = run.singleWaves().headers()\n",
    "print(headers)"
   ]
  },
  {
   "cell_type": "markdown",
   "metadata": {},
   "source": [
    "### Noise Analysis\n",
    "\n",
    "Let's look at that same pixel and get a sense of what the noise was like"
   ]
  },
  {
   "cell_type": "code",
   "execution_count": 78,
   "metadata": {},
   "outputs": [],
   "source": [
    "run.noiseWaves().resetCuts()\n",
    "run.noiseWaves().defineCut('pixel', '=', 88)\n",
    "\n",
    "spectra = run.noiseWaves().generatePowerSpectra()"
   ]
  },
  {
   "cell_type": "code",
   "execution_count": 79,
   "metadata": {},
   "outputs": [
    {
     "data": {
      "image/png": "[encoded data removed]",
      "text/plain": [
       "<Figure size 432x288 with 1 Axes>"
      ]
     },
     "metadata": {
      "needs_background": "light"
     },
     "output_type": "display_data"
    }
   ],
   "source": [
    "Nab.plt.plot(spectra[0][1:], spectra[1][1:])\n",
    "Nab.plt.yscale('log')\n",
    "Nab.plt.xscale('log')\n",
    "Nab.plt.xlabel('Frequency (Hz)')\n",
    "Nab.plt.ylabel('ADC^2/Hz')\n",
    "Nab.plt.title('Power Spectra for Pixel 88')\n",
    "Nab.plt.show()"
   ]
  },
  {
   "cell_type": "markdown",
   "metadata": {},
   "source": [
    "Note that the first bin was removed. The first bin is the 0th frequency bin. This bin is often a very small number and can mess with the automatic scaling of the plot so I tend to remove it to make plots simpler. It's not that the data isn't important, just the plots don't look nice easily with it included."
   ]
  },
  {
   "cell_type": "code",
   "execution_count": 80,
   "metadata": {},
   "outputs": [],
   "source": [
    "waves = run.singleWaves().waves()"
   ]
  }
 ],
 "metadata": {
  "kernelspec": {
   "display_name": "Python 3 (ipykernel)",
   "language": "python",
   "name": "python3"
  },
  "language_info": {
   "codemirror_mode": {
    "name": "ipython",
    "version": 3
   },
   "file_extension": ".py",
   "mimetype": "text/x-python",
   "name": "python",
   "nbconvert_exporter": "python",
   "pygments_lexer": "ipython3",
   "version": "3.7.11"
  }
 },
 "nbformat": 4,
 "nbformat_minor": 4
}
