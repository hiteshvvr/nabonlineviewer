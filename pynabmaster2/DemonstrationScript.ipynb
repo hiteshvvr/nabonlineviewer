{
 "cells": [
  {
   "cell_type": "markdown",
   "metadata": {},
   "source": [
    "# Demonstration Notebook\n",
    "\n",
    "This notebook goes through and demonstrates some of the features of the code as it currently stands."
   ]
  },
  {
   "cell_type": "code",
   "execution_count": 1,
   "metadata": {},
   "outputs": [
    {
     "name": "stderr",
     "output_type": "stream",
     "text": [
      "C:\\Users\\divad\\anaconda3\\lib\\site-packages\\cupy\\_environment.py:213: UserWarning: CUDA path could not be detected. Set CUDA_PATH environment variable if CuPy fails to load.\n",
      "  warnings.warn(\n"
     ]
    },
    {
     "name": "stdout",
     "output_type": "stream",
     "text": [
      "Due to some ongoing work on experimental GPU features, some warning statments may print during import\n",
      "If you see statements about CUDA or cupy, they should be safe to ignore\n",
      "If you have any questions feel free to email me: dgma224@g.uky.edu\n"
     ]
    }
   ],
   "source": [
    "import pyNab as Nab"
   ]
  },
  {
   "cell_type": "markdown",
   "metadata": {},
   "source": [
    "## Opening the data files\n",
    "\n",
    "First we need to go through and open up the various datafiles with the class. \n",
    "As we will want to cut on pixels, it's best if we go through and pass a pixel mapping to the code so \n",
    "first let's open up a pixel map file and parse that."
   ]
  },
  {
   "cell_type": "code",
   "execution_count": 2,
   "metadata": {},
   "outputs": [],
   "source": [
    "pixelMap = Nab.np.loadtxt('C:\\\\Users\\\\divad\\\\Downloads\\\\PixelFetPreampMapManitoba6-16-2021.csv', skiprows=1, dtype=str, delimiter=',')\n",
    "removedEmptyBoards = []\n",
    "for row in pixelMap:\n",
    "\tif row[-1] != '':\n",
    "\t\tremovedEmptyBoards.append(list(row))\n",
    "removedEmptyBoards = Nab.np.array(removedEmptyBoards)\n",
    "pixels = removedEmptyBoards[:,0]"
   ]
  },
  {
   "cell_type": "markdown",
   "metadata": {},
   "source": [
    "What that function did was open up the file, remove any rows from the file that had an empty board entry (because some of them do), and then it goes and grabs only the pixels from the remaining table. The code expects to see an array where each element is the pixel number. For example: array[0] = 1 would mean that pixel 1 is on DAQ board 0 channel 0. array[10] = 64 would mean that pixel 64 is on DAQ board 1 channel 2.\n",
    "\n",
    "Now we need to pass this array, along with a file location (or a list of file locations) to the class to open up a waveform file."
   ]
  },
  {
   "cell_type": "code",
   "execution_count": 3,
   "metadata": {},
   "outputs": [],
   "source": [
    "fileDirectory = 'C:\\\\Users\\\\divad\\\\OneDrive\\\\Documents\\\\datafiles\\\\Cd109MultipleBiases\\\\Bias50V\\\\'\n",
    "filenames = []\n",
    "filenames.append(fileDirectory + 'ScopeRun420_0.scope')\n",
    "\n",
    "waveformFile = Nab.wf.waveformFile(filenames, pixelMapping=pixels)"
   ]
  },
  {
   "cell_type": "markdown",
   "metadata": {},
   "source": [
    "That opened up the file and applied the pixel map to the file. Now let's see what type of data we have.\n",
    "\n",
    "Here are a few functions you can use to access information about the file."
   ]
  },
  {
   "cell_type": "code",
   "execution_count": 4,
   "metadata": {},
   "outputs": [
    {
     "name": "stdout",
     "output_type": "stream",
     "text": [
      "board channel hit information:  [17, 19, 20, 21] [63828 51625 25478 43696]\n",
      "number of waveforms:  184627\n"
     ]
    }
   ],
   "source": [
    "boards, mapping, numberOfHits = waveformFile.bcs #this tells you how many hits you had per board channel\n",
    "print('board channel hit information: ', boards, numberOfHits)\n",
    "\n",
    "numwaves = waveformFile.numWaves #this tells you how many waveforms there are total\n",
    "print('number of waveforms: ', numwaves)"
   ]
  },
  {
   "cell_type": "markdown",
   "metadata": {},
   "source": [
    "If you want to look at a particular waveform, you can simply do this"
   ]
  },
  {
   "cell_type": "code",
   "execution_count": 5,
   "metadata": {},
   "outputs": [
    {
     "data": {
      "image/png": "[encoded data removed]",
      "text/plain": [
       "<Figure size 432x288 with 1 Axes>"
      ]
     },
     "metadata": {
      "needs_background": "light"
     },
     "output_type": "display_data"
    }
   ],
   "source": [
    "waveform = waveformFile.wave(2)\n",
    "Nab.plt.plot(waveform)\n",
    "Nab.plt.show()"
   ]
  },
  {
   "cell_type": "markdown",
   "metadata": {},
   "source": [
    "If you want to access every waveform and header, you can do this. Note that I don't really recommend you do this to retrieve all of the waveforms as this will eat up RAM rather rapidly. It's okay for the headers, but for waveforms it's recommended you do individual calls to the .wave() function. Note that waveforms returned in this manner still need to be converted from 14-bit to 16-bit as defined in the Nab.bf.wavePrep() function.\n",
    "\n",
    "When you call this function this time, it will run very rapidly. That is because I deliberately left off the .compute() addition that tells the code to load everything from the files into memory. Again I don't really recommend you use this unless you know what you're doing."
   ]
  },
  {
   "cell_type": "code",
   "execution_count": 6,
   "metadata": {},
   "outputs": [],
   "source": [
    "waveforms = waveformFile.waves()\n",
    "headers = waveformFile.headers()"
   ]
  },
  {
   "cell_type": "markdown",
   "metadata": {},
   "source": [
    "Now let's do some analysis. Let's say you want to get an energy histogram from pixel 76, or bc 17 but you aren't sure how to call the function. Run this script to see how to call any of the functions in the code. Note that not all are documented nicely yet but I'm working on it."
   ]
  },
  {
   "cell_type": "code",
   "execution_count": 7,
   "metadata": {},
   "outputs": [],
   "source": [
    "waveformFile.determineEnergyTiming?"
   ]
  },
  {
   "cell_type": "markdown",
   "metadata": {},
   "source": [
    "We can run this analysis in two ways. \n",
    "\n",
    "First: We can run it over everything and then cut on the results to just look at the pixel we want.\n",
    "Second: We can just run it over the pixel we want if we cut on the waveformFile. \n",
    "\n",
    "Let's do both ways.\n",
    "\n",
    "First method first."
   ]
  },
  {
   "cell_type": "code",
   "execution_count": 8,
   "metadata": {},
   "outputs": [
    {
     "name": "stderr",
     "output_type": "stream",
     "text": [
      "100%|████████████████████████████████████████████████████████████████████████████████████| 9/9 [01:26<00:00,  9.56s/it]\n"
     ]
    },
    {
     "data": {
      "image/png": "[encoded data removed]",
      "text/plain": [
       "<Figure size 432x288 with 1 Axes>"
      ]
     },
     "metadata": {
      "needs_background": "light"
     },
     "output_type": "display_data"
    }
   ],
   "source": [
    "overallResults = waveformFile.determineEnergyTiming(method='trap', params=[1250, 50, 1250], batchsize=20000)\n",
    "overallResults.defineCut('bc', '=', 17)\n",
    "#or the same thing\n",
    "overallResults.defineCut('pixel', '=', 76)\n",
    "#now plot the energies\n",
    "overallResults.hist('energy', bins = Nab.np.arange(0, 200))\n",
    "overallResults.show()"
   ]
  },
  {
   "cell_type": "markdown",
   "metadata": {},
   "source": [
    "Second Method: Cut on the waveform file and only run over the board we care about.\n",
    "This is a lot faster."
   ]
  },
  {
   "cell_type": "code",
   "execution_count": 9,
   "metadata": {},
   "outputs": [
    {
     "name": "stderr",
     "output_type": "stream",
     "text": [
      "100%|████████████████████████████████████████████████████████████████████████████████████| 3/3 [00:26<00:00,  8.74s/it]\n"
     ]
    },
    {
     "data": {
      "image/png": "[encoded data removed]",
      "text/plain": [
       "<Figure size 432x288 with 1 Axes>"
      ]
     },
     "metadata": {
      "needs_background": "light"
     },
     "output_type": "display_data"
    }
   ],
   "source": [
    "waveformFile.defineCut('bc', '=', 17)\n",
    "waveformFile.defineCut('pixel', '=', 76) #again both options work, just showing both for demonstration purposes\n",
    "onlyPixel76Results = waveformFile.determineEnergyTiming(method='trap', params=[1250, 50, 1250], batchsize=20000)\n",
    "onlyPixel76Results.hist('energy', bins = Nab.np.arange(0, 200))\n",
    "onlyPixel76Results.show()"
   ]
  },
  {
   "cell_type": "markdown",
   "metadata": {},
   "source": [
    "Want to see something weird? Go back and re-run the code block for the first method. You'll notice it's suddenly a lot faster. \n",
    "\n",
    "Why is that? Because you defined a cut on the same waveformFile object. It's only looking at a subset of the data now. \n",
    "If you want to reset your cuts, you need to call this function. "
   ]
  },
  {
   "cell_type": "code",
   "execution_count": 10,
   "metadata": {},
   "outputs": [],
   "source": [
    "waveformFile.resetCuts()\n",
    "overallResults.resetCuts()"
   ]
  },
  {
   "cell_type": "markdown",
   "metadata": {},
   "source": [
    "There are a lot of other cut possibilities. The full list is described below"
   ]
  },
  {
   "cell_type": "code",
   "execution_count": 18,
   "metadata": {},
   "outputs": [],
   "source": [
    "waveformFile.defineCut?"
   ]
  },
  {
   "cell_type": "markdown",
   "metadata": {},
   "source": [
    "To check what categories you can cut on, you can just call this function"
   ]
  },
  {
   "cell_type": "code",
   "execution_count": 12,
   "metadata": {},
   "outputs": [
    {
     "name": "stdout",
     "output_type": "stream",
     "text": [
      "['result', 'eventid', 'bc', 'timestamp', 'req', 'source', 'length', 'board', 'channel', 'pixel']\n",
      "['result' 'eventid' 'bc' 'timestamp' 'req' 'source' 'length' 'board'\n",
      " 'channel' 'pixel' 'energy' 't0']\n"
     ]
    }
   ],
   "source": [
    "print(waveformFile.names)\n",
    "print(overallResults.names)"
   ]
  },
  {
   "cell_type": "markdown",
   "metadata": {},
   "source": [
    "With all of that taken care of now, let's do a quick fit of some data."
   ]
  },
  {
   "cell_type": "code",
   "execution_count": 13,
   "metadata": {},
   "outputs": [
    {
     "name": "stderr",
     "output_type": "stream",
     "text": [
      "100%|████████████████████████████████████████████████████████████████████████████████████| 3/3 [00:26<00:00,  8.73s/it]\n"
     ]
    }
   ],
   "source": [
    "waveformFile.resetCuts()\n",
    "waveformFile.defineCut('pixel', '=', 76)\n",
    "results = waveformFile.determineEnergyTiming(method='trap', params=[1250, 50, 1250], batchsize=20000)"
   ]
  },
  {
   "cell_type": "code",
   "execution_count": 14,
   "metadata": {},
   "outputs": [
    {
     "data": {
      "image/png": "[encoded data removed]",
      "text/plain": [
       "<Figure size 432x288 with 1 Axes>"
      ]
     },
     "metadata": {
      "needs_background": "light"
     },
     "output_type": "display_data"
    }
   ],
   "source": [
    "results.hist('energy', bins=Nab.np.arange(0, 200))\n",
    "results.show()"
   ]
  },
  {
   "cell_type": "markdown",
   "metadata": {},
   "source": [
    "It looks like there is a peak between 125 and 150 so let's fit that to a gaussian (the only function supported currently).\n",
    "\n",
    "Note that I change the bins when I call fitHist. This means the fit function will only consider the data in that particular region instead of the whole histogram.\n",
    "\n",
    "p0 is an initial guess at the best fit parameters. It isn't required, but highly recommended for reliable fits. \n",
    "\n",
    "The order of parameters is as follows: p0=[amplitude, mean, sigma, offset from 0]\n",
    "\n",
    "color='orange' of course sets the color.\n",
    "\n",
    "rounding = 2 means it will round the fitted values to 2 decimal places when plotting them. It doesnt, or shouldn't, affect the returned values"
   ]
  },
  {
   "cell_type": "code",
   "execution_count": 15,
   "metadata": {},
   "outputs": [
    {
     "data": {
      "image/png": "[encoded data removed]",
      "text/plain": [
       "<Figure size 432x288 with 1 Axes>"
      ]
     },
     "metadata": {
      "needs_background": "light"
     },
     "output_type": "display_data"
    }
   ],
   "source": [
    "results.resetCuts()\n",
    "results.defineCut('energy', '>', 20)\n",
    "results.hist('energy', bins = Nab.np.arange(0, 200))\n",
    "parameters, errors = results.fitHist('energy', bins = Nab.np.arange(125, 150), p0=[500, 130, 10, 0], color='orange', rounding = 2) \n",
    "results.legend()\n",
    "results.show() #technically this isn't needed but I do it out of habit"
   ]
  },
  {
   "cell_type": "markdown",
   "metadata": {},
   "source": [
    "Now we have gone through and fit a histogram with the code and discussed some basic cutting techniques. Now let's say that you want to look at only waveforms that occur in a particular energy range. Well that's actually pretty easy to do.\n",
    "\n",
    "The code below only will average waveforms from pixel 76 in the peak we just fit. I have it start from scratch to show the whole process, not because it was required. I also have it correct the baseline offset by shifting the initial part of the waveform, as defined by the pretrigger, such that it has a mean value of 0. This corrects for any changes in the offset."
   ]
  },
  {
   "cell_type": "code",
   "execution_count": 16,
   "metadata": {},
   "outputs": [
    {
     "name": "stderr",
     "output_type": "stream",
     "text": [
      "100%|████████████████████████████████████████████████████████████████████████████████████| 3/3 [00:26<00:00,  8.87s/it]\n"
     ]
    },
    {
     "data": {
      "image/png": "[encoded data removed]",
      "text/plain": [
       "<Figure size 432x288 with 1 Axes>"
      ]
     },
     "metadata": {
      "needs_background": "light"
     },
     "output_type": "display_data"
    }
   ],
   "source": [
    "waveformFile.resetCuts()\n",
    "waveformFile.defineCut('pixel', '=', 76)\n",
    "results = waveformFile.determineEnergyTiming(method='trap', params=[1250, 50, 1250], batchsize=20000)\n",
    "results.defineCut('energy', 'between', 125, 150)\n",
    "cut = results.returnCut()\n",
    "waveformFile.defineCut('custom', cut)\n",
    "averageWaveform = waveformFile.averageWaveforms(correctBaseline=True)\n",
    "Nab.plt.plot(averageWaveform)\n",
    "Nab.plt.show()"
   ]
  },
  {
   "cell_type": "markdown",
   "metadata": {},
   "source": [
    "'custom' cuts can be very powerful tools but also are risky. They are meant to be used as I show here where you make a resultFile from some dataset, then go through and apply some cuts based on the extracted energies and waveform start times. You can of course write your own exotic cutting function and apply it to the data, but do so at your own risk.\n",
    "\n",
    "To return the results as a Pandas DataFrame, simply call this function. The added .compute() operation changes the return from a Dask DataFrame to a Pandas DataFrame (almost the same thing but there are some differences). You'll notice that some indices are missing, either from the cuts we applied to the results, or from being calculated from only a subset of the original data. This is important to know about if you are doing your own custom cutting functions."
   ]
  },
  {
   "cell_type": "code",
   "execution_count": 17,
   "metadata": {},
   "outputs": [
    {
     "data": {
      "text/html": [
       "<div>\n",
       "<style scoped>\n",
       "    .dataframe tbody tr th:only-of-type {\n",
       "        vertical-align: middle;\n",
       "    }\n",
       "\n",
       "    .dataframe tbody tr th {\n",
       "        vertical-align: top;\n",
       "    }\n",
       "\n",
       "    .dataframe thead th {\n",
       "        text-align: right;\n",
       "    }\n",
       "</style>\n",
       "<table border=\"1\" class=\"dataframe\">\n",
       "  <thead>\n",
       "    <tr style=\"text-align: right;\">\n",
       "      <th></th>\n",
       "      <th>result</th>\n",
       "      <th>eventid</th>\n",
       "      <th>bc</th>\n",
       "      <th>timestamp</th>\n",
       "      <th>req</th>\n",
       "      <th>source</th>\n",
       "      <th>length</th>\n",
       "      <th>board</th>\n",
       "      <th>channel</th>\n",
       "      <th>pixel</th>\n",
       "      <th>energy</th>\n",
       "      <th>t0</th>\n",
       "    </tr>\n",
       "  </thead>\n",
       "  <tbody>\n",
       "    <tr>\n",
       "      <th>39</th>\n",
       "      <td>1</td>\n",
       "      <td>39</td>\n",
       "      <td>17</td>\n",
       "      <td>702224264</td>\n",
       "      <td>702309558</td>\n",
       "      <td>0</td>\n",
       "      <td>7000</td>\n",
       "      <td>2</td>\n",
       "      <td>1</td>\n",
       "      <td>76</td>\n",
       "      <td>138.387352</td>\n",
       "      <td>3469.0</td>\n",
       "    </tr>\n",
       "    <tr>\n",
       "      <th>60</th>\n",
       "      <td>1</td>\n",
       "      <td>60</td>\n",
       "      <td>17</td>\n",
       "      <td>1110739310</td>\n",
       "      <td>1110889580</td>\n",
       "      <td>0</td>\n",
       "      <td>7000</td>\n",
       "      <td>2</td>\n",
       "      <td>1</td>\n",
       "      <td>76</td>\n",
       "      <td>132.766898</td>\n",
       "      <td>3509.5</td>\n",
       "    </tr>\n",
       "    <tr>\n",
       "      <th>65</th>\n",
       "      <td>1</td>\n",
       "      <td>65</td>\n",
       "      <td>17</td>\n",
       "      <td>1179189676</td>\n",
       "      <td>1179286292</td>\n",
       "      <td>0</td>\n",
       "      <td>7000</td>\n",
       "      <td>2</td>\n",
       "      <td>1</td>\n",
       "      <td>76</td>\n",
       "      <td>137.389479</td>\n",
       "      <td>3523.0</td>\n",
       "    </tr>\n",
       "    <tr>\n",
       "      <th>107</th>\n",
       "      <td>1</td>\n",
       "      <td>107</td>\n",
       "      <td>17</td>\n",
       "      <td>2045433854</td>\n",
       "      <td>2045588012</td>\n",
       "      <td>0</td>\n",
       "      <td>7000</td>\n",
       "      <td>2</td>\n",
       "      <td>1</td>\n",
       "      <td>76</td>\n",
       "      <td>131.913898</td>\n",
       "      <td>3492.5</td>\n",
       "    </tr>\n",
       "    <tr>\n",
       "      <th>161</th>\n",
       "      <td>1</td>\n",
       "      <td>161</td>\n",
       "      <td>17</td>\n",
       "      <td>2946282990</td>\n",
       "      <td>2946446144</td>\n",
       "      <td>0</td>\n",
       "      <td>7000</td>\n",
       "      <td>2</td>\n",
       "      <td>1</td>\n",
       "      <td>76</td>\n",
       "      <td>129.926797</td>\n",
       "      <td>3512.5</td>\n",
       "    </tr>\n",
       "    <tr>\n",
       "      <th>...</th>\n",
       "      <td>...</td>\n",
       "      <td>...</td>\n",
       "      <td>...</td>\n",
       "      <td>...</td>\n",
       "      <td>...</td>\n",
       "      <td>...</td>\n",
       "      <td>...</td>\n",
       "      <td>...</td>\n",
       "      <td>...</td>\n",
       "      <td>...</td>\n",
       "      <td>...</td>\n",
       "      <td>...</td>\n",
       "    </tr>\n",
       "    <tr>\n",
       "      <th>184510</th>\n",
       "      <td>1</td>\n",
       "      <td>184510</td>\n",
       "      <td>17</td>\n",
       "      <td>3802234728768</td>\n",
       "      <td>3802234890974</td>\n",
       "      <td>0</td>\n",
       "      <td>7000</td>\n",
       "      <td>2</td>\n",
       "      <td>1</td>\n",
       "      <td>76</td>\n",
       "      <td>127.802386</td>\n",
       "      <td>3508.5</td>\n",
       "    </tr>\n",
       "    <tr>\n",
       "      <th>184533</th>\n",
       "      <td>1</td>\n",
       "      <td>184533</td>\n",
       "      <td>17</td>\n",
       "      <td>3802771739412</td>\n",
       "      <td>3802771827268</td>\n",
       "      <td>0</td>\n",
       "      <td>7000</td>\n",
       "      <td>2</td>\n",
       "      <td>1</td>\n",
       "      <td>76</td>\n",
       "      <td>126.750710</td>\n",
       "      <td>3517.5</td>\n",
       "    </tr>\n",
       "    <tr>\n",
       "      <th>184539</th>\n",
       "      <td>1</td>\n",
       "      <td>184539</td>\n",
       "      <td>17</td>\n",
       "      <td>3802839583468</td>\n",
       "      <td>3802839709992</td>\n",
       "      <td>0</td>\n",
       "      <td>7000</td>\n",
       "      <td>2</td>\n",
       "      <td>1</td>\n",
       "      <td>76</td>\n",
       "      <td>131.116958</td>\n",
       "      <td>3503.5</td>\n",
       "    </tr>\n",
       "    <tr>\n",
       "      <th>184561</th>\n",
       "      <td>1</td>\n",
       "      <td>184561</td>\n",
       "      <td>17</td>\n",
       "      <td>3803451726762</td>\n",
       "      <td>3803451848084</td>\n",
       "      <td>0</td>\n",
       "      <td>7000</td>\n",
       "      <td>2</td>\n",
       "      <td>1</td>\n",
       "      <td>76</td>\n",
       "      <td>129.642543</td>\n",
       "      <td>3476.5</td>\n",
       "    </tr>\n",
       "    <tr>\n",
       "      <th>184592</th>\n",
       "      <td>1</td>\n",
       "      <td>184592</td>\n",
       "      <td>17</td>\n",
       "      <td>3803986980832</td>\n",
       "      <td>3803987070304</td>\n",
       "      <td>0</td>\n",
       "      <td>7000</td>\n",
       "      <td>2</td>\n",
       "      <td>1</td>\n",
       "      <td>76</td>\n",
       "      <td>145.853111</td>\n",
       "      <td>3496.0</td>\n",
       "    </tr>\n",
       "  </tbody>\n",
       "</table>\n",
       "<p>6877 rows × 12 columns</p>\n",
       "</div>"
      ],
      "text/plain": [
       "        result  eventid  bc      timestamp            req  source  length  \\\n",
       "39           1       39  17      702224264      702309558       0    7000   \n",
       "60           1       60  17     1110739310     1110889580       0    7000   \n",
       "65           1       65  17     1179189676     1179286292       0    7000   \n",
       "107          1      107  17     2045433854     2045588012       0    7000   \n",
       "161          1      161  17     2946282990     2946446144       0    7000   \n",
       "...        ...      ...  ..            ...            ...     ...     ...   \n",
       "184510       1   184510  17  3802234728768  3802234890974       0    7000   \n",
       "184533       1   184533  17  3802771739412  3802771827268       0    7000   \n",
       "184539       1   184539  17  3802839583468  3802839709992       0    7000   \n",
       "184561       1   184561  17  3803451726762  3803451848084       0    7000   \n",
       "184592       1   184592  17  3803986980832  3803987070304       0    7000   \n",
       "\n",
       "        board  channel  pixel      energy      t0  \n",
       "39          2        1     76  138.387352  3469.0  \n",
       "60          2        1     76  132.766898  3509.5  \n",
       "65          2        1     76  137.389479  3523.0  \n",
       "107         2        1     76  131.913898  3492.5  \n",
       "161         2        1     76  129.926797  3512.5  \n",
       "...       ...      ...    ...         ...     ...  \n",
       "184510      2        1     76  127.802386  3508.5  \n",
       "184533      2        1     76  126.750710  3517.5  \n",
       "184539      2        1     76  131.116958  3503.5  \n",
       "184561      2        1     76  129.642543  3476.5  \n",
       "184592      2        1     76  145.853111  3496.0  \n",
       "\n",
       "[6877 rows x 12 columns]"
      ]
     },
     "execution_count": 17,
     "metadata": {},
     "output_type": "execute_result"
    }
   ],
   "source": [
    "results.data().compute()"
   ]
  },
  {
   "cell_type": "markdown",
   "metadata": {},
   "source": [
    "Well I think that is basically everything you need to know about the code for most analysis processes. Feel free to ask me anything via email or slack about the code. If there are any functions you want added, let me know and I'll see what I can do!"
   ]
  },
  {
   "cell_type": "code",
   "execution_count": null,
   "metadata": {},
   "outputs": [],
   "source": []
  }
 ],
 "metadata": {
  "kernelspec": {
   "display_name": "Python 3 (ipykernel)",
   "language": "python",
   "name": "python3"
  },
  "language_info": {
   "codemirror_mode": {
    "name": "ipython",
    "version": 3
   },
   "file_extension": ".py",
   "mimetype": "text/x-python",
   "name": "python",
   "nbconvert_exporter": "python",
   "pygments_lexer": "ipython3",
   "version": "3.8.8"
  }
 },
 "nbformat": 4,
 "nbformat_minor": 4
}
