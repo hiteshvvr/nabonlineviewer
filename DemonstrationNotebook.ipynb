{
 "cells": [
  {
   "cell_type": "markdown",
   "metadata": {},
   "source": [
    "# Demonstration Notebook\n",
    "This is a Notebook designed to demonstrate how to use some of the different functions in the code.\n",
    "It doesn't show everything but shows some of the core features. First we need to import pyNab itself."
   ]
  },
  {
   "cell_type": "markdown",
   "metadata": {},
   "source": [
    "First we need to import pyNab itself.\n",
    "You may see various messages during this import related to features being enabled or disabled. "
   ]
  },
  {
   "cell_type": "code",
   "execution_count": 2,
   "metadata": {},
   "outputs": [],
   "source": [
    "# # from matplotlib.pyplot import axis\n",
    "# import numpy as np\n",
    "# # import h5py as hd\n",
    "# import pandas as pd\n",
    "import sys\n",
    "\n",
    "nabPath = \"/Users/seeker/TNwork/nabonlineanalysis/nabpyinstallations/pyNab/src\"\n",
    "deltaRicePath = \"/Users/seeker/TNwork/nabonlineanalysis/nabpyinstallations/deltarice/build/lib.macosx-11.0-arm64-cpython-312/\"\n",
    "\n",
    "sys.path.append(deltaRicePath)\n",
    "sys.path.append(nabPath)\n",
    "\n",
    "import nabPy as Nab"
   ]
  },
  {
   "cell_type": "code",
   "execution_count": 3,
   "metadata": {},
   "outputs": [],
   "source": [
    "# import pyNab as Nab"
   ]
  },
  {
   "cell_type": "markdown",
   "metadata": {},
   "source": [
    "pyNab has a variety of optional features that are enabled if they are detected on your computer. \n",
    "- GPU support through cupy\n",
    "- FPGA emulation through fxpmath fixed precision library\n",
    "- Accelerated FFT operations with pyFFTW (or GPU if available)\n",
    "- Custom HDF5 compression through nabCompression.h5 (soon to be renamed)"
   ]
  },
  {
   "cell_type": "markdown",
   "metadata": {},
   "source": [
    "## Introduction to pyNab and How it Works"
   ]
  },
  {
   "cell_type": "markdown",
   "metadata": {},
   "source": [
    "pyNab is built around a series of different modules/classes. \n",
    "Each module/class serves a distinct purpose motivated by data in the Nab experiment\n",
    "\n",
    "- pyNab.py: Defines DataRun Class\n",
    "    - Loads in all sub-modules to combine all of the data from a single run\n",
    "    - waveformFileClass.py: pyNab.wf : Defines waveformFile Class\n",
    "        - .singl, .pulsr, .noise, .coinc\n",
    "        - Loads in waveform files specifically\n",
    "        - Uses Dask/Numpy to load in the waveforms themselves\n",
    "        - Uses Pandas to handle the headers for each waveform\n",
    "    - temperatureFileClass.py : pyNab.tmf : temperatureFile Class\n",
    "        - .tmprt\n",
    "        - Loads in the FPGA temperatures\n",
    "    - parameterFileClass.py : pyNab.pf : parameterFile Class\n",
    "        - .param\n",
    "        - Parses the .param output file from Manitoba data to load in pixel maps and other useful run parameters\n",
    "        - For ORNL datasets, parses the HDF5 parameter group\n",
    "    - eventFileClass.py: pyNab.ef : Defines eventFile Class\n",
    "        - .event\n",
    "        - Loads in the events as identified by the DAQ. Not particularly useful for Manitoba data due to formatting issues\n",
    "        - Will be updated with more functionality for ORNL datasets\n",
    "    - triggerFileClass.py: pyNab.tf : Defines triggerFile Class\n",
    "        - .trigg\n",
    "        - This class handles the triggers returned from the FPGAs\n",
    "        - also implements some basic cutting routines\n",
    "    - resultFileClass.py : pyNab.rf : resultFile Class\n",
    "        - Handles the results from certain analysis functions in waveformFileClass\n",
    "        - Basically wraps around pandas dataframes with some extra functionality thrown in \n",
    "            - In particular cutting routines\n",
    "            - Some basic plotting routines and some other functionality as well\n",
    "    There are also other files that are responsible for file formatting and data processing.\n",
    "\n",
    "    - basicFunctions.py : bf\n",
    "        - It's name is a lie. This is where all the analysis code is defined\n",
    "    - gpuFunctions.py : pyNab.bf.gpu\n",
    "        - Where the GPU functions are defined. Currently doesn't have much, work in progress\n",
    "    - fileFormats.py : pyNab.ff\n",
    "        - This is where the binary file formats are defined for the structured binary files such as from Manitoba"
   ]
  },
  {
   "cell_type": "markdown",
   "metadata": {},
   "source": [
    "## Opening a whole Run of Data"
   ]
  },
  {
   "cell_type": "markdown",
   "metadata": {},
   "source": [
    "The Class DataRun handles opening entire sets of data that were output from the DAQ. The user is expected to pass this class a directory to search for files, and the run number. This code will automatically open ALL files associated with this run that are in the directory. Missing files will cause errors."
   ]
  },
  {
   "cell_type": "code",
   "execution_count": 4,
   "metadata": {},
   "outputs": [],
   "source": [
    "runNumber = 1374\n",
    "directory = 'C:\\\\Users\\\\David\\\\Documents\\\\datafiles\\\\pNabDemoData\\\\'"
   ]
  },
  {
   "cell_type": "code",
   "execution_count": 5,
   "metadata": {},
   "outputs": [
    {
     "ename": "FileNotFoundError",
     "evalue": "[Errno 2] No such file or directory: 'C:\\\\Users\\\\David\\\\Documents\\\\datafiles\\\\pNabDemoData\\\\'",
     "output_type": "error",
     "traceback": [
      "\u001b[0;31m---------------------------------------------------------------------------\u001b[0m",
      "\u001b[0;31mFileNotFoundError\u001b[0m                         Traceback (most recent call last)",
      "Cell \u001b[0;32mIn[5], line 1\u001b[0m\n\u001b[0;32m----> 1\u001b[0m runWithEvents \u001b[38;5;241m=\u001b[39m \u001b[43mNab\u001b[49m\u001b[38;5;241;43m.\u001b[39;49m\u001b[43mDataRun\u001b[49m\u001b[43m(\u001b[49m\u001b[43mdirectory\u001b[49m\u001b[43m,\u001b[49m\u001b[43m \u001b[49m\u001b[43mrunNumber\u001b[49m\u001b[43m)\u001b[49m\n",
      "File \u001b[0;32m~/TNwork/nabonlineanalysis/nabpyinstallations/pyNab/src/nabPy/nabPy.py:49\u001b[0m, in \u001b[0;36mDataRun.__init__\u001b[0;34m(self, directory, runNumber, ignoreEventFile, bulkRead, subRunMin, subRunMax, printLoadTimes)\u001b[0m\n\u001b[1;32m     47\u001b[0m \u001b[38;5;28mself\u001b[39m\u001b[38;5;241m.\u001b[39msubRunMin \u001b[38;5;241m=\u001b[39m subRunMin\n\u001b[1;32m     48\u001b[0m \u001b[38;5;28mself\u001b[39m\u001b[38;5;241m.\u001b[39msubRunMax \u001b[38;5;241m=\u001b[39m subRunMax\n\u001b[0;32m---> 49\u001b[0m res \u001b[38;5;241m=\u001b[39m \u001b[38;5;28;43mself\u001b[39;49m\u001b[38;5;241;43m.\u001b[39;49m\u001b[43m__findRelevantFiles\u001b[49m\u001b[43m(\u001b[49m\u001b[43m)\u001b[49m\n\u001b[1;32m     50\u001b[0m \u001b[38;5;28;01mif\u001b[39;00m res \u001b[38;5;241m==\u001b[39m \u001b[38;5;241m-\u001b[39m\u001b[38;5;241m1\u001b[39m:\n\u001b[1;32m     51\u001b[0m \t\u001b[38;5;28mprint\u001b[39m(\u001b[38;5;124m'\u001b[39m\u001b[38;5;124mno DataRun class created\u001b[39m\u001b[38;5;124m'\u001b[39m)\n",
      "File \u001b[0;32m~/TNwork/nabonlineanalysis/nabpyinstallations/pyNab/src/nabPy/nabPy.py:72\u001b[0m, in \u001b[0;36mDataRun.__findRelevantFiles\u001b[0;34m(self)\u001b[0m\n\u001b[1;32m     70\u001b[0m \u001b[38;5;28mself\u001b[39m\u001b[38;5;241m.\u001b[39m__triggFilenames \u001b[38;5;241m=\u001b[39m []\n\u001b[1;32m     71\u001b[0m \u001b[38;5;66;03m#basically go through the directory and find all of the files that match this description and whatnot\u001b[39;00m\n\u001b[0;32m---> 72\u001b[0m tmp \u001b[38;5;241m=\u001b[39m [f \u001b[38;5;28;01mfor\u001b[39;00m f \u001b[38;5;129;01min\u001b[39;00m \u001b[43mos\u001b[49m\u001b[38;5;241;43m.\u001b[39;49m\u001b[43mlistdir\u001b[49m\u001b[43m(\u001b[49m\u001b[38;5;28;43mself\u001b[39;49m\u001b[38;5;241;43m.\u001b[39;49m\u001b[43mdirectory\u001b[49m\u001b[43m)\u001b[49m \u001b[38;5;28;01mif\u001b[39;00m os\u001b[38;5;241m.\u001b[39mpath\u001b[38;5;241m.\u001b[39misfile(os\u001b[38;5;241m.\u001b[39mpath\u001b[38;5;241m.\u001b[39mjoin(\u001b[38;5;28mself\u001b[39m\u001b[38;5;241m.\u001b[39mdirectory, f))]\n\u001b[1;32m     73\u001b[0m tmp \u001b[38;5;241m=\u001b[39m bf\u001b[38;5;241m.\u001b[39mnatural_sort(tmp)\n\u001b[1;32m     74\u001b[0m \u001b[38;5;28;01mfor\u001b[39;00m file \u001b[38;5;129;01min\u001b[39;00m tmp:\n\u001b[1;32m     75\u001b[0m \t\u001b[38;5;66;03m#first check to see if it's run number matches what we want\u001b[39;00m\n",
      "\u001b[0;31mFileNotFoundError\u001b[0m: [Errno 2] No such file or directory: 'C:\\\\Users\\\\David\\\\Documents\\\\datafiles\\\\pNabDemoData\\\\'"
     ]
    }
   ],
   "source": [
    "runWithEvents = Nab.DataRun(directory, runNumber)"
   ]
  },
  {
   "cell_type": "markdown",
   "metadata": {},
   "source": [
    "You'll probably notice this takes a bit to run. This is normally due to the eventFile Class. This class is very inefficient for the Manitoba dataset because of file format issues. If you want to avoid that, try this instead."
   ]
  },
  {
   "cell_type": "code",
   "execution_count": 6,
   "metadata": {},
   "outputs": [],
   "source": [
    "runWithoutEvents = Nab.DataRun(directory, runNumber, ignoreEventFile = True)"
   ]
  },
  {
   "cell_type": "markdown",
   "metadata": {},
   "source": [
    "Now you have the same set of data, but one of them has the events and the other doesn't.\n",
    "\n",
    "Note that while these do use some RAM, they don't use nearly as much RAM as the whole file size. This is because of the use of Dask to handle the waveform files. These files are only loaded when you specifically request that data to be processed, saving memory and allowing you to handle very large amounts of data easily. "
   ]
  },
  {
   "cell_type": "code",
   "execution_count": 88,
   "metadata": {},
   "outputs": [],
   "source": [
    "runWithEvents = None\n",
    "runWithoutEvents = None"
   ]
  },
  {
   "cell_type": "markdown",
   "metadata": {},
   "source": [
    "## Getting information from the files"
   ]
  },
  {
   "cell_type": "markdown",
   "metadata": {},
   "source": [
    "Plenty of information is available through the class itself"
   ]
  },
  {
   "cell_type": "code",
   "execution_count": 6,
   "metadata": {},
   "outputs": [],
   "source": [
    "# runNumber = 1375\n",
    "# directory = 'G:\\\\Shared drives\\\\Nab\\\\Manitoba Tests\\\\Manitoba Data\\\\01-26-2022 Sn113 Partial Bias Scan + 3hr -300V Bias Run\\\\'\n",
    "# run = Nab.DataRun(directory, runNumber, ignoreEventFile = True)\n",
    "\n",
    "file = \"../../../nabanalysis/TearDropAnalysis/data/Run3516_1.h5\"\n",
    "run = Nab.File(file)"
   ]
  },
  {
   "cell_type": "code",
   "execution_count": 7,
   "metadata": {},
   "outputs": [
    {
     "name": "stdout",
     "output_type": "stream",
     "text": [
      "There are  271900  singles waveforms, each is  7000  long\n",
      "There are  32382  coincidence waveforms, each is  7000  long\n",
      "There are  0  pulser waveforms, each is  0  long\n",
      "There are  0  noise waveforms, each is  0  long\n",
      "There are  312159  triggers\n"
     ]
    }
   ],
   "source": [
    "print('There are ', run.singleWaves().numWaves, ' singles waveforms, each is ', run.singleWaves().wavelength, ' long')\n",
    "print('There are ', run.coincWaves().numWaves, ' coincidence waveforms, each is ', run.coincWaves().wavelength, ' long')\n",
    "print('There are ', run.pulsrWaves().numWaves, ' pulser waveforms, each is ', run.pulsrWaves().wavelength, ' long')\n",
    "print('There are ', run.noiseWaves().numWaves, ' noise waveforms, each is ', run.noiseWaves().wavelength, ' long')\n",
    "print('There are ', run.triggers().numtrigs, ' triggers')"
   ]
  },
  {
   "cell_type": "markdown",
   "metadata": {},
   "source": [
    "Metadata such as the filter parameters is available through the parameters class."
   ]
  },
  {
   "cell_type": "code",
   "execution_count": 8,
   "metadata": {
    "collapsed": true,
    "jupyter": {
     "outputs_hidden": true
    },
    "tags": []
   },
   "outputs": [
    {
     "name": "stdout",
     "output_type": "stream",
     "text": [
      "[('threshold', '<i4'), ('M', '<i4'), ('Trap F.T.', '<u2'), ('Trap R.T.', '<u2'), ('Dead Time', '<u2')]\n",
      "[(500000,   625, 20, 625, 700) (    25,   625, 20, 625, 700)\n",
      " (    25,   625, 20, 625, 700) (   200,   625, 20, 625, 700)\n",
      " (   200,   625, 20, 625, 700) (    25,   625, 20, 625, 700)\n",
      " (    25,   625, 20, 625, 700) (    25,   625, 20, 625, 700)\n",
      " (    25,   625, 20, 625, 700) (    25,   625, 20, 625, 700)\n",
      " (    25,   625, 20, 625, 700) (    25,   625, 20, 625, 700)\n",
      " (    25,   625, 20, 625, 700) (    25,   625, 20, 625, 700)\n",
      " (   200,   625, 20, 625, 700) (    25,   625, 20, 625, 700)\n",
      " (    25,   625, 20, 625, 700) (    25,   625, 20, 625, 700)\n",
      " (   200,   625, 20, 625, 700) (    25,   625, 20, 625, 700)\n",
      " (    25,   625, 20, 625, 700) (    25,   625, 20, 625, 700)\n",
      " (   200,   625, 20, 625, 700) (    25,   625, 20, 625, 700)\n",
      " (   200,   625, 20, 625, 700) (    25,   625, 20, 625, 700)\n",
      " (    25,   625, 20, 625, 700) (    25,   625, 20, 625, 700)\n",
      " (   200,   625, 20, 625, 700) (    25,   625, 20, 625, 700)\n",
      " (   200,   625, 20, 625, 700) (    25,   625, 20, 625, 700)\n",
      " (    25,   625, 20, 625, 700) (    25,   625, 20, 625, 700)\n",
      " (    25,   625, 20, 625, 700) (    25,   625, 20, 625, 700)\n",
      " (    25,   625, 20, 625, 700) (    25,   625, 20, 625, 700)\n",
      " (   200,   625, 20, 625, 700) (   200,   625, 20, 625, 700)\n",
      " (   200,   625, 20, 625, 700) (    25,   625, 20, 625, 700)\n",
      " (    25,   625, 20, 625, 700) (    25,   625, 20, 625, 700)\n",
      " (    25,   625, 20, 625, 700) (    25,   625, 20, 625, 700)\n",
      " (    25,   625, 20, 625, 700) (    25,   625, 20, 625, 700)\n",
      " (    25,   625, 20, 625, 700) (   200,   625, 20, 625, 700)\n",
      " (   200,   625, 20, 625, 700) (    25,   625, 20, 625, 700)\n",
      " (   200,   625, 20, 625, 700) (   200,   625, 20, 625, 700)\n",
      " (    25,   625, 20, 625, 700) (    25,   625, 20, 625, 700)\n",
      " (    25,   625, 20, 625, 700) (   200,   625, 20, 625, 700)\n",
      " (    25,   625, 20, 625, 700) (    25,   625, 20, 625, 700)\n",
      " (    25,   625, 20, 625, 700) (    25,   625, 20, 625, 700)\n",
      " (    25,   625, 20, 625, 700) (   200,   625, 20, 625, 700)\n",
      " (    35,   625, 20, 625, 700) (    35,   625, 20, 625, 700)\n",
      " (    35,   625, 20, 625, 700) (    35,   625, 20, 625, 700)\n",
      " (    35,   625, 20, 625, 700) (    35,   625, 20, 625, 700)\n",
      " (    25,   625, 20, 625, 700) (    25,   625, 20, 625, 700)\n",
      " (    25,   625, 20, 625, 700) (   200,   625, 20, 625, 700)\n",
      " (   200,   625, 20, 625, 700) (   200,   625, 20, 625, 700)\n",
      " (500000,   625, 20, 625, 700) (500000,   625, 20, 625, 700)\n",
      " (   200,   625, 20, 625, 700) (    25,   625, 20, 625, 700)\n",
      " (   200,   625, 20, 625, 700) (    25,   625, 20, 625, 700)\n",
      " (    25,   625, 20, 625, 700) (    25,   625, 20, 625, 700)\n",
      " (   200,   625, 20, 625, 700) (    25,   625, 20, 625, 700)\n",
      " (   200,   625, 20, 625, 700) (   200,   625, 20, 625, 700)\n",
      " (    25,   625, 20, 625, 700) (    25,   625, 20, 625, 700)\n",
      " (    25,   625, 20, 625, 700) (    25,   625, 20, 625, 700)\n",
      " (    25,   625, 20, 625, 700) (    25,   625, 20, 625, 700)\n",
      " (   200,   625, 20, 625, 700) (   200,   625, 20, 625, 700)\n",
      " (   200,   625, 20, 625, 700) (    25,   625, 20, 625, 700)\n",
      " (   200,   625, 20, 625, 700) (    25,   625, 20, 625, 700)\n",
      " (   200,   625, 20, 625, 700) (    25,   625, 20, 625, 700)\n",
      " (    25,   625, 20, 625, 700) (   200,   625, 20, 625, 700)\n",
      " (    25,   625, 20, 625, 700) (   200,   625, 20, 625, 700)\n",
      " (   200,   625, 20, 625, 700) (    25,   625, 20, 625, 700)\n",
      " (    25,   625, 20, 625, 700) (    25,   625, 20, 625, 700)\n",
      " (    25,   625, 20, 625, 700) (    25,   625, 20, 625, 700)\n",
      " (    25,   625, 20, 625, 700) (   200,   625, 20, 625, 700)\n",
      " (    25,   625, 20, 625, 700) (    25,   625, 20, 625, 700)\n",
      " (    25,   625, 20, 625, 700) (    25,   625, 20, 625, 700)\n",
      " (   200,   625, 20, 625, 700) (    15, 10000, 20, 625, 700)\n",
      " (   300,   625, 20, 625, 700) (   300,   625, 20, 625, 700)\n",
      " (   300,   625, 20, 625, 700) (   300,   625, 20, 625, 700)\n",
      " (   300,   625, 20, 625, 700) (   300,   625, 20, 625, 700)\n",
      " (   300,   625, 20, 625, 700) (   300,   625, 20, 625, 700)\n",
      " (   300,   625, 20, 625, 700) (   300,   625, 20, 625, 700)\n",
      " (   300,   625, 20, 625, 700) (   300,   625, 20, 625, 700)\n",
      " (   300,   625, 20, 625, 700) (   300,   625, 20, 625, 700)\n",
      " (   300,   625, 20, 625, 700) (   300,   625, 20, 625, 700)\n",
      " (   300,   625, 20, 625, 700) (   300,   625, 20, 625, 700)\n",
      " (   300,   625, 20, 625, 700) (   300,   625, 20, 625, 700)\n",
      " (   300,   625, 20, 625, 700) (   300,   625, 20, 625, 700)\n",
      " (   300,   625, 20, 625, 700) (   300,   625, 20, 625, 700)\n",
      " (   300,   625, 20, 625, 700) (   300,   625, 20, 625, 700)\n",
      " (   300,   625, 20, 625, 700) (   300,   625, 20, 625, 700)\n",
      " (   300,   625, 20, 625, 700) (   300,   625, 20, 625, 700)\n",
      " (   300,   625, 20, 625, 700) (   300,   625, 20, 625, 700)\n",
      " (   300,   625, 20, 625, 700) (   300,   625, 20, 625, 700)\n",
      " (   300,   625, 20, 625, 700) (   300,   625, 20, 625, 700)\n",
      " (   300,   625, 20, 625, 700) (   300,   625, 20, 625, 700)\n",
      " (   300,   625, 20, 625, 700) (   300,   625, 20, 625, 700)\n",
      " (   300,   625, 20, 625, 700) (   300,   625, 20, 625, 700)\n",
      " (   300,   625, 20, 625, 700) (   300,   625, 20, 625, 700)\n",
      " (   300,   625, 20, 625, 700) (   300,   625, 20, 625, 700)\n",
      " (500000,   625, 20, 625, 700) (   300,   625, 20, 625, 700)\n",
      " (   300,   625, 20, 625, 700) (   300,   625, 20, 625, 700)\n",
      " (   300,   625, 20, 625, 700) (   300,   625, 20, 625, 700)\n",
      " (   300,   625, 20, 625, 700) (   300,   625, 20, 625, 700)\n",
      " (   300,   625, 20, 625, 700) (   300,   625, 20, 625, 700)\n",
      " (   300,   625, 20, 625, 700) (   300,   625, 20, 625, 700)\n",
      " (   300,   625, 20, 625, 700) (500000,   625, 20, 625, 700)\n",
      " (   300,   625, 20, 625, 700) (   300,   625, 20, 625, 700)\n",
      " (500000,   625, 20, 625, 700) (   300,   625, 20, 625, 700)\n",
      " (   300,   625, 20, 625, 700) (   300,   625, 20, 625, 700)\n",
      " (   300,   625, 20, 625, 700) (   300,   625, 20, 625, 700)\n",
      " (   300,   625, 20, 625, 700) (   300,   625, 20, 625, 700)\n",
      " (   300,   625, 20, 625, 700) (   300,   625, 20, 625, 700)\n",
      " (   300,   625, 20, 625, 700) (   300,   625, 20, 625, 700)\n",
      " (   300,   625, 20, 625, 700) (   300,   625, 20, 625, 700)\n",
      " (   300,   625, 20, 625, 700) (   300,   625, 20, 625, 700)\n",
      " (   300,   625, 20, 625, 700) (   300,   625, 20, 625, 700)\n",
      " (   300,   625, 20, 625, 700) (   300,   625, 20, 625, 700)\n",
      " (   300,   625, 20, 625, 700) (   300,   625, 20, 625, 700)\n",
      " (   300,   625, 20, 625, 700) (   300,   625, 20, 625, 700)\n",
      " (   300,   625, 20, 625, 700) (500000,   625, 20, 625, 700)\n",
      " (   300,   625, 20, 625, 700) (   300,   625, 20, 625, 700)\n",
      " (   300,   625, 20, 625, 700) (   300,   625, 20, 625, 700)\n",
      " (   300,   625, 20, 625, 700) (   300,   625, 20, 625, 700)\n",
      " (   300,   625, 20, 625, 700) (   300,   625, 20, 625, 700)\n",
      " (   300,   625, 20, 625, 700) (   300,   625, 20, 625, 700)\n",
      " (   300,   625, 20, 625, 700) (   300,   625, 20, 625, 700)\n",
      " (   300,   625, 20, 625, 700) (   300,   625, 20, 625, 700)\n",
      " (   300,   625, 20, 625, 700) (   300,   625, 20, 625, 700)\n",
      " (   300,   625, 20, 625, 700) (   300,   625, 20, 625, 700)\n",
      " (   300,   625, 20, 625, 700) (   300,   625, 20, 625, 700)\n",
      " (   300,   625, 20, 625, 700) (   300,   625, 20, 625, 700)\n",
      " (   300,   625, 20, 625, 700) (    15,  1000, 20, 625, 700)]\n"
     ]
    }
   ],
   "source": [
    "parameters = run.parameterFile()\n",
    "print(parameters.FilterParameters.dtype)\n",
    "print(parameters.FilterParameters)"
   ]
  },
  {
   "cell_type": "markdown",
   "metadata": {},
   "source": [
    "Also information such as how the coincidence logic was configured is available"
   ]
  },
  {
   "cell_type": "code",
   "execution_count": 9,
   "metadata": {},
   "outputs": [
    {
     "data": {
      "text/plain": [
       "array([(  0,   90), (  1,  110), (  2,  111), (  3,  120), (  4,  127),\n",
       "       (  5,  119), (  6,   89), (  7,   99), (  8,  108), (  9,  126),\n",
       "       ( 10,  117), ( 11,  125), ( 12,   98), ( 13,  115), ( 14,  123),\n",
       "       ( 15,  109), ( 16,  118), ( 17,   76), ( 18,  124), ( 19,   97),\n",
       "       ( 20,   88), ( 21,  107), ( 22,  122), ( 23,  116), ( 24,  121),\n",
       "       ( 25,   96), ( 26,  105), ( 27,   87), ( 28,  113), ( 29,   95),\n",
       "       ( 30,  104), ( 31,  114), ( 32,   75), ( 33,  106), ( 34,   74),\n",
       "       ( 35,   84), ( 36,   86), ( 37,   85), ( 38,   71), ( 39,   83),\n",
       "       ( 40,   94), ( 41,   61), ( 42,   72), ( 43,   64), ( 44,   62),\n",
       "       ( 45,   73), ( 46,   60), ( 47,   63), ( 48,   48), ( 49,   46),\n",
       "       ( 50,   58), ( 51,   49), ( 52,   38), ( 53,   35), ( 54,   59),\n",
       "       ( 55,   47), ( 56,   50), ( 57,   25), ( 58,   26), ( 59,   28),\n",
       "       ( 60,   51), ( 61,   16), ( 62,   37), ( 63,   36), ( 64,   27),\n",
       "       ( 65,   18), ( 66,   17), ( 67,    1), ( 68,    9), ( 69,    8),\n",
       "       ( 70,   19), ( 71,   20), ( 72,   11), ( 73,    3), ( 74,    4),\n",
       "       ( 75,    2), ( 76,   39), ( 77,   21), ( 78,    6), ( 79,   10),\n",
       "       ( 80,    7), ( 81,   32), ( 82,   14), ( 83,   41), ( 84,   15),\n",
       "       ( 85,   44), ( 86,   34), ( 87,   23), ( 88,   53), ( 89,   22),\n",
       "       ( 90,   42), ( 91,   33), ( 92,   54), ( 93,   43), ( 94,   57),\n",
       "       ( 95,   70), ( 96,   24), ( 97,   55), ( 98,   45), ( 99,   65),\n",
       "       (100,   67), (101,   56), (102,   69), (103,   66), (104,   79),\n",
       "       (105,   82), (106,   93), (107,   68), (108,  100), (109,   92),\n",
       "       (110,   80), (111,   81), (112,   91), (113,  112), (114,  102),\n",
       "       (115,   77), (116,   78), (117,  101), (118,  103), (119,   -1),\n",
       "       (120, 1090), (121, 1110), (122, 1111), (123, 1120), (124, 1119),\n",
       "       (125, 1089), (126, 1099), (127, 1108), (128, 1117), (129, 1098),\n",
       "       (130, 1115), (131, 1109), (132, 1118), (133, 1076), (134, 1097),\n",
       "       (135, 1088), (136, 1107), (137, 1116), (138, 1096), (139, 1105),\n",
       "       (140, 1087), (141, 1095), (142, 1104), (143, 1114), (144, 1075),\n",
       "       (145, 1106), (146, 1074), (147, 1084), (148, 1086), (149, 1085),\n",
       "       (150, 1071), (151, 1083), (152, 1094), (153, 1061), (154, 1072),\n",
       "       (155, 1064), (156, 1062), (157, 1073), (158, 1060), (159, 1063),\n",
       "       (160, 1048), (161, 1046), (162, 1058), (163, 1049), (164, 1038),\n",
       "       (165, 1035), (166, 1059), (167, 1047), (168, 1050), (169, 1025),\n",
       "       (170, 1026), (171, 1028), (172, 1051), (173, 1016), (174, 1037),\n",
       "       (175, 1036), (176, 1027), (177, 1018), (178, 1017), (179, 1009),\n",
       "       (180, 1019), (181, 1020), (182, 1011), (183, 1039), (184, 1021),\n",
       "       (185, 1010), (186, 1040), (187, 1012), (188, 1031), (189, 1052),\n",
       "       (190, 1030), (191, 1013), (192, 1029), (193, 1032), (194, 1014),\n",
       "       (195, 1041), (196, 1015), (197, 1044), (198, 1034), (199, 1023),\n",
       "       (200, 1053), (201, 1022), (202, 1042), (203, 1033), (204, 1054),\n",
       "       (205, 1043), (206, 1057), (207, 1070), (208, 1024), (209, 1055),\n",
       "       (210, 1045), (211, 1065), (212, 1067), (213, 1056), (214, 1069),\n",
       "       (215, 1066), (216, 1079), (217, 1082), (218, 1093), (219, 1068),\n",
       "       (220, 1100), (221, 1092), (222, 1080), (223, 1081), (224, 1091),\n",
       "       (225, 1112), (226, 1102), (227, 1077), (228, 1078), (229, 1101),\n",
       "       (230, 1103), (231,   -1)], dtype=[('bc', '<i8'), ('pixel', '<i8')])"
      ]
     },
     "execution_count": 9,
     "metadata": {},
     "output_type": "execute_result"
    }
   ],
   "source": [
    "parameters.BoardChannelPixelMap"
   ]
  },
  {
   "cell_type": "markdown",
   "metadata": {},
   "source": [
    "If you want to access the raw original data for the classes, this can be done via a few helper functions.\n",
    "\n",
    "For waveform files, the following functions are what you'll want to use"
   ]
  },
  {
   "cell_type": "code",
   "execution_count": 10,
   "metadata": {},
   "outputs": [
    {
     "data": {
      "text/html": [
       "<div>\n",
       "<style scoped>\n",
       "    .dataframe tbody tr th:only-of-type {\n",
       "        vertical-align: middle;\n",
       "    }\n",
       "\n",
       "    .dataframe tbody tr th {\n",
       "        vertical-align: top;\n",
       "    }\n",
       "\n",
       "    .dataframe thead th {\n",
       "        text-align: right;\n",
       "    }\n",
       "</style>\n",
       "<table border=\"1\" class=\"dataframe\">\n",
       "  <thead>\n",
       "    <tr style=\"text-align: right;\">\n",
       "      <th></th>\n",
       "      <th>result</th>\n",
       "      <th>bc</th>\n",
       "      <th>timestamp</th>\n",
       "      <th>req</th>\n",
       "      <th>event type</th>\n",
       "      <th>hit type</th>\n",
       "      <th>blank</th>\n",
       "      <th>eventid</th>\n",
       "      <th>checksum</th>\n",
       "      <th>board</th>\n",
       "      <th>channel</th>\n",
       "      <th>unix timestamp</th>\n",
       "      <th>pixel</th>\n",
       "    </tr>\n",
       "  </thead>\n",
       "  <tbody>\n",
       "    <tr>\n",
       "      <th>0</th>\n",
       "      <td>1</td>\n",
       "      <td>36</td>\n",
       "      <td>2831945755628</td>\n",
       "      <td>2831958309208</td>\n",
       "      <td>0</td>\n",
       "      <td>0</td>\n",
       "      <td>0</td>\n",
       "      <td>357948</td>\n",
       "      <td>3333473000</td>\n",
       "      <td>4</td>\n",
       "      <td>4</td>\n",
       "      <td>4.225448e+17</td>\n",
       "      <td>86</td>\n",
       "    </tr>\n",
       "    <tr>\n",
       "      <th>1</th>\n",
       "      <td>1</td>\n",
       "      <td>43</td>\n",
       "      <td>2831945354042</td>\n",
       "      <td>2831958411946</td>\n",
       "      <td>0</td>\n",
       "      <td>0</td>\n",
       "      <td>0</td>\n",
       "      <td>357949</td>\n",
       "      <td>1137190818</td>\n",
       "      <td>5</td>\n",
       "      <td>3</td>\n",
       "      <td>4.225448e+17</td>\n",
       "      <td>64</td>\n",
       "    </tr>\n",
       "    <tr>\n",
       "      <th>2</th>\n",
       "      <td>1</td>\n",
       "      <td>43</td>\n",
       "      <td>2831945358342</td>\n",
       "      <td>2831958437084</td>\n",
       "      <td>0</td>\n",
       "      <td>0</td>\n",
       "      <td>0</td>\n",
       "      <td>357950</td>\n",
       "      <td>1068507152</td>\n",
       "      <td>5</td>\n",
       "      <td>3</td>\n",
       "      <td>4.225448e+17</td>\n",
       "      <td>64</td>\n",
       "    </tr>\n",
       "    <tr>\n",
       "      <th>3</th>\n",
       "      <td>1</td>\n",
       "      <td>43</td>\n",
       "      <td>2831945383376</td>\n",
       "      <td>2831958462216</td>\n",
       "      <td>0</td>\n",
       "      <td>0</td>\n",
       "      <td>0</td>\n",
       "      <td>357951</td>\n",
       "      <td>2973315351</td>\n",
       "      <td>5</td>\n",
       "      <td>3</td>\n",
       "      <td>4.225448e+17</td>\n",
       "      <td>64</td>\n",
       "    </tr>\n",
       "    <tr>\n",
       "      <th>4</th>\n",
       "      <td>1</td>\n",
       "      <td>43</td>\n",
       "      <td>2831945482906</td>\n",
       "      <td>2831958487358</td>\n",
       "      <td>0</td>\n",
       "      <td>0</td>\n",
       "      <td>0</td>\n",
       "      <td>357952</td>\n",
       "      <td>3365219399</td>\n",
       "      <td>5</td>\n",
       "      <td>3</td>\n",
       "      <td>4.225448e+17</td>\n",
       "      <td>64</td>\n",
       "    </tr>\n",
       "    <tr>\n",
       "      <th>...</th>\n",
       "      <td>...</td>\n",
       "      <td>...</td>\n",
       "      <td>...</td>\n",
       "      <td>...</td>\n",
       "      <td>...</td>\n",
       "      <td>...</td>\n",
       "      <td>...</td>\n",
       "      <td>...</td>\n",
       "      <td>...</td>\n",
       "      <td>...</td>\n",
       "      <td>...</td>\n",
       "      <td>...</td>\n",
       "      <td>...</td>\n",
       "    </tr>\n",
       "    <tr>\n",
       "      <th>271895</th>\n",
       "      <td>1</td>\n",
       "      <td>160</td>\n",
       "      <td>2838754090662</td>\n",
       "      <td>2838758184940</td>\n",
       "      <td>0</td>\n",
       "      <td>0</td>\n",
       "      <td>0</td>\n",
       "      <td>651749</td>\n",
       "      <td>2796843575</td>\n",
       "      <td>20</td>\n",
       "      <td>0</td>\n",
       "      <td>4.225449e+17</td>\n",
       "      <td>1048</td>\n",
       "    </tr>\n",
       "    <tr>\n",
       "      <th>271896</th>\n",
       "      <td>1</td>\n",
       "      <td>65</td>\n",
       "      <td>2838754395266</td>\n",
       "      <td>2838758232184</td>\n",
       "      <td>0</td>\n",
       "      <td>0</td>\n",
       "      <td>0</td>\n",
       "      <td>651761</td>\n",
       "      <td>1405480031</td>\n",
       "      <td>8</td>\n",
       "      <td>1</td>\n",
       "      <td>4.225449e+17</td>\n",
       "      <td>18</td>\n",
       "    </tr>\n",
       "    <tr>\n",
       "      <th>271897</th>\n",
       "      <td>1</td>\n",
       "      <td>144</td>\n",
       "      <td>2838754557496</td>\n",
       "      <td>2838758201574</td>\n",
       "      <td>0</td>\n",
       "      <td>0</td>\n",
       "      <td>0</td>\n",
       "      <td>651763</td>\n",
       "      <td>2453883050</td>\n",
       "      <td>18</td>\n",
       "      <td>0</td>\n",
       "      <td>4.225449e+17</td>\n",
       "      <td>1075</td>\n",
       "    </tr>\n",
       "    <tr>\n",
       "      <th>271898</th>\n",
       "      <td>1</td>\n",
       "      <td>107</td>\n",
       "      <td>2838754722962</td>\n",
       "      <td>2838758204850</td>\n",
       "      <td>0</td>\n",
       "      <td>0</td>\n",
       "      <td>0</td>\n",
       "      <td>651764</td>\n",
       "      <td>1448323481</td>\n",
       "      <td>13</td>\n",
       "      <td>3</td>\n",
       "      <td>4.225449e+17</td>\n",
       "      <td>68</td>\n",
       "    </tr>\n",
       "    <tr>\n",
       "      <th>271899</th>\n",
       "      <td>1</td>\n",
       "      <td>227</td>\n",
       "      <td>2838754790980</td>\n",
       "      <td>2838758208028</td>\n",
       "      <td>0</td>\n",
       "      <td>0</td>\n",
       "      <td>0</td>\n",
       "      <td>651765</td>\n",
       "      <td>2778736109</td>\n",
       "      <td>28</td>\n",
       "      <td>3</td>\n",
       "      <td>4.225449e+17</td>\n",
       "      <td>1077</td>\n",
       "    </tr>\n",
       "  </tbody>\n",
       "</table>\n",
       "<p>271900 rows × 13 columns</p>\n",
       "</div>"
      ],
      "text/plain": [
       "        result   bc      timestamp            req  event type  hit type  \\\n",
       "0            1   36  2831945755628  2831958309208           0         0   \n",
       "1            1   43  2831945354042  2831958411946           0         0   \n",
       "2            1   43  2831945358342  2831958437084           0         0   \n",
       "3            1   43  2831945383376  2831958462216           0         0   \n",
       "4            1   43  2831945482906  2831958487358           0         0   \n",
       "...        ...  ...            ...            ...         ...       ...   \n",
       "271895       1  160  2838754090662  2838758184940           0         0   \n",
       "271896       1   65  2838754395266  2838758232184           0         0   \n",
       "271897       1  144  2838754557496  2838758201574           0         0   \n",
       "271898       1  107  2838754722962  2838758204850           0         0   \n",
       "271899       1  227  2838754790980  2838758208028           0         0   \n",
       "\n",
       "        blank  eventid    checksum  board  channel  unix timestamp  pixel  \n",
       "0           0   357948  3333473000      4        4    4.225448e+17     86  \n",
       "1           0   357949  1137190818      5        3    4.225448e+17     64  \n",
       "2           0   357950  1068507152      5        3    4.225448e+17     64  \n",
       "3           0   357951  2973315351      5        3    4.225448e+17     64  \n",
       "4           0   357952  3365219399      5        3    4.225448e+17     64  \n",
       "...       ...      ...         ...    ...      ...             ...    ...  \n",
       "271895      0   651749  2796843575     20        0    4.225449e+17   1048  \n",
       "271896      0   651761  1405480031      8        1    4.225449e+17     18  \n",
       "271897      0   651763  2453883050     18        0    4.225449e+17   1075  \n",
       "271898      0   651764  1448323481     13        3    4.225449e+17     68  \n",
       "271899      0   651765  2778736109     28        3    4.225449e+17   1077  \n",
       "\n",
       "[271900 rows x 13 columns]"
      ]
     },
     "execution_count": 10,
     "metadata": {},
     "output_type": "execute_result"
    }
   ],
   "source": [
    "run.singleWaves().headers()"
   ]
  },
  {
   "cell_type": "code",
   "execution_count": 30,
   "metadata": {},
   "outputs": [
    {
     "data": {
      "text/html": [
       "<table>\n",
       "    <tr>\n",
       "        <td>\n",
       "            <table>\n",
       "                <thead>\n",
       "                    <tr>\n",
       "                        <td> </td>\n",
       "                        <th> Array </th>\n",
       "                        <th> Chunk </th>\n",
       "                    </tr>\n",
       "                </thead>\n",
       "                <tbody>\n",
       "                    \n",
       "                    <tr>\n",
       "                        <th> Bytes </th>\n",
       "                        <td> 1.35 GiB </td>\n",
       "                        <td> 27.34 MiB </td>\n",
       "                    </tr>\n",
       "                    \n",
       "                    <tr>\n",
       "                        <th> Shape </th>\n",
       "                        <td> (51682, 7000) </td>\n",
       "                        <td> (1024, 7000) </td>\n",
       "                    </tr>\n",
       "                    <tr>\n",
       "                        <th> Count </th>\n",
       "                        <td> 460 Tasks </td>\n",
       "                        <td> 51 Chunks </td>\n",
       "                    </tr>\n",
       "                    <tr>\n",
       "                    <th> Type </th>\n",
       "                    <td> float32 </td>\n",
       "                    <td> numpy.ndarray </td>\n",
       "                    </tr>\n",
       "                </tbody>\n",
       "            </table>\n",
       "        </td>\n",
       "        <td>\n",
       "        <svg width=\"90\" height=\"170\" style=\"stroke:rgb(0,0,0);stroke-width:1\" >\n",
       "\n",
       "  <!-- Horizontal lines -->\n",
       "  <line x1=\"0\" y1=\"0\" x2=\"40\" y2=\"0\" style=\"stroke-width:2\" />\n",
       "  <line x1=\"0\" y1=\"4\" x2=\"40\" y2=\"4\" />\n",
       "  <line x1=\"0\" y1=\"11\" x2=\"40\" y2=\"11\" />\n",
       "  <line x1=\"0\" y1=\"19\" x2=\"40\" y2=\"19\" />\n",
       "  <line x1=\"0\" y1=\"23\" x2=\"40\" y2=\"23\" />\n",
       "  <line x1=\"0\" y1=\"30\" x2=\"40\" y2=\"30\" />\n",
       "  <line x1=\"0\" y1=\"38\" x2=\"40\" y2=\"38\" />\n",
       "  <line x1=\"0\" y1=\"42\" x2=\"40\" y2=\"42\" />\n",
       "  <line x1=\"0\" y1=\"49\" x2=\"40\" y2=\"49\" />\n",
       "  <line x1=\"0\" y1=\"57\" x2=\"40\" y2=\"57\" />\n",
       "  <line x1=\"0\" y1=\"61\" x2=\"40\" y2=\"61\" />\n",
       "  <line x1=\"0\" y1=\"68\" x2=\"40\" y2=\"68\" />\n",
       "  <line x1=\"0\" y1=\"76\" x2=\"40\" y2=\"76\" />\n",
       "  <line x1=\"0\" y1=\"80\" x2=\"40\" y2=\"80\" />\n",
       "  <line x1=\"0\" y1=\"87\" x2=\"40\" y2=\"87\" />\n",
       "  <line x1=\"0\" y1=\"95\" x2=\"40\" y2=\"95\" />\n",
       "  <line x1=\"0\" y1=\"99\" x2=\"40\" y2=\"99\" />\n",
       "  <line x1=\"0\" y1=\"106\" x2=\"40\" y2=\"106\" />\n",
       "  <line x1=\"0\" y1=\"114\" x2=\"40\" y2=\"114\" />\n",
       "  <line x1=\"0\" y1=\"120\" x2=\"40\" y2=\"120\" style=\"stroke-width:2\" />\n",
       "\n",
       "  <!-- Vertical lines -->\n",
       "  <line x1=\"0\" y1=\"0\" x2=\"0\" y2=\"120\" style=\"stroke-width:2\" />\n",
       "  <line x1=\"40\" y1=\"0\" x2=\"40\" y2=\"120\" style=\"stroke-width:2\" />\n",
       "\n",
       "  <!-- Colored Rectangle -->\n",
       "  <polygon points=\"0.0,0.0 40.20329190922006,0.0 40.20329190922006,120.0 0.0,120.0\" style=\"fill:#8B4903A0;stroke-width:0\"/>\n",
       "\n",
       "  <!-- Text -->\n",
       "  <text x=\"20.101646\" y=\"140.000000\" font-size=\"1.0rem\" font-weight=\"100\" text-anchor=\"middle\" >7000</text>\n",
       "  <text x=\"60.203292\" y=\"60.000000\" font-size=\"1.0rem\" font-weight=\"100\" text-anchor=\"middle\" transform=\"rotate(-90,60.203292,60.000000)\">51682</text>\n",
       "</svg>\n",
       "        </td>\n",
       "    </tr>\n",
       "</table>"
      ],
      "text/plain": [
       "dask.array<astype, shape=(51682, 7000), dtype=float32, chunksize=(1024, 7000), chunktype=numpy.ndarray>"
      ]
     },
     "execution_count": 30,
     "metadata": {},
     "output_type": "execute_result"
    }
   ],
   "source": [
    "run.singleWaves().waves()"
   ]
  },
  {
   "cell_type": "code",
   "execution_count": 36,
   "metadata": {},
   "outputs": [
    {
     "data": {
      "text/plain": [
       "array([-93., -92., -85., ..., -54., -44., -41.], dtype=float32)"
      ]
     },
     "execution_count": 36,
     "metadata": {},
     "output_type": "execute_result"
    }
   ],
   "source": [
    "run.singleWaves().waves()[0].compute()"
   ]
  },
  {
   "cell_type": "markdown",
   "metadata": {},
   "source": [
    "Notice the different return types. \n",
    "\n",
    ".headers() returns the headers as a Pandas DataFrame\n",
    "\n",
    ".waves() returns the waveforms as a Dask Array. This is synonomous with a Numpy array. If you want a Numpy array instead, simply add .compute()\n",
    "\n",
    "run.singleWaves().waves().compute()\n",
    "\n",
    "That will load the waveform data into RAM so hopefully you have enough memory. \n",
    "\n",
    "If you aren't sure what is available to you, try the following:\n",
    "    Let tab completion tell you what is available.\n",
    "Then if you find what you're looking for, use the question mark function to see what it does. "
   ]
  },
  {
   "cell_type": "code",
   "execution_count": 12,
   "metadata": {},
   "outputs": [
    {
     "ename": "SyntaxError",
     "evalue": "invalid syntax (Temp/ipykernel_3704/1082497932.py, line 1)",
     "output_type": "error",
     "traceback": [
      "\u001b[1;36m  File \u001b[1;32m\"C:\\Users\\David\\AppData\\Local\\Temp/ipykernel_3704/1082497932.py\"\u001b[1;36m, line \u001b[1;32m1\u001b[0m\n\u001b[1;33m    run.pulsrWaves().\u001b[0m\n\u001b[1;37m                     ^\u001b[0m\n\u001b[1;31mSyntaxError\u001b[0m\u001b[1;31m:\u001b[0m invalid syntax\n"
     ]
    }
   ],
   "source": [
    "run.pulsrWaves()."
   ]
  },
  {
   "cell_type": "code",
   "execution_count": 15,
   "metadata": {},
   "outputs": [
    {
     "name": "stdout",
     "output_type": "stream",
     "text": [
      "Object `headers` not found.\n"
     ]
    }
   ],
   "source": [
    "run.singleWaves().headers?"
   ]
  },
  {
   "cell_type": "code",
   "execution_count": null,
   "metadata": {},
   "outputs": [],
   "source": [
    "run.singleWaves().headers"
   ]
  },
  {
   "cell_type": "markdown",
   "metadata": {},
   "source": [
    "Note that for this you NEED to go to the original class structure. So for pulsrWaves(), this object is a waveform file. So you have to do Nab.wf.waveformFile.BLAHBLAH\n",
    "and then replace BLAHBLAH with the function of interest."
   ]
  },
  {
   "cell_type": "code",
   "execution_count": 17,
   "metadata": {
    "tags": []
   },
   "outputs": [
    {
     "data": {
      "text/plain": [
       "\u001b[1;31mSignature:\u001b[0m \u001b[0mNab\u001b[0m\u001b[1;33m.\u001b[0m\u001b[0mwf\u001b[0m\u001b[1;33m.\u001b[0m\u001b[0mwaveformFile\u001b[0m\u001b[1;33m.\u001b[0m\u001b[0mheaders\u001b[0m\u001b[1;33m(\u001b[0m\u001b[0mself\u001b[0m\u001b[1;33m,\u001b[0m \u001b[0morig\u001b[0m\u001b[1;33m=\u001b[0m\u001b[1;32mFalse\u001b[0m\u001b[1;33m)\u001b[0m\u001b[1;33m\u001b[0m\u001b[1;33m\u001b[0m\u001b[0m\n",
       "\u001b[1;31mDocstring:\u001b[0m\n",
       "Returns the waveform headers as a Pandas DataFrame.\n",
       "\n",
       "Parameters\n",
       "----------\n",
       "orig: bool\n",
       "        If orig is true, return the whole original DataFrame without cuts\n",
       "        If orig is false, return the DataFrame with cuts\n",
       "\n",
       "Returns\n",
       "-------\n",
       "headers: Pandas DataFrame\n",
       "\u001b[1;31mFile:\u001b[0m      c:\\users\\david\\documents\\datafilereadingscripts\\waveformfileclass.py\n",
       "\u001b[1;31mType:\u001b[0m      function\n"
      ]
     },
     "metadata": {},
     "output_type": "display_data"
    }
   ],
   "source": [
    "Nab.wf.waveformFile.headers?"
   ]
  },
  {
   "cell_type": "markdown",
   "metadata": {},
   "source": [
    "The difference is pretty obvious. Otherwise these are identical. If you don't plan on using the event information, I'd recommend using the ignoreEventFile flag."
   ]
  },
  {
   "cell_type": "markdown",
   "metadata": {},
   "source": [
    "If you want to see what boards and channels were recorded in a waveform file, along with how many times they were recorded, you can do that with the following command. The mapping variable tells you what board and channel each waveform was in the order they occured. "
   ]
  },
  {
   "cell_type": "code",
   "execution_count": 40,
   "metadata": {},
   "outputs": [
    {
     "name": "stdout",
     "output_type": "stream",
     "text": [
      "board channels [0, 1, 2, 6, 7, 8, 10, 11, 12, 13, 14, 17, 18, 19, 20, 21, 22, 23, 24, 25, 26, 27, 28, 29, 30, 31, 32, 33, 34, 35, 36, 37, 39, 40, 41, 42, 43, 44, 45, 46, 47, 48, 51, 99, 100, 102, 104, 105, 106, 108, 109, 111]\n",
      "mapping [ 8 21 14 ...  3 50 45]\n",
      "counts [1299  687  687 1595 1013  866  294  294 2385 1472  992 2446  523 2544\n",
      " 3020 1726 1149 1097  838 1325 1429 2796  893  916  607 1620 1463 1958\n",
      "  164  334 1420  674  169  334  164  169 1247  164  333  164  703  164\n",
      "  164  612  612  664  687 2298 1156  687  664    1]\n",
      "board channels [12, 13, 14, 17, 18, 19, 20, 21, 22, 24, 25, 26, 27, 28, 29, 31, 33, 35, 41, 105, 106, 108, 109, 111]\n",
      "mapping [ 0  0  0 ...  5 21 22]\n",
      "counts [50168 45593 45449 52237 45926 46376 48428 45883 44660 44683 46317 45475\n",
      " 53553 44853 44016 44846 45368 44056 43971 50110 50673 52437 51458 20751]\n"
     ]
    }
   ],
   "source": [
    "bcs = run.singleWaves().bcs\n",
    "print('board channels', bcs[0])\n",
    "print('mapping', bcs[1])\n",
    "print('counts', bcs[2])\n",
    "\n",
    "bcs = run.triggers().bcs\n",
    "print('board channels', bcs[0])\n",
    "print('mapping', bcs[1])\n",
    "print('counts', bcs[2])"
   ]
  },
  {
   "cell_type": "markdown",
   "metadata": {},
   "source": [
    "If you want to see the mapping between board/channel to pixel, that can be found in the parameter file. The first number is the board * 8 + channel number and the second is the pixel number in each element in the list"
   ]
  },
  {
   "cell_type": "raw",
   "metadata": {},
   "source": [
    "If you want to see where the system was triggering and where waveform information was recorded, use the following function.\n",
    "\n",
    "There are several options for this:\n",
    "    sourceFile: can be trigger, single, or coincidence files. It assumes trigger file if no option is passed\n",
    "    cmap: colormap that defines the colors\n",
    "    showNum: show pixel id numbers\n",
    "    showVal: show the raw value for each pixel (usually hit count)\n",
    "    alpha: \"density\" of the color, 0->1, 1 being more full. Can make text hard to read at high values\n",
    "    rounding: how many digits to round showVal to. For floating point values this is useful\n",
    "    size: affects how large the text and hexagons are. Recommend changing for your screen resolution\n",
    "\n",
    "Currently this only works for 1 detector but I'll update it to work for 2 at some point"
   ]
  },
  {
   "cell_type": "code",
   "execution_count": 51,
   "metadata": {},
   "outputs": [
    {
     "data": {
      "image/png": "[encoded data removed]",
      "text/plain": [
       "<Figure size 748.8x655.2 with 2 Axes>"
      ]
     },
     "metadata": {
      "needs_background": "light"
     },
     "output_type": "display_data"
    }
   ],
   "source": [
    "run.plotHitLocations(sourceFile = 'singles', cmap = 'cividis', showNum=True, showVal = True, alpha=0.8, rounding=1, size=1.3)"
   ]
  },
  {
   "cell_type": "markdown",
   "metadata": {},
   "source": [
    "## Analysis Functionality"
   ]
  },
  {
   "cell_type": "markdown",
   "metadata": {},
   "source": [
    "### Applying Data Cuts and Energy Extraction\n",
    "\n",
    "When you want to run analysis, it's often desirable to only look at part of the data file. That way you don't spend as much time running possibly complicated analysis over data you aren't interested in. \n",
    "\n",
    "Based on the pixel map above, it looks like pixel 87 has some data we might want so let's look at that."
   ]
  },
  {
   "cell_type": "code",
   "execution_count": 4,
   "metadata": {},
   "outputs": [
    {
     "name": "stdout",
     "output_type": "stream",
     "text": [
      "        result  eventid  bc     timestamp           req  source  length  \\\n",
      "9            1        3  20      57882948      63519760       0    7000   \n",
      "54           1        9  20      97777604     103532194       1    7000   \n",
      "59           1       10  20     108230464     114089244       1    7000   \n",
      "64           1       11  20     115011904     120535604       1    7000   \n",
      "73           1       12  20     117755646     123303162       1    7000   \n",
      "...        ...      ...  ..           ...           ...     ...     ...   \n",
      "127769       1    24988  20  434950530236  434962885278       1    7000   \n",
      "127810       1    24998  20  435138266264  435149466092       1    7000   \n",
      "127818       1    25001  20  435288021924  435299728634       0    7000   \n",
      "127842       1    25005  20  435312141840  435323236820       1    7000   \n",
      "127857       1    25010  20  435579609740  435590817276       1    7000   \n",
      "\n",
      "        board  channel  pixel  \n",
      "9           2        4     88  \n",
      "54          2        4     88  \n",
      "59          2        4     88  \n",
      "64          2        4     88  \n",
      "73          2        4     88  \n",
      "...       ...      ...    ...  \n",
      "127769      2        4     88  \n",
      "127810      2        4     88  \n",
      "127818      2        4     88  \n",
      "127842      2        4     88  \n",
      "127857      2        4     88  \n",
      "\n",
      "[7132 rows x 10 columns]\n"
     ]
    }
   ],
   "source": [
    "run.singleWaves().resetCuts()\n",
    "run.singleWaves().defineCut('pixel', '=', 88)\n",
    "headers = run.singleWaves().headers()\n",
    "print(headers)"
   ]
  },
  {
   "cell_type": "markdown",
   "metadata": {},
   "source": [
    "Now when you use either the .headers() or the .waves() functions, they will only return data that passes the cuts applied. Note that we can apply multiple cuts by simply using defineCut again. It's always recommended to use resetCuts() whenever you enter a new cell as the waveformFile object will remember the previous cuts applied until you reset them. \n",
    "\n",
    "Any parameter in the header information can be cut on. The cut functionality can be found below."
   ]
  },
  {
   "cell_type": "code",
   "execution_count": 55,
   "metadata": {
    "tags": []
   },
   "outputs": [
    {
     "data": {
      "text/plain": [
       "\u001b[1;31mSignature:\u001b[0m \u001b[0mNab\u001b[0m\u001b[1;33m.\u001b[0m\u001b[0mbf\u001b[0m\u001b[1;33m.\u001b[0m\u001b[0mdefineCut\u001b[0m\u001b[1;33m(\u001b[0m\u001b[0mdata\u001b[0m\u001b[1;33m,\u001b[0m \u001b[0mcategory\u001b[0m\u001b[1;33m,\u001b[0m \u001b[0moperator\u001b[0m\u001b[1;33m=\u001b[0m\u001b[1;32mNone\u001b[0m\u001b[1;33m,\u001b[0m \u001b[0moptionA\u001b[0m\u001b[1;33m=\u001b[0m\u001b[1;32mNone\u001b[0m\u001b[1;33m,\u001b[0m \u001b[0moptionB\u001b[0m\u001b[1;33m=\u001b[0m\u001b[1;32mNone\u001b[0m\u001b[1;33m)\u001b[0m\u001b[1;33m\u001b[0m\u001b[1;33m\u001b[0m\u001b[0m\n",
       "\u001b[1;31mDocstring:\u001b[0m\n",
       "This function defines a cut to apply to the dataset. \n",
       "You can only cut on data available in the headers\n",
       "\n",
       "Parameters\n",
       "----------\n",
       "data: dask.DataFrame\n",
       "        the DataFrame that contains the dataset\n",
       "category : str\n",
       "        the category to cut on. Must be a category in the waveform header\n",
       "        To check available categories, call yourWaveformFile.headerType\n",
       "        Also available categories:\n",
       "                'pixel': requires a pixel map to be defined in the class\n",
       "                'custom': unique operation that allows the user to pass a custom map of \n",
       "                        the data to request instead of determining the map within the class\n",
       "                        This changes the behavior of operator\n",
       "                'ca45Corruption': cut that is based on the conditions Noah described in his thesis.\n",
       "                        This removes the corruption issues from that version of the DAQ.\n",
       "                        Returns a dataset sorted by timestamp.\n",
       "operator: str, np.ndarray\n",
       "        The operation to be applied to that category\n",
       "        Supported options: >, >=, <, <=, ==, !=, between, outside, coincidence, anti-coincidence, or\n",
       "        If category='custom', then this expects a np.ndarray to be used as the mask\n",
       "optionA: int,float,list[int,float]\n",
       "        This is the first option being passed for the cut.\n",
       "        For option(s) >, >=, <, <=, ==, !=: int,float. this is the value they are being compared to\n",
       "        For option(s) between, outside, coincidence: int,float. this is the lower value\n",
       "        For option(s) or: list[int,float]. this is a list of allowed values for that category\n",
       "optionB: int,float\n",
       "        This is the second option passed for the cut. It is expected to be the upper value\n",
       "        For option(s) between, outside: this is the upper value\n",
       "Returns\n",
       "--------\n",
       "        This returns the indices in the dataset that \"survive\" the cut. \n",
       "        In the case of invalid input, the operation doesn't apply a cut.\n",
       "\u001b[1;31mFile:\u001b[0m      c:\\users\\david\\documents\\datafilereadingscripts\\basicfunctions.py\n",
       "\u001b[1;31mType:\u001b[0m      function\n"
      ]
     },
     "metadata": {},
     "output_type": "display_data"
    }
   ],
   "source": [
    "Nab.bf.defineCut?"
   ]
  },
  {
   "cell_type": "markdown",
   "metadata": {},
   "source": [
    "With this subset applied, we can look at the energy histogram for this pixel. \n",
    "\n",
    "Depending on your PC, this may take a while to complete. For large datasets this can be particularly taxing. The code is designed to use ALL of your CPU resources and will run in parallel by default."
   ]
  },
  {
   "cell_type": "code",
   "execution_count": 5,
   "metadata": {},
   "outputs": [],
   "source": [
    "results = run.singleWaves().determineEnergyTiming(method='trap', params=[1250, 50, 1250])"
   ]
  },
  {
   "cell_type": "markdown",
   "metadata": {},
   "source": [
    "Now we can plot this data and see what is there"
   ]
  },
  {
   "cell_type": "code",
   "execution_count": 6,
   "metadata": {},
   "outputs": [
    {
     "data": {
      "image/png": "[encoded data removed]",
      "text/plain": [
       "<Figure size 432x288 with 1 Axes>"
      ]
     },
     "metadata": {
      "needs_background": "light"
     },
     "output_type": "display_data"
    }
   ],
   "source": [
    "results.hist('energy', bins = Nab.np.arange(0, 200))\n",
    "results.show()"
   ]
  },
  {
   "cell_type": "markdown",
   "metadata": {},
   "source": [
    "Not too much for this dataset unfortunately. Mostly just noise.\n",
    "\n",
    "Note that the bins parameter expects a Numpy array defining the bin edges to be passed in. \n",
    "\n",
    "Most of the plotting functionality built into the resultFile class is just calling matplotlib.pyplot behind the scenes. For more plotting funcitonality, I'd recommend just parsing the results object itself.\n",
    "\n",
    "If you want to get fancy with it, we can do additional cuts to this. Let's look at a high amplitude waveform"
   ]
  },
  {
   "cell_type": "code",
   "execution_count": 76,
   "metadata": {},
   "outputs": [],
   "source": [
    "results.resetCuts()\n",
    "results.defineCut('energy', '>', 100)"
   ]
  },
  {
   "cell_type": "code",
   "execution_count": 77,
   "metadata": {},
   "outputs": [
    {
     "data": {
      "text/html": [
       "<div>\n",
       "<style scoped>\n",
       "    .dataframe tbody tr th:only-of-type {\n",
       "        vertical-align: middle;\n",
       "    }\n",
       "\n",
       "    .dataframe tbody tr th {\n",
       "        vertical-align: top;\n",
       "    }\n",
       "\n",
       "    .dataframe thead th {\n",
       "        text-align: right;\n",
       "    }\n",
       "</style>\n",
       "<table border=\"1\" class=\"dataframe\">\n",
       "  <thead>\n",
       "    <tr style=\"text-align: right;\">\n",
       "      <th></th>\n",
       "      <th>result</th>\n",
       "      <th>eventid</th>\n",
       "      <th>bc</th>\n",
       "      <th>timestamp</th>\n",
       "      <th>req</th>\n",
       "      <th>source</th>\n",
       "      <th>length</th>\n",
       "      <th>board</th>\n",
       "      <th>channel</th>\n",
       "      <th>pixel</th>\n",
       "      <th>energy</th>\n",
       "      <th>t0</th>\n",
       "    </tr>\n",
       "  </thead>\n",
       "  <tbody>\n",
       "    <tr>\n",
       "      <th>358</th>\n",
       "      <td>1</td>\n",
       "      <td>68</td>\n",
       "      <td>20</td>\n",
       "      <td>1260057960</td>\n",
       "      <td>1265807820</td>\n",
       "      <td>0</td>\n",
       "      <td>7000</td>\n",
       "      <td>2</td>\n",
       "      <td>4</td>\n",
       "      <td>88</td>\n",
       "      <td>221.382965</td>\n",
       "      <td>3508.5</td>\n",
       "    </tr>\n",
       "    <tr>\n",
       "      <th>616</th>\n",
       "      <td>1</td>\n",
       "      <td>122</td>\n",
       "      <td>20</td>\n",
       "      <td>2461316868</td>\n",
       "      <td>2467132056</td>\n",
       "      <td>0</td>\n",
       "      <td>7000</td>\n",
       "      <td>2</td>\n",
       "      <td>4</td>\n",
       "      <td>88</td>\n",
       "      <td>2467.415527</td>\n",
       "      <td>3502.0</td>\n",
       "    </tr>\n",
       "    <tr>\n",
       "      <th>674</th>\n",
       "      <td>1</td>\n",
       "      <td>131</td>\n",
       "      <td>20</td>\n",
       "      <td>2461318724</td>\n",
       "      <td>2467433714</td>\n",
       "      <td>1</td>\n",
       "      <td>7000</td>\n",
       "      <td>2</td>\n",
       "      <td>4</td>\n",
       "      <td>88</td>\n",
       "      <td>1756.840088</td>\n",
       "      <td>1647.0</td>\n",
       "    </tr>\n",
       "    <tr>\n",
       "      <th>679</th>\n",
       "      <td>1</td>\n",
       "      <td>132</td>\n",
       "      <td>20</td>\n",
       "      <td>2461318730</td>\n",
       "      <td>2467484056</td>\n",
       "      <td>1</td>\n",
       "      <td>7000</td>\n",
       "      <td>2</td>\n",
       "      <td>4</td>\n",
       "      <td>88</td>\n",
       "      <td>1755.792236</td>\n",
       "      <td>1640.5</td>\n",
       "    </tr>\n",
       "    <tr>\n",
       "      <th>721</th>\n",
       "      <td>1</td>\n",
       "      <td>139</td>\n",
       "      <td>20</td>\n",
       "      <td>2461320416</td>\n",
       "      <td>2467810908</td>\n",
       "      <td>1</td>\n",
       "      <td>7000</td>\n",
       "      <td>2</td>\n",
       "      <td>4</td>\n",
       "      <td>88</td>\n",
       "      <td>1107.697510</td>\n",
       "      <td>-117.0</td>\n",
       "    </tr>\n",
       "    <tr>\n",
       "      <th>...</th>\n",
       "      <td>...</td>\n",
       "      <td>...</td>\n",
       "      <td>...</td>\n",
       "      <td>...</td>\n",
       "      <td>...</td>\n",
       "      <td>...</td>\n",
       "      <td>...</td>\n",
       "      <td>...</td>\n",
       "      <td>...</td>\n",
       "      <td>...</td>\n",
       "      <td>...</td>\n",
       "      <td>...</td>\n",
       "    </tr>\n",
       "    <tr>\n",
       "      <th>50103</th>\n",
       "      <td>1</td>\n",
       "      <td>9686</td>\n",
       "      <td>20</td>\n",
       "      <td>167601753288</td>\n",
       "      <td>167610338302</td>\n",
       "      <td>0</td>\n",
       "      <td>7000</td>\n",
       "      <td>2</td>\n",
       "      <td>4</td>\n",
       "      <td>88</td>\n",
       "      <td>378.331085</td>\n",
       "      <td>3500.0</td>\n",
       "    </tr>\n",
       "    <tr>\n",
       "      <th>50242</th>\n",
       "      <td>1</td>\n",
       "      <td>9713</td>\n",
       "      <td>20</td>\n",
       "      <td>167953157244</td>\n",
       "      <td>167961337636</td>\n",
       "      <td>0</td>\n",
       "      <td>7000</td>\n",
       "      <td>2</td>\n",
       "      <td>4</td>\n",
       "      <td>88</td>\n",
       "      <td>182.871323</td>\n",
       "      <td>3505.0</td>\n",
       "    </tr>\n",
       "    <tr>\n",
       "      <th>50454</th>\n",
       "      <td>1</td>\n",
       "      <td>9751</td>\n",
       "      <td>20</td>\n",
       "      <td>168671461122</td>\n",
       "      <td>168679804600</td>\n",
       "      <td>0</td>\n",
       "      <td>7000</td>\n",
       "      <td>2</td>\n",
       "      <td>4</td>\n",
       "      <td>88</td>\n",
       "      <td>165.542267</td>\n",
       "      <td>3500.5</td>\n",
       "    </tr>\n",
       "    <tr>\n",
       "      <th>50885</th>\n",
       "      <td>1</td>\n",
       "      <td>9836</td>\n",
       "      <td>20</td>\n",
       "      <td>170126218256</td>\n",
       "      <td>170134592764</td>\n",
       "      <td>0</td>\n",
       "      <td>7000</td>\n",
       "      <td>2</td>\n",
       "      <td>4</td>\n",
       "      <td>88</td>\n",
       "      <td>602.257019</td>\n",
       "      <td>3501.0</td>\n",
       "    </tr>\n",
       "    <tr>\n",
       "      <th>50892</th>\n",
       "      <td>1</td>\n",
       "      <td>9837</td>\n",
       "      <td>20</td>\n",
       "      <td>170147992288</td>\n",
       "      <td>170156423086</td>\n",
       "      <td>0</td>\n",
       "      <td>7000</td>\n",
       "      <td>2</td>\n",
       "      <td>4</td>\n",
       "      <td>88</td>\n",
       "      <td>636.862305</td>\n",
       "      <td>3499.5</td>\n",
       "    </tr>\n",
       "  </tbody>\n",
       "</table>\n",
       "<p>160 rows × 12 columns</p>\n",
       "</div>"
      ],
      "text/plain": [
       "       result  eventid  bc     timestamp           req  source  length  board  \\\n",
       "358         1       68  20    1260057960    1265807820       0    7000      2   \n",
       "616         1      122  20    2461316868    2467132056       0    7000      2   \n",
       "674         1      131  20    2461318724    2467433714       1    7000      2   \n",
       "679         1      132  20    2461318730    2467484056       1    7000      2   \n",
       "721         1      139  20    2461320416    2467810908       1    7000      2   \n",
       "...       ...      ...  ..           ...           ...     ...     ...    ...   \n",
       "50103       1     9686  20  167601753288  167610338302       0    7000      2   \n",
       "50242       1     9713  20  167953157244  167961337636       0    7000      2   \n",
       "50454       1     9751  20  168671461122  168679804600       0    7000      2   \n",
       "50885       1     9836  20  170126218256  170134592764       0    7000      2   \n",
       "50892       1     9837  20  170147992288  170156423086       0    7000      2   \n",
       "\n",
       "       channel  pixel       energy      t0  \n",
       "358          4     88   221.382965  3508.5  \n",
       "616          4     88  2467.415527  3502.0  \n",
       "674          4     88  1756.840088  1647.0  \n",
       "679          4     88  1755.792236  1640.5  \n",
       "721          4     88  1107.697510  -117.0  \n",
       "...        ...    ...          ...     ...  \n",
       "50103        4     88   378.331085  3500.0  \n",
       "50242        4     88   182.871323  3505.0  \n",
       "50454        4     88   165.542267  3500.5  \n",
       "50885        4     88   602.257019  3501.0  \n",
       "50892        4     88   636.862305  3499.5  \n",
       "\n",
       "[160 rows x 12 columns]"
      ]
     },
     "execution_count": 77,
     "metadata": {},
     "output_type": "execute_result"
    }
   ],
   "source": [
    "results.data()"
   ]
  },
  {
   "cell_type": "markdown",
   "metadata": {},
   "source": [
    "Now my results class has the indices saved of the waveforms in the file that satisfy BOTH the original pixel 88 cut AND the energy > 100 cut.\n",
    "\n",
    "To look at waveforms above that energy range, do this."
   ]
  },
  {
   "cell_type": "code",
   "execution_count": 69,
   "metadata": {},
   "outputs": [],
   "source": [
    "run.singleWaves().defineCut('custom', results.returnCut())\n",
    "\n",
    "waves = run.singleWaves().waves()"
   ]
  },
  {
   "cell_type": "markdown",
   "metadata": {},
   "source": [
    "Now the only waves in that waves container are large amplitude waveforms"
   ]
  },
  {
   "cell_type": "code",
   "execution_count": 70,
   "metadata": {},
   "outputs": [
    {
     "data": {
      "image/png": "[encoded data removed]",
      "text/plain": [
       "<Figure size 432x288 with 1 Axes>"
      ]
     },
     "metadata": {
      "needs_background": "light"
     },
     "output_type": "display_data"
    }
   ],
   "source": [
    "for i in range(3):\n",
    "\tNab.plt.plot(waves[i], label=str(round(results.data()['energy'].iloc[i], 2)))\n",
    "Nab.plt.title('Some waveforms with their amplitudes')\n",
    "Nab.plt.legend()\n",
    "Nab.plt.show()"
   ]
  },
  {
   "cell_type": "code",
   "execution_count": 72,
   "metadata": {},
   "outputs": [
    {
     "name": "stdout",
     "output_type": "stream",
     "text": [
      "       result  eventid  bc     timestamp           req  source  length  board  \\\n",
      "2           1        0  20       3751522       9476996       1    7000      2   \n",
      "9           1        1  20      15277460      20981650       1    7000      2   \n",
      "16          1        2  20      45348982      50966840       1    7000      2   \n",
      "32          1        5  20      81463794      88313938       1    7000      2   \n",
      "37          1        6  20     106967042     112723642       1    7000      2   \n",
      "...       ...      ...  ..           ...           ...     ...     ...    ...   \n",
      "51567       1     9961  20  172093048668  172101622570       1    7000      2   \n",
      "51586       1     9965  20  172207360858  172214274928       1    7000      2   \n",
      "51667       1     9983  20  172411477366  172419726904       1    7000      2   \n",
      "51672       1     9984  20  172416860720  172425173262       1    7000      2   \n",
      "51678       1     9985  20  172443494760  172451929442       1    7000      2   \n",
      "\n",
      "       channel  pixel  \n",
      "2            4     88  \n",
      "9            4     88  \n",
      "16           4     88  \n",
      "32           4     88  \n",
      "37           4     88  \n",
      "...        ...    ...  \n",
      "51567        4     88  \n",
      "51586        4     88  \n",
      "51667        4     88  \n",
      "51672        4     88  \n",
      "51678        4     88  \n",
      "\n",
      "[3020 rows x 10 columns]\n"
     ]
    }
   ],
   "source": [
    "run.singleWaves().resetCuts()\n",
    "run.singleWaves().defineCut('pixel', '=', 88)\n",
    "headers = run.singleWaves().headers()\n",
    "print(headers)"
   ]
  },
  {
   "cell_type": "markdown",
   "metadata": {},
   "source": [
    "### Noise Analysis\n",
    "\n",
    "Let's look at that same pixel and get a sense of what the noise was like"
   ]
  },
  {
   "cell_type": "code",
   "execution_count": 78,
   "metadata": {},
   "outputs": [],
   "source": [
    "run.noiseWaves().resetCuts()\n",
    "run.noiseWaves().defineCut('pixel', '=', 88)\n",
    "\n",
    "spectra = run.noiseWaves().generatePowerSpectra()"
   ]
  },
  {
   "cell_type": "code",
   "execution_count": 79,
   "metadata": {},
   "outputs": [
    {
     "data": {
      "image/png": "[encoded data removed]",
      "text/plain": [
       "<Figure size 432x288 with 1 Axes>"
      ]
     },
     "metadata": {
      "needs_background": "light"
     },
     "output_type": "display_data"
    }
   ],
   "source": [
    "Nab.plt.plot(spectra[0][1:], spectra[1][1:])\n",
    "Nab.plt.yscale('log')\n",
    "Nab.plt.xscale('log')\n",
    "Nab.plt.xlabel('Frequency (Hz)')\n",
    "Nab.plt.ylabel('ADC^2/Hz')\n",
    "Nab.plt.title('Power Spectra for Pixel 88')\n",
    "Nab.plt.show()"
   ]
  },
  {
   "cell_type": "markdown",
   "metadata": {},
   "source": [
    "Note that the first bin was removed. The first bin is the 0th frequency bin. This bin is often a very small number and can mess with the automatic scaling of the plot so I tend to remove it to make plots simpler. It's not that the data isn't important, just the plots don't look nice easily with it included."
   ]
  },
  {
   "cell_type": "code",
   "execution_count": 9,
   "metadata": {},
   "outputs": [],
   "source": [
    "waves = run.singleWaves().waves()"
   ]
  },
  {
   "cell_type": "code",
   "execution_count": 10,
   "metadata": {},
   "outputs": [
    {
     "data": {
      "text/html": [
       "<table>\n",
       "    <tr>\n",
       "        <td>\n",
       "            <table style=\"border-collapse: collapse;\">\n",
       "                <thead>\n",
       "                    <tr>\n",
       "                        <td> </td>\n",
       "                        <th> Array </th>\n",
       "                        <th> Chunk </th>\n",
       "                    </tr>\n",
       "                </thead>\n",
       "                <tbody>\n",
       "                    \n",
       "                    <tr>\n",
       "                        <th> Bytes </th>\n",
       "                        <td> 7.09 GiB </td>\n",
       "                        <td> 242.28 MiB </td>\n",
       "                    </tr>\n",
       "                    \n",
       "                    <tr>\n",
       "                        <th> Shape </th>\n",
       "                        <td> (271900, 7000) </td>\n",
       "                        <td> (9073, 7000) </td>\n",
       "                    </tr>\n",
       "                    <tr>\n",
       "                        <th> Dask graph </th>\n",
       "                        <td colspan=\"2\"> 30 chunks in 4 graph layers </td>\n",
       "                    </tr>\n",
       "                    <tr>\n",
       "                        <th> Data type </th>\n",
       "                        <td colspan=\"2\"> float32 numpy.ndarray </td>\n",
       "                    </tr>\n",
       "                </tbody>\n",
       "            </table>\n",
       "        </td>\n",
       "        <td>\n",
       "        <svg width=\"80\" height=\"170\" style=\"stroke:rgb(0,0,0);stroke-width:1\" >\n",
       "\n",
       "  <!-- Horizontal lines -->\n",
       "  <line x1=\"0\" y1=\"0\" x2=\"30\" y2=\"0\" style=\"stroke-width:2\" />\n",
       "  <line x1=\"0\" y1=\"3\" x2=\"30\" y2=\"3\" />\n",
       "  <line x1=\"0\" y1=\"11\" x2=\"30\" y2=\"11\" />\n",
       "  <line x1=\"0\" y1=\"15\" x2=\"30\" y2=\"15\" />\n",
       "  <line x1=\"0\" y1=\"23\" x2=\"30\" y2=\"23\" />\n",
       "  <line x1=\"0\" y1=\"27\" x2=\"30\" y2=\"27\" />\n",
       "  <line x1=\"0\" y1=\"35\" x2=\"30\" y2=\"35\" />\n",
       "  <line x1=\"0\" y1=\"43\" x2=\"30\" y2=\"43\" />\n",
       "  <line x1=\"0\" y1=\"47\" x2=\"30\" y2=\"47\" />\n",
       "  <line x1=\"0\" y1=\"55\" x2=\"30\" y2=\"55\" />\n",
       "  <line x1=\"0\" y1=\"59\" x2=\"30\" y2=\"59\" />\n",
       "  <line x1=\"0\" y1=\"67\" x2=\"30\" y2=\"67\" />\n",
       "  <line x1=\"0\" y1=\"71\" x2=\"30\" y2=\"71\" />\n",
       "  <line x1=\"0\" y1=\"79\" x2=\"30\" y2=\"79\" />\n",
       "  <line x1=\"0\" y1=\"87\" x2=\"30\" y2=\"87\" />\n",
       "  <line x1=\"0\" y1=\"91\" x2=\"30\" y2=\"91\" />\n",
       "  <line x1=\"0\" y1=\"99\" x2=\"30\" y2=\"99\" />\n",
       "  <line x1=\"0\" y1=\"103\" x2=\"30\" y2=\"103\" />\n",
       "  <line x1=\"0\" y1=\"111\" x2=\"30\" y2=\"111\" />\n",
       "  <line x1=\"0\" y1=\"120\" x2=\"30\" y2=\"120\" style=\"stroke-width:2\" />\n",
       "\n",
       "  <!-- Vertical lines -->\n",
       "  <line x1=\"0\" y1=\"0\" x2=\"0\" y2=\"120\" style=\"stroke-width:2\" />\n",
       "  <line x1=\"30\" y1=\"0\" x2=\"30\" y2=\"120\" style=\"stroke-width:2\" />\n",
       "\n",
       "  <!-- Colored Rectangle -->\n",
       "  <polygon points=\"0.0,0.0 30.483342077402668,0.0 30.483342077402668,120.0 0.0,120.0\" style=\"fill:#8B4903A0;stroke-width:0\"/>\n",
       "\n",
       "  <!-- Text -->\n",
       "  <text x=\"15.241671\" y=\"140.000000\" font-size=\"1.0rem\" font-weight=\"100\" text-anchor=\"middle\" >7000</text>\n",
       "  <text x=\"50.483342\" y=\"60.000000\" font-size=\"1.0rem\" font-weight=\"100\" text-anchor=\"middle\" transform=\"rotate(-90,50.483342,60.000000)\">271900</text>\n",
       "</svg>\n",
       "        </td>\n",
       "    </tr>\n",
       "</table>"
      ],
      "text/plain": [
       "dask.array<astype, shape=(271900, 7000), dtype=float32, chunksize=(9073, 7000), chunktype=numpy.ndarray>"
      ]
     },
     "execution_count": 10,
     "metadata": {},
     "output_type": "execute_result"
    }
   ],
   "source": [
    "jjjj"
   ]
  },
  {
   "cell_type": "code",
   "execution_count": 14,
   "metadata": {},
   "outputs": [],
   "source": [
    "import numpy as np"
   ]
  },
  {
   "cell_type": "code",
   "execution_count": 15,
   "metadata": {},
   "outputs": [],
   "source": [
    "subrundata = {\n",
    "    \"top\": {\n",
    "        \"trigger\": np.random.randint(100, size=127),\n",
    "        \"single\": np.random.randint(100, size=127),\n",
    "        \"coincidence\": np.random.randint(100, size=127),\n",
    "        \"pulser\": np.random.randint(100, size=127),\n",
    "        \"noise\": np.random.randint(100, size=127),\n",
    "        },\n",
    "    \"bottom\": {\n",
    "        \"trigger\": np.random.randint(100, size=127),\n",
    "        \"single\": np.random.randint(100, size=127),\n",
    "        \"coincidence\": np.random.randint(100, size=127),\n",
    "        \"pulser\": np.random.randint(100, size=127),\n",
    "        \"noise\": np.random.randint(100, size=127),\n",
    "        },\n",
    "\n",
    "\n",
    "    }       "
   ]
  },
  {
   "cell_type": "code",
   "execution_count": 22,
   "metadata": {},
   "outputs": [
    {
     "name": "stdout",
     "output_type": "stream",
     "text": [
      "top single\n",
      "[5466    0    0    0    0  319    0 4557 1929 2236]\n",
      "top trigger\n",
      "[5940    0    0    0    0  381    0 5010 2126 2536]\n",
      "top coincidence\n",
      "[392   0   0   0   0  47   0 360 156 238]\n",
      "top pulser\n",
      "[1. 1. 1. 1. 1. 1. 1. 1. 1. 1.]\n",
      "top noise\n",
      "[1. 1. 1. 1. 1. 1. 1. 1. 1. 1.]\n",
      "bottom single\n",
      "[0 0 0 0 0 0 0 0 0 0]\n",
      "bottom trigger\n",
      "[0 0 0 0 0 0 0 0 0 0]\n",
      "bottom coincidence\n",
      "[0 0 0 0 0 0 0 0 0 0]\n",
      "bottom pulser\n",
      "[1. 1. 1. 1. 1. 1. 1. 1. 1. 1.]\n",
      "bottom noise\n",
      "[1. 1. 1. 1. 1. 1. 1. 1. 1. 1.]\n"
     ]
    }
   ],
   "source": [
    "det = ['top', 'bottom']\n",
    "evttype = ['single', 'trigger', 'coincidence', 'pulser', 'noise']\n",
    "for i in det:\n",
    "    for j in evttype:\n",
    "        print(i,j)\n",
    "        try:\n",
    "            subrundata[i][j] = run.plotHitLocations(j, det=i)\n",
    "        except:\n",
    "            subrundata[i][j] = np.zeros(127) \n",
    "        print(subrundata[i][j][:10])"
   ]
  },
  {
   "cell_type": "code",
   "execution_count": 24,
   "metadata": {},
   "outputs": [
    {
     "data": {
      "text/html": [
       "<div>\n",
       "<style scoped>\n",
       "    .dataframe tbody tr th:only-of-type {\n",
       "        vertical-align: middle;\n",
       "    }\n",
       "\n",
       "    .dataframe tbody tr th {\n",
       "        vertical-align: top;\n",
       "    }\n",
       "\n",
       "    .dataframe thead th {\n",
       "        text-align: right;\n",
       "    }\n",
       "</style>\n",
       "<table border=\"1\" class=\"dataframe\">\n",
       "  <thead>\n",
       "    <tr style=\"text-align: right;\">\n",
       "      <th></th>\n",
       "      <th>timestamp</th>\n",
       "      <th>bc</th>\n",
       "      <th>energy</th>\n",
       "      <th>pixel</th>\n",
       "    </tr>\n",
       "  </thead>\n",
       "  <tbody>\n",
       "    <tr>\n",
       "      <th>0</th>\n",
       "      <td>2831482619036</td>\n",
       "      <td>12</td>\n",
       "      <td>81</td>\n",
       "      <td>98</td>\n",
       "    </tr>\n",
       "    <tr>\n",
       "      <th>1</th>\n",
       "      <td>2831482619104</td>\n",
       "      <td>15</td>\n",
       "      <td>42</td>\n",
       "      <td>109</td>\n",
       "    </tr>\n",
       "    <tr>\n",
       "      <th>2</th>\n",
       "      <td>2831482619080</td>\n",
       "      <td>20</td>\n",
       "      <td>37</td>\n",
       "      <td>88</td>\n",
       "    </tr>\n",
       "    <tr>\n",
       "      <th>3</th>\n",
       "      <td>2831482535342</td>\n",
       "      <td>38</td>\n",
       "      <td>239</td>\n",
       "      <td>71</td>\n",
       "    </tr>\n",
       "    <tr>\n",
       "      <th>4</th>\n",
       "      <td>2831482620728</td>\n",
       "      <td>35</td>\n",
       "      <td>572</td>\n",
       "      <td>84</td>\n",
       "    </tr>\n",
       "    <tr>\n",
       "      <th>...</th>\n",
       "      <td>...</td>\n",
       "      <td>...</td>\n",
       "      <td>...</td>\n",
       "      <td>...</td>\n",
       "    </tr>\n",
       "    <tr>\n",
       "      <th>312154</th>\n",
       "      <td>2838757650362</td>\n",
       "      <td>65</td>\n",
       "      <td>36</td>\n",
       "      <td>18</td>\n",
       "    </tr>\n",
       "    <tr>\n",
       "      <th>312155</th>\n",
       "      <td>2838757721870</td>\n",
       "      <td>65</td>\n",
       "      <td>65496</td>\n",
       "      <td>18</td>\n",
       "    </tr>\n",
       "    <tr>\n",
       "      <th>312156</th>\n",
       "      <td>2838757742540</td>\n",
       "      <td>69</td>\n",
       "      <td>65498</td>\n",
       "      <td>8</td>\n",
       "    </tr>\n",
       "    <tr>\n",
       "      <th>312157</th>\n",
       "      <td>2838757749058</td>\n",
       "      <td>69</td>\n",
       "      <td>65501</td>\n",
       "      <td>8</td>\n",
       "    </tr>\n",
       "    <tr>\n",
       "      <th>312158</th>\n",
       "      <td>2838757273956</td>\n",
       "      <td>157</td>\n",
       "      <td>2892</td>\n",
       "      <td>1073</td>\n",
       "    </tr>\n",
       "  </tbody>\n",
       "</table>\n",
       "<p>312159 rows × 4 columns</p>\n",
       "</div>"
      ],
      "text/plain": [
       "            timestamp   bc  energy  pixel\n",
       "0       2831482619036   12      81     98\n",
       "1       2831482619104   15      42    109\n",
       "2       2831482619080   20      37     88\n",
       "3       2831482535342   38     239     71\n",
       "4       2831482620728   35     572     84\n",
       "...               ...  ...     ...    ...\n",
       "312154  2838757650362   65      36     18\n",
       "312155  2838757721870   65   65496     18\n",
       "312156  2838757742540   69   65498      8\n",
       "312157  2838757749058   69   65501      8\n",
       "312158  2838757273956  157    2892   1073\n",
       "\n",
       "[312159 rows x 4 columns]"
      ]
     },
     "execution_count": 24,
     "metadata": {},
     "output_type": "execute_result"
    }
   ],
   "source": [
    "run.triggers().triggers()"
   ]
  },
  {
   "cell_type": "code",
   "execution_count": 20,
   "metadata": {},
   "outputs": [],
   "source": [
    "    def getbcpixmap(self):\n",
    "        bctopixmap = self._thisRun.parameterFile().BoardChannelPixelMap\n",
    "        self.bcpixmap = {}\n",
    "        for i in bctopixmap:\n",
    "            self.bcpixmap[int(i[0])] = int(i[1])\n",
    "        self.vectorized_map = np.vectorize(self.bcpixmap.get) \n",
    "\n",
    "    def getevtarr(ele):\n",
    "        tstamp = ele[7][0]\n",
    "        ptof = (ele[7][0] - ele[8][0]) * 4e-9 / 1e-6  # in microseconds\n",
    "        pener = ele[7][2]\n",
    "        evttype = ele[1]\n",
    "        numtrig = ele[4]\n",
    "        ppix = ele[7][1]\n",
    "        epix = ele[8][1]\n",
    "        eener = ele[8][2] + ele[9][2] + ele[10][2] + ele[11][2] + ele[12][2]\n",
    "        return(np.array([evttype, numtrig, ptof, pener, ppix, eener, epix,tstamp]))\n",
    "\n",
    "    def get_coinc_df(events):\n",
    "        evtarr = np.array(list(map(getevtarr, events)))\n",
    "        # evtarr[:,4]= self.vectorized_map(evtarr[:,4])\n",
    "        # evtarr[:,6]= self.vectorized_map(evtarr[:,6])\n",
    "        evtarr = evtarr[evtarr[:,0] == 1]\n",
    "        evtdf = pd.DataFrame(evtarr)\n",
    "        evtdf.columns = ['evttype', 'numtrig', 'ptof', 'pener', 'ppix', 'eener', 'epix','tstamp']\n",
    "        return(evtdf)   \n"
   ]
  },
  {
   "cell_type": "code",
   "execution_count": 21,
   "metadata": {},
   "outputs": [],
   "source": [
    "events = run.eventFile().getevents()"
   ]
  },
  {
   "cell_type": "code",
   "execution_count": 30,
   "metadata": {},
   "outputs": [],
   "source": [
    "import numpy as np\n",
    "import pandas as pd\n",
    "df = get_coinc_df(events)"
   ]
  },
  {
   "cell_type": "code",
   "execution_count": 33,
   "metadata": {},
   "outputs": [
    {
     "data": {
      "text/html": [
       "<div>\n",
       "<style scoped>\n",
       "    .dataframe tbody tr th:only-of-type {\n",
       "        vertical-align: middle;\n",
       "    }\n",
       "\n",
       "    .dataframe tbody tr th {\n",
       "        vertical-align: top;\n",
       "    }\n",
       "\n",
       "    .dataframe thead th {\n",
       "        text-align: right;\n",
       "    }\n",
       "</style>\n",
       "<table border=\"1\" class=\"dataframe\">\n",
       "  <thead>\n",
       "    <tr style=\"text-align: right;\">\n",
       "      <th></th>\n",
       "      <th>evttype</th>\n",
       "      <th>numtrig</th>\n",
       "      <th>ptof</th>\n",
       "      <th>pener</th>\n",
       "      <th>ppix</th>\n",
       "      <th>eener</th>\n",
       "      <th>epix</th>\n",
       "      <th>tstamp</th>\n",
       "    </tr>\n",
       "  </thead>\n",
       "  <tbody>\n",
       "    <tr>\n",
       "      <th>0</th>\n",
       "      <td>1.0</td>\n",
       "      <td>2.0</td>\n",
       "      <td>60.760</td>\n",
       "      <td>26.0</td>\n",
       "      <td>43.0</td>\n",
       "      <td>1850.0</td>\n",
       "      <td>227.0</td>\n",
       "      <td>0.0</td>\n",
       "    </tr>\n",
       "    <tr>\n",
       "      <th>1</th>\n",
       "      <td>1.0</td>\n",
       "      <td>2.0</td>\n",
       "      <td>34.144</td>\n",
       "      <td>26.0</td>\n",
       "      <td>56.0</td>\n",
       "      <td>320.0</td>\n",
       "      <td>153.0</td>\n",
       "      <td>190628.0</td>\n",
       "    </tr>\n",
       "    <tr>\n",
       "      <th>2</th>\n",
       "      <td>1.0</td>\n",
       "      <td>2.0</td>\n",
       "      <td>35.408</td>\n",
       "      <td>26.0</td>\n",
       "      <td>43.0</td>\n",
       "      <td>1324.0</td>\n",
       "      <td>188.0</td>\n",
       "      <td>459054.0</td>\n",
       "    </tr>\n",
       "    <tr>\n",
       "      <th>3</th>\n",
       "      <td>1.0</td>\n",
       "      <td>2.0</td>\n",
       "      <td>67.864</td>\n",
       "      <td>26.0</td>\n",
       "      <td>43.0</td>\n",
       "      <td>1606.0</td>\n",
       "      <td>56.0</td>\n",
       "      <td>647936.0</td>\n",
       "    </tr>\n",
       "    <tr>\n",
       "      <th>4</th>\n",
       "      <td>1.0</td>\n",
       "      <td>2.0</td>\n",
       "      <td>25.920</td>\n",
       "      <td>32.0</td>\n",
       "      <td>43.0</td>\n",
       "      <td>1162.0</td>\n",
       "      <td>153.0</td>\n",
       "      <td>731274.0</td>\n",
       "    </tr>\n",
       "  </tbody>\n",
       "</table>\n",
       "</div>"
      ],
      "text/plain": [
       "   evttype  numtrig    ptof  pener  ppix   eener   epix    tstamp\n",
       "0      1.0      2.0  60.760   26.0  43.0  1850.0  227.0       0.0\n",
       "1      1.0      2.0  34.144   26.0  56.0   320.0  153.0  190628.0\n",
       "2      1.0      2.0  35.408   26.0  43.0  1324.0  188.0  459054.0\n",
       "3      1.0      2.0  67.864   26.0  43.0  1606.0   56.0  647936.0\n",
       "4      1.0      2.0  25.920   32.0  43.0  1162.0  153.0  731274.0"
      ]
     },
     "execution_count": 33,
     "metadata": {},
     "output_type": "execute_result"
    }
   ],
   "source": [
    "df['tstamp'] = df.tstamp - df.tstamp.min()\n",
    "df.head()\n",
    "# df.tstamp.min()"
   ]
  },
  {
   "cell_type": "code",
   "execution_count": 62,
   "metadata": {},
   "outputs": [],
   "source": [
    "data = df.groupby(pd.cut(df.tstamp, np.linspace(df.tstamp.min(), df.tstamp.max(), 100))).pener.mean().to_numpy()\n",
    "tbin = np.linspace(df.tstamp.min(), df.tstamp.max(), 100)"
   ]
  },
  {
   "cell_type": "code",
   "execution_count": 63,
   "metadata": {},
   "outputs": [
    {
     "name": "stdout",
     "output_type": "stream",
     "text": [
      "99 100\n"
     ]
    }
   ],
   "source": [
    "# data['tstamp']\n",
    "# data.to_numpy()\n",
    "print(len(data), len(tbin))"
   ]
  },
  {
   "cell_type": "code",
   "execution_count": 64,
   "metadata": {},
   "outputs": [
    {
     "data": {
      "application/javascript": "(function(root) {\n  function now() {\n    return new Date();\n  }\n\n  var force = true;\n  var py_version = '3.4.2'.replace('rc', '-rc.').replace('.dev', '-dev.');\n  var reloading = false;\n  var Bokeh = root.Bokeh;\n\n  if (typeof (root._bokeh_timeout) === \"undefined\" || force) {\n    root._bokeh_timeout = Date.now() + 5000;\n    root._bokeh_failed_load = false;\n  }\n\n  function run_callbacks() {\n    try {\n      root._bokeh_onload_callbacks.forEach(function(callback) {\n        if (callback != null)\n          callback();\n      });\n    } finally {\n      delete root._bokeh_onload_callbacks;\n    }\n    console.debug(\"Bokeh: all callbacks have finished\");\n  }\n\n  function load_libs(css_urls, js_urls, js_modules, js_exports, callback) {\n    if (css_urls == null) css_urls = [];\n    if (js_urls == null) js_urls = [];\n    if (js_modules == null) js_modules = [];\n    if (js_exports == null) js_exports = {};\n\n    root._bokeh_onload_callbacks.push(callback);\n\n    if (root._bokeh_is_loading > 0) {\n      console.debug(\"Bokeh: BokehJS is being loaded, scheduling callback at\", now());\n      return null;\n    }\n    if (js_urls.length === 0 && js_modules.length === 0 && Object.keys(js_exports).length === 0) {\n      run_callbacks();\n      return null;\n    }\n    if (!reloading) {\n      console.debug(\"Bokeh: BokehJS not loaded, scheduling load and callback at\", now());\n    }\n\n    function on_load() {\n      root._bokeh_is_loading--;\n      if (root._bokeh_is_loading === 0) {\n        console.debug(\"Bokeh: all BokehJS libraries/stylesheets loaded\");\n        run_callbacks()\n      }\n    }\n    window._bokeh_on_load = on_load\n\n    function on_error() {\n      console.error(\"failed to load \" + url);\n    }\n\n    var skip = [];\n    if (window.requirejs) {\n      window.requirejs.config({'packages': {}, 'paths': {}, 'shim': {}});\n      root._bokeh_is_loading = css_urls.length + 0;\n    } else {\n      root._bokeh_is_loading = css_urls.length + js_urls.length + js_modules.length + Object.keys(js_exports).length;\n    }\n\n    var existing_stylesheets = []\n    var links = document.getElementsByTagName('link')\n    for (var i = 0; i < links.length; i++) {\n      var link = links[i]\n      if (link.href != null) {\n\texisting_stylesheets.push(link.href)\n      }\n    }\n    for (var i = 0; i < css_urls.length; i++) {\n      var url = css_urls[i];\n      if (existing_stylesheets.indexOf(url) !== -1) {\n\ton_load()\n\tcontinue;\n      }\n      const element = document.createElement(\"link\");\n      element.onload = on_load;\n      element.onerror = on_error;\n      element.rel = \"stylesheet\";\n      element.type = \"text/css\";\n      element.href = url;\n      console.debug(\"Bokeh: injecting link tag for BokehJS stylesheet: \", url);\n      document.body.appendChild(element);\n    }    var existing_scripts = []\n    var scripts = document.getElementsByTagName('script')\n    for (var i = 0; i < scripts.length; i++) {\n      var script = scripts[i]\n      if (script.src != null) {\n\texisting_scripts.push(script.src)\n      }\n    }\n    for (var i = 0; i < js_urls.length; i++) {\n      var url = js_urls[i];\n      if (skip.indexOf(url) !== -1 || existing_scripts.indexOf(url) !== -1) {\n\tif (!window.requirejs) {\n\t  on_load();\n\t}\n\tcontinue;\n      }\n      var element = document.createElement('script');\n      element.onload = on_load;\n      element.onerror = on_error;\n      element.async = false;\n      element.src = url;\n      console.debug(\"Bokeh: injecting script tag for BokehJS library: \", url);\n      document.head.appendChild(element);\n    }\n    for (var i = 0; i < js_modules.length; i++) {\n      var url = js_modules[i];\n      if (skip.indexOf(url) !== -1 || existing_scripts.indexOf(url) !== -1) {\n\tif (!window.requirejs) {\n\t  on_load();\n\t}\n\tcontinue;\n      }\n      var element = document.createElement('script');\n      element.onload = on_load;\n      element.onerror = on_error;\n      element.async = false;\n      element.src = url;\n      element.type = \"module\";\n      console.debug(\"Bokeh: injecting script tag for BokehJS library: \", url);\n      document.head.appendChild(element);\n    }\n    for (const name in js_exports) {\n      var url = js_exports[name];\n      if (skip.indexOf(url) >= 0 || root[name] != null) {\n\tif (!window.requirejs) {\n\t  on_load();\n\t}\n\tcontinue;\n      }\n      var element = document.createElement('script');\n      element.onerror = on_error;\n      element.async = false;\n      element.type = \"module\";\n      console.debug(\"Bokeh: injecting script tag for BokehJS library: \", url);\n      element.textContent = `\n      import ${name} from \"${url}\"\n      window.${name} = ${name}\n      window._bokeh_on_load()\n      `\n      document.head.appendChild(element);\n    }\n    if (!js_urls.length && !js_modules.length) {\n      on_load()\n    }\n  };\n\n  function inject_raw_css(css) {\n    const element = document.createElement(\"style\");\n    element.appendChild(document.createTextNode(css));\n    document.body.appendChild(element);\n  }\n\n  var js_urls = [\"https://cdn.bokeh.org/bokeh/release/bokeh-3.4.2.min.js\", \"https://cdn.bokeh.org/bokeh/release/bokeh-gl-3.4.2.min.js\", \"https://cdn.bokeh.org/bokeh/release/bokeh-widgets-3.4.2.min.js\", \"https://cdn.bokeh.org/bokeh/release/bokeh-tables-3.4.2.min.js\", \"https://cdn.holoviz.org/panel/1.4.5/dist/panel.min.js\"];\n  var js_modules = [];\n  var js_exports = {};\n  var css_urls = [];\n  var inline_js = [    function(Bokeh) {\n      Bokeh.set_log_level(\"info\");\n    },\nfunction(Bokeh) {} // ensure no trailing comma for IE\n  ];\n\n  function run_inline_js() {\n    if ((root.Bokeh !== undefined) || (force === true)) {\n      for (var i = 0; i < inline_js.length; i++) {\n\ttry {\n          inline_js[i].call(root, root.Bokeh);\n\t} catch(e) {\n\t  if (!reloading) {\n\t    throw e;\n\t  }\n\t}\n      }\n      // Cache old bokeh versions\n      if (Bokeh != undefined && !reloading) {\n\tvar NewBokeh = root.Bokeh;\n\tif (Bokeh.versions === undefined) {\n\t  Bokeh.versions = new Map();\n\t}\n\tif (NewBokeh.version !== Bokeh.version) {\n\t  Bokeh.versions.set(NewBokeh.version, NewBokeh)\n\t}\n\troot.Bokeh = Bokeh;\n      }} else if (Date.now() < root._bokeh_timeout) {\n      setTimeout(run_inline_js, 100);\n    } else if (!root._bokeh_failed_load) {\n      console.log(\"Bokeh: BokehJS failed to load within specified timeout.\");\n      root._bokeh_failed_load = true;\n    }\n    root._bokeh_is_initializing = false\n  }\n\n  function load_or_wait() {\n    // Implement a backoff loop that tries to ensure we do not load multiple\n    // versions of Bokeh and its dependencies at the same time.\n    // In recent versions we use the root._bokeh_is_initializing flag\n    // to determine whether there is an ongoing attempt to initialize\n    // bokeh, however for backward compatibility we also try to ensure\n    // that we do not start loading a newer (Panel>=1.0 and Bokeh>3) version\n    // before older versions are fully initialized.\n    if (root._bokeh_is_initializing && Date.now() > root._bokeh_timeout) {\n      root._bokeh_is_initializing = false;\n      root._bokeh_onload_callbacks = undefined;\n      console.log(\"Bokeh: BokehJS was loaded multiple times but one version failed to initialize.\");\n      load_or_wait();\n    } else if (root._bokeh_is_initializing || (typeof root._bokeh_is_initializing === \"undefined\" && root._bokeh_onload_callbacks !== undefined)) {\n      setTimeout(load_or_wait, 100);\n    } else {\n      root._bokeh_is_initializing = true\n      root._bokeh_onload_callbacks = []\n      var bokeh_loaded = Bokeh != null && (Bokeh.version === py_version || (Bokeh.versions !== undefined && Bokeh.versions.has(py_version)));\n      if (!reloading && !bokeh_loaded) {\n\troot.Bokeh = undefined;\n      }\n      load_libs(css_urls, js_urls, js_modules, js_exports, function() {\n\tconsole.debug(\"Bokeh: BokehJS plotting callback run at\", now());\n\trun_inline_js();\n      });\n    }\n  }\n  // Give older versions of the autoload script a head-start to ensure\n  // they initialize before we start loading newer version.\n  setTimeout(load_or_wait, 100)\n}(window));",
      "application/vnd.holoviews_load.v0+json": ""
     },
     "metadata": {},
     "output_type": "display_data"
    },
    {
     "data": {
      "application/javascript": "\nif ((window.PyViz === undefined) || (window.PyViz instanceof HTMLElement)) {\n  window.PyViz = {comms: {}, comm_status:{}, kernels:{}, receivers: {}, plot_index: []}\n}\n\n\n    function JupyterCommManager() {\n    }\n\n    JupyterCommManager.prototype.register_target = function(plot_id, comm_id, msg_handler) {\n      if (window.comm_manager || ((window.Jupyter !== undefined) && (Jupyter.notebook.kernel != null))) {\n        var comm_manager = window.comm_manager || Jupyter.notebook.kernel.comm_manager;\n        comm_manager.register_target(comm_id, function(comm) {\n          comm.on_msg(msg_handler);\n        });\n      } else if ((plot_id in window.PyViz.kernels) && (window.PyViz.kernels[plot_id])) {\n        window.PyViz.kernels[plot_id].registerCommTarget(comm_id, function(comm) {\n          comm.onMsg = msg_handler;\n        });\n      } else if (typeof google != 'undefined' && google.colab.kernel != null) {\n        google.colab.kernel.comms.registerTarget(comm_id, (comm) => {\n          var messages = comm.messages[Symbol.asyncIterator]();\n          function processIteratorResult(result) {\n            var message = result.value;\n            console.log(message)\n            var content = {data: message.data, comm_id};\n            var buffers = []\n            for (var buffer of message.buffers || []) {\n              buffers.push(new DataView(buffer))\n            }\n            var metadata = message.metadata || {};\n            var msg = {content, buffers, metadata}\n            msg_handler(msg);\n            return messages.next().then(processIteratorResult);\n          }\n          return messages.next().then(processIteratorResult);\n        })\n      }\n    }\n\n    JupyterCommManager.prototype.get_client_comm = function(plot_id, comm_id, msg_handler) {\n      if (comm_id in window.PyViz.comms) {\n        return window.PyViz.comms[comm_id];\n      } else if (window.comm_manager || ((window.Jupyter !== undefined) && (Jupyter.notebook.kernel != null))) {\n        var comm_manager = window.comm_manager || Jupyter.notebook.kernel.comm_manager;\n        var comm = comm_manager.new_comm(comm_id, {}, {}, {}, comm_id);\n        if (msg_handler) {\n          comm.on_msg(msg_handler);\n        }\n      } else if ((plot_id in window.PyViz.kernels) && (window.PyViz.kernels[plot_id])) {\n        var comm = window.PyViz.kernels[plot_id].connectToComm(comm_id);\n        comm.open();\n        if (msg_handler) {\n          comm.onMsg = msg_handler;\n        }\n      } else if (typeof google != 'undefined' && google.colab.kernel != null) {\n        var comm_promise = google.colab.kernel.comms.open(comm_id)\n        comm_promise.then((comm) => {\n          window.PyViz.comms[comm_id] = comm;\n          if (msg_handler) {\n            var messages = comm.messages[Symbol.asyncIterator]();\n            function processIteratorResult(result) {\n              var message = result.value;\n              var content = {data: message.data};\n              var metadata = message.metadata || {comm_id};\n              var msg = {content, metadata}\n              msg_handler(msg);\n              return messages.next().then(processIteratorResult);\n            }\n            return messages.next().then(processIteratorResult);\n          }\n        }) \n        var sendClosure = (data, metadata, buffers, disposeOnDone) => {\n          return comm_promise.then((comm) => {\n            comm.send(data, metadata, buffers, disposeOnDone);\n          });\n        };\n        var comm = {\n          send: sendClosure\n        };\n      }\n      window.PyViz.comms[comm_id] = comm;\n      return comm;\n    }\n    window.PyViz.comm_manager = new JupyterCommManager();\n    \n\n\nvar JS_MIME_TYPE = 'application/javascript';\nvar HTML_MIME_TYPE = 'text/html';\nvar EXEC_MIME_TYPE = 'application/vnd.holoviews_exec.v0+json';\nvar CLASS_NAME = 'output';\n\n/**\n * Render data to the DOM node\n */\nfunction render(props, node) {\n  var div = document.createElement(\"div\");\n  var script = document.createElement(\"script\");\n  node.appendChild(div);\n  node.appendChild(script);\n}\n\n/**\n * Handle when a new output is added\n */\nfunction handle_add_output(event, handle) {\n  var output_area = handle.output_area;\n  var output = handle.output;\n  if ((output.data == undefined) || (!output.data.hasOwnProperty(EXEC_MIME_TYPE))) {\n    return\n  }\n  var id = output.metadata[EXEC_MIME_TYPE][\"id\"];\n  var toinsert = output_area.element.find(\".\" + CLASS_NAME.split(' ')[0]);\n  if (id !== undefined) {\n    var nchildren = toinsert.length;\n    var html_node = toinsert[nchildren-1].children[0];\n    html_node.innerHTML = output.data[HTML_MIME_TYPE];\n    var scripts = [];\n    var nodelist = html_node.querySelectorAll(\"script\");\n    for (var i in nodelist) {\n      if (nodelist.hasOwnProperty(i)) {\n        scripts.push(nodelist[i])\n      }\n    }\n\n    scripts.forEach( function (oldScript) {\n      var newScript = document.createElement(\"script\");\n      var attrs = [];\n      var nodemap = oldScript.attributes;\n      for (var j in nodemap) {\n        if (nodemap.hasOwnProperty(j)) {\n          attrs.push(nodemap[j])\n        }\n      }\n      attrs.forEach(function(attr) { newScript.setAttribute(attr.name, attr.value) });\n      newScript.appendChild(document.createTextNode(oldScript.innerHTML));\n      oldScript.parentNode.replaceChild(newScript, oldScript);\n    });\n    if (JS_MIME_TYPE in output.data) {\n      toinsert[nchildren-1].children[1].textContent = output.data[JS_MIME_TYPE];\n    }\n    output_area._hv_plot_id = id;\n    if ((window.Bokeh !== undefined) && (id in Bokeh.index)) {\n      window.PyViz.plot_index[id] = Bokeh.index[id];\n    } else {\n      window.PyViz.plot_index[id] = null;\n    }\n  } else if (output.metadata[EXEC_MIME_TYPE][\"server_id\"] !== undefined) {\n    var bk_div = document.createElement(\"div\");\n    bk_div.innerHTML = output.data[HTML_MIME_TYPE];\n    var script_attrs = bk_div.children[0].attributes;\n    for (var i = 0; i < script_attrs.length; i++) {\n      toinsert[toinsert.length - 1].childNodes[1].setAttribute(script_attrs[i].name, script_attrs[i].value);\n    }\n    // store reference to server id on output_area\n    output_area._bokeh_server_id = output.metadata[EXEC_MIME_TYPE][\"server_id\"];\n  }\n}\n\n/**\n * Handle when an output is cleared or removed\n */\nfunction handle_clear_output(event, handle) {\n  var id = handle.cell.output_area._hv_plot_id;\n  var server_id = handle.cell.output_area._bokeh_server_id;\n  if (((id === undefined) || !(id in PyViz.plot_index)) && (server_id !== undefined)) { return; }\n  var comm = window.PyViz.comm_manager.get_client_comm(\"hv-extension-comm\", \"hv-extension-comm\", function () {});\n  if (server_id !== null) {\n    comm.send({event_type: 'server_delete', 'id': server_id});\n    return;\n  } else if (comm !== null) {\n    comm.send({event_type: 'delete', 'id': id});\n  }\n  delete PyViz.plot_index[id];\n  if ((window.Bokeh !== undefined) & (id in window.Bokeh.index)) {\n    var doc = window.Bokeh.index[id].model.document\n    doc.clear();\n    const i = window.Bokeh.documents.indexOf(doc);\n    if (i > -1) {\n      window.Bokeh.documents.splice(i, 1);\n    }\n  }\n}\n\n/**\n * Handle kernel restart event\n */\nfunction handle_kernel_cleanup(event, handle) {\n  delete PyViz.comms[\"hv-extension-comm\"];\n  window.PyViz.plot_index = {}\n}\n\n/**\n * Handle update_display_data messages\n */\nfunction handle_update_output(event, handle) {\n  handle_clear_output(event, {cell: {output_area: handle.output_area}})\n  handle_add_output(event, handle)\n}\n\nfunction register_renderer(events, OutputArea) {\n  function append_mime(data, metadata, element) {\n    // create a DOM node to render to\n    var toinsert = this.create_output_subarea(\n    metadata,\n    CLASS_NAME,\n    EXEC_MIME_TYPE\n    );\n    this.keyboard_manager.register_events(toinsert);\n    // Render to node\n    var props = {data: data, metadata: metadata[EXEC_MIME_TYPE]};\n    render(props, toinsert[0]);\n    element.append(toinsert);\n    return toinsert\n  }\n\n  events.on('output_added.OutputArea', handle_add_output);\n  events.on('output_updated.OutputArea', handle_update_output);\n  events.on('clear_output.CodeCell', handle_clear_output);\n  events.on('delete.Cell', handle_clear_output);\n  events.on('kernel_ready.Kernel', handle_kernel_cleanup);\n\n  OutputArea.prototype.register_mime_type(EXEC_MIME_TYPE, append_mime, {\n    safe: true,\n    index: 0\n  });\n}\n\nif (window.Jupyter !== undefined) {\n  try {\n    var events = require('base/js/events');\n    var OutputArea = require('notebook/js/outputarea').OutputArea;\n    if (OutputArea.prototype.mime_types().indexOf(EXEC_MIME_TYPE) == -1) {\n      register_renderer(events, OutputArea);\n    }\n  } catch(err) {\n  }\n}\n",
      "application/vnd.holoviews_load.v0+json": ""
     },
     "metadata": {},
     "output_type": "display_data"
    },
    {
     "data": {
      "text/html": [
       "<style>*[data-root-id],\n",
       "*[data-root-id] > * {\n",
       "  box-sizing: border-box;\n",
       "  font-family: var(--jp-ui-font-family);\n",
       "  font-size: var(--jp-ui-font-size1);\n",
       "  color: var(--vscode-editor-foreground, var(--jp-ui-font-color1));\n",
       "}\n",
       "\n",
       "/* Override VSCode background color */\n",
       ".cell-output-ipywidget-background:has(\n",
       "    > .cell-output-ipywidget-background > .lm-Widget > *[data-root-id]\n",
       "  ),\n",
       ".cell-output-ipywidget-background:has(> .lm-Widget > *[data-root-id]) {\n",
       "  background-color: transparent !important;\n",
       "}\n",
       "</style>"
      ]
     },
     "metadata": {},
     "output_type": "display_data"
    },
    {
     "data": {
      "application/vnd.holoviews_exec.v0+json": "",
      "text/html": [
       "<div id='p1004'>\n",
       "  <div id=\"cc2be2d7-3374-4042-b3f4-45d0cb86c3a7\" data-root-id=\"p1004\" style=\"display: contents;\"></div>\n",
       "</div>\n",
       "<script type=\"application/javascript\">(function(root) {\n",
       "  var docs_json = {\"62a8c2d7-7df8-4ee0-b01e-ad23c870d063\":{\"version\":\"3.4.2\",\"title\":\"Bokeh Application\",\"roots\":[{\"type\":\"object\",\"name\":\"panel.models.browser.BrowserInfo\",\"id\":\"p1004\"},{\"type\":\"object\",\"name\":\"panel.models.comm_manager.CommManager\",\"id\":\"p1005\",\"attributes\":{\"plot_id\":\"p1004\",\"comm_id\":\"6b840ea3441e4feba8afa7269742d7b9\",\"client_comm_id\":\"0e3eb3c07fc7428e855950c24767b5f4\"}}],\"defs\":[{\"type\":\"model\",\"name\":\"ReactiveHTML1\"},{\"type\":\"model\",\"name\":\"FlexBox1\",\"properties\":[{\"name\":\"align_content\",\"kind\":\"Any\",\"default\":\"flex-start\"},{\"name\":\"align_items\",\"kind\":\"Any\",\"default\":\"flex-start\"},{\"name\":\"flex_direction\",\"kind\":\"Any\",\"default\":\"row\"},{\"name\":\"flex_wrap\",\"kind\":\"Any\",\"default\":\"wrap\"},{\"name\":\"gap\",\"kind\":\"Any\",\"default\":\"\"},{\"name\":\"justify_content\",\"kind\":\"Any\",\"default\":\"flex-start\"}]},{\"type\":\"model\",\"name\":\"FloatPanel1\",\"properties\":[{\"name\":\"config\",\"kind\":\"Any\",\"default\":{\"type\":\"map\"}},{\"name\":\"contained\",\"kind\":\"Any\",\"default\":true},{\"name\":\"position\",\"kind\":\"Any\",\"default\":\"right-top\"},{\"name\":\"offsetx\",\"kind\":\"Any\",\"default\":null},{\"name\":\"offsety\",\"kind\":\"Any\",\"default\":null},{\"name\":\"theme\",\"kind\":\"Any\",\"default\":\"primary\"},{\"name\":\"status\",\"kind\":\"Any\",\"default\":\"normalized\"}]},{\"type\":\"model\",\"name\":\"GridStack1\",\"properties\":[{\"name\":\"mode\",\"kind\":\"Any\",\"default\":\"warn\"},{\"name\":\"ncols\",\"kind\":\"Any\",\"default\":null},{\"name\":\"nrows\",\"kind\":\"Any\",\"default\":null},{\"name\":\"allow_resize\",\"kind\":\"Any\",\"default\":true},{\"name\":\"allow_drag\",\"kind\":\"Any\",\"default\":true},{\"name\":\"state\",\"kind\":\"Any\",\"default\":[]}]},{\"type\":\"model\",\"name\":\"drag1\",\"properties\":[{\"name\":\"slider_width\",\"kind\":\"Any\",\"default\":5},{\"name\":\"slider_color\",\"kind\":\"Any\",\"default\":\"black\"},{\"name\":\"value\",\"kind\":\"Any\",\"default\":50}]},{\"type\":\"model\",\"name\":\"click1\",\"properties\":[{\"name\":\"terminal_output\",\"kind\":\"Any\",\"default\":\"\"},{\"name\":\"debug_name\",\"kind\":\"Any\",\"default\":\"\"},{\"name\":\"clears\",\"kind\":\"Any\",\"default\":0}]},{\"type\":\"model\",\"name\":\"FastWrapper1\",\"properties\":[{\"name\":\"object\",\"kind\":\"Any\",\"default\":null},{\"name\":\"style\",\"kind\":\"Any\",\"default\":null}]},{\"type\":\"model\",\"name\":\"NotificationAreaBase1\",\"properties\":[{\"name\":\"js_events\",\"kind\":\"Any\",\"default\":{\"type\":\"map\"}},{\"name\":\"position\",\"kind\":\"Any\",\"default\":\"bottom-right\"},{\"name\":\"_clear\",\"kind\":\"Any\",\"default\":0}]},{\"type\":\"model\",\"name\":\"NotificationArea1\",\"properties\":[{\"name\":\"js_events\",\"kind\":\"Any\",\"default\":{\"type\":\"map\"}},{\"name\":\"notifications\",\"kind\":\"Any\",\"default\":[]},{\"name\":\"position\",\"kind\":\"Any\",\"default\":\"bottom-right\"},{\"name\":\"_clear\",\"kind\":\"Any\",\"default\":0},{\"name\":\"types\",\"kind\":\"Any\",\"default\":[{\"type\":\"map\",\"entries\":[[\"type\",\"warning\"],[\"background\",\"#ffc107\"],[\"icon\",{\"type\":\"map\",\"entries\":[[\"className\",\"fas fa-exclamation-triangle\"],[\"tagName\",\"i\"],[\"color\",\"white\"]]}]]},{\"type\":\"map\",\"entries\":[[\"type\",\"info\"],[\"background\",\"#007bff\"],[\"icon\",{\"type\":\"map\",\"entries\":[[\"className\",\"fas fa-info-circle\"],[\"tagName\",\"i\"],[\"color\",\"white\"]]}]]}]}]},{\"type\":\"model\",\"name\":\"Notification\",\"properties\":[{\"name\":\"background\",\"kind\":\"Any\",\"default\":null},{\"name\":\"duration\",\"kind\":\"Any\",\"default\":3000},{\"name\":\"icon\",\"kind\":\"Any\",\"default\":null},{\"name\":\"message\",\"kind\":\"Any\",\"default\":\"\"},{\"name\":\"notification_type\",\"kind\":\"Any\",\"default\":null},{\"name\":\"_destroyed\",\"kind\":\"Any\",\"default\":false}]},{\"type\":\"model\",\"name\":\"TemplateActions1\",\"properties\":[{\"name\":\"open_modal\",\"kind\":\"Any\",\"default\":0},{\"name\":\"close_modal\",\"kind\":\"Any\",\"default\":0}]},{\"type\":\"model\",\"name\":\"BootstrapTemplateActions1\",\"properties\":[{\"name\":\"open_modal\",\"kind\":\"Any\",\"default\":0},{\"name\":\"close_modal\",\"kind\":\"Any\",\"default\":0}]},{\"type\":\"model\",\"name\":\"TemplateEditor1\",\"properties\":[{\"name\":\"layout\",\"kind\":\"Any\",\"default\":[]}]},{\"type\":\"model\",\"name\":\"MaterialTemplateActions1\",\"properties\":[{\"name\":\"open_modal\",\"kind\":\"Any\",\"default\":0},{\"name\":\"close_modal\",\"kind\":\"Any\",\"default\":0}]},{\"type\":\"model\",\"name\":\"copy_to_clipboard1\",\"properties\":[{\"name\":\"fill\",\"kind\":\"Any\",\"default\":\"none\"},{\"name\":\"value\",\"kind\":\"Any\",\"default\":null}]}]}};\n",
       "  var render_items = [{\"docid\":\"62a8c2d7-7df8-4ee0-b01e-ad23c870d063\",\"roots\":{\"p1004\":\"cc2be2d7-3374-4042-b3f4-45d0cb86c3a7\"},\"root_ids\":[\"p1004\"]}];\n",
       "  var docs = Object.values(docs_json)\n",
       "  if (!docs) {\n",
       "    return\n",
       "  }\n",
       "  const py_version = docs[0].version.replace('rc', '-rc.').replace('.dev', '-dev.')\n",
       "  async function embed_document(root) {\n",
       "    var Bokeh = get_bokeh(root)\n",
       "    await Bokeh.embed.embed_items_notebook(docs_json, render_items);\n",
       "    for (const render_item of render_items) {\n",
       "      for (const root_id of render_item.root_ids) {\n",
       "\tconst id_el = document.getElementById(root_id)\n",
       "\tif (id_el.children.length && id_el.children[0].hasAttribute('data-root-id')) {\n",
       "\t  const root_el = id_el.children[0]\n",
       "\t  root_el.id = root_el.id + '-rendered'\n",
       "\t  for (const child of root_el.children) {\n",
       "            // Ensure JupyterLab does not capture keyboard shortcuts\n",
       "            // see: https://jupyterlab.readthedocs.io/en/4.1.x/extension/notebook.html#keyboard-interaction-model\n",
       "\t    child.setAttribute('data-lm-suppress-shortcuts', 'true')\n",
       "\t  }\n",
       "\t}\n",
       "      }\n",
       "    }\n",
       "  }\n",
       "  function get_bokeh(root) {\n",
       "    if (root.Bokeh === undefined) {\n",
       "      return null\n",
       "    } else if (root.Bokeh.version !== py_version) {\n",
       "      if (root.Bokeh.versions === undefined || !root.Bokeh.versions.has(py_version)) {\n",
       "\treturn null\n",
       "      }\n",
       "      return root.Bokeh.versions.get(py_version);\n",
       "    } else if (root.Bokeh.version === py_version) {\n",
       "      return root.Bokeh\n",
       "    }\n",
       "    return null\n",
       "  }\n",
       "  function is_loaded(root) {\n",
       "    var Bokeh = get_bokeh(root)\n",
       "    return (Bokeh != null && Bokeh.Panel !== undefined)\n",
       "  }\n",
       "  if (is_loaded(root)) {\n",
       "    embed_document(root);\n",
       "  } else {\n",
       "    var attempts = 0;\n",
       "    var timer = setInterval(function(root) {\n",
       "      if (is_loaded(root)) {\n",
       "        clearInterval(timer);\n",
       "        embed_document(root);\n",
       "      } else if (document.readyState == \"complete\") {\n",
       "        attempts++;\n",
       "        if (attempts > 200) {\n",
       "          clearInterval(timer);\n",
       "\t  var Bokeh = get_bokeh(root)\n",
       "\t  if (Bokeh == null || Bokeh.Panel == null) {\n",
       "            console.warn(\"Panel: ERROR: Unable to run Panel code because Bokeh or Panel library is missing\");\n",
       "\t  } else {\n",
       "\t    console.warn(\"Panel: WARNING: Attempting to render but not all required libraries could be resolved.\")\n",
       "\t    embed_document(root)\n",
       "\t  }\n",
       "        }\n",
       "      }\n",
       "    }, 25, root)\n",
       "  }\n",
       "})(window);</script>"
      ]
     },
     "metadata": {
      "application/vnd.holoviews_exec.v0+json": {
       "id": "p1004"
      }
     },
     "output_type": "display_data"
    },
    {
     "data": {
      "text/html": [
       "\n",
       "<div class=\"logo-block\">\n",
       "<img src='data:image/png;base64,iVBORw0KGgoAAAANSUhEUgAAAEAAAABACAYAAACqaXHeAAAABHNCSVQICAgIfAhkiAAAAAlwSFlz\n",
       "AAAB+wAAAfsBxc2miwAAABl0RVh0U29mdHdhcmUAd3d3Lmlua3NjYXBlLm9yZ5vuPBoAAA6zSURB\n",
       "VHic7ZtpeFRVmsf/5966taWqUlUJ2UioBBJiIBAwCZtog9IOgjqACsogKtqirT2ttt069nQ/zDzt\n",
       "tI4+CrJIREFaFgWhBXpUNhHZQoKBkIUASchWla1S+3ar7r1nPkDaCAnZKoQP/D7mnPOe9/xy76n3\n",
       "nFSAW9ziFoPFNED2LLK5wcyBDObkb8ZkxuaoSYlI6ZcOKq1eWFdedqNzGHQBk9RMEwFAASkk0Xw3\n",
       "ETacDNi2vtvc7L0ROdw0AjoSotQVkKSvHQz/wRO1lScGModBFbDMaNRN1A4tUBCS3lk7BWhQkgpD\n",
       "lG4852/+7DWr1R3uHAZVQDsbh6ZPN7CyxUrCzJMRouusj0ipRwD2uKm0Zn5d2dFwzX1TCGhnmdGo\n",
       "G62Nna+isiUqhkzuKrkQaJlPEv5mFl2fvGg2t/VnzkEV8F5ioioOEWkLG86fvbpthynjdhXYZziQ\n",
       "x1hC9J2NFyi8vCTt91Fh04KGip0AaG9zuCk2wQCVyoNU3Hjezee9bq92duzzTmxsRJoy+jEZZZYo\n",
       "GTKJ6SJngdJqAfRzpze0+jHreUtPc7gpBLQnIYK6BYp/uGhw9YK688eu7v95ysgshcg9qSLMo3JC\n",
       "4jqLKQFBgdKDPoQ+Pltb8dUyQLpeDjeVgI6EgLIQFT5tEl3rn2losHVsexbZ3EyT9wE1uGdkIPcy\n",
       "BGxn8QUq1QrA5nqW5i2tLqvrrM9NK6AdkVIvL9E9bZL/oyfMVd/jqvc8LylzRBKDJSzIExwhQzuL\n",
       "QYGQj4rHfFTc8mUdu3E7yoLtbTe9gI4EqVgVkug2i5+uXGo919ixbRog+3fTbQ8qJe4ZOYNfMoTI\n",
       "OoshUNosgO60AisX15aeI2PSIp5KiFLI9ubb1vV3Qb2ltwLakUCDAkWX7/nHKRmmGIl9VgYsUhJm\n",
       "2NXjKYADtM1ygne9QQDIXlk49FBstMKx66D1v4+XuQr7vqTe0VcBHQlRWiOCbmmSYe2SqtL6q5rJ\n",
       "zsTb7lKx3FKOYC4DoqyS/B5bvLPxvD9Qtf6saxYLQGJErmDOdOMr/zo96km1nElr8bmPOBwI9COv\n",
       "HnFPRIwmkSOv9kcAS4heRsidOkpeWBgZM+UBrTFAXNYL5Vf2ii9c1trNzpYdaoVil3WIc+wdk+gQ\n",
       "noie3ecCcxt9ITcLAPWt/laGEO/9U6PmzZkenTtsSMQ8uYywJVW+grCstAvCIaAdArAsIWkRDDs/\n",
       "KzLm2YcjY1Lv0UdW73HabE9n6V66cxSzfEmuJssTpKGVp+0vHq73FwL46eOjpMpbRAnNmJFrGJNu\n",
       "Ukf9Yrz+3rghiumCKNXXWPhLYcjxGsIpoCMsIRoFITkW8AuyM8jC1+/QLx4bozCEJIq38+1rtpR6\n",
       "V/yzb8eBlRb3fo5l783N0CWolAzJHaVNzkrTzlEp2bQ2q3TC5gn6wpnoQAmwSiGh2GitnTmVMc5O\n",
       "UyfKWUKCIsU7+fZDKwqdT6DDpvkzAX4/+AMFjk0tDp5GRXLpQ2MUmhgDp5gxQT8+Y7hyPsMi8uxF\n",
       "71H0oebujHALECjFKaW9Lm68n18wXp2kVzIcABytD5iXFzg+WVXkegpAsOOYziqo0OkK76GyquC3\n",
       "ltZAzMhhqlSNmmWTE5T6e3IN05ITFLM4GdN0vtZ3ob8Jh1NAKXFbm5PtLU/eqTSlGjkNAJjdgn/N\n",
       "aedXa0tdi7+t9G0FIF49rtMSEgAs1kDLkTPO7ebm4IUWeyh1bKomXqlgMG6kJmHcSM0clYLJ8XtR\n",
       "1GTnbV3F6I5wCGikAb402npp1h1s7LQUZZSMIfALFOuL3UUrfnS8+rez7v9qcold5tilgHbO1fjK\n",
       "9ubb17u9oshxzMiUBKXWqJNxd+fqb0tLVs4lILFnK71H0Ind7uiPgACVcFJlrb0tV6DzxqqTIhUM\n",
       "CwDf1/rrVhTa33/3pGPxJYdQ2l2cbgVcQSosdx8uqnDtbGjh9SlDVSMNWhlnilfqZk42Th2ZpLpf\n",
       "xrHec5e815zrr0dfBZSwzkZfqsv+1FS1KUknUwPARVvItfKUY+cn57yP7qv07UE3p8B2uhUwLk09\n",
       "e0SCOrK+hbdYHYLjRIl71wWzv9jpEoeOHhGRrJAzyEyNiJuUqX0g2sBN5kGK6y2Blp5M3lsB9Qh4\n",
       "y2Ja6x6+i0ucmKgwMATwhSjdUu49tKrQ/pvN5d53ml2CGwCmJipmKjgmyuaXzNeL2a0AkQ01Th5j\n",
       "2DktO3Jyk8f9vcOBQHV94OK+fPumJmvQHxJoWkaKWq9Vs+yUsbq0zGT1I4RgeH2b5wef7+c7bl8F\n",
       "eKgoHVVZa8ZPEORzR6sT1BzDUAD/d9F78e2Tzv99v8D+fLVTqAKAsbGamKey1Mt9Ann4eH3gTXTz\n",
       "idWtAJ8PQWOk7NzSeQn/OTHDuEikVF1R4z8BQCy+6D1aWRfY0tTGG2OM8rRoPaeIj5ZHzJxszElN\n",
       "VM8K8JS5WOfv8mzRnQAKoEhmt8gyPM4lU9SmBK1MCQBnW4KONT86v1hZ1PbwSXPw4JWussVjtH9Y\n",
       "NCoiL9UoH/6PSu8jFrfY2t36erQHXLIEakMi1SydmzB31h3GGXFDFNPaK8Rme9B79Ixrd0WN+1ij\n",
       "NRQ/doRmuFLBkHSTOm5GruG+pFjFdAmorG4IXH1Qua6ASniclfFtDYt+oUjKipPrCQB7QBQ2lrgP\n",
       "fFzm+9XWUtcqJ3/5vDLDpJ79XHZk3u8nGZ42qlj1+ydtbxysCezrydp6ugmipNJ7WBPB5tydY0jP\n",
       "HaVNzs3QzeE4ZpTbI+ZbnSFPbVOw9vsfnVvqWnirPyCNGD08IlqtYkh2hjZ5dErEQzoNm+6ykyOt\n",
       "Lt5/PQEuSRRKo22VkydK+vvS1XEKlhCJAnsqvcVvH7f/ZU2R67eXbMEGAMiIV5oWZWiWvz5Fv2xG\n",
       "sjqNJQRvn3Rs2lji/lNP19VjAQDgD7FHhujZB9OGqYxRkZxixgRDVlqS6uEOFaJUVu0rPFzctrnF\n",
       "JqijImVp8dEKVWyUXDk92zAuMZ6bFwpBU1HrOw6AdhQgUooChb0+ItMbWJitSo5Ws3IAOGEOtL53\n",
       "0vHZih9sC4vtofZ7Qu6523V/fmGcds1TY3V36pUsBwAbSlxnVh2xLfAD/IAIMDf7XYIkNmXfpp2l\n",
       "18rkAJAy9HKFaIr/qULkeQQKy9zf1JgDB2uaeFNGijo5QsUyacNUUTOnGO42xSnv4oOwpDi1zYkc\n",
       "efUc3I5Gk6PhyTuVKaOGyLUAYPGIoY9Pu/atL/L92+4q9wbflRJ2Trpm/jPjdBtfnqB/dIThcl8A\n",
       "KG7hbRuKnb8qsQsVvVlTrwQAQMUlf3kwJI24Z4JhPMtcfng5GcH49GsrxJpGvvHIaeem2ma+KSjQ\n",
       "lIwUdYyCY8j4dE1KzijNnIP2llF2wcXNnsoapw9XxsgYAl6k+KzUXbi2yP3KR2ecf6z3BFsBICdW\n",
       "nvnIaG3eHybqX7vbpEqUMT+9OL4Qpe8VON7dXuFd39v19FoAABRVePbGGuXTszO0P7tu6lghUonE\n",
       "llRdrhArLvmKdh9u29jcFiRRkfLUxBiFNiqSU9icoZQHo5mYBI1MBgBH6wMNb+U7Pnw337H4gi1Y\n",
       "ciWs+uks3Z9fztUvfzxTm9Ne8XXkvQLHNytOOZeiD4e0PgkAIAYCYknKUNUDSXEKzdWNpnil7r4p\n",
       "xqkjTarZMtk/K8TQ6Qve78qqvXurGwIJqcOUKfUWHsm8KGvxSP68YudXq4pcj39X49uOK2X142O0\n",
       "Tz5/u/7TVybqH0rSya6ZBwD21/gubbrgWdDgEOx9WUhfBaC2ibcEBYm7a7x+ukrBMNcEZggyR0TE\n",
       "T8zUPjikQ4VosQZbTpS4vqizBKvqmvjsqnpfzaZyx9JPiz1/bfGKdgD45XB1zoIMzYbfTdS/NClB\n",
       "Gct0USiY3YL/g0LHy/uq/Ef6uo5+n0R/vyhp17Klpge763f8rMu6YU/zrn2nml+2WtH+Z+5IAAFc\n",
       "2bUTdTDOSNa9+cQY7YLsOIXhevEkCvzph7a8laecz/Un/z4/Ae04XeL3UQb57IwU9ZDr9UuKVajv\n",
       "nxp1+1UVIo/LjztZkKH59fO3G/JemqCfmaCRqbqbd90ZZ8FfjtkfAyD0J/9+C2h1hDwsSxvGjNDc\n",
       "b4zk5NfrSwiQblLHzZhg+Jf4aPlUwpDqkQqa9nimbt1/TDH8OitGMaQnj+RJS6B1fbF7SY1TqO5v\n",
       "/v0WAADl1f7zokgS7s7VT2DZ7pegUjBM7mjtiDZbcN4j0YrHH0rXpCtY0qPX0cVL0rv5jv/ZXend\n",
       "0u/EESYBAFBU4T4Qa5TflZOhTe7pmKpaP8kCVUVw1+yhXfJWvn1P3hnXi33JsTN6PnP3hHZ8Z3/h\n",
       "aLHzmkNPuPj7Bc/F/Q38CwjTpSwQXgE4Vmwry9tpfq/ZFgqFMy4AVDtCvi8rvMvOmv0N4YwbVgEA\n",
       "sPM72/KVnzfspmH7HQGCRLG2yL1+z8XwvPcdCbsAANh+xPzstgMtxeGKt+6MK3/tacfvwhWvIwMi\n",
       "oKEBtm0H7W+UVfkc/Y1V0BhoPlDr/w1w/eu1vjIgAgDg22OtX6/eYfnEz/focrZTHAFR+PSs56/7\n",
       "q32nwpjazxgwAQCwcU/T62t3WL7r6/jVRa6/byp1rei+Z98ZUAEAhEPHPc8fKnTU9nbgtnOe8h0l\n",
       "9hcGIqmODLQAHCy2Xti6v/XNRivf43f4fFvIteu854+VHnR7q9tfBlwAAGz+pnndB9vM26UebAe8\n",
       "SLHujPOTPVW+rwY+sxskAAC2HrA8t2Vvc7ffP1r9o+vwR2dcr92InIAbKKC1FZ5tB1tf+/G8p8sv\n",
       "N/9Q5zd/XR34LYCwV5JdccMEAMDBk45DH243r/X4xGvqxFa/GNpS7n6rwOwNWwHVE26oAADYurf1\n",
       "zx/utOzt+DMKYM0p17YtZZ5VNzqfsB2HewG1WXE8PoZ7gOclbTIvynZf9JV+fqZtfgs/8F/Nu5rB\n",
       "EIBmJ+8QRMmpU7EzGRsf2FzuePqYRbzh/zE26EwdrT10f6r6o8HOYzCJB9Dpff8tbnGLG8L/A/WE\n",
       "roTBs2RqAAAAAElFTkSuQmCC'\n",
       "     style='height:25px; border-radius:12px; display: inline-block; float: left; vertical-align: middle'></img>\n",
       "\n",
       "\n",
       "\n",
       "\n",
       "  <img src='data:image/png;base64,iVBORw0KGgoAAAANSUhEUgAAACAAAAAgCAYAAABzenr0AAAABHNCSVQICAgIfAhkiAAAAAlwSFlz\n",
       "AAAFMAAABTABZarKtgAAABl0RVh0U29mdHdhcmUAd3d3Lmlua3NjYXBlLm9yZ5vuPBoAAArNSURB\n",
       "VFiFnVd5VFNXGv/ee0kgGyQhbFoXIKCFYEXEDVErTucMoKUOWA/VLsNSLPQgFTOdyrHPiIp1lFIQ\n",
       "OlaPShEG3EpPcQmISCuV1bQ1CLKIULeQhJA9JO+9+UMT0x5aPfOdc895373f/e7v/t537/ddBF5Q\n",
       "JBIJl81mJwCACEVRQBCEQhAEAQCgnghCURRCkmS7Wq2+WlJSYn0Rv8jzDHAcD0EQJIVGo5mFQuGF\n",
       "jIyMu39kq1KpkOrq6gU6nS6aIAiGzWY7VVBQ0P9/AcjNzWXy+fxcOp2uiY+Przm0d6+n8dblv/Fo\n",
       "kzM4SzYfPlRePvFnjnt6ehh1dXVv2mw2nlar/byoqMj8wgBwHBchCJIZEhJSeu1yHVi7vtu02t8+\n",
       "NykQ7BMWoOUMhXQsXLv5IQAwSJJEEASxcDicoeTk5DtCoZBy9XX69Gnv3t7ebJIky3EcH3guAKlU\n",
       "GoGiaOKWLVsOvhs7/9XXPMde3/IyIFbMnaPDuD5AUdQuOf2XlD0npTExMWYAgNbWVpZcLg8xGAzB\n",
       "JEnSvby82tPT052LaTQatLy8fBtJkt/s3Lnz5h8CwHFcRKPRNu/YsePAjh072KTs0IGCxRg8RgUB\n",
       "TGpSx6cmHgMAfNqN6Xa1GvJ/D35gYAAViURkcXHxUrPZHDRv3rxv4uLiDI7xPXv2bLdYLBUFBQWD\n",
       "jj7M8ZGbm8tkMpmSrKysQiaTScXGxtpqL7dManT6tcu5mgEWWJyOhicozpk+c3NsbKzNFcBbWWEf\n",
       "1Td9/upA30i3ZJv0h8bGxiSFQmFcuHDhOACAWCy+0d3dvX3lypUtzc3N9t8AiIuLk4SEhByLiooy\n",
       "AgAcO3ZsNlPgH3Cttb35JZo+bCYXIQAA9MDiUW7sWS1KN687w6Mera2twa2trfMvXboUOS28Pyb1\n",
       "U08McRtf/sXBSmt5cc35pqamVQqFwhoZGallMpnU/fv3e7RaberVq1d/AABAn1IfQqfTNRs3blQB\n",
       "AFy+fJk7Nja2XCKRnD3dNSorusPq6NfTPR+gPiEEoLRFXO1tS2+zavv27ReftjNttyr0S1/j0rUP\n",
       "PEJQwNwQYGgAACQSyXmNRhMtk8lYAAApKSlKDMP0+fn5QU4ACIKkxMfH1zjYuHnz5uspKSlOfdX7\n",
       "u68fvOePcCzKQR4YVCgATGfa/F3pnzaHWOAXSDyaMCqH2+r8VXErP3D+snXr1tV2dXW94dATExOr\n",
       "6XT6JgAAVCKRcDEMM4WHh9sAAHJyUqNu//wDymKx7AAAVVVVPiaTKXxByrYMvBsxEMSTwPXhuL+8\n",
       "e/fu9fv371+flvbemogYNz+TnsBOFEwMFO8/KzEYDKFVVVX+AAChoaGT7u7ud48ePRro0DEMs+bl\n",
       "5bFRNpud4O3tfdGBzq5uy/5wTUPM/q2zC9atmbVqeHg4Pi0t7WxGRoZFH5rw76I7LI8HqHfwPL7d\n",
       "rfVagzw1NfW81t4ePUfsP/OrnWZ6fPSuUqFQSEkkkrOjo6OvuQR5q0ajiXLoPj4+lzgcTjwKACLH\n",
       "9SqXy2kzhBO8haGo+UA2wZW+p880DxeveGt9aHx9fT09ctlq3sC0NT9e6xsbjuZblSxl7wKtVotM\n",
       "m6PnXvlmZJBtX91CEMQsxyJsNlteXl4udugIghAajQYFAEhPTx9AEGQOimGY8y4oLt63KlJkdB4t\n",
       "P282Z/c/dPrDH04ktJ9P2tfWXP3+2o1vHzunEp6Xq0lsGt08KzUrcSGTQ3n3XeefLCs5UqnT6Rap\n",
       "VCoEACA7O/snvV4f5gJooLa2NsihoygKKEVRzquTND2OCpttGXdG1tOxwOlgzdvE9v30rV+m3W5I\n",
       "2jfJNQmLH85QUUzPNTwvkAx0+vVGhq2/VV9fT+dyuZ01NTXOXQOA3fGxevXq2waDYY5r8KIoij5b\n",
       "jzB5Cz2oKdOo0erOm+1tVuVtBMZXElNMRJR1fvvjx9iPLQ/RjpuB0Xu/Vp7YmH1864YNG3oNBkPw\n",
       "VD7mzp1rJUnSzZUBmqsBggAgGFC/n6jVA+3WoN3tu1Gg39cg2tEx1Cg3CIJHsclxnl2HRorMN8Z0\n",
       "fRW+vr7GJ36Q56Z5h9BIknzGAMJWtvdQYs0EZe3/FSwqk5tpXEMb1JoYD+n8xRdQJl/fMPEgzKhS\n",
       "L40KCD7lGzg92qIyovpb3y/msT2un2psvFpWVvYyl8vtc1nDSXFXV5c7iqLOtEyS5LNBAADfWeKm\n",
       "Ly4uuvR1++sfv51/P5sfnHm2/Iy+mBmwsaHJbpt+Q0jHSS7TZ/PSNVkNJ/973OxtemD1s91CPb12\n",
       "h9MfvZsk5meo1eqo5ORkxTNWn7HR1tY2l8PhOAsUiqIolCRJcETtv/61qzNySYK5trZ2TCgUUiwW\n",
       "S1FSUhLR+bA/kAzwXcAbHa/cFhrTXrJ/v+7IkSPu3Je4Xm5eboJv2wba5QbO5fQwxhsP679Y+nFO\n",
       "jgAAoKSkJILFYjnBGI1G0YYNGwYBnqRoiqIQlKKojurq6gUAAAKBgKQoiuGYkJWVpTCZTOKmI1Xd\n",
       "HwnDcm+cOnOMw+H0FxYWbqpvqv/r9EV+bky+O+/QoUPiqJRt9JphTLFHbKBCR87tWL9EPN9oNIZn\n",
       "ZWUpXHaMCQQCEgCgsrIyEgBuoGq1+qpOp4t2GPH5/BvFxcVLHXpgYGDD8ePH/56Xl2cCAMjMzOxP\n",
       "S0s7pWfow4RCbz/fAF9RT0+P9yeffHJySSqev+9nxLD1FaAlTR8vlJ8vxxzsFhUVLRMIBB0OvwaD\n",
       "YRlFUdfQkpISK0EQ9J6eHgYAQEZGxl2z2Rw0MjJCBwBITk5+xOVyfzpw4ECSw5lQKKQIbxtJm4EN\n",
       "8eZ7jPz0oNv+dK5FG/jq54eH+IFr/S1KabBy0UerAvI+++wzD4vFEpCWljYEACCTyVh2ux3FcXwS\n",
       "BQCw2WxVdXV1bzrQRURE1FVVVTn1zMzM/pkzZ35/9OjRd0pLS19RqVQIy4/tCwDgOcPTQvFQEQBA\n",
       "aWnpK0ERK2LbyVllN341GUJ4YDu8zD5bKyur7O+85tx9Z2fnO1ar9QjA04KkpaVFs2LFir8olcq7\n",
       "YWFhJpFINNnX16drbGyMjY6Ovg0AIBaLjcuXL5d3d3d7XbhwIW704b3F479MeD1qVfJ5Og/bvb4R\n",
       "LwaDMZabm9uwflNa/z/3HOIv5NsDEK7XS7FeevXPvYNLvm5S/GglCK5KpZorlUobXE8g5ObmMqVS\n",
       "6UG1Wu1BURSHoijOiRMnwgoLC7coFAqBo+9Fm0KhEKStmvvto3TeucFN7pVJYbytarXaQyqVHsRx\n",
       "3N15TF1BuBaljr4rV66wOzo63mAymXdzcnKuwwtIUVHRMqvVGkgQxMV7NXvyJijGvcNXB/7z5Zdf\n",
       "bicI4gSO40NTAgD4bVnuODIAT2pElUq1FEEQO4fD6QsPD++fqixHEATj8/ntjoCrqKhwS0hIsJWV\n",
       "leURBHEOx3G563pT3tn5+flBDAbjg6CgoMMpKSlK17GhoSFMJpMFPk04DJIkEQzDzCwW6+5UD5Oa\n",
       "mhrfO3fufECS5GHXnf8pAAAAHMfdURTdimGYPjExsTo0NHTyj2ynEplMxurs7HyHIAiKJMlSHMct\n",
       "U9k9N2vl5+cH0en0TRiGWX18fC65vnh+LxqNBq2oqFhgMpmi7XY7arVaj+zdu/fxn/l/4bSZl5fH\n",
       "5nK5CQAQMtXznCRJePpEbwOAZhzHX4ix/wHzzC/tu64gcwAAAABJRU5ErkJggg=='\n",
       "       style='height:15px; border-radius:12px; display: inline-block; float: left'></img>\n",
       "  \n",
       "\n",
       "\n",
       "</div>\n"
      ]
     },
     "metadata": {},
     "output_type": "display_data"
    }
   ],
   "source": [
    "# data.index.to_numpy()\n",
    "import holoviews as hv\n",
    "hv.extension('matplotlib')"
   ]
  },
  {
   "cell_type": "code",
   "execution_count": 66,
   "metadata": {},
   "outputs": [
    {
     "data": {
      "text/html": [
       "<img src='data:image/png;base64,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' style='max-width:100%; margin: auto; display: block; '/>"
      ],
      "text/plain": [
       ":Scatter   [x]   (y)"
      ]
     },
     "execution_count": 66,
     "metadata": {
      "application/vnd.holoviews_exec.v0+json": {}
     },
     "output_type": "execute_result"
    }
   ],
   "source": [
    "# hv.Scatter(np.arange(9))\n",
    "hv.Scatter((tbin[1:], data))"
   ]
  },
  {
   "cell_type": "code",
   "execution_count": 67,
   "metadata": {},
   "outputs": [
    {
     "data": {
      "text/plain": [
       "np.void((357492, 1, 1, 7000, 2, 28000, 1, (2831923013430, 43, 26), (2831922996464, 56, 1606), (0, 0, 0), (0, 0, 0), (0, 0, 0), (0, 0, 0)), dtype=[('eventid', '<u4'), ('type', 'i1'), ('number of waveforms', 'u1'), ('waveform length', '<u2'), ('number of triggers', '<i2'), ('event request size', '<u4'), ('requested?', 'u1'), ('Trig0', [('timestamp', '<u8'), ('bc', 'u1'), ('energy', '<u2')]), ('Trig1', [('timestamp', '<u8'), ('bc', 'u1'), ('energy', '<u2')]), ('Trig2', [('timestamp', '<u8'), ('bc', 'u1'), ('energy', '<u2')]), ('Trig3', [('timestamp', '<u8'), ('bc', 'u1'), ('energy', '<u2')]), ('Trig4', [('timestamp', '<u8'), ('bc', 'u1'), ('energy', '<u2')]), ('Trig5', [('timestamp', '<u8'), ('bc', 'u1'), ('energy', '<u2')])])"
      ]
     },
     "execution_count": 67,
     "metadata": {},
     "output_type": "execute_result"
    }
   ],
   "source": [
    "events[4]"
   ]
  },
  {
   "cell_type": "code",
   "execution_count": null,
   "metadata": {},
   "outputs": [],
   "source": []
  }
 ],
 "metadata": {
  "kernelspec": {
   "display_name": "Python 3 (ipykernel)",
   "language": "python",
   "name": "python3"
  },
  "language_info": {
   "codemirror_mode": {
    "name": "ipython",
    "version": 3
   },
   "file_extension": ".py",
   "mimetype": "text/x-python",
   "name": "python",
   "nbconvert_exporter": "python",
   "pygments_lexer": "ipython3",
   "version": "3.12.3"
  }
 },
 "nbformat": 4,
 "nbformat_minor": 4
}
