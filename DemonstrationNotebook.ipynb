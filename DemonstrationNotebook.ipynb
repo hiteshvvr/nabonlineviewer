{
 "cells": [
  {
   "cell_type": "markdown",
   "metadata": {},
   "source": [
    "# Demonstration Notebook\n",
    "This is a Notebook designed to demonstrate how to use some of the different functions in the code.\n",
    "It doesn't show everything but shows some of the core features. First we need to import pyNab itself."
   ]
  },
  {
   "cell_type": "markdown",
   "metadata": {},
   "source": [
    "First we need to import pyNab itself.\n",
    "You may see various messages during this import related to features being enabled or disabled. "
   ]
  },
  {
   "cell_type": "code",
   "execution_count": 1,
   "metadata": {},
   "outputs": [],
   "source": [
    "# # from matplotlib.pyplot import axis\n",
    "# import numpy as np\n",
    "# # import h5py as hd\n",
    "# import pandas as pd\n",
    "import sys\n",
    "\n",
    "nabPath = \"/Users/seeker/TNwork/nabonlineanalysis/nabpyinstallations/pyNab/src\"\n",
    "deltaRicePath = \"/Users/seeker/TNwork/nabonlineanalysis/nabpyinstallations/deltarice/build/lib.macosx-11.0-arm64-cpython-312/\"\n",
    "\n",
    "sys.path.append(deltaRicePath)\n",
    "sys.path.append(nabPath)\n",
    "\n",
    "import nabPy as Nab"
   ]
  },
  {
   "cell_type": "code",
   "execution_count": 11,
   "metadata": {},
   "outputs": [],
   "source": [
    "# import pyNab as Nab"
   ]
  },
  {
   "cell_type": "markdown",
   "metadata": {},
   "source": [
    "pyNab has a variety of optional features that are enabled if they are detected on your computer. \n",
    "- GPU support through cupy\n",
    "- FPGA emulation through fxpmath fixed precision library\n",
    "- Accelerated FFT operations with pyFFTW (or GPU if available)\n",
    "- Custom HDF5 compression through nabCompression.h5 (soon to be renamed)"
   ]
  },
  {
   "cell_type": "markdown",
   "metadata": {},
   "source": [
    "## Introduction to pyNab and How it Works"
   ]
  },
  {
   "cell_type": "markdown",
   "metadata": {},
   "source": [
    "pyNab is built around a series of different modules/classes. \n",
    "Each module/class serves a distinct purpose motivated by data in the Nab experiment\n",
    "\n",
    "- pyNab.py: Defines DataRun Class\n",
    "    - Loads in all sub-modules to combine all of the data from a single run\n",
    "    - waveformFileClass.py: pyNab.wf : Defines waveformFile Class\n",
    "        - .singl, .pulsr, .noise, .coinc\n",
    "        - Loads in waveform files specifically\n",
    "        - Uses Dask/Numpy to load in the waveforms themselves\n",
    "        - Uses Pandas to handle the headers for each waveform\n",
    "    - temperatureFileClass.py : pyNab.tmf : temperatureFile Class\n",
    "        - .tmprt\n",
    "        - Loads in the FPGA temperatures\n",
    "    - parameterFileClass.py : pyNab.pf : parameterFile Class\n",
    "        - .param\n",
    "        - Parses the .param output file from Manitoba data to load in pixel maps and other useful run parameters\n",
    "        - For ORNL datasets, parses the HDF5 parameter group\n",
    "    - eventFileClass.py: pyNab.ef : Defines eventFile Class\n",
    "        - .event\n",
    "        - Loads in the events as identified by the DAQ. Not particularly useful for Manitoba data due to formatting issues\n",
    "        - Will be updated with more functionality for ORNL datasets\n",
    "    - triggerFileClass.py: pyNab.tf : Defines triggerFile Class\n",
    "        - .trigg\n",
    "        - This class handles the triggers returned from the FPGAs\n",
    "        - also implements some basic cutting routines\n",
    "    - resultFileClass.py : pyNab.rf : resultFile Class\n",
    "        - Handles the results from certain analysis functions in waveformFileClass\n",
    "        - Basically wraps around pandas dataframes with some extra functionality thrown in \n",
    "            - In particular cutting routines\n",
    "            - Some basic plotting routines and some other functionality as well\n",
    "    There are also other files that are responsible for file formatting and data processing.\n",
    "\n",
    "    - basicFunctions.py : bf\n",
    "        - It's name is a lie. This is where all the analysis code is defined\n",
    "    - gpuFunctions.py : pyNab.bf.gpu\n",
    "        - Where the GPU functions are defined. Currently doesn't have much, work in progress\n",
    "    - fileFormats.py : pyNab.ff\n",
    "        - This is where the binary file formats are defined for the structured binary files such as from Manitoba"
   ]
  },
  {
   "cell_type": "markdown",
   "metadata": {},
   "source": [
    "## Opening a whole Run of Data"
   ]
  },
  {
   "cell_type": "markdown",
   "metadata": {},
   "source": [
    "The Class DataRun handles opening entire sets of data that were output from the DAQ. The user is expected to pass this class a directory to search for files, and the run number. This code will automatically open ALL files associated with this run that are in the directory. Missing files will cause errors."
   ]
  },
  {
   "cell_type": "code",
   "execution_count": 12,
   "metadata": {},
   "outputs": [],
   "source": [
    "runNumber = 1374\n",
    "directory = 'C:\\\\Users\\\\David\\\\Documents\\\\datafiles\\\\pNabDemoData\\\\'"
   ]
  },
  {
   "cell_type": "code",
   "execution_count": 13,
   "metadata": {},
   "outputs": [
    {
     "ename": "FileNotFoundError",
     "evalue": "[Errno 2] No such file or directory: 'C:\\\\Users\\\\David\\\\Documents\\\\datafiles\\\\pNabDemoData\\\\'",
     "output_type": "error",
     "traceback": [
      "\u001b[0;31m---------------------------------------------------------------------------\u001b[0m",
      "\u001b[0;31mFileNotFoundError\u001b[0m                         Traceback (most recent call last)",
      "Cell \u001b[0;32mIn[13], line 1\u001b[0m\n\u001b[0;32m----> 1\u001b[0m runWithEvents \u001b[38;5;241m=\u001b[39m \u001b[43mNab\u001b[49m\u001b[38;5;241;43m.\u001b[39;49m\u001b[43mDataRun\u001b[49m\u001b[43m(\u001b[49m\u001b[43mdirectory\u001b[49m\u001b[43m,\u001b[49m\u001b[43m \u001b[49m\u001b[43mrunNumber\u001b[49m\u001b[43m)\u001b[49m\n",
      "File \u001b[0;32m~/TNwork/nabonlineanalysis/nabpyinstallations/pyNab/src/nabPy/nabPy.py:49\u001b[0m, in \u001b[0;36mDataRun.__init__\u001b[0;34m(self, directory, runNumber, ignoreEventFile, bulkRead, subRunMin, subRunMax, printLoadTimes)\u001b[0m\n\u001b[1;32m     47\u001b[0m \u001b[38;5;28mself\u001b[39m\u001b[38;5;241m.\u001b[39msubRunMin \u001b[38;5;241m=\u001b[39m subRunMin\n\u001b[1;32m     48\u001b[0m \u001b[38;5;28mself\u001b[39m\u001b[38;5;241m.\u001b[39msubRunMax \u001b[38;5;241m=\u001b[39m subRunMax\n\u001b[0;32m---> 49\u001b[0m res \u001b[38;5;241m=\u001b[39m \u001b[38;5;28;43mself\u001b[39;49m\u001b[38;5;241;43m.\u001b[39;49m\u001b[43m__findRelevantFiles\u001b[49m\u001b[43m(\u001b[49m\u001b[43m)\u001b[49m\n\u001b[1;32m     50\u001b[0m \u001b[38;5;28;01mif\u001b[39;00m res \u001b[38;5;241m==\u001b[39m \u001b[38;5;241m-\u001b[39m\u001b[38;5;241m1\u001b[39m:\n\u001b[1;32m     51\u001b[0m \t\u001b[38;5;28mprint\u001b[39m(\u001b[38;5;124m'\u001b[39m\u001b[38;5;124mno DataRun class created\u001b[39m\u001b[38;5;124m'\u001b[39m)\n",
      "File \u001b[0;32m~/TNwork/nabonlineanalysis/nabpyinstallations/pyNab/src/nabPy/nabPy.py:72\u001b[0m, in \u001b[0;36mDataRun.__findRelevantFiles\u001b[0;34m(self)\u001b[0m\n\u001b[1;32m     70\u001b[0m \u001b[38;5;28mself\u001b[39m\u001b[38;5;241m.\u001b[39m__triggFilenames \u001b[38;5;241m=\u001b[39m []\n\u001b[1;32m     71\u001b[0m \u001b[38;5;66;03m#basically go through the directory and find all of the files that match this description and whatnot\u001b[39;00m\n\u001b[0;32m---> 72\u001b[0m tmp \u001b[38;5;241m=\u001b[39m [f \u001b[38;5;28;01mfor\u001b[39;00m f \u001b[38;5;129;01min\u001b[39;00m \u001b[43mos\u001b[49m\u001b[38;5;241;43m.\u001b[39;49m\u001b[43mlistdir\u001b[49m\u001b[43m(\u001b[49m\u001b[38;5;28;43mself\u001b[39;49m\u001b[38;5;241;43m.\u001b[39;49m\u001b[43mdirectory\u001b[49m\u001b[43m)\u001b[49m \u001b[38;5;28;01mif\u001b[39;00m os\u001b[38;5;241m.\u001b[39mpath\u001b[38;5;241m.\u001b[39misfile(os\u001b[38;5;241m.\u001b[39mpath\u001b[38;5;241m.\u001b[39mjoin(\u001b[38;5;28mself\u001b[39m\u001b[38;5;241m.\u001b[39mdirectory, f))]\n\u001b[1;32m     73\u001b[0m tmp \u001b[38;5;241m=\u001b[39m bf\u001b[38;5;241m.\u001b[39mnatural_sort(tmp)\n\u001b[1;32m     74\u001b[0m \u001b[38;5;28;01mfor\u001b[39;00m file \u001b[38;5;129;01min\u001b[39;00m tmp:\n\u001b[1;32m     75\u001b[0m \t\u001b[38;5;66;03m#first check to see if it's run number matches what we want\u001b[39;00m\n",
      "\u001b[0;31mFileNotFoundError\u001b[0m: [Errno 2] No such file or directory: 'C:\\\\Users\\\\David\\\\Documents\\\\datafiles\\\\pNabDemoData\\\\'"
     ]
    }
   ],
   "source": [
    "runWithEvents = Nab.DataRun(directory, runNumber)"
   ]
  },
  {
   "cell_type": "markdown",
   "metadata": {},
   "source": [
    "You'll probably notice this takes a bit to run. This is normally due to the eventFile Class. This class is very inefficient for the Manitoba dataset because of file format issues. If you want to avoid that, try this instead."
   ]
  },
  {
   "cell_type": "code",
   "execution_count": 14,
   "metadata": {},
   "outputs": [
    {
     "ename": "FileNotFoundError",
     "evalue": "[Errno 2] No such file or directory: 'C:\\\\Users\\\\David\\\\Documents\\\\datafiles\\\\pNabDemoData\\\\'",
     "output_type": "error",
     "traceback": [
      "\u001b[0;31m---------------------------------------------------------------------------\u001b[0m",
      "\u001b[0;31mFileNotFoundError\u001b[0m                         Traceback (most recent call last)",
      "Cell \u001b[0;32mIn[14], line 1\u001b[0m\n\u001b[0;32m----> 1\u001b[0m runWithoutEvents \u001b[38;5;241m=\u001b[39m \u001b[43mNab\u001b[49m\u001b[38;5;241;43m.\u001b[39;49m\u001b[43mDataRun\u001b[49m\u001b[43m(\u001b[49m\u001b[43mdirectory\u001b[49m\u001b[43m,\u001b[49m\u001b[43m \u001b[49m\u001b[43mrunNumber\u001b[49m\u001b[43m,\u001b[49m\u001b[43m \u001b[49m\u001b[43mignoreEventFile\u001b[49m\u001b[43m \u001b[49m\u001b[38;5;241;43m=\u001b[39;49m\u001b[43m \u001b[49m\u001b[38;5;28;43;01mTrue\u001b[39;49;00m\u001b[43m)\u001b[49m\n",
      "File \u001b[0;32m~/TNwork/nabonlineanalysis/nabpyinstallations/pyNab/src/nabPy/nabPy.py:49\u001b[0m, in \u001b[0;36mDataRun.__init__\u001b[0;34m(self, directory, runNumber, ignoreEventFile, bulkRead, subRunMin, subRunMax, printLoadTimes)\u001b[0m\n\u001b[1;32m     47\u001b[0m \u001b[38;5;28mself\u001b[39m\u001b[38;5;241m.\u001b[39msubRunMin \u001b[38;5;241m=\u001b[39m subRunMin\n\u001b[1;32m     48\u001b[0m \u001b[38;5;28mself\u001b[39m\u001b[38;5;241m.\u001b[39msubRunMax \u001b[38;5;241m=\u001b[39m subRunMax\n\u001b[0;32m---> 49\u001b[0m res \u001b[38;5;241m=\u001b[39m \u001b[38;5;28;43mself\u001b[39;49m\u001b[38;5;241;43m.\u001b[39;49m\u001b[43m__findRelevantFiles\u001b[49m\u001b[43m(\u001b[49m\u001b[43m)\u001b[49m\n\u001b[1;32m     50\u001b[0m \u001b[38;5;28;01mif\u001b[39;00m res \u001b[38;5;241m==\u001b[39m \u001b[38;5;241m-\u001b[39m\u001b[38;5;241m1\u001b[39m:\n\u001b[1;32m     51\u001b[0m \t\u001b[38;5;28mprint\u001b[39m(\u001b[38;5;124m'\u001b[39m\u001b[38;5;124mno DataRun class created\u001b[39m\u001b[38;5;124m'\u001b[39m)\n",
      "File \u001b[0;32m~/TNwork/nabonlineanalysis/nabpyinstallations/pyNab/src/nabPy/nabPy.py:72\u001b[0m, in \u001b[0;36mDataRun.__findRelevantFiles\u001b[0;34m(self)\u001b[0m\n\u001b[1;32m     70\u001b[0m \u001b[38;5;28mself\u001b[39m\u001b[38;5;241m.\u001b[39m__triggFilenames \u001b[38;5;241m=\u001b[39m []\n\u001b[1;32m     71\u001b[0m \u001b[38;5;66;03m#basically go through the directory and find all of the files that match this description and whatnot\u001b[39;00m\n\u001b[0;32m---> 72\u001b[0m tmp \u001b[38;5;241m=\u001b[39m [f \u001b[38;5;28;01mfor\u001b[39;00m f \u001b[38;5;129;01min\u001b[39;00m \u001b[43mos\u001b[49m\u001b[38;5;241;43m.\u001b[39;49m\u001b[43mlistdir\u001b[49m\u001b[43m(\u001b[49m\u001b[38;5;28;43mself\u001b[39;49m\u001b[38;5;241;43m.\u001b[39;49m\u001b[43mdirectory\u001b[49m\u001b[43m)\u001b[49m \u001b[38;5;28;01mif\u001b[39;00m os\u001b[38;5;241m.\u001b[39mpath\u001b[38;5;241m.\u001b[39misfile(os\u001b[38;5;241m.\u001b[39mpath\u001b[38;5;241m.\u001b[39mjoin(\u001b[38;5;28mself\u001b[39m\u001b[38;5;241m.\u001b[39mdirectory, f))]\n\u001b[1;32m     73\u001b[0m tmp \u001b[38;5;241m=\u001b[39m bf\u001b[38;5;241m.\u001b[39mnatural_sort(tmp)\n\u001b[1;32m     74\u001b[0m \u001b[38;5;28;01mfor\u001b[39;00m file \u001b[38;5;129;01min\u001b[39;00m tmp:\n\u001b[1;32m     75\u001b[0m \t\u001b[38;5;66;03m#first check to see if it's run number matches what we want\u001b[39;00m\n",
      "\u001b[0;31mFileNotFoundError\u001b[0m: [Errno 2] No such file or directory: 'C:\\\\Users\\\\David\\\\Documents\\\\datafiles\\\\pNabDemoData\\\\'"
     ]
    }
   ],
   "source": [
    "runWithoutEvents = Nab.DataRun(directory, runNumber, ignoreEventFile = True)"
   ]
  },
  {
   "cell_type": "markdown",
   "metadata": {},
   "source": [
    "Now you have the same set of data, but one of them has the events and the other doesn't.\n",
    "\n",
    "Note that while these do use some RAM, they don't use nearly as much RAM as the whole file size. This is because of the use of Dask to handle the waveform files. These files are only loaded when you specifically request that data to be processed, saving memory and allowing you to handle very large amounts of data easily. "
   ]
  },
  {
   "cell_type": "code",
   "execution_count": 15,
   "metadata": {},
   "outputs": [],
   "source": [
    "runWithEvents = None\n",
    "runWithoutEvents = None"
   ]
  },
  {
   "cell_type": "markdown",
   "metadata": {},
   "source": [
    "## Getting information from the files"
   ]
  },
  {
   "cell_type": "markdown",
   "metadata": {},
   "source": [
    "Plenty of information is available through the class itself"
   ]
  },
  {
   "cell_type": "code",
   "execution_count": 36,
   "metadata": {},
   "outputs": [],
   "source": [
    "# runNumber = 1375\n",
    "# directory = 'G:\\\\Shared drives\\\\Nab\\\\Manitoba Tests\\\\Manitoba Data\\\\01-26-2022 Sn113 Partial Bias Scan + 3hr -300V Bias Run\\\\'\n",
    "# run = Nab.DataRun(directory, runNumber, ignoreEventFile = True)\n",
    "\n",
    "file = \"../../../nabanalysis/TearDropAnalysis/data/Run3516_1.h5\"\n",
    "run = Nab.File(file)"
   ]
  },
  {
   "cell_type": "code",
   "execution_count": 39,
   "metadata": {},
   "outputs": [
    {
     "name": "stdout",
     "output_type": "stream",
     "text": [
      "There are  271900  singles waveforms, each is  7000  long\n",
      "There are  32382  coincidence waveforms, each is  7000  long\n",
      "There are  0  pulser waveforms, each is  0  long\n",
      "There are  0  noise waveforms, each is  0  long\n",
      "There are  312159  triggers\n"
     ]
    }
   ],
   "source": [
    "print('There are ', run.singleWaves().numWaves, ' singles waveforms, each is ', run.singleWaves().wavelength, ' long')\n",
    "print('There are ', run.coincWaves().numWaves, ' coincidence waveforms, each is ', run.coincWaves().wavelength, ' long')\n",
    "print('There are ', run.pulsrWaves().numWaves, ' pulser waveforms, each is ', run.pulsrWaves().wavelength, ' long')\n",
    "print('There are ', run.noiseWaves().numWaves, ' noise waveforms, each is ', run.noiseWaves().wavelength, ' long')\n",
    "print('There are ', run.triggers().numtrigs, ' triggers')"
   ]
  },
  {
   "cell_type": "markdown",
   "metadata": {},
   "source": [
    "Metadata such as the filter parameters is available through the parameters class."
   ]
  },
  {
   "cell_type": "code",
   "execution_count": 18,
   "metadata": {
    "collapsed": true,
    "jupyter": {
     "outputs_hidden": true
    },
    "tags": []
   },
   "outputs": [
    {
     "name": "stdout",
     "output_type": "stream",
     "text": [
      "[('threshold', '<i4'), ('M', '<i4'), ('Trap F.T.', '<u2'), ('Trap R.T.', '<u2'), ('Dead Time', '<u2')]\n",
      "[(500000,   625, 20, 625, 700) (    25,   625, 20, 625, 700)\n",
      " (    25,   625, 20, 625, 700) (   200,   625, 20, 625, 700)\n",
      " (   200,   625, 20, 625, 700) (    25,   625, 20, 625, 700)\n",
      " (    25,   625, 20, 625, 700) (    25,   625, 20, 625, 700)\n",
      " (    25,   625, 20, 625, 700) (    25,   625, 20, 625, 700)\n",
      " (    25,   625, 20, 625, 700) (    25,   625, 20, 625, 700)\n",
      " (    25,   625, 20, 625, 700) (    25,   625, 20, 625, 700)\n",
      " (   200,   625, 20, 625, 700) (    25,   625, 20, 625, 700)\n",
      " (    25,   625, 20, 625, 700) (    25,   625, 20, 625, 700)\n",
      " (   200,   625, 20, 625, 700) (    25,   625, 20, 625, 700)\n",
      " (    25,   625, 20, 625, 700) (    25,   625, 20, 625, 700)\n",
      " (   200,   625, 20, 625, 700) (    25,   625, 20, 625, 700)\n",
      " (   200,   625, 20, 625, 700) (    25,   625, 20, 625, 700)\n",
      " (    25,   625, 20, 625, 700) (    25,   625, 20, 625, 700)\n",
      " (   200,   625, 20, 625, 700) (    25,   625, 20, 625, 700)\n",
      " (   200,   625, 20, 625, 700) (    25,   625, 20, 625, 700)\n",
      " (    25,   625, 20, 625, 700) (    25,   625, 20, 625, 700)\n",
      " (    25,   625, 20, 625, 700) (    25,   625, 20, 625, 700)\n",
      " (    25,   625, 20, 625, 700) (    25,   625, 20, 625, 700)\n",
      " (   200,   625, 20, 625, 700) (   200,   625, 20, 625, 700)\n",
      " (   200,   625, 20, 625, 700) (    25,   625, 20, 625, 700)\n",
      " (    25,   625, 20, 625, 700) (    25,   625, 20, 625, 700)\n",
      " (    25,   625, 20, 625, 700) (    25,   625, 20, 625, 700)\n",
      " (    25,   625, 20, 625, 700) (    25,   625, 20, 625, 700)\n",
      " (    25,   625, 20, 625, 700) (   200,   625, 20, 625, 700)\n",
      " (   200,   625, 20, 625, 700) (    25,   625, 20, 625, 700)\n",
      " (   200,   625, 20, 625, 700) (   200,   625, 20, 625, 700)\n",
      " (    25,   625, 20, 625, 700) (    25,   625, 20, 625, 700)\n",
      " (    25,   625, 20, 625, 700) (   200,   625, 20, 625, 700)\n",
      " (    25,   625, 20, 625, 700) (    25,   625, 20, 625, 700)\n",
      " (    25,   625, 20, 625, 700) (    25,   625, 20, 625, 700)\n",
      " (    25,   625, 20, 625, 700) (   200,   625, 20, 625, 700)\n",
      " (    35,   625, 20, 625, 700) (    35,   625, 20, 625, 700)\n",
      " (    35,   625, 20, 625, 700) (    35,   625, 20, 625, 700)\n",
      " (    35,   625, 20, 625, 700) (    35,   625, 20, 625, 700)\n",
      " (    25,   625, 20, 625, 700) (    25,   625, 20, 625, 700)\n",
      " (    25,   625, 20, 625, 700) (   200,   625, 20, 625, 700)\n",
      " (   200,   625, 20, 625, 700) (   200,   625, 20, 625, 700)\n",
      " (500000,   625, 20, 625, 700) (500000,   625, 20, 625, 700)\n",
      " (   200,   625, 20, 625, 700) (    25,   625, 20, 625, 700)\n",
      " (   200,   625, 20, 625, 700) (    25,   625, 20, 625, 700)\n",
      " (    25,   625, 20, 625, 700) (    25,   625, 20, 625, 700)\n",
      " (   200,   625, 20, 625, 700) (    25,   625, 20, 625, 700)\n",
      " (   200,   625, 20, 625, 700) (   200,   625, 20, 625, 700)\n",
      " (    25,   625, 20, 625, 700) (    25,   625, 20, 625, 700)\n",
      " (    25,   625, 20, 625, 700) (    25,   625, 20, 625, 700)\n",
      " (    25,   625, 20, 625, 700) (    25,   625, 20, 625, 700)\n",
      " (   200,   625, 20, 625, 700) (   200,   625, 20, 625, 700)\n",
      " (   200,   625, 20, 625, 700) (    25,   625, 20, 625, 700)\n",
      " (   200,   625, 20, 625, 700) (    25,   625, 20, 625, 700)\n",
      " (   200,   625, 20, 625, 700) (    25,   625, 20, 625, 700)\n",
      " (    25,   625, 20, 625, 700) (   200,   625, 20, 625, 700)\n",
      " (    25,   625, 20, 625, 700) (   200,   625, 20, 625, 700)\n",
      " (   200,   625, 20, 625, 700) (    25,   625, 20, 625, 700)\n",
      " (    25,   625, 20, 625, 700) (    25,   625, 20, 625, 700)\n",
      " (    25,   625, 20, 625, 700) (    25,   625, 20, 625, 700)\n",
      " (    25,   625, 20, 625, 700) (   200,   625, 20, 625, 700)\n",
      " (    25,   625, 20, 625, 700) (    25,   625, 20, 625, 700)\n",
      " (    25,   625, 20, 625, 700) (    25,   625, 20, 625, 700)\n",
      " (   200,   625, 20, 625, 700) (    15, 10000, 20, 625, 700)\n",
      " (   300,   625, 20, 625, 700) (   300,   625, 20, 625, 700)\n",
      " (   300,   625, 20, 625, 700) (   300,   625, 20, 625, 700)\n",
      " (   300,   625, 20, 625, 700) (   300,   625, 20, 625, 700)\n",
      " (   300,   625, 20, 625, 700) (   300,   625, 20, 625, 700)\n",
      " (   300,   625, 20, 625, 700) (   300,   625, 20, 625, 700)\n",
      " (   300,   625, 20, 625, 700) (   300,   625, 20, 625, 700)\n",
      " (   300,   625, 20, 625, 700) (   300,   625, 20, 625, 700)\n",
      " (   300,   625, 20, 625, 700) (   300,   625, 20, 625, 700)\n",
      " (   300,   625, 20, 625, 700) (   300,   625, 20, 625, 700)\n",
      " (   300,   625, 20, 625, 700) (   300,   625, 20, 625, 700)\n",
      " (   300,   625, 20, 625, 700) (   300,   625, 20, 625, 700)\n",
      " (   300,   625, 20, 625, 700) (   300,   625, 20, 625, 700)\n",
      " (   300,   625, 20, 625, 700) (   300,   625, 20, 625, 700)\n",
      " (   300,   625, 20, 625, 700) (   300,   625, 20, 625, 700)\n",
      " (   300,   625, 20, 625, 700) (   300,   625, 20, 625, 700)\n",
      " (   300,   625, 20, 625, 700) (   300,   625, 20, 625, 700)\n",
      " (   300,   625, 20, 625, 700) (   300,   625, 20, 625, 700)\n",
      " (   300,   625, 20, 625, 700) (   300,   625, 20, 625, 700)\n",
      " (   300,   625, 20, 625, 700) (   300,   625, 20, 625, 700)\n",
      " (   300,   625, 20, 625, 700) (   300,   625, 20, 625, 700)\n",
      " (   300,   625, 20, 625, 700) (   300,   625, 20, 625, 700)\n",
      " (   300,   625, 20, 625, 700) (   300,   625, 20, 625, 700)\n",
      " (   300,   625, 20, 625, 700) (   300,   625, 20, 625, 700)\n",
      " (500000,   625, 20, 625, 700) (   300,   625, 20, 625, 700)\n",
      " (   300,   625, 20, 625, 700) (   300,   625, 20, 625, 700)\n",
      " (   300,   625, 20, 625, 700) (   300,   625, 20, 625, 700)\n",
      " (   300,   625, 20, 625, 700) (   300,   625, 20, 625, 700)\n",
      " (   300,   625, 20, 625, 700) (   300,   625, 20, 625, 700)\n",
      " (   300,   625, 20, 625, 700) (   300,   625, 20, 625, 700)\n",
      " (   300,   625, 20, 625, 700) (500000,   625, 20, 625, 700)\n",
      " (   300,   625, 20, 625, 700) (   300,   625, 20, 625, 700)\n",
      " (500000,   625, 20, 625, 700) (   300,   625, 20, 625, 700)\n",
      " (   300,   625, 20, 625, 700) (   300,   625, 20, 625, 700)\n",
      " (   300,   625, 20, 625, 700) (   300,   625, 20, 625, 700)\n",
      " (   300,   625, 20, 625, 700) (   300,   625, 20, 625, 700)\n",
      " (   300,   625, 20, 625, 700) (   300,   625, 20, 625, 700)\n",
      " (   300,   625, 20, 625, 700) (   300,   625, 20, 625, 700)\n",
      " (   300,   625, 20, 625, 700) (   300,   625, 20, 625, 700)\n",
      " (   300,   625, 20, 625, 700) (   300,   625, 20, 625, 700)\n",
      " (   300,   625, 20, 625, 700) (   300,   625, 20, 625, 700)\n",
      " (   300,   625, 20, 625, 700) (   300,   625, 20, 625, 700)\n",
      " (   300,   625, 20, 625, 700) (   300,   625, 20, 625, 700)\n",
      " (   300,   625, 20, 625, 700) (   300,   625, 20, 625, 700)\n",
      " (   300,   625, 20, 625, 700) (500000,   625, 20, 625, 700)\n",
      " (   300,   625, 20, 625, 700) (   300,   625, 20, 625, 700)\n",
      " (   300,   625, 20, 625, 700) (   300,   625, 20, 625, 700)\n",
      " (   300,   625, 20, 625, 700) (   300,   625, 20, 625, 700)\n",
      " (   300,   625, 20, 625, 700) (   300,   625, 20, 625, 700)\n",
      " (   300,   625, 20, 625, 700) (   300,   625, 20, 625, 700)\n",
      " (   300,   625, 20, 625, 700) (   300,   625, 20, 625, 700)\n",
      " (   300,   625, 20, 625, 700) (   300,   625, 20, 625, 700)\n",
      " (   300,   625, 20, 625, 700) (   300,   625, 20, 625, 700)\n",
      " (   300,   625, 20, 625, 700) (   300,   625, 20, 625, 700)\n",
      " (   300,   625, 20, 625, 700) (   300,   625, 20, 625, 700)\n",
      " (   300,   625, 20, 625, 700) (   300,   625, 20, 625, 700)\n",
      " (   300,   625, 20, 625, 700) (    15,  1000, 20, 625, 700)]\n"
     ]
    }
   ],
   "source": [
    "parameters = run.parameterFile()\n",
    "print(parameters.FilterParameters.dtype)\n",
    "print(parameters.FilterParameters)"
   ]
  },
  {
   "cell_type": "markdown",
   "metadata": {},
   "source": [
    "Also information such as how the coincidence logic was configured is available"
   ]
  },
  {
   "cell_type": "code",
   "execution_count": 19,
   "metadata": {},
   "outputs": [
    {
     "data": {
      "text/plain": [
       "array([(  0,   90), (  1,  110), (  2,  111), (  3,  120), (  4,  127),\n",
       "       (  5,  119), (  6,   89), (  7,   99), (  8,  108), (  9,  126),\n",
       "       ( 10,  117), ( 11,  125), ( 12,   98), ( 13,  115), ( 14,  123),\n",
       "       ( 15,  109), ( 16,  118), ( 17,   76), ( 18,  124), ( 19,   97),\n",
       "       ( 20,   88), ( 21,  107), ( 22,  122), ( 23,  116), ( 24,  121),\n",
       "       ( 25,   96), ( 26,  105), ( 27,   87), ( 28,  113), ( 29,   95),\n",
       "       ( 30,  104), ( 31,  114), ( 32,   75), ( 33,  106), ( 34,   74),\n",
       "       ( 35,   84), ( 36,   86), ( 37,   85), ( 38,   71), ( 39,   83),\n",
       "       ( 40,   94), ( 41,   61), ( 42,   72), ( 43,   64), ( 44,   62),\n",
       "       ( 45,   73), ( 46,   60), ( 47,   63), ( 48,   48), ( 49,   46),\n",
       "       ( 50,   58), ( 51,   49), ( 52,   38), ( 53,   35), ( 54,   59),\n",
       "       ( 55,   47), ( 56,   50), ( 57,   25), ( 58,   26), ( 59,   28),\n",
       "       ( 60,   51), ( 61,   16), ( 62,   37), ( 63,   36), ( 64,   27),\n",
       "       ( 65,   18), ( 66,   17), ( 67,    1), ( 68,    9), ( 69,    8),\n",
       "       ( 70,   19), ( 71,   20), ( 72,   11), ( 73,    3), ( 74,    4),\n",
       "       ( 75,    2), ( 76,   39), ( 77,   21), ( 78,    6), ( 79,   10),\n",
       "       ( 80,    7), ( 81,   32), ( 82,   14), ( 83,   41), ( 84,   15),\n",
       "       ( 85,   44), ( 86,   34), ( 87,   23), ( 88,   53), ( 89,   22),\n",
       "       ( 90,   42), ( 91,   33), ( 92,   54), ( 93,   43), ( 94,   57),\n",
       "       ( 95,   70), ( 96,   24), ( 97,   55), ( 98,   45), ( 99,   65),\n",
       "       (100,   67), (101,   56), (102,   69), (103,   66), (104,   79),\n",
       "       (105,   82), (106,   93), (107,   68), (108,  100), (109,   92),\n",
       "       (110,   80), (111,   81), (112,   91), (113,  112), (114,  102),\n",
       "       (115,   77), (116,   78), (117,  101), (118,  103), (119,   -1),\n",
       "       (120, 1090), (121, 1110), (122, 1111), (123, 1120), (124, 1119),\n",
       "       (125, 1089), (126, 1099), (127, 1108), (128, 1117), (129, 1098),\n",
       "       (130, 1115), (131, 1109), (132, 1118), (133, 1076), (134, 1097),\n",
       "       (135, 1088), (136, 1107), (137, 1116), (138, 1096), (139, 1105),\n",
       "       (140, 1087), (141, 1095), (142, 1104), (143, 1114), (144, 1075),\n",
       "       (145, 1106), (146, 1074), (147, 1084), (148, 1086), (149, 1085),\n",
       "       (150, 1071), (151, 1083), (152, 1094), (153, 1061), (154, 1072),\n",
       "       (155, 1064), (156, 1062), (157, 1073), (158, 1060), (159, 1063),\n",
       "       (160, 1048), (161, 1046), (162, 1058), (163, 1049), (164, 1038),\n",
       "       (165, 1035), (166, 1059), (167, 1047), (168, 1050), (169, 1025),\n",
       "       (170, 1026), (171, 1028), (172, 1051), (173, 1016), (174, 1037),\n",
       "       (175, 1036), (176, 1027), (177, 1018), (178, 1017), (179, 1009),\n",
       "       (180, 1019), (181, 1020), (182, 1011), (183, 1039), (184, 1021),\n",
       "       (185, 1010), (186, 1040), (187, 1012), (188, 1031), (189, 1052),\n",
       "       (190, 1030), (191, 1013), (192, 1029), (193, 1032), (194, 1014),\n",
       "       (195, 1041), (196, 1015), (197, 1044), (198, 1034), (199, 1023),\n",
       "       (200, 1053), (201, 1022), (202, 1042), (203, 1033), (204, 1054),\n",
       "       (205, 1043), (206, 1057), (207, 1070), (208, 1024), (209, 1055),\n",
       "       (210, 1045), (211, 1065), (212, 1067), (213, 1056), (214, 1069),\n",
       "       (215, 1066), (216, 1079), (217, 1082), (218, 1093), (219, 1068),\n",
       "       (220, 1100), (221, 1092), (222, 1080), (223, 1081), (224, 1091),\n",
       "       (225, 1112), (226, 1102), (227, 1077), (228, 1078), (229, 1101),\n",
       "       (230, 1103), (231,   -1)], dtype=[('bc', '<i8'), ('pixel', '<i8')])"
      ]
     },
     "execution_count": 19,
     "metadata": {},
     "output_type": "execute_result"
    }
   ],
   "source": [
    "parameters.BoardChannelPixelMap"
   ]
  },
  {
   "cell_type": "markdown",
   "metadata": {},
   "source": [
    "If you want to access the raw original data for the classes, this can be done via a few helper functions.\n",
    "\n",
    "For waveform files, the following functions are what you'll want to use"
   ]
  },
  {
   "cell_type": "code",
   "execution_count": 20,
   "metadata": {},
   "outputs": [
    {
     "data": {
      "text/html": [
       "<div>\n",
       "<style scoped>\n",
       "    .dataframe tbody tr th:only-of-type {\n",
       "        vertical-align: middle;\n",
       "    }\n",
       "\n",
       "    .dataframe tbody tr th {\n",
       "        vertical-align: top;\n",
       "    }\n",
       "\n",
       "    .dataframe thead th {\n",
       "        text-align: right;\n",
       "    }\n",
       "</style>\n",
       "<table border=\"1\" class=\"dataframe\">\n",
       "  <thead>\n",
       "    <tr style=\"text-align: right;\">\n",
       "      <th></th>\n",
       "      <th>result</th>\n",
       "      <th>bc</th>\n",
       "      <th>timestamp</th>\n",
       "      <th>req</th>\n",
       "      <th>event type</th>\n",
       "      <th>hit type</th>\n",
       "      <th>blank</th>\n",
       "      <th>eventid</th>\n",
       "      <th>checksum</th>\n",
       "      <th>board</th>\n",
       "      <th>channel</th>\n",
       "      <th>unix timestamp</th>\n",
       "      <th>pixel</th>\n",
       "    </tr>\n",
       "  </thead>\n",
       "  <tbody>\n",
       "    <tr>\n",
       "      <th>0</th>\n",
       "      <td>1</td>\n",
       "      <td>36</td>\n",
       "      <td>2831945755628</td>\n",
       "      <td>2831958309208</td>\n",
       "      <td>0</td>\n",
       "      <td>0</td>\n",
       "      <td>0</td>\n",
       "      <td>357948</td>\n",
       "      <td>3333473000</td>\n",
       "      <td>4</td>\n",
       "      <td>4</td>\n",
       "      <td>4.225448e+17</td>\n",
       "      <td>86</td>\n",
       "    </tr>\n",
       "    <tr>\n",
       "      <th>1</th>\n",
       "      <td>1</td>\n",
       "      <td>43</td>\n",
       "      <td>2831945354042</td>\n",
       "      <td>2831958411946</td>\n",
       "      <td>0</td>\n",
       "      <td>0</td>\n",
       "      <td>0</td>\n",
       "      <td>357949</td>\n",
       "      <td>1137190818</td>\n",
       "      <td>5</td>\n",
       "      <td>3</td>\n",
       "      <td>4.225448e+17</td>\n",
       "      <td>64</td>\n",
       "    </tr>\n",
       "    <tr>\n",
       "      <th>2</th>\n",
       "      <td>1</td>\n",
       "      <td>43</td>\n",
       "      <td>2831945358342</td>\n",
       "      <td>2831958437084</td>\n",
       "      <td>0</td>\n",
       "      <td>0</td>\n",
       "      <td>0</td>\n",
       "      <td>357950</td>\n",
       "      <td>1068507152</td>\n",
       "      <td>5</td>\n",
       "      <td>3</td>\n",
       "      <td>4.225448e+17</td>\n",
       "      <td>64</td>\n",
       "    </tr>\n",
       "    <tr>\n",
       "      <th>3</th>\n",
       "      <td>1</td>\n",
       "      <td>43</td>\n",
       "      <td>2831945383376</td>\n",
       "      <td>2831958462216</td>\n",
       "      <td>0</td>\n",
       "      <td>0</td>\n",
       "      <td>0</td>\n",
       "      <td>357951</td>\n",
       "      <td>2973315351</td>\n",
       "      <td>5</td>\n",
       "      <td>3</td>\n",
       "      <td>4.225448e+17</td>\n",
       "      <td>64</td>\n",
       "    </tr>\n",
       "    <tr>\n",
       "      <th>4</th>\n",
       "      <td>1</td>\n",
       "      <td>43</td>\n",
       "      <td>2831945482906</td>\n",
       "      <td>2831958487358</td>\n",
       "      <td>0</td>\n",
       "      <td>0</td>\n",
       "      <td>0</td>\n",
       "      <td>357952</td>\n",
       "      <td>3365219399</td>\n",
       "      <td>5</td>\n",
       "      <td>3</td>\n",
       "      <td>4.225448e+17</td>\n",
       "      <td>64</td>\n",
       "    </tr>\n",
       "    <tr>\n",
       "      <th>...</th>\n",
       "      <td>...</td>\n",
       "      <td>...</td>\n",
       "      <td>...</td>\n",
       "      <td>...</td>\n",
       "      <td>...</td>\n",
       "      <td>...</td>\n",
       "      <td>...</td>\n",
       "      <td>...</td>\n",
       "      <td>...</td>\n",
       "      <td>...</td>\n",
       "      <td>...</td>\n",
       "      <td>...</td>\n",
       "      <td>...</td>\n",
       "    </tr>\n",
       "    <tr>\n",
       "      <th>271895</th>\n",
       "      <td>1</td>\n",
       "      <td>160</td>\n",
       "      <td>2838754090662</td>\n",
       "      <td>2838758184940</td>\n",
       "      <td>0</td>\n",
       "      <td>0</td>\n",
       "      <td>0</td>\n",
       "      <td>651749</td>\n",
       "      <td>2796843575</td>\n",
       "      <td>20</td>\n",
       "      <td>0</td>\n",
       "      <td>4.225449e+17</td>\n",
       "      <td>1048</td>\n",
       "    </tr>\n",
       "    <tr>\n",
       "      <th>271896</th>\n",
       "      <td>1</td>\n",
       "      <td>65</td>\n",
       "      <td>2838754395266</td>\n",
       "      <td>2838758232184</td>\n",
       "      <td>0</td>\n",
       "      <td>0</td>\n",
       "      <td>0</td>\n",
       "      <td>651761</td>\n",
       "      <td>1405480031</td>\n",
       "      <td>8</td>\n",
       "      <td>1</td>\n",
       "      <td>4.225449e+17</td>\n",
       "      <td>18</td>\n",
       "    </tr>\n",
       "    <tr>\n",
       "      <th>271897</th>\n",
       "      <td>1</td>\n",
       "      <td>144</td>\n",
       "      <td>2838754557496</td>\n",
       "      <td>2838758201574</td>\n",
       "      <td>0</td>\n",
       "      <td>0</td>\n",
       "      <td>0</td>\n",
       "      <td>651763</td>\n",
       "      <td>2453883050</td>\n",
       "      <td>18</td>\n",
       "      <td>0</td>\n",
       "      <td>4.225449e+17</td>\n",
       "      <td>1075</td>\n",
       "    </tr>\n",
       "    <tr>\n",
       "      <th>271898</th>\n",
       "      <td>1</td>\n",
       "      <td>107</td>\n",
       "      <td>2838754722962</td>\n",
       "      <td>2838758204850</td>\n",
       "      <td>0</td>\n",
       "      <td>0</td>\n",
       "      <td>0</td>\n",
       "      <td>651764</td>\n",
       "      <td>1448323481</td>\n",
       "      <td>13</td>\n",
       "      <td>3</td>\n",
       "      <td>4.225449e+17</td>\n",
       "      <td>68</td>\n",
       "    </tr>\n",
       "    <tr>\n",
       "      <th>271899</th>\n",
       "      <td>1</td>\n",
       "      <td>227</td>\n",
       "      <td>2838754790980</td>\n",
       "      <td>2838758208028</td>\n",
       "      <td>0</td>\n",
       "      <td>0</td>\n",
       "      <td>0</td>\n",
       "      <td>651765</td>\n",
       "      <td>2778736109</td>\n",
       "      <td>28</td>\n",
       "      <td>3</td>\n",
       "      <td>4.225449e+17</td>\n",
       "      <td>1077</td>\n",
       "    </tr>\n",
       "  </tbody>\n",
       "</table>\n",
       "<p>271900 rows × 13 columns</p>\n",
       "</div>"
      ],
      "text/plain": [
       "        result   bc      timestamp            req  event type  hit type  \\\n",
       "0            1   36  2831945755628  2831958309208           0         0   \n",
       "1            1   43  2831945354042  2831958411946           0         0   \n",
       "2            1   43  2831945358342  2831958437084           0         0   \n",
       "3            1   43  2831945383376  2831958462216           0         0   \n",
       "4            1   43  2831945482906  2831958487358           0         0   \n",
       "...        ...  ...            ...            ...         ...       ...   \n",
       "271895       1  160  2838754090662  2838758184940           0         0   \n",
       "271896       1   65  2838754395266  2838758232184           0         0   \n",
       "271897       1  144  2838754557496  2838758201574           0         0   \n",
       "271898       1  107  2838754722962  2838758204850           0         0   \n",
       "271899       1  227  2838754790980  2838758208028           0         0   \n",
       "\n",
       "        blank  eventid    checksum  board  channel  unix timestamp  pixel  \n",
       "0           0   357948  3333473000      4        4    4.225448e+17     86  \n",
       "1           0   357949  1137190818      5        3    4.225448e+17     64  \n",
       "2           0   357950  1068507152      5        3    4.225448e+17     64  \n",
       "3           0   357951  2973315351      5        3    4.225448e+17     64  \n",
       "4           0   357952  3365219399      5        3    4.225448e+17     64  \n",
       "...       ...      ...         ...    ...      ...             ...    ...  \n",
       "271895      0   651749  2796843575     20        0    4.225449e+17   1048  \n",
       "271896      0   651761  1405480031      8        1    4.225449e+17     18  \n",
       "271897      0   651763  2453883050     18        0    4.225449e+17   1075  \n",
       "271898      0   651764  1448323481     13        3    4.225449e+17     68  \n",
       "271899      0   651765  2778736109     28        3    4.225449e+17   1077  \n",
       "\n",
       "[271900 rows x 13 columns]"
      ]
     },
     "execution_count": 20,
     "metadata": {},
     "output_type": "execute_result"
    }
   ],
   "source": [
    "run.singleWaves().headers()"
   ]
  },
  {
   "cell_type": "code",
   "execution_count": 21,
   "metadata": {},
   "outputs": [
    {
     "data": {
      "text/html": [
       "<table>\n",
       "    <tr>\n",
       "        <td>\n",
       "            <table style=\"border-collapse: collapse;\">\n",
       "                <thead>\n",
       "                    <tr>\n",
       "                        <td> </td>\n",
       "                        <th> Array </th>\n",
       "                        <th> Chunk </th>\n",
       "                    </tr>\n",
       "                </thead>\n",
       "                <tbody>\n",
       "                    \n",
       "                    <tr>\n",
       "                        <th> Bytes </th>\n",
       "                        <td> 7.09 GiB </td>\n",
       "                        <td> 242.28 MiB </td>\n",
       "                    </tr>\n",
       "                    \n",
       "                    <tr>\n",
       "                        <th> Shape </th>\n",
       "                        <td> (271900, 7000) </td>\n",
       "                        <td> (9073, 7000) </td>\n",
       "                    </tr>\n",
       "                    <tr>\n",
       "                        <th> Dask graph </th>\n",
       "                        <td colspan=\"2\"> 30 chunks in 4 graph layers </td>\n",
       "                    </tr>\n",
       "                    <tr>\n",
       "                        <th> Data type </th>\n",
       "                        <td colspan=\"2\"> float32 numpy.ndarray </td>\n",
       "                    </tr>\n",
       "                </tbody>\n",
       "            </table>\n",
       "        </td>\n",
       "        <td>\n",
       "        <svg width=\"80\" height=\"170\" style=\"stroke:rgb(0,0,0);stroke-width:1\" >\n",
       "\n",
       "  <!-- Horizontal lines -->\n",
       "  <line x1=\"0\" y1=\"0\" x2=\"30\" y2=\"0\" style=\"stroke-width:2\" />\n",
       "  <line x1=\"0\" y1=\"3\" x2=\"30\" y2=\"3\" />\n",
       "  <line x1=\"0\" y1=\"11\" x2=\"30\" y2=\"11\" />\n",
       "  <line x1=\"0\" y1=\"15\" x2=\"30\" y2=\"15\" />\n",
       "  <line x1=\"0\" y1=\"23\" x2=\"30\" y2=\"23\" />\n",
       "  <line x1=\"0\" y1=\"27\" x2=\"30\" y2=\"27\" />\n",
       "  <line x1=\"0\" y1=\"35\" x2=\"30\" y2=\"35\" />\n",
       "  <line x1=\"0\" y1=\"43\" x2=\"30\" y2=\"43\" />\n",
       "  <line x1=\"0\" y1=\"47\" x2=\"30\" y2=\"47\" />\n",
       "  <line x1=\"0\" y1=\"55\" x2=\"30\" y2=\"55\" />\n",
       "  <line x1=\"0\" y1=\"59\" x2=\"30\" y2=\"59\" />\n",
       "  <line x1=\"0\" y1=\"67\" x2=\"30\" y2=\"67\" />\n",
       "  <line x1=\"0\" y1=\"71\" x2=\"30\" y2=\"71\" />\n",
       "  <line x1=\"0\" y1=\"79\" x2=\"30\" y2=\"79\" />\n",
       "  <line x1=\"0\" y1=\"87\" x2=\"30\" y2=\"87\" />\n",
       "  <line x1=\"0\" y1=\"91\" x2=\"30\" y2=\"91\" />\n",
       "  <line x1=\"0\" y1=\"99\" x2=\"30\" y2=\"99\" />\n",
       "  <line x1=\"0\" y1=\"103\" x2=\"30\" y2=\"103\" />\n",
       "  <line x1=\"0\" y1=\"111\" x2=\"30\" y2=\"111\" />\n",
       "  <line x1=\"0\" y1=\"120\" x2=\"30\" y2=\"120\" style=\"stroke-width:2\" />\n",
       "\n",
       "  <!-- Vertical lines -->\n",
       "  <line x1=\"0\" y1=\"0\" x2=\"0\" y2=\"120\" style=\"stroke-width:2\" />\n",
       "  <line x1=\"30\" y1=\"0\" x2=\"30\" y2=\"120\" style=\"stroke-width:2\" />\n",
       "\n",
       "  <!-- Colored Rectangle -->\n",
       "  <polygon points=\"0.0,0.0 30.483342077402668,0.0 30.483342077402668,120.0 0.0,120.0\" style=\"fill:#8B4903A0;stroke-width:0\"/>\n",
       "\n",
       "  <!-- Text -->\n",
       "  <text x=\"15.241671\" y=\"140.000000\" font-size=\"1.0rem\" font-weight=\"100\" text-anchor=\"middle\" >7000</text>\n",
       "  <text x=\"50.483342\" y=\"60.000000\" font-size=\"1.0rem\" font-weight=\"100\" text-anchor=\"middle\" transform=\"rotate(-90,50.483342,60.000000)\">271900</text>\n",
       "</svg>\n",
       "        </td>\n",
       "    </tr>\n",
       "</table>"
      ],
      "text/plain": [
       "dask.array<astype, shape=(271900, 7000), dtype=float32, chunksize=(9073, 7000), chunktype=numpy.ndarray>"
      ]
     },
     "execution_count": 21,
     "metadata": {},
     "output_type": "execute_result"
    }
   ],
   "source": [
    "run.singleWaves().waves()"
   ]
  },
  {
   "cell_type": "code",
   "execution_count": 22,
   "metadata": {},
   "outputs": [
    {
     "data": {
      "text/plain": [
       "array([-24., -27., -32., ...,  -2., -26., -49.], dtype=float32)"
      ]
     },
     "execution_count": 22,
     "metadata": {},
     "output_type": "execute_result"
    }
   ],
   "source": [
    "run.singleWaves().waves()[0].compute()"
   ]
  },
  {
   "cell_type": "markdown",
   "metadata": {},
   "source": [
    "Notice the different return types. \n",
    "\n",
    ".headers() returns the headers as a Pandas DataFrame\n",
    "\n",
    ".waves() returns the waveforms as a Dask Array. This is synonomous with a Numpy array. If you want a Numpy array instead, simply add .compute()\n",
    "\n",
    "run.singleWaves().waves().compute()\n",
    "\n",
    "That will load the waveform data into RAM so hopefully you have enough memory. \n",
    "\n",
    "If you aren't sure what is available to you, try the following:\n",
    "    Let tab completion tell you what is available.\n",
    "Then if you find what you're looking for, use the question mark function to see what it does. "
   ]
  },
  {
   "cell_type": "code",
   "execution_count": 23,
   "metadata": {},
   "outputs": [
    {
     "ename": "SyntaxError",
     "evalue": "invalid syntax (1082497932.py, line 1)",
     "output_type": "error",
     "traceback": [
      "\u001b[0;36m  Cell \u001b[0;32mIn[23], line 1\u001b[0;36m\u001b[0m\n\u001b[0;31m    run.pulsrWaves().\u001b[0m\n\u001b[0m                     ^\u001b[0m\n\u001b[0;31mSyntaxError\u001b[0m\u001b[0;31m:\u001b[0m invalid syntax\n"
     ]
    }
   ],
   "source": [
    "run.pulsrWaves()."
   ]
  },
  {
   "cell_type": "code",
   "execution_count": null,
   "metadata": {},
   "outputs": [
    {
     "name": "stdout",
     "output_type": "stream",
     "text": [
      "Object `headers` not found.\n"
     ]
    }
   ],
   "source": [
    "run.singleWaves().headers?"
   ]
  },
  {
   "cell_type": "code",
   "execution_count": null,
   "metadata": {},
   "outputs": [],
   "source": [
    "run.singleWaves().headers"
   ]
  },
  {
   "cell_type": "markdown",
   "metadata": {},
   "source": [
    "Note that for this you NEED to go to the original class structure. So for pulsrWaves(), this object is a waveform file. So you have to do Nab.wf.waveformFile.BLAHBLAH\n",
    "and then replace BLAHBLAH with the function of interest."
   ]
  },
  {
   "cell_type": "code",
   "execution_count": null,
   "metadata": {
    "tags": []
   },
   "outputs": [
    {
     "data": {
      "text/plain": [
       "\u001b[1;31mSignature:\u001b[0m \u001b[0mNab\u001b[0m\u001b[1;33m.\u001b[0m\u001b[0mwf\u001b[0m\u001b[1;33m.\u001b[0m\u001b[0mwaveformFile\u001b[0m\u001b[1;33m.\u001b[0m\u001b[0mheaders\u001b[0m\u001b[1;33m(\u001b[0m\u001b[0mself\u001b[0m\u001b[1;33m,\u001b[0m \u001b[0morig\u001b[0m\u001b[1;33m=\u001b[0m\u001b[1;32mFalse\u001b[0m\u001b[1;33m)\u001b[0m\u001b[1;33m\u001b[0m\u001b[1;33m\u001b[0m\u001b[0m\n",
       "\u001b[1;31mDocstring:\u001b[0m\n",
       "Returns the waveform headers as a Pandas DataFrame.\n",
       "\n",
       "Parameters\n",
       "----------\n",
       "orig: bool\n",
       "        If orig is true, return the whole original DataFrame without cuts\n",
       "        If orig is false, return the DataFrame with cuts\n",
       "\n",
       "Returns\n",
       "-------\n",
       "headers: Pandas DataFrame\n",
       "\u001b[1;31mFile:\u001b[0m      c:\\users\\david\\documents\\datafilereadingscripts\\waveformfileclass.py\n",
       "\u001b[1;31mType:\u001b[0m      function\n"
      ]
     },
     "metadata": {},
     "output_type": "display_data"
    }
   ],
   "source": [
    "Nab.wf.waveformFile.headers?"
   ]
  },
  {
   "cell_type": "markdown",
   "metadata": {},
   "source": [
    "The difference is pretty obvious. Otherwise these are identical. If you don't plan on using the event information, I'd recommend using the ignoreEventFile flag."
   ]
  },
  {
   "cell_type": "markdown",
   "metadata": {},
   "source": [
    "If you want to see what boards and channels were recorded in a waveform file, along with how many times they were recorded, you can do that with the following command. The mapping variable tells you what board and channel each waveform was in the order they occured. "
   ]
  },
  {
   "cell_type": "code",
   "execution_count": 24,
   "metadata": {},
   "outputs": [
    {
     "name": "stdout",
     "output_type": "stream",
     "text": [
      "board channels [1, 2, 3, 4, 5, 12, 13, 14, 15, 16, 17, 18, 19, 20, 21, 22, 23, 24, 25, 26, 27, 28, 32, 35, 36, 37, 38, 39, 40, 41, 42, 43, 44, 45, 46, 47, 52, 53, 54, 55, 56, 57, 58, 59, 60, 61, 62, 63, 64, 65, 66, 67, 68, 69, 78, 79, 81, 82, 83, 84, 85, 86, 87, 88, 89, 90, 97, 98, 99, 100, 101, 102, 103, 104, 105, 106, 107, 108, 121, 124, 127, 131, 133, 134, 135, 136, 137, 138, 141, 144, 145, 146, 147, 149, 153, 155, 157, 158, 159, 160, 162, 163, 164, 168, 170, 172, 174, 175, 176, 180, 183, 186, 188, 189, 192, 193, 194, 201, 204, 211, 212, 216, 217, 220, 226, 227, 228, 229]\n",
      "mapping [ 24  31  31 ...  89  76 125]\n",
      "counts [   730   1479    228     99    629    556    366    336    825   1619\n",
      "   1973    173    400   1128   1016    249   1562    110    333    494\n",
      "    358    298   5338    329    761    693    220    308    310   1363\n",
      "   1764 136427    404    273    281     55    164    294   3110    402\n",
      "   5812    312   1666    383    447    941    280    219   4256   5824\n",
      "   6231   5466   1929   4557    319   2236   1068    106    443    347\n",
      "   1286    457    578    485    731    797    907    304    737    360\n",
      "    671   1207    240    262    382      1   1120   1043   1293      4\n",
      "   1058   1110   1436   1204   1399   1057      3   1395    516   1438\n",
      "   1048   1407    243   1427   1445   1547   1460   1560   1414   1464\n",
      "   1789   1377   1262   1328      2   1419   1409      3   1443      1\n",
      "   1267   1373   1231   1437      1   1289     72   1231      2   1458\n",
      "      3   1493    221   1091      2   1466   1432      3]\n",
      "board channels [1, 2, 3, 4, 5, 12, 13, 14, 15, 16, 17, 18, 19, 20, 21, 22, 23, 24, 25, 26, 27, 28, 32, 35, 36, 37, 38, 39, 40, 41, 42, 43, 44, 45, 46, 47, 52, 53, 54, 55, 56, 57, 58, 59, 60, 61, 62, 63, 64, 65, 66, 67, 68, 69, 78, 79, 81, 82, 83, 84, 85, 86, 87, 88, 89, 90, 97, 98, 99, 100, 101, 102, 103, 104, 105, 106, 107, 108, 121, 124, 127, 131, 133, 134, 135, 136, 137, 138, 141, 144, 145, 146, 147, 149, 153, 155, 157, 158, 159, 160, 162, 163, 164, 168, 170, 172, 174, 175, 176, 180, 183, 186, 188, 189, 192, 193, 194, 201, 204, 211, 212, 216, 217, 220, 226, 227, 228, 229]\n",
      "mapping [ 5  8 13 ... 53 53 96]\n",
      "counts [   842   1806    280    125    772    664    462    416    934   1867\n",
      "   2212    219    486   1303   1206    308   1771    136    439    623\n",
      "    462    376   5897    475    919    877    277    379    397   1568\n",
      "   2034 147234    504    399    437     60    210    364   3454    553\n",
      "   6390    381   1885    454    526   1080    384    282   4713   6379\n",
      "   6865   5940   2126   5010    381   2536   1283    133    572    402\n",
      "   1565    566    745    597    919    972   1071    381    843    445\n",
      "    842   1476    300    311    467      1   1338   1261   1661      5\n",
      "   1369   1452   1943   1624   1843   1397      3   1851    658   1897\n",
      "   1373   1849    322   1929   1962   1996   2010   2140   1848   1994\n",
      "   2302   1853   1713   1814      2   1872   1884      4   1944      1\n",
      "   1737   1827   1658   1882      1   1697     93   1645      3   1920\n",
      "      3   2005    303   1405      2   1952   1939      3]\n"
     ]
    }
   ],
   "source": [
    "bcs = run.singleWaves().bcs\n",
    "print('board channels', bcs[0])\n",
    "print('mapping', bcs[1])\n",
    "print('counts', bcs[2])\n",
    "\n",
    "bcs = run.triggers().bcs\n",
    "print('board channels', bcs[0])\n",
    "print('mapping', bcs[1])\n",
    "print('counts', bcs[2])"
   ]
  },
  {
   "cell_type": "markdown",
   "metadata": {},
   "source": [
    "If you want to see the mapping between board/channel to pixel, that can be found in the parameter file. The first number is the board * 8 + channel number and the second is the pixel number in each element in the list"
   ]
  },
  {
   "cell_type": "raw",
   "metadata": {},
   "source": [
    "If you want to see where the system was triggering and where waveform information was recorded, use the following function.\n",
    "\n",
    "There are several options for this:\n",
    "    sourceFile: can be trigger, single, or coincidence files. It assumes trigger file if no option is passed\n",
    "    cmap: colormap that defines the colors\n",
    "    showNum: show pixel id numbers\n",
    "    showVal: show the raw value for each pixel (usually hit count)\n",
    "    alpha: \"density\" of the color, 0->1, 1 being more full. Can make text hard to read at high values\n",
    "    rounding: how many digits to round showVal to. For floating point values this is useful\n",
    "    size: affects how large the text and hexagons are. Recommend changing for your screen resolution\n",
    "\n",
    "Currently this only works for 1 detector but I'll update it to work for 2 at some point"
   ]
  },
  {
   "cell_type": "code",
   "execution_count": 25,
   "metadata": {},
   "outputs": [
    {
     "ename": "TypeError",
     "evalue": "File.plotHitLocations() got an unexpected keyword argument 'cmap'",
     "output_type": "error",
     "traceback": [
      "\u001b[0;31m---------------------------------------------------------------------------\u001b[0m",
      "\u001b[0;31mTypeError\u001b[0m                                 Traceback (most recent call last)",
      "Cell \u001b[0;32mIn[25], line 1\u001b[0m\n\u001b[0;32m----> 1\u001b[0m \u001b[43mrun\u001b[49m\u001b[38;5;241;43m.\u001b[39;49m\u001b[43mplotHitLocations\u001b[49m\u001b[43m(\u001b[49m\u001b[43msourceFile\u001b[49m\u001b[43m \u001b[49m\u001b[38;5;241;43m=\u001b[39;49m\u001b[43m \u001b[49m\u001b[38;5;124;43m'\u001b[39;49m\u001b[38;5;124;43msingles\u001b[39;49m\u001b[38;5;124;43m'\u001b[39;49m\u001b[43m,\u001b[49m\u001b[43m \u001b[49m\u001b[43mcmap\u001b[49m\u001b[43m \u001b[49m\u001b[38;5;241;43m=\u001b[39;49m\u001b[43m \u001b[49m\u001b[38;5;124;43m'\u001b[39;49m\u001b[38;5;124;43mcividis\u001b[39;49m\u001b[38;5;124;43m'\u001b[39;49m\u001b[43m,\u001b[49m\u001b[43m \u001b[49m\u001b[43mshowNum\u001b[49m\u001b[38;5;241;43m=\u001b[39;49m\u001b[38;5;28;43;01mTrue\u001b[39;49;00m\u001b[43m,\u001b[49m\u001b[43m \u001b[49m\u001b[43mshowVal\u001b[49m\u001b[43m \u001b[49m\u001b[38;5;241;43m=\u001b[39;49m\u001b[43m \u001b[49m\u001b[38;5;28;43;01mTrue\u001b[39;49;00m\u001b[43m,\u001b[49m\u001b[43m \u001b[49m\u001b[43malpha\u001b[49m\u001b[38;5;241;43m=\u001b[39;49m\u001b[38;5;241;43m0.8\u001b[39;49m\u001b[43m,\u001b[49m\u001b[43m \u001b[49m\u001b[43mrounding\u001b[49m\u001b[38;5;241;43m=\u001b[39;49m\u001b[38;5;241;43m1\u001b[39;49m\u001b[43m,\u001b[49m\u001b[43m \u001b[49m\u001b[43msize\u001b[49m\u001b[38;5;241;43m=\u001b[39;49m\u001b[38;5;241;43m1.3\u001b[39;49m\u001b[43m)\u001b[49m\n",
      "\u001b[0;31mTypeError\u001b[0m: File.plotHitLocations() got an unexpected keyword argument 'cmap'"
     ]
    }
   ],
   "source": [
    "run.plotHitLocations(sourceFile = 'singles', cmap = 'cividis', showNum=True, showVal = True, alpha=0.8, rounding=1, size=1.3)"
   ]
  },
  {
   "cell_type": "markdown",
   "metadata": {},
   "source": [
    "## Analysis Functionality"
   ]
  },
  {
   "cell_type": "markdown",
   "metadata": {},
   "source": [
    "### Applying Data Cuts and Energy Extraction\n",
    "\n",
    "When you want to run analysis, it's often desirable to only look at part of the data file. That way you don't spend as much time running possibly complicated analysis over data you aren't interested in. \n",
    "\n",
    "Based on the pixel map above, it looks like pixel 87 has some data we might want so let's look at that."
   ]
  },
  {
   "cell_type": "code",
   "execution_count": 26,
   "metadata": {},
   "outputs": [
    {
     "name": "stdout",
     "output_type": "stream",
     "text": [
      "        result  bc      timestamp            req  event type  hit type  blank  \\\n",
      "40           1  20  2831952094196  2831962307900           0         0      0   \n",
      "127          1  20  2831962117850  2831968368268           0         0      0   \n",
      "226          1  20  2831962585852  2831970559876           0         0      0   \n",
      "300          1  20  2831970939406  2831973670116           0         0      0   \n",
      "377          1  20  2831968994314  2831975527814           0         0      0   \n",
      "...        ...  ..            ...            ...         ...       ...    ...   \n",
      "271353       1  20  2838739927266  2838744380808           0         0      0   \n",
      "271423       1  20  2838742320956  2838745936868           0         0      0   \n",
      "271531       1  20  2838747704808  2838749093688           0         0      0   \n",
      "271562       1  20  2838746007214  2838749180754           0         0      0   \n",
      "271812       1  20  2838751962998  2838755272914           0         0      0   \n",
      "\n",
      "        eventid    checksum  board  channel  unix timestamp  pixel  \n",
      "40       358673  3657371959      2        4    4.225448e+17     88  \n",
      "127      359159  4012232192      2        4    4.225448e+17     88  \n",
      "226      359376   928972423      2        4    4.225448e+17     88  \n",
      "300      359556  3313174736      2        4    4.225448e+17     88  \n",
      "377      359652   205316936      2        4    4.225448e+17     88  \n",
      "...         ...         ...    ...      ...             ...    ...  \n",
      "271353   651130  1666341771      2        4    4.225449e+17     88  \n",
      "271423   651205  4172576817      2        4    4.225449e+17     88  \n",
      "271531   651334  1310654342      2        4    4.225449e+17     88  \n",
      "271562   651365   189774658      2        4    4.225449e+17     88  \n",
      "271812   651643  2454714294      2        4    4.225449e+17     88  \n",
      "\n",
      "[1128 rows x 13 columns]\n"
     ]
    }
   ],
   "source": [
    "run.singleWaves().resetCuts()\n",
    "run.singleWaves().defineCut('pixel', '=', 88)\n",
    "headers = run.singleWaves().headers()\n",
    "print(headers)"
   ]
  },
  {
   "cell_type": "markdown",
   "metadata": {},
   "source": [
    "Now when you use either the .headers() or the .waves() functions, they will only return data that passes the cuts applied. Note that we can apply multiple cuts by simply using defineCut again. It's always recommended to use resetCuts() whenever you enter a new cell as the waveformFile object will remember the previous cuts applied until you reset them. \n",
    "\n",
    "Any parameter in the header information can be cut on. The cut functionality can be found below."
   ]
  },
  {
   "cell_type": "code",
   "execution_count": 27,
   "metadata": {
    "tags": []
   },
   "outputs": [
    {
     "name": "stdout",
     "output_type": "stream",
     "text": [
      "\u001b[0;31mSignature:\u001b[0m \u001b[0mNab\u001b[0m\u001b[0;34m.\u001b[0m\u001b[0mbf\u001b[0m\u001b[0;34m.\u001b[0m\u001b[0mdefineCut\u001b[0m\u001b[0;34m(\u001b[0m\u001b[0mdata\u001b[0m\u001b[0;34m,\u001b[0m \u001b[0mcategory\u001b[0m\u001b[0;34m,\u001b[0m \u001b[0moperator\u001b[0m\u001b[0;34m=\u001b[0m\u001b[0;32mNone\u001b[0m\u001b[0;34m,\u001b[0m \u001b[0moptionA\u001b[0m\u001b[0;34m=\u001b[0m\u001b[0;32mNone\u001b[0m\u001b[0;34m,\u001b[0m \u001b[0moptionB\u001b[0m\u001b[0;34m=\u001b[0m\u001b[0;32mNone\u001b[0m\u001b[0;34m)\u001b[0m\u001b[0;34m\u001b[0m\u001b[0;34m\u001b[0m\u001b[0m\n",
      "\u001b[0;31mDocstring:\u001b[0m\n",
      "This function defines a cut to apply to the dataset. \n",
      "You can only cut on data available in the headers\n",
      "\n",
      "Parameters\n",
      "----------\n",
      "data: dask.DataFrame\n",
      "        the DataFrame that contains the dataset\n",
      "category : str\n",
      "        the category to cut on. Must be a category in the waveform header\n",
      "        To check available categories, call yourWaveformFile.headerType\n",
      "        Also available categories:\n",
      "                'pixel': requires a pixel map to be defined in the class\n",
      "                'custom': unique operation that allows the user to pass a custom map of \n",
      "                        the data to request instead of determining the map within the class\n",
      "                        This changes the behavior of operator\n",
      "                'ca45Corruption': cut that is based on the conditions Noah described in his thesis.\n",
      "                        This removes the corruption issues from that version of the DAQ.\n",
      "                        Returns a dataset sorted by timestamp.\n",
      "operator: str, np.ndarray\n",
      "        The operation to be applied to that category\n",
      "        Supported options: >, >=, <, <=, ==, !=, between, outside, coincidence, anti-coincidence, or\n",
      "        If category='custom', then this expects a np.ndarray to be used as the mask\n",
      "optionA: int,float,list[int,float]\n",
      "        This is the first option being passed for the cut.\n",
      "        For option(s) >, >=, <, <=, ==, !=: int,float. this is the value they are being compared to\n",
      "        For option(s) between, outside, coincidence: int,float. this is the lower value\n",
      "        For option(s) or: list[int,float]. this is a list of allowed values for that category\n",
      "optionB: int,float\n",
      "        This is the second option passed for the cut. It is expected to be the upper value\n",
      "        For option(s) between, outside: this is the upper value\n",
      "Returns\n",
      "--------\n",
      "        This returns the indices in the dataset that \"survive\" the cut. \n",
      "        In the case of invalid input, the operation doesn't apply a cut.\n",
      "\u001b[0;31mFile:\u001b[0m      ~/TNwork/nabonlineanalysis/nabpyinstallations/pyNab/src/nabPy/basicFunctions.py\n",
      "\u001b[0;31mType:\u001b[0m      function"
     ]
    }
   ],
   "source": [
    "Nab.bf.defineCut?"
   ]
  },
  {
   "cell_type": "markdown",
   "metadata": {},
   "source": [
    "With this subset applied, we can look at the energy histogram for this pixel. \n",
    "\n",
    "Depending on your PC, this may take a while to complete. For large datasets this can be particularly taxing. The code is designed to use ALL of your CPU resources and will run in parallel by default."
   ]
  },
  {
   "cell_type": "code",
   "execution_count": 28,
   "metadata": {},
   "outputs": [],
   "source": [
    "results = run.singleWaves().determineEnergyTiming(method='trap', params=[1250, 50, 1250])"
   ]
  },
  {
   "cell_type": "markdown",
   "metadata": {},
   "source": [
    "Now we can plot this data and see what is there"
   ]
  },
  {
   "cell_type": "code",
   "execution_count": 29,
   "metadata": {},
   "outputs": [
    {
     "data": {
      "image/png": "[encoded data removed]",
      "text/plain": [
       "<Figure size 640x480 with 1 Axes>"
      ]
     },
     "metadata": {},
     "output_type": "display_data"
    }
   ],
   "source": [
    "results.hist('energy', bins = Nab.np.arange(0, 200))\n",
    "results.show()"
   ]
  },
  {
   "cell_type": "markdown",
   "metadata": {},
   "source": [
    "Not too much for this dataset unfortunately. Mostly just noise.\n",
    "\n",
    "Note that the bins parameter expects a Numpy array defining the bin edges to be passed in. \n",
    "\n",
    "Most of the plotting functionality built into the resultFile class is just calling matplotlib.pyplot behind the scenes. For more plotting funcitonality, I'd recommend just parsing the results object itself.\n",
    "\n",
    "If you want to get fancy with it, we can do additional cuts to this. Let's look at a high amplitude waveform"
   ]
  },
  {
   "cell_type": "code",
   "execution_count": 30,
   "metadata": {},
   "outputs": [],
   "source": [
    "results.resetCuts()\n",
    "results.defineCut('energy', '>', 100)"
   ]
  },
  {
   "cell_type": "code",
   "execution_count": 31,
   "metadata": {},
   "outputs": [
    {
     "data": {
      "text/html": [
       "<div>\n",
       "<style scoped>\n",
       "    .dataframe tbody tr th:only-of-type {\n",
       "        vertical-align: middle;\n",
       "    }\n",
       "\n",
       "    .dataframe tbody tr th {\n",
       "        vertical-align: top;\n",
       "    }\n",
       "\n",
       "    .dataframe thead th {\n",
       "        text-align: right;\n",
       "    }\n",
       "</style>\n",
       "<table border=\"1\" class=\"dataframe\">\n",
       "  <thead>\n",
       "    <tr style=\"text-align: right;\">\n",
       "      <th></th>\n",
       "      <th>result</th>\n",
       "      <th>bc</th>\n",
       "      <th>timestamp</th>\n",
       "      <th>req</th>\n",
       "      <th>event type</th>\n",
       "      <th>hit type</th>\n",
       "      <th>blank</th>\n",
       "      <th>eventid</th>\n",
       "      <th>checksum</th>\n",
       "      <th>board</th>\n",
       "      <th>channel</th>\n",
       "      <th>unix timestamp</th>\n",
       "      <th>pixel</th>\n",
       "      <th>energy</th>\n",
       "      <th>t0</th>\n",
       "    </tr>\n",
       "  </thead>\n",
       "  <tbody>\n",
       "    <tr>\n",
       "      <th>1267</th>\n",
       "      <td>1</td>\n",
       "      <td>20</td>\n",
       "      <td>2831993707430</td>\n",
       "      <td>2831997943420</td>\n",
       "      <td>0</td>\n",
       "      <td>0</td>\n",
       "      <td>0</td>\n",
       "      <td>360651</td>\n",
       "      <td>4236088531</td>\n",
       "      <td>2</td>\n",
       "      <td>4</td>\n",
       "      <td>4.225448e+17</td>\n",
       "      <td>88</td>\n",
       "      <td>101.039693</td>\n",
       "      <td>3566.0</td>\n",
       "    </tr>\n",
       "    <tr>\n",
       "      <th>1572</th>\n",
       "      <td>1</td>\n",
       "      <td>20</td>\n",
       "      <td>2832001239538</td>\n",
       "      <td>2832004458906</td>\n",
       "      <td>0</td>\n",
       "      <td>0</td>\n",
       "      <td>0</td>\n",
       "      <td>360967</td>\n",
       "      <td>973362895</td>\n",
       "      <td>2</td>\n",
       "      <td>4</td>\n",
       "      <td>4.225448e+17</td>\n",
       "      <td>88</td>\n",
       "      <td>1654.080267</td>\n",
       "      <td>3483.0</td>\n",
       "    </tr>\n",
       "    <tr>\n",
       "      <th>2351</th>\n",
       "      <td>1</td>\n",
       "      <td>20</td>\n",
       "      <td>2832020580676</td>\n",
       "      <td>2832024872930</td>\n",
       "      <td>0</td>\n",
       "      <td>0</td>\n",
       "      <td>0</td>\n",
       "      <td>361849</td>\n",
       "      <td>4006338146</td>\n",
       "      <td>2</td>\n",
       "      <td>4</td>\n",
       "      <td>4.225448e+17</td>\n",
       "      <td>88</td>\n",
       "      <td>1173.930343</td>\n",
       "      <td>3483.0</td>\n",
       "    </tr>\n",
       "    <tr>\n",
       "      <th>5157</th>\n",
       "      <td>1</td>\n",
       "      <td>20</td>\n",
       "      <td>2832093922226</td>\n",
       "      <td>2832096176172</td>\n",
       "      <td>0</td>\n",
       "      <td>0</td>\n",
       "      <td>0</td>\n",
       "      <td>364964</td>\n",
       "      <td>720318928</td>\n",
       "      <td>2</td>\n",
       "      <td>4</td>\n",
       "      <td>4.225448e+17</td>\n",
       "      <td>88</td>\n",
       "      <td>1120.612784</td>\n",
       "      <td>5403.5</td>\n",
       "    </tr>\n",
       "    <tr>\n",
       "      <th>7861</th>\n",
       "      <td>1</td>\n",
       "      <td>20</td>\n",
       "      <td>2832158221018</td>\n",
       "      <td>2832161226442</td>\n",
       "      <td>0</td>\n",
       "      <td>0</td>\n",
       "      <td>0</td>\n",
       "      <td>367868</td>\n",
       "      <td>2277569398</td>\n",
       "      <td>2</td>\n",
       "      <td>4</td>\n",
       "      <td>4.225448e+17</td>\n",
       "      <td>88</td>\n",
       "      <td>622.644707</td>\n",
       "      <td>3493.5</td>\n",
       "    </tr>\n",
       "    <tr>\n",
       "      <th>...</th>\n",
       "      <td>...</td>\n",
       "      <td>...</td>\n",
       "      <td>...</td>\n",
       "      <td>...</td>\n",
       "      <td>...</td>\n",
       "      <td>...</td>\n",
       "      <td>...</td>\n",
       "      <td>...</td>\n",
       "      <td>...</td>\n",
       "      <td>...</td>\n",
       "      <td>...</td>\n",
       "      <td>...</td>\n",
       "      <td>...</td>\n",
       "      <td>...</td>\n",
       "      <td>...</td>\n",
       "    </tr>\n",
       "    <tr>\n",
       "      <th>263871</th>\n",
       "      <td>1</td>\n",
       "      <td>20</td>\n",
       "      <td>2838553095330</td>\n",
       "      <td>2838556808460</td>\n",
       "      <td>0</td>\n",
       "      <td>0</td>\n",
       "      <td>0</td>\n",
       "      <td>643120</td>\n",
       "      <td>1662792485</td>\n",
       "      <td>2</td>\n",
       "      <td>4</td>\n",
       "      <td>4.225449e+17</td>\n",
       "      <td>88</td>\n",
       "      <td>1197.070314</td>\n",
       "      <td>3483.0</td>\n",
       "    </tr>\n",
       "    <tr>\n",
       "      <th>266255</th>\n",
       "      <td>1</td>\n",
       "      <td>20</td>\n",
       "      <td>2838612202616</td>\n",
       "      <td>2838615041140</td>\n",
       "      <td>0</td>\n",
       "      <td>0</td>\n",
       "      <td>0</td>\n",
       "      <td>645634</td>\n",
       "      <td>1441711580</td>\n",
       "      <td>2</td>\n",
       "      <td>4</td>\n",
       "      <td>4.225449e+17</td>\n",
       "      <td>88</td>\n",
       "      <td>400.508918</td>\n",
       "      <td>3486.0</td>\n",
       "    </tr>\n",
       "    <tr>\n",
       "      <th>266510</th>\n",
       "      <td>1</td>\n",
       "      <td>20</td>\n",
       "      <td>2838618082136</td>\n",
       "      <td>2838621344472</td>\n",
       "      <td>0</td>\n",
       "      <td>0</td>\n",
       "      <td>0</td>\n",
       "      <td>645925</td>\n",
       "      <td>1168741639</td>\n",
       "      <td>2</td>\n",
       "      <td>4</td>\n",
       "      <td>4.225449e+17</td>\n",
       "      <td>88</td>\n",
       "      <td>151.647508</td>\n",
       "      <td>3490.0</td>\n",
       "    </tr>\n",
       "    <tr>\n",
       "      <th>267876</th>\n",
       "      <td>1</td>\n",
       "      <td>20</td>\n",
       "      <td>2838652665486</td>\n",
       "      <td>2838655605108</td>\n",
       "      <td>0</td>\n",
       "      <td>0</td>\n",
       "      <td>0</td>\n",
       "      <td>647443</td>\n",
       "      <td>3284628054</td>\n",
       "      <td>2</td>\n",
       "      <td>4</td>\n",
       "      <td>4.225449e+17</td>\n",
       "      <td>88</td>\n",
       "      <td>490.742624</td>\n",
       "      <td>3483.0</td>\n",
       "    </tr>\n",
       "    <tr>\n",
       "      <th>271353</th>\n",
       "      <td>1</td>\n",
       "      <td>20</td>\n",
       "      <td>2838739927266</td>\n",
       "      <td>2838744380808</td>\n",
       "      <td>0</td>\n",
       "      <td>0</td>\n",
       "      <td>0</td>\n",
       "      <td>651130</td>\n",
       "      <td>1666341771</td>\n",
       "      <td>2</td>\n",
       "      <td>4</td>\n",
       "      <td>4.225449e+17</td>\n",
       "      <td>88</td>\n",
       "      <td>457.417643</td>\n",
       "      <td>3486.5</td>\n",
       "    </tr>\n",
       "  </tbody>\n",
       "</table>\n",
       "<p>253 rows × 15 columns</p>\n",
       "</div>"
      ],
      "text/plain": [
       "        result  bc      timestamp            req  event type  hit type  blank  \\\n",
       "1267         1  20  2831993707430  2831997943420           0         0      0   \n",
       "1572         1  20  2832001239538  2832004458906           0         0      0   \n",
       "2351         1  20  2832020580676  2832024872930           0         0      0   \n",
       "5157         1  20  2832093922226  2832096176172           0         0      0   \n",
       "7861         1  20  2832158221018  2832161226442           0         0      0   \n",
       "...        ...  ..            ...            ...         ...       ...    ...   \n",
       "263871       1  20  2838553095330  2838556808460           0         0      0   \n",
       "266255       1  20  2838612202616  2838615041140           0         0      0   \n",
       "266510       1  20  2838618082136  2838621344472           0         0      0   \n",
       "267876       1  20  2838652665486  2838655605108           0         0      0   \n",
       "271353       1  20  2838739927266  2838744380808           0         0      0   \n",
       "\n",
       "        eventid    checksum  board  channel  unix timestamp  pixel  \\\n",
       "1267     360651  4236088531      2        4    4.225448e+17     88   \n",
       "1572     360967   973362895      2        4    4.225448e+17     88   \n",
       "2351     361849  4006338146      2        4    4.225448e+17     88   \n",
       "5157     364964   720318928      2        4    4.225448e+17     88   \n",
       "7861     367868  2277569398      2        4    4.225448e+17     88   \n",
       "...         ...         ...    ...      ...             ...    ...   \n",
       "263871   643120  1662792485      2        4    4.225449e+17     88   \n",
       "266255   645634  1441711580      2        4    4.225449e+17     88   \n",
       "266510   645925  1168741639      2        4    4.225449e+17     88   \n",
       "267876   647443  3284628054      2        4    4.225449e+17     88   \n",
       "271353   651130  1666341771      2        4    4.225449e+17     88   \n",
       "\n",
       "             energy      t0  \n",
       "1267     101.039693  3566.0  \n",
       "1572    1654.080267  3483.0  \n",
       "2351    1173.930343  3483.0  \n",
       "5157    1120.612784  5403.5  \n",
       "7861     622.644707  3493.5  \n",
       "...             ...     ...  \n",
       "263871  1197.070314  3483.0  \n",
       "266255   400.508918  3486.0  \n",
       "266510   151.647508  3490.0  \n",
       "267876   490.742624  3483.0  \n",
       "271353   457.417643  3486.5  \n",
       "\n",
       "[253 rows x 15 columns]"
      ]
     },
     "execution_count": 31,
     "metadata": {},
     "output_type": "execute_result"
    }
   ],
   "source": [
    "results.data()"
   ]
  },
  {
   "cell_type": "markdown",
   "metadata": {},
   "source": [
    "Now my results class has the indices saved of the waveforms in the file that satisfy BOTH the original pixel 88 cut AND the energy > 100 cut.\n",
    "\n",
    "To look at waveforms above that energy range, do this."
   ]
  },
  {
   "cell_type": "code",
   "execution_count": 32,
   "metadata": {},
   "outputs": [],
   "source": [
    "run.singleWaves().defineCut('custom', results.returnCut())\n",
    "\n",
    "waves = run.singleWaves().waves()"
   ]
  },
  {
   "cell_type": "markdown",
   "metadata": {},
   "source": [
    "Now the only waves in that waves container are large amplitude waveforms"
   ]
  },
  {
   "cell_type": "code",
   "execution_count": 33,
   "metadata": {},
   "outputs": [
    {
     "data": {
      "image/png": "[encoded data removed]",
      "text/plain": [
       "<Figure size 640x480 with 1 Axes>"
      ]
     },
     "metadata": {},
     "output_type": "display_data"
    }
   ],
   "source": [
    "for i in range(3):\n",
    "\tNab.plt.plot(waves[i], label=str(round(results.data()['energy'].iloc[i], 2)))\n",
    "Nab.plt.title('Some waveforms with their amplitudes')\n",
    "Nab.plt.legend()\n",
    "Nab.plt.show()"
   ]
  },
  {
   "cell_type": "code",
   "execution_count": 34,
   "metadata": {},
   "outputs": [
    {
     "name": "stdout",
     "output_type": "stream",
     "text": [
      "        result  bc      timestamp            req  event type  hit type  blank  \\\n",
      "40           1  20  2831952094196  2831962307900           0         0      0   \n",
      "127          1  20  2831962117850  2831968368268           0         0      0   \n",
      "226          1  20  2831962585852  2831970559876           0         0      0   \n",
      "300          1  20  2831970939406  2831973670116           0         0      0   \n",
      "377          1  20  2831968994314  2831975527814           0         0      0   \n",
      "...        ...  ..            ...            ...         ...       ...    ...   \n",
      "271353       1  20  2838739927266  2838744380808           0         0      0   \n",
      "271423       1  20  2838742320956  2838745936868           0         0      0   \n",
      "271531       1  20  2838747704808  2838749093688           0         0      0   \n",
      "271562       1  20  2838746007214  2838749180754           0         0      0   \n",
      "271812       1  20  2838751962998  2838755272914           0         0      0   \n",
      "\n",
      "        eventid    checksum  board  channel  unix timestamp  pixel  \n",
      "40       358673  3657371959      2        4    4.225448e+17     88  \n",
      "127      359159  4012232192      2        4    4.225448e+17     88  \n",
      "226      359376   928972423      2        4    4.225448e+17     88  \n",
      "300      359556  3313174736      2        4    4.225448e+17     88  \n",
      "377      359652   205316936      2        4    4.225448e+17     88  \n",
      "...         ...         ...    ...      ...             ...    ...  \n",
      "271353   651130  1666341771      2        4    4.225449e+17     88  \n",
      "271423   651205  4172576817      2        4    4.225449e+17     88  \n",
      "271531   651334  1310654342      2        4    4.225449e+17     88  \n",
      "271562   651365   189774658      2        4    4.225449e+17     88  \n",
      "271812   651643  2454714294      2        4    4.225449e+17     88  \n",
      "\n",
      "[1128 rows x 13 columns]\n"
     ]
    }
   ],
   "source": [
    "run.singleWaves().resetCuts()\n",
    "run.singleWaves().defineCut('pixel', '=', 88)\n",
    "headers = run.singleWaves().headers()\n",
    "print(headers)"
   ]
  },
  {
   "cell_type": "markdown",
   "metadata": {},
   "source": [
    "### Noise Analysis\n",
    "\n",
    "Let's look at that same pixel and get a sense of what the noise was like"
   ]
  },
  {
   "cell_type": "code",
   "execution_count": 35,
   "metadata": {},
   "outputs": [
    {
     "ename": "AttributeError",
     "evalue": "'NoneType' object has no attribute 'dtypes'",
     "output_type": "error",
     "traceback": [
      "\u001b[0;31m---------------------------------------------------------------------------\u001b[0m",
      "\u001b[0;31mAttributeError\u001b[0m                            Traceback (most recent call last)",
      "Cell \u001b[0;32mIn[35], line 2\u001b[0m\n\u001b[1;32m      1\u001b[0m run\u001b[38;5;241m.\u001b[39mnoiseWaves()\u001b[38;5;241m.\u001b[39mresetCuts()\n\u001b[0;32m----> 2\u001b[0m \u001b[43mrun\u001b[49m\u001b[38;5;241;43m.\u001b[39;49m\u001b[43mnoiseWaves\u001b[49m\u001b[43m(\u001b[49m\u001b[43m)\u001b[49m\u001b[38;5;241;43m.\u001b[39;49m\u001b[43mdefineCut\u001b[49m\u001b[43m(\u001b[49m\u001b[38;5;124;43m'\u001b[39;49m\u001b[38;5;124;43mpixel\u001b[39;49m\u001b[38;5;124;43m'\u001b[39;49m\u001b[43m,\u001b[49m\u001b[43m \u001b[49m\u001b[38;5;124;43m'\u001b[39;49m\u001b[38;5;124;43m=\u001b[39;49m\u001b[38;5;124;43m'\u001b[39;49m\u001b[43m,\u001b[49m\u001b[43m \u001b[49m\u001b[38;5;241;43m88\u001b[39;49m\u001b[43m)\u001b[49m\n\u001b[1;32m      4\u001b[0m spectra \u001b[38;5;241m=\u001b[39m run\u001b[38;5;241m.\u001b[39mnoiseWaves()\u001b[38;5;241m.\u001b[39mgeneratePowerSpectra()\n",
      "File \u001b[0;32m~/TNwork/nabonlineanalysis/nabpyinstallations/pyNab/src/nabPy/waveformFileClass.py:455\u001b[0m, in \u001b[0;36mwaveformFile.defineCut\u001b[0;34m(self, category, operator, optionA, optionB)\u001b[0m\n\u001b[1;32m    423\u001b[0m \u001b[38;5;28;01mdef\u001b[39;00m \u001b[38;5;21mdefineCut\u001b[39m(\u001b[38;5;28mself\u001b[39m, category, operator\u001b[38;5;241m=\u001b[39m\u001b[38;5;28;01mNone\u001b[39;00m, optionA\u001b[38;5;241m=\u001b[39m\u001b[38;5;28;01mNone\u001b[39;00m, optionB \u001b[38;5;241m=\u001b[39m \u001b[38;5;28;01mNone\u001b[39;00m):\n\u001b[1;32m    424\u001b[0m \u001b[38;5;250m\t\u001b[39m\u001b[38;5;124;03m\"\"\"\u001b[39;00m\n\u001b[1;32m    425\u001b[0m \u001b[38;5;124;03m\tThis function defines a cut to apply to the dataset. \u001b[39;00m\n\u001b[1;32m    426\u001b[0m \u001b[38;5;124;03m\tYou can only cut on data available in the headers\u001b[39;00m\n\u001b[0;32m   (...)\u001b[0m\n\u001b[1;32m    453\u001b[0m \u001b[38;5;124;03m\tNo data is deleted by defining a cut, it just defines a mask to access only particular indices\u001b[39;00m\n\u001b[1;32m    454\u001b[0m \u001b[38;5;124;03m\t\"\"\"\u001b[39;00m\n\u001b[0;32m--> 455\u001b[0m \t\u001b[38;5;28mself\u001b[39m\u001b[38;5;241m.\u001b[39m__currentCut \u001b[38;5;241m=\u001b[39m \u001b[43mbf\u001b[49m\u001b[38;5;241;43m.\u001b[39;49m\u001b[43mdefineCut\u001b[49m\u001b[43m(\u001b[49m\u001b[38;5;28;43mself\u001b[39;49m\u001b[38;5;241;43m.\u001b[39;49m\u001b[43mheaders\u001b[49m\u001b[43m(\u001b[49m\u001b[43m)\u001b[49m\u001b[43m,\u001b[49m\u001b[43m \u001b[49m\u001b[43mcategory\u001b[49m\u001b[43m,\u001b[49m\u001b[43m \u001b[49m\u001b[43moperator\u001b[49m\u001b[38;5;241;43m=\u001b[39;49m\u001b[43moperator\u001b[49m\u001b[43m,\u001b[49m\u001b[43m \u001b[49m\u001b[43moptionA\u001b[49m\u001b[38;5;241;43m=\u001b[39;49m\u001b[43moptionA\u001b[49m\u001b[43m,\u001b[49m\u001b[43m \u001b[49m\u001b[43moptionB\u001b[49m\u001b[38;5;241;43m=\u001b[39;49m\u001b[43moptionB\u001b[49m\u001b[43m)\u001b[49m\n\u001b[1;32m    456\u001b[0m \t\u001b[38;5;28mself\u001b[39m\u001b[38;5;241m.\u001b[39m__cutDefinitions\u001b[38;5;241m.\u001b[39mappend([category, operator, optionA, optionB])\n\u001b[1;32m    457\u001b[0m \t\u001b[38;5;28;01mreturn\u001b[39;00m\n",
      "File \u001b[0;32m~/TNwork/nabonlineanalysis/nabpyinstallations/pyNab/src/nabPy/basicFunctions.py:2516\u001b[0m, in \u001b[0;36mdefineCut\u001b[0;34m(data, category, operator, optionA, optionB)\u001b[0m\n\u001b[1;32m   2511\u001b[0m \u001b[38;5;66;03m#the way this function works is that it operates on the portion of the dataset remaining\u001b[39;00m\n\u001b[1;32m   2512\u001b[0m \u001b[38;5;66;03m#it looks at that portion that is left, and then checks to see if it passes the cut condition\u001b[39;00m\n\u001b[1;32m   2513\u001b[0m \u001b[38;5;66;03m#it returns a numpy array with the locations that passed in terms of the positions in the index array\u001b[39;00m\n\u001b[1;32m   2514\u001b[0m \u001b[38;5;66;03m#that pass the cut\u001b[39;00m\n\u001b[1;32m   2515\u001b[0m cut \u001b[38;5;241m=\u001b[39m \u001b[38;5;28;01mNone\u001b[39;00m\n\u001b[0;32m-> 2516\u001b[0m \u001b[38;5;28;01mif\u001b[39;00m category \u001b[38;5;129;01min\u001b[39;00m \u001b[43mdata\u001b[49m\u001b[38;5;241;43m.\u001b[39;49m\u001b[43mdtypes\u001b[49m\u001b[38;5;241m.\u001b[39mindex\u001b[38;5;241m.\u001b[39mvalues:\n\u001b[1;32m   2517\u001b[0m \t\u001b[38;5;28;01mif\u001b[39;00m operator \u001b[38;5;129;01min\u001b[39;00m [\u001b[38;5;124m'\u001b[39m\u001b[38;5;124m>\u001b[39m\u001b[38;5;124m'\u001b[39m, \u001b[38;5;124m'\u001b[39m\u001b[38;5;124m>=\u001b[39m\u001b[38;5;124m'\u001b[39m, \u001b[38;5;124m'\u001b[39m\u001b[38;5;124m<\u001b[39m\u001b[38;5;124m'\u001b[39m, \u001b[38;5;124m'\u001b[39m\u001b[38;5;124m<=\u001b[39m\u001b[38;5;124m'\u001b[39m, \u001b[38;5;124m'\u001b[39m\u001b[38;5;124m=\u001b[39m\u001b[38;5;124m'\u001b[39m, \u001b[38;5;124m'\u001b[39m\u001b[38;5;124m==\u001b[39m\u001b[38;5;124m'\u001b[39m, \u001b[38;5;124m'\u001b[39m\u001b[38;5;124m!=\u001b[39m\u001b[38;5;124m'\u001b[39m, \u001b[38;5;124m'\u001b[39m\u001b[38;5;124mor\u001b[39m\u001b[38;5;124m'\u001b[39m]:\n\u001b[1;32m   2518\u001b[0m \t\tcut \u001b[38;5;241m=\u001b[39m basicCuts(data, category, operator, optionA)\n",
      "\u001b[0;31mAttributeError\u001b[0m: 'NoneType' object has no attribute 'dtypes'"
     ]
    }
   ],
   "source": [
    "run.noiseWaves().resetCuts()\n",
    "run.noiseWaves().defineCut('pixel', '=', 88)\n",
    "\n",
    "spectra = run.noiseWaves().generatePowerSpectra()"
   ]
  },
  {
   "cell_type": "code",
   "execution_count": null,
   "metadata": {},
   "outputs": [
    {
     "data": {
      "image/png": "[encoded data removed]",
      "text/plain": [
       "<Figure size 432x288 with 1 Axes>"
      ]
     },
     "metadata": {
      "needs_background": "light"
     },
     "output_type": "display_data"
    }
   ],
   "source": [
    "Nab.plt.plot(spectra[0][1:], spectra[1][1:])\n",
    "Nab.plt.yscale('log')\n",
    "Nab.plt.xscale('log')\n",
    "Nab.plt.xlabel('Frequency (Hz)')\n",
    "Nab.plt.ylabel('ADC^2/Hz')\n",
    "Nab.plt.title('Power Spectra for Pixel 88')\n",
    "Nab.plt.show()"
   ]
  },
  {
   "cell_type": "markdown",
   "metadata": {},
   "source": [
    "Note that the first bin was removed. The first bin is the 0th frequency bin. This bin is often a very small number and can mess with the automatic scaling of the plot so I tend to remove it to make plots simpler. It's not that the data isn't important, just the plots don't look nice easily with it included."
   ]
  },
  {
   "cell_type": "code",
   "execution_count": null,
   "metadata": {},
   "outputs": [],
   "source": [
    "waves = run.singleWaves().waves()"
   ]
  },
  {
   "cell_type": "code",
   "execution_count": null,
   "metadata": {},
   "outputs": [
    {
     "data": {
      "text/html": [
       "<table>\n",
       "    <tr>\n",
       "        <td>\n",
       "            <table style=\"border-collapse: collapse;\">\n",
       "                <thead>\n",
       "                    <tr>\n",
       "                        <td> </td>\n",
       "                        <th> Array </th>\n",
       "                        <th> Chunk </th>\n",
       "                    </tr>\n",
       "                </thead>\n",
       "                <tbody>\n",
       "                    \n",
       "                    <tr>\n",
       "                        <th> Bytes </th>\n",
       "                        <td> 7.09 GiB </td>\n",
       "                        <td> 242.28 MiB </td>\n",
       "                    </tr>\n",
       "                    \n",
       "                    <tr>\n",
       "                        <th> Shape </th>\n",
       "                        <td> (271900, 7000) </td>\n",
       "                        <td> (9073, 7000) </td>\n",
       "                    </tr>\n",
       "                    <tr>\n",
       "                        <th> Dask graph </th>\n",
       "                        <td colspan=\"2\"> 30 chunks in 4 graph layers </td>\n",
       "                    </tr>\n",
       "                    <tr>\n",
       "                        <th> Data type </th>\n",
       "                        <td colspan=\"2\"> float32 numpy.ndarray </td>\n",
       "                    </tr>\n",
       "                </tbody>\n",
       "            </table>\n",
       "        </td>\n",
       "        <td>\n",
       "        <svg width=\"80\" height=\"170\" style=\"stroke:rgb(0,0,0);stroke-width:1\" >\n",
       "\n",
       "  <!-- Horizontal lines -->\n",
       "  <line x1=\"0\" y1=\"0\" x2=\"30\" y2=\"0\" style=\"stroke-width:2\" />\n",
       "  <line x1=\"0\" y1=\"3\" x2=\"30\" y2=\"3\" />\n",
       "  <line x1=\"0\" y1=\"11\" x2=\"30\" y2=\"11\" />\n",
       "  <line x1=\"0\" y1=\"15\" x2=\"30\" y2=\"15\" />\n",
       "  <line x1=\"0\" y1=\"23\" x2=\"30\" y2=\"23\" />\n",
       "  <line x1=\"0\" y1=\"27\" x2=\"30\" y2=\"27\" />\n",
       "  <line x1=\"0\" y1=\"35\" x2=\"30\" y2=\"35\" />\n",
       "  <line x1=\"0\" y1=\"43\" x2=\"30\" y2=\"43\" />\n",
       "  <line x1=\"0\" y1=\"47\" x2=\"30\" y2=\"47\" />\n",
       "  <line x1=\"0\" y1=\"55\" x2=\"30\" y2=\"55\" />\n",
       "  <line x1=\"0\" y1=\"59\" x2=\"30\" y2=\"59\" />\n",
       "  <line x1=\"0\" y1=\"67\" x2=\"30\" y2=\"67\" />\n",
       "  <line x1=\"0\" y1=\"71\" x2=\"30\" y2=\"71\" />\n",
       "  <line x1=\"0\" y1=\"79\" x2=\"30\" y2=\"79\" />\n",
       "  <line x1=\"0\" y1=\"87\" x2=\"30\" y2=\"87\" />\n",
       "  <line x1=\"0\" y1=\"91\" x2=\"30\" y2=\"91\" />\n",
       "  <line x1=\"0\" y1=\"99\" x2=\"30\" y2=\"99\" />\n",
       "  <line x1=\"0\" y1=\"103\" x2=\"30\" y2=\"103\" />\n",
       "  <line x1=\"0\" y1=\"111\" x2=\"30\" y2=\"111\" />\n",
       "  <line x1=\"0\" y1=\"120\" x2=\"30\" y2=\"120\" style=\"stroke-width:2\" />\n",
       "\n",
       "  <!-- Vertical lines -->\n",
       "  <line x1=\"0\" y1=\"0\" x2=\"0\" y2=\"120\" style=\"stroke-width:2\" />\n",
       "  <line x1=\"30\" y1=\"0\" x2=\"30\" y2=\"120\" style=\"stroke-width:2\" />\n",
       "\n",
       "  <!-- Colored Rectangle -->\n",
       "  <polygon points=\"0.0,0.0 30.483342077402668,0.0 30.483342077402668,120.0 0.0,120.0\" style=\"fill:#8B4903A0;stroke-width:0\"/>\n",
       "\n",
       "  <!-- Text -->\n",
       "  <text x=\"15.241671\" y=\"140.000000\" font-size=\"1.0rem\" font-weight=\"100\" text-anchor=\"middle\" >7000</text>\n",
       "  <text x=\"50.483342\" y=\"60.000000\" font-size=\"1.0rem\" font-weight=\"100\" text-anchor=\"middle\" transform=\"rotate(-90,50.483342,60.000000)\">271900</text>\n",
       "</svg>\n",
       "        </td>\n",
       "    </tr>\n",
       "</table>"
      ],
      "text/plain": [
       "dask.array<astype, shape=(271900, 7000), dtype=float32, chunksize=(9073, 7000), chunktype=numpy.ndarray>"
      ]
     },
     "execution_count": 10,
     "metadata": {},
     "output_type": "execute_result"
    }
   ],
   "source": [
    "jjjj"
   ]
  },
  {
   "cell_type": "code",
   "execution_count": null,
   "metadata": {},
   "outputs": [],
   "source": [
    "import numpy as np"
   ]
  },
  {
   "cell_type": "code",
   "execution_count": null,
   "metadata": {},
   "outputs": [],
   "source": [
    "subrundata = {\n",
    "    \"top\": {\n",
    "        \"trigger\": np.random.randint(100, size=127),\n",
    "        \"single\": np.random.randint(100, size=127),\n",
    "        \"coincidence\": np.random.randint(100, size=127),\n",
    "        \"pulser\": np.random.randint(100, size=127),\n",
    "        \"noise\": np.random.randint(100, size=127),\n",
    "        },\n",
    "    \"bottom\": {\n",
    "        \"trigger\": np.random.randint(100, size=127),\n",
    "        \"single\": np.random.randint(100, size=127),\n",
    "        \"coincidence\": np.random.randint(100, size=127),\n",
    "        \"pulser\": np.random.randint(100, size=127),\n",
    "        \"noise\": np.random.randint(100, size=127),\n",
    "        },\n",
    "\n",
    "\n",
    "    }       "
   ]
  },
  {
   "cell_type": "code",
   "execution_count": null,
   "metadata": {},
   "outputs": [
    {
     "name": "stdout",
     "output_type": "stream",
     "text": [
      "top single\n",
      "[5466    0    0    0    0  319    0 4557 1929 2236]\n",
      "top trigger\n",
      "[5940    0    0    0    0  381    0 5010 2126 2536]\n",
      "top coincidence\n",
      "[392   0   0   0   0  47   0 360 156 238]\n",
      "top pulser\n",
      "[1. 1. 1. 1. 1. 1. 1. 1. 1. 1.]\n",
      "top noise\n",
      "[1. 1. 1. 1. 1. 1. 1. 1. 1. 1.]\n",
      "bottom single\n",
      "[0 0 0 0 0 0 0 0 0 0]\n",
      "bottom trigger\n",
      "[0 0 0 0 0 0 0 0 0 0]\n",
      "bottom coincidence\n",
      "[0 0 0 0 0 0 0 0 0 0]\n",
      "bottom pulser\n",
      "[1. 1. 1. 1. 1. 1. 1. 1. 1. 1.]\n",
      "bottom noise\n",
      "[1. 1. 1. 1. 1. 1. 1. 1. 1. 1.]\n"
     ]
    }
   ],
   "source": [
    "det = ['top', 'bottom']\n",
    "evttype = ['single', 'trigger', 'coincidence', 'pulser', 'noise']\n",
    "for i in det:\n",
    "    for j in evttype:\n",
    "        print(i,j)\n",
    "        try:\n",
    "            subrundata[i][j] = run.plotHitLocations(j, det=i)\n",
    "        except:\n",
    "            subrundata[i][j] = np.zeros(127) \n",
    "        print(subrundata[i][j][:10])"
   ]
  },
  {
   "cell_type": "code",
   "execution_count": null,
   "metadata": {},
   "outputs": [
    {
     "data": {
      "text/html": [
       "<div>\n",
       "<style scoped>\n",
       "    .dataframe tbody tr th:only-of-type {\n",
       "        vertical-align: middle;\n",
       "    }\n",
       "\n",
       "    .dataframe tbody tr th {\n",
       "        vertical-align: top;\n",
       "    }\n",
       "\n",
       "    .dataframe thead th {\n",
       "        text-align: right;\n",
       "    }\n",
       "</style>\n",
       "<table border=\"1\" class=\"dataframe\">\n",
       "  <thead>\n",
       "    <tr style=\"text-align: right;\">\n",
       "      <th></th>\n",
       "      <th>timestamp</th>\n",
       "      <th>bc</th>\n",
       "      <th>energy</th>\n",
       "      <th>pixel</th>\n",
       "    </tr>\n",
       "  </thead>\n",
       "  <tbody>\n",
       "    <tr>\n",
       "      <th>0</th>\n",
       "      <td>2831482619036</td>\n",
       "      <td>12</td>\n",
       "      <td>81</td>\n",
       "      <td>98</td>\n",
       "    </tr>\n",
       "    <tr>\n",
       "      <th>1</th>\n",
       "      <td>2831482619104</td>\n",
       "      <td>15</td>\n",
       "      <td>42</td>\n",
       "      <td>109</td>\n",
       "    </tr>\n",
       "    <tr>\n",
       "      <th>2</th>\n",
       "      <td>2831482619080</td>\n",
       "      <td>20</td>\n",
       "      <td>37</td>\n",
       "      <td>88</td>\n",
       "    </tr>\n",
       "    <tr>\n",
       "      <th>3</th>\n",
       "      <td>2831482535342</td>\n",
       "      <td>38</td>\n",
       "      <td>239</td>\n",
       "      <td>71</td>\n",
       "    </tr>\n",
       "    <tr>\n",
       "      <th>4</th>\n",
       "      <td>2831482620728</td>\n",
       "      <td>35</td>\n",
       "      <td>572</td>\n",
       "      <td>84</td>\n",
       "    </tr>\n",
       "    <tr>\n",
       "      <th>...</th>\n",
       "      <td>...</td>\n",
       "      <td>...</td>\n",
       "      <td>...</td>\n",
       "      <td>...</td>\n",
       "    </tr>\n",
       "    <tr>\n",
       "      <th>312154</th>\n",
       "      <td>2838757650362</td>\n",
       "      <td>65</td>\n",
       "      <td>36</td>\n",
       "      <td>18</td>\n",
       "    </tr>\n",
       "    <tr>\n",
       "      <th>312155</th>\n",
       "      <td>2838757721870</td>\n",
       "      <td>65</td>\n",
       "      <td>65496</td>\n",
       "      <td>18</td>\n",
       "    </tr>\n",
       "    <tr>\n",
       "      <th>312156</th>\n",
       "      <td>2838757742540</td>\n",
       "      <td>69</td>\n",
       "      <td>65498</td>\n",
       "      <td>8</td>\n",
       "    </tr>\n",
       "    <tr>\n",
       "      <th>312157</th>\n",
       "      <td>2838757749058</td>\n",
       "      <td>69</td>\n",
       "      <td>65501</td>\n",
       "      <td>8</td>\n",
       "    </tr>\n",
       "    <tr>\n",
       "      <th>312158</th>\n",
       "      <td>2838757273956</td>\n",
       "      <td>157</td>\n",
       "      <td>2892</td>\n",
       "      <td>1073</td>\n",
       "    </tr>\n",
       "  </tbody>\n",
       "</table>\n",
       "<p>312159 rows × 4 columns</p>\n",
       "</div>"
      ],
      "text/plain": [
       "            timestamp   bc  energy  pixel\n",
       "0       2831482619036   12      81     98\n",
       "1       2831482619104   15      42    109\n",
       "2       2831482619080   20      37     88\n",
       "3       2831482535342   38     239     71\n",
       "4       2831482620728   35     572     84\n",
       "...               ...  ...     ...    ...\n",
       "312154  2838757650362   65      36     18\n",
       "312155  2838757721870   65   65496     18\n",
       "312156  2838757742540   69   65498      8\n",
       "312157  2838757749058   69   65501      8\n",
       "312158  2838757273956  157    2892   1073\n",
       "\n",
       "[312159 rows x 4 columns]"
      ]
     },
     "execution_count": 24,
     "metadata": {},
     "output_type": "execute_result"
    }
   ],
   "source": [
    "run.triggers().triggers()"
   ]
  },
  {
   "cell_type": "code",
   "execution_count": null,
   "metadata": {},
   "outputs": [],
   "source": [
    "    def getbcpixmap(self):\n",
    "        bctopixmap = self._thisRun.parameterFile().BoardChannelPixelMap\n",
    "        self.bcpixmap = {}\n",
    "        for i in bctopixmap:\n",
    "            self.bcpixmap[int(i[0])] = int(i[1])\n",
    "        self.vectorized_map = np.vectorize(self.bcpixmap.get) \n",
    "\n",
    "    def getevtarr(ele):\n",
    "        tstamp = ele[7][0]\n",
    "        ptof = (ele[7][0] - ele[8][0]) * 4e-9 / 1e-6  # in microseconds\n",
    "        pener = ele[7][2]\n",
    "        evttype = ele[1]\n",
    "        numtrig = ele[4]\n",
    "        ppix = ele[7][1]\n",
    "        epix = ele[8][1]\n",
    "        eener = ele[8][2] + ele[9][2] + ele[10][2] + ele[11][2] + ele[12][2]\n",
    "        return(np.array([evttype, numtrig, ptof, pener, ppix, eener, epix,tstamp]))\n",
    "\n",
    "    def get_coinc_df(events):\n",
    "        evtarr = np.array(list(map(getevtarr, events)))\n",
    "        # evtarr[:,4]= self.vectorized_map(evtarr[:,4])\n",
    "        # evtarr[:,6]= self.vectorized_map(evtarr[:,6])\n",
    "        evtarr = evtarr[evtarr[:,0] == 1]\n",
    "        evtdf = pd.DataFrame(evtarr)\n",
    "        evtdf.columns = ['evttype', 'numtrig', 'ptof', 'pener', 'ppix', 'eener', 'epix','tstamp']\n",
    "        return(evtdf)   \n"
   ]
  },
  {
   "cell_type": "code",
   "execution_count": 10,
   "metadata": {},
   "outputs": [
    {
     "data": {
      "application/javascript": "(function(root) {\n  function now() {\n    return new Date();\n  }\n\n  var force = true;\n  var py_version = '3.4.2'.replace('rc', '-rc.').replace('.dev', '-dev.');\n  var reloading = false;\n  var Bokeh = root.Bokeh;\n\n  if (typeof (root._bokeh_timeout) === \"undefined\" || force) {\n    root._bokeh_timeout = Date.now() + 5000;\n    root._bokeh_failed_load = false;\n  }\n\n  function run_callbacks() {\n    try {\n      root._bokeh_onload_callbacks.forEach(function(callback) {\n        if (callback != null)\n          callback();\n      });\n    } finally {\n      delete root._bokeh_onload_callbacks;\n    }\n    console.debug(\"Bokeh: all callbacks have finished\");\n  }\n\n  function load_libs(css_urls, js_urls, js_modules, js_exports, callback) {\n    if (css_urls == null) css_urls = [];\n    if (js_urls == null) js_urls = [];\n    if (js_modules == null) js_modules = [];\n    if (js_exports == null) js_exports = {};\n\n    root._bokeh_onload_callbacks.push(callback);\n\n    if (root._bokeh_is_loading > 0) {\n      console.debug(\"Bokeh: BokehJS is being loaded, scheduling callback at\", now());\n      return null;\n    }\n    if (js_urls.length === 0 && js_modules.length === 0 && Object.keys(js_exports).length === 0) {\n      run_callbacks();\n      return null;\n    }\n    if (!reloading) {\n      console.debug(\"Bokeh: BokehJS not loaded, scheduling load and callback at\", now());\n    }\n\n    function on_load() {\n      root._bokeh_is_loading--;\n      if (root._bokeh_is_loading === 0) {\n        console.debug(\"Bokeh: all BokehJS libraries/stylesheets loaded\");\n        run_callbacks()\n      }\n    }\n    window._bokeh_on_load = on_load\n\n    function on_error() {\n      console.error(\"failed to load \" + url);\n    }\n\n    var skip = [];\n    if (window.requirejs) {\n      window.requirejs.config({'packages': {}, 'paths': {}, 'shim': {}});\n      root._bokeh_is_loading = css_urls.length + 0;\n    } else {\n      root._bokeh_is_loading = css_urls.length + js_urls.length + js_modules.length + Object.keys(js_exports).length;\n    }\n\n    var existing_stylesheets = []\n    var links = document.getElementsByTagName('link')\n    for (var i = 0; i < links.length; i++) {\n      var link = links[i]\n      if (link.href != null) {\n\texisting_stylesheets.push(link.href)\n      }\n    }\n    for (var i = 0; i < css_urls.length; i++) {\n      var url = css_urls[i];\n      if (existing_stylesheets.indexOf(url) !== -1) {\n\ton_load()\n\tcontinue;\n      }\n      const element = document.createElement(\"link\");\n      element.onload = on_load;\n      element.onerror = on_error;\n      element.rel = \"stylesheet\";\n      element.type = \"text/css\";\n      element.href = url;\n      console.debug(\"Bokeh: injecting link tag for BokehJS stylesheet: \", url);\n      document.body.appendChild(element);\n    }    var existing_scripts = []\n    var scripts = document.getElementsByTagName('script')\n    for (var i = 0; i < scripts.length; i++) {\n      var script = scripts[i]\n      if (script.src != null) {\n\texisting_scripts.push(script.src)\n      }\n    }\n    for (var i = 0; i < js_urls.length; i++) {\n      var url = js_urls[i];\n      if (skip.indexOf(url) !== -1 || existing_scripts.indexOf(url) !== -1) {\n\tif (!window.requirejs) {\n\t  on_load();\n\t}\n\tcontinue;\n      }\n      var element = document.createElement('script');\n      element.onload = on_load;\n      element.onerror = on_error;\n      element.async = false;\n      element.src = url;\n      console.debug(\"Bokeh: injecting script tag for BokehJS library: \", url);\n      document.head.appendChild(element);\n    }\n    for (var i = 0; i < js_modules.length; i++) {\n      var url = js_modules[i];\n      if (skip.indexOf(url) !== -1 || existing_scripts.indexOf(url) !== -1) {\n\tif (!window.requirejs) {\n\t  on_load();\n\t}\n\tcontinue;\n      }\n      var element = document.createElement('script');\n      element.onload = on_load;\n      element.onerror = on_error;\n      element.async = false;\n      element.src = url;\n      element.type = \"module\";\n      console.debug(\"Bokeh: injecting script tag for BokehJS library: \", url);\n      document.head.appendChild(element);\n    }\n    for (const name in js_exports) {\n      var url = js_exports[name];\n      if (skip.indexOf(url) >= 0 || root[name] != null) {\n\tif (!window.requirejs) {\n\t  on_load();\n\t}\n\tcontinue;\n      }\n      var element = document.createElement('script');\n      element.onerror = on_error;\n      element.async = false;\n      element.type = \"module\";\n      console.debug(\"Bokeh: injecting script tag for BokehJS library: \", url);\n      element.textContent = `\n      import ${name} from \"${url}\"\n      window.${name} = ${name}\n      window._bokeh_on_load()\n      `\n      document.head.appendChild(element);\n    }\n    if (!js_urls.length && !js_modules.length) {\n      on_load()\n    }\n  };\n\n  function inject_raw_css(css) {\n    const element = document.createElement(\"style\");\n    element.appendChild(document.createTextNode(css));\n    document.body.appendChild(element);\n  }\n\n  var js_urls = [\"https://cdn.bokeh.org/bokeh/release/bokeh-3.4.2.min.js\", \"https://cdn.bokeh.org/bokeh/release/bokeh-gl-3.4.2.min.js\", \"https://cdn.bokeh.org/bokeh/release/bokeh-widgets-3.4.2.min.js\", \"https://cdn.bokeh.org/bokeh/release/bokeh-tables-3.4.2.min.js\", \"https://cdn.holoviz.org/panel/1.4.5/dist/panel.min.js\"];\n  var js_modules = [];\n  var js_exports = {};\n  var css_urls = [];\n  var inline_js = [    function(Bokeh) {\n      Bokeh.set_log_level(\"info\");\n    },\nfunction(Bokeh) {} // ensure no trailing comma for IE\n  ];\n\n  function run_inline_js() {\n    if ((root.Bokeh !== undefined) || (force === true)) {\n      for (var i = 0; i < inline_js.length; i++) {\n\ttry {\n          inline_js[i].call(root, root.Bokeh);\n\t} catch(e) {\n\t  if (!reloading) {\n\t    throw e;\n\t  }\n\t}\n      }\n      // Cache old bokeh versions\n      if (Bokeh != undefined && !reloading) {\n\tvar NewBokeh = root.Bokeh;\n\tif (Bokeh.versions === undefined) {\n\t  Bokeh.versions = new Map();\n\t}\n\tif (NewBokeh.version !== Bokeh.version) {\n\t  Bokeh.versions.set(NewBokeh.version, NewBokeh)\n\t}\n\troot.Bokeh = Bokeh;\n      }} else if (Date.now() < root._bokeh_timeout) {\n      setTimeout(run_inline_js, 100);\n    } else if (!root._bokeh_failed_load) {\n      console.log(\"Bokeh: BokehJS failed to load within specified timeout.\");\n      root._bokeh_failed_load = true;\n    }\n    root._bokeh_is_initializing = false\n  }\n\n  function load_or_wait() {\n    // Implement a backoff loop that tries to ensure we do not load multiple\n    // versions of Bokeh and its dependencies at the same time.\n    // In recent versions we use the root._bokeh_is_initializing flag\n    // to determine whether there is an ongoing attempt to initialize\n    // bokeh, however for backward compatibility we also try to ensure\n    // that we do not start loading a newer (Panel>=1.0 and Bokeh>3) version\n    // before older versions are fully initialized.\n    if (root._bokeh_is_initializing && Date.now() > root._bokeh_timeout) {\n      root._bokeh_is_initializing = false;\n      root._bokeh_onload_callbacks = undefined;\n      console.log(\"Bokeh: BokehJS was loaded multiple times but one version failed to initialize.\");\n      load_or_wait();\n    } else if (root._bokeh_is_initializing || (typeof root._bokeh_is_initializing === \"undefined\" && root._bokeh_onload_callbacks !== undefined)) {\n      setTimeout(load_or_wait, 100);\n    } else {\n      root._bokeh_is_initializing = true\n      root._bokeh_onload_callbacks = []\n      var bokeh_loaded = Bokeh != null && (Bokeh.version === py_version || (Bokeh.versions !== undefined && Bokeh.versions.has(py_version)));\n      if (!reloading && !bokeh_loaded) {\n\troot.Bokeh = undefined;\n      }\n      load_libs(css_urls, js_urls, js_modules, js_exports, function() {\n\tconsole.debug(\"Bokeh: BokehJS plotting callback run at\", now());\n\trun_inline_js();\n      });\n    }\n  }\n  // Give older versions of the autoload script a head-start to ensure\n  // they initialize before we start loading newer version.\n  setTimeout(load_or_wait, 100)\n}(window));",
      "application/vnd.holoviews_load.v0+json": ""
     },
     "metadata": {},
     "output_type": "display_data"
    },
    {
     "data": {
      "application/javascript": "\nif ((window.PyViz === undefined) || (window.PyViz instanceof HTMLElement)) {\n  window.PyViz = {comms: {}, comm_status:{}, kernels:{}, receivers: {}, plot_index: []}\n}\n\n\n    function JupyterCommManager() {\n    }\n\n    JupyterCommManager.prototype.register_target = function(plot_id, comm_id, msg_handler) {\n      if (window.comm_manager || ((window.Jupyter !== undefined) && (Jupyter.notebook.kernel != null))) {\n        var comm_manager = window.comm_manager || Jupyter.notebook.kernel.comm_manager;\n        comm_manager.register_target(comm_id, function(comm) {\n          comm.on_msg(msg_handler);\n        });\n      } else if ((plot_id in window.PyViz.kernels) && (window.PyViz.kernels[plot_id])) {\n        window.PyViz.kernels[plot_id].registerCommTarget(comm_id, function(comm) {\n          comm.onMsg = msg_handler;\n        });\n      } else if (typeof google != 'undefined' && google.colab.kernel != null) {\n        google.colab.kernel.comms.registerTarget(comm_id, (comm) => {\n          var messages = comm.messages[Symbol.asyncIterator]();\n          function processIteratorResult(result) {\n            var message = result.value;\n            console.log(message)\n            var content = {data: message.data, comm_id};\n            var buffers = []\n            for (var buffer of message.buffers || []) {\n              buffers.push(new DataView(buffer))\n            }\n            var metadata = message.metadata || {};\n            var msg = {content, buffers, metadata}\n            msg_handler(msg);\n            return messages.next().then(processIteratorResult);\n          }\n          return messages.next().then(processIteratorResult);\n        })\n      }\n    }\n\n    JupyterCommManager.prototype.get_client_comm = function(plot_id, comm_id, msg_handler) {\n      if (comm_id in window.PyViz.comms) {\n        return window.PyViz.comms[comm_id];\n      } else if (window.comm_manager || ((window.Jupyter !== undefined) && (Jupyter.notebook.kernel != null))) {\n        var comm_manager = window.comm_manager || Jupyter.notebook.kernel.comm_manager;\n        var comm = comm_manager.new_comm(comm_id, {}, {}, {}, comm_id);\n        if (msg_handler) {\n          comm.on_msg(msg_handler);\n        }\n      } else if ((plot_id in window.PyViz.kernels) && (window.PyViz.kernels[plot_id])) {\n        var comm = window.PyViz.kernels[plot_id].connectToComm(comm_id);\n        comm.open();\n        if (msg_handler) {\n          comm.onMsg = msg_handler;\n        }\n      } else if (typeof google != 'undefined' && google.colab.kernel != null) {\n        var comm_promise = google.colab.kernel.comms.open(comm_id)\n        comm_promise.then((comm) => {\n          window.PyViz.comms[comm_id] = comm;\n          if (msg_handler) {\n            var messages = comm.messages[Symbol.asyncIterator]();\n            function processIteratorResult(result) {\n              var message = result.value;\n              var content = {data: message.data};\n              var metadata = message.metadata || {comm_id};\n              var msg = {content, metadata}\n              msg_handler(msg);\n              return messages.next().then(processIteratorResult);\n            }\n            return messages.next().then(processIteratorResult);\n          }\n        }) \n        var sendClosure = (data, metadata, buffers, disposeOnDone) => {\n          return comm_promise.then((comm) => {\n            comm.send(data, metadata, buffers, disposeOnDone);\n          });\n        };\n        var comm = {\n          send: sendClosure\n        };\n      }\n      window.PyViz.comms[comm_id] = comm;\n      return comm;\n    }\n    window.PyViz.comm_manager = new JupyterCommManager();\n    \n\n\nvar JS_MIME_TYPE = 'application/javascript';\nvar HTML_MIME_TYPE = 'text/html';\nvar EXEC_MIME_TYPE = 'application/vnd.holoviews_exec.v0+json';\nvar CLASS_NAME = 'output';\n\n/**\n * Render data to the DOM node\n */\nfunction render(props, node) {\n  var div = document.createElement(\"div\");\n  var script = document.createElement(\"script\");\n  node.appendChild(div);\n  node.appendChild(script);\n}\n\n/**\n * Handle when a new output is added\n */\nfunction handle_add_output(event, handle) {\n  var output_area = handle.output_area;\n  var output = handle.output;\n  if ((output.data == undefined) || (!output.data.hasOwnProperty(EXEC_MIME_TYPE))) {\n    return\n  }\n  var id = output.metadata[EXEC_MIME_TYPE][\"id\"];\n  var toinsert = output_area.element.find(\".\" + CLASS_NAME.split(' ')[0]);\n  if (id !== undefined) {\n    var nchildren = toinsert.length;\n    var html_node = toinsert[nchildren-1].children[0];\n    html_node.innerHTML = output.data[HTML_MIME_TYPE];\n    var scripts = [];\n    var nodelist = html_node.querySelectorAll(\"script\");\n    for (var i in nodelist) {\n      if (nodelist.hasOwnProperty(i)) {\n        scripts.push(nodelist[i])\n      }\n    }\n\n    scripts.forEach( function (oldScript) {\n      var newScript = document.createElement(\"script\");\n      var attrs = [];\n      var nodemap = oldScript.attributes;\n      for (var j in nodemap) {\n        if (nodemap.hasOwnProperty(j)) {\n          attrs.push(nodemap[j])\n        }\n      }\n      attrs.forEach(function(attr) { newScript.setAttribute(attr.name, attr.value) });\n      newScript.appendChild(document.createTextNode(oldScript.innerHTML));\n      oldScript.parentNode.replaceChild(newScript, oldScript);\n    });\n    if (JS_MIME_TYPE in output.data) {\n      toinsert[nchildren-1].children[1].textContent = output.data[JS_MIME_TYPE];\n    }\n    output_area._hv_plot_id = id;\n    if ((window.Bokeh !== undefined) && (id in Bokeh.index)) {\n      window.PyViz.plot_index[id] = Bokeh.index[id];\n    } else {\n      window.PyViz.plot_index[id] = null;\n    }\n  } else if (output.metadata[EXEC_MIME_TYPE][\"server_id\"] !== undefined) {\n    var bk_div = document.createElement(\"div\");\n    bk_div.innerHTML = output.data[HTML_MIME_TYPE];\n    var script_attrs = bk_div.children[0].attributes;\n    for (var i = 0; i < script_attrs.length; i++) {\n      toinsert[toinsert.length - 1].childNodes[1].setAttribute(script_attrs[i].name, script_attrs[i].value);\n    }\n    // store reference to server id on output_area\n    output_area._bokeh_server_id = output.metadata[EXEC_MIME_TYPE][\"server_id\"];\n  }\n}\n\n/**\n * Handle when an output is cleared or removed\n */\nfunction handle_clear_output(event, handle) {\n  var id = handle.cell.output_area._hv_plot_id;\n  var server_id = handle.cell.output_area._bokeh_server_id;\n  if (((id === undefined) || !(id in PyViz.plot_index)) && (server_id !== undefined)) { return; }\n  var comm = window.PyViz.comm_manager.get_client_comm(\"hv-extension-comm\", \"hv-extension-comm\", function () {});\n  if (server_id !== null) {\n    comm.send({event_type: 'server_delete', 'id': server_id});\n    return;\n  } else if (comm !== null) {\n    comm.send({event_type: 'delete', 'id': id});\n  }\n  delete PyViz.plot_index[id];\n  if ((window.Bokeh !== undefined) & (id in window.Bokeh.index)) {\n    var doc = window.Bokeh.index[id].model.document\n    doc.clear();\n    const i = window.Bokeh.documents.indexOf(doc);\n    if (i > -1) {\n      window.Bokeh.documents.splice(i, 1);\n    }\n  }\n}\n\n/**\n * Handle kernel restart event\n */\nfunction handle_kernel_cleanup(event, handle) {\n  delete PyViz.comms[\"hv-extension-comm\"];\n  window.PyViz.plot_index = {}\n}\n\n/**\n * Handle update_display_data messages\n */\nfunction handle_update_output(event, handle) {\n  handle_clear_output(event, {cell: {output_area: handle.output_area}})\n  handle_add_output(event, handle)\n}\n\nfunction register_renderer(events, OutputArea) {\n  function append_mime(data, metadata, element) {\n    // create a DOM node to render to\n    var toinsert = this.create_output_subarea(\n    metadata,\n    CLASS_NAME,\n    EXEC_MIME_TYPE\n    );\n    this.keyboard_manager.register_events(toinsert);\n    // Render to node\n    var props = {data: data, metadata: metadata[EXEC_MIME_TYPE]};\n    render(props, toinsert[0]);\n    element.append(toinsert);\n    return toinsert\n  }\n\n  events.on('output_added.OutputArea', handle_add_output);\n  events.on('output_updated.OutputArea', handle_update_output);\n  events.on('clear_output.CodeCell', handle_clear_output);\n  events.on('delete.Cell', handle_clear_output);\n  events.on('kernel_ready.Kernel', handle_kernel_cleanup);\n\n  OutputArea.prototype.register_mime_type(EXEC_MIME_TYPE, append_mime, {\n    safe: true,\n    index: 0\n  });\n}\n\nif (window.Jupyter !== undefined) {\n  try {\n    var events = require('base/js/events');\n    var OutputArea = require('notebook/js/outputarea').OutputArea;\n    if (OutputArea.prototype.mime_types().indexOf(EXEC_MIME_TYPE) == -1) {\n      register_renderer(events, OutputArea);\n    }\n  } catch(err) {\n  }\n}\n",
      "application/vnd.holoviews_load.v0+json": ""
     },
     "metadata": {},
     "output_type": "display_data"
    },
    {
     "data": {
      "text/html": [
       "<style>*[data-root-id],\n",
       "*[data-root-id] > * {\n",
       "  box-sizing: border-box;\n",
       "  font-family: var(--jp-ui-font-family);\n",
       "  font-size: var(--jp-ui-font-size1);\n",
       "  color: var(--vscode-editor-foreground, var(--jp-ui-font-color1));\n",
       "}\n",
       "\n",
       "/* Override VSCode background color */\n",
       ".cell-output-ipywidget-background:has(\n",
       "    > .cell-output-ipywidget-background > .lm-Widget > *[data-root-id]\n",
       "  ),\n",
       ".cell-output-ipywidget-background:has(> .lm-Widget > *[data-root-id]) {\n",
       "  background-color: transparent !important;\n",
       "}\n",
       "</style>"
      ]
     },
     "metadata": {},
     "output_type": "display_data"
    },
    {
     "data": {
      "application/vnd.holoviews_exec.v0+json": "",
      "text/html": [
       "<div id='p1006'>\n",
       "  <div id=\"f6ee93c4-5872-454a-b179-327df6673f07\" data-root-id=\"p1006\" style=\"display: contents;\"></div>\n",
       "</div>\n",
       "<script type=\"application/javascript\">(function(root) {\n",
       "  var docs_json = {\"aec7b85c-9ffe-473a-ad4c-dd015f4e2a0e\":{\"version\":\"3.4.2\",\"title\":\"Bokeh Application\",\"roots\":[{\"type\":\"object\",\"name\":\"panel.models.browser.BrowserInfo\",\"id\":\"p1006\"},{\"type\":\"object\",\"name\":\"panel.models.comm_manager.CommManager\",\"id\":\"p1007\",\"attributes\":{\"plot_id\":\"p1006\",\"comm_id\":\"c8bcfba4fa84426a89b6166a8568713f\",\"client_comm_id\":\"5d12a7cd4ba9452da1145c9737bfbd74\"}}],\"defs\":[{\"type\":\"model\",\"name\":\"ReactiveHTML1\"},{\"type\":\"model\",\"name\":\"FlexBox1\",\"properties\":[{\"name\":\"align_content\",\"kind\":\"Any\",\"default\":\"flex-start\"},{\"name\":\"align_items\",\"kind\":\"Any\",\"default\":\"flex-start\"},{\"name\":\"flex_direction\",\"kind\":\"Any\",\"default\":\"row\"},{\"name\":\"flex_wrap\",\"kind\":\"Any\",\"default\":\"wrap\"},{\"name\":\"gap\",\"kind\":\"Any\",\"default\":\"\"},{\"name\":\"justify_content\",\"kind\":\"Any\",\"default\":\"flex-start\"}]},{\"type\":\"model\",\"name\":\"FloatPanel1\",\"properties\":[{\"name\":\"config\",\"kind\":\"Any\",\"default\":{\"type\":\"map\"}},{\"name\":\"contained\",\"kind\":\"Any\",\"default\":true},{\"name\":\"position\",\"kind\":\"Any\",\"default\":\"right-top\"},{\"name\":\"offsetx\",\"kind\":\"Any\",\"default\":null},{\"name\":\"offsety\",\"kind\":\"Any\",\"default\":null},{\"name\":\"theme\",\"kind\":\"Any\",\"default\":\"primary\"},{\"name\":\"status\",\"kind\":\"Any\",\"default\":\"normalized\"}]},{\"type\":\"model\",\"name\":\"GridStack1\",\"properties\":[{\"name\":\"mode\",\"kind\":\"Any\",\"default\":\"warn\"},{\"name\":\"ncols\",\"kind\":\"Any\",\"default\":null},{\"name\":\"nrows\",\"kind\":\"Any\",\"default\":null},{\"name\":\"allow_resize\",\"kind\":\"Any\",\"default\":true},{\"name\":\"allow_drag\",\"kind\":\"Any\",\"default\":true},{\"name\":\"state\",\"kind\":\"Any\",\"default\":[]}]},{\"type\":\"model\",\"name\":\"drag1\",\"properties\":[{\"name\":\"slider_width\",\"kind\":\"Any\",\"default\":5},{\"name\":\"slider_color\",\"kind\":\"Any\",\"default\":\"black\"},{\"name\":\"value\",\"kind\":\"Any\",\"default\":50}]},{\"type\":\"model\",\"name\":\"click1\",\"properties\":[{\"name\":\"terminal_output\",\"kind\":\"Any\",\"default\":\"\"},{\"name\":\"debug_name\",\"kind\":\"Any\",\"default\":\"\"},{\"name\":\"clears\",\"kind\":\"Any\",\"default\":0}]},{\"type\":\"model\",\"name\":\"FastWrapper1\",\"properties\":[{\"name\":\"object\",\"kind\":\"Any\",\"default\":null},{\"name\":\"style\",\"kind\":\"Any\",\"default\":null}]},{\"type\":\"model\",\"name\":\"NotificationAreaBase1\",\"properties\":[{\"name\":\"js_events\",\"kind\":\"Any\",\"default\":{\"type\":\"map\"}},{\"name\":\"position\",\"kind\":\"Any\",\"default\":\"bottom-right\"},{\"name\":\"_clear\",\"kind\":\"Any\",\"default\":0}]},{\"type\":\"model\",\"name\":\"NotificationArea1\",\"properties\":[{\"name\":\"js_events\",\"kind\":\"Any\",\"default\":{\"type\":\"map\"}},{\"name\":\"notifications\",\"kind\":\"Any\",\"default\":[]},{\"name\":\"position\",\"kind\":\"Any\",\"default\":\"bottom-right\"},{\"name\":\"_clear\",\"kind\":\"Any\",\"default\":0},{\"name\":\"types\",\"kind\":\"Any\",\"default\":[{\"type\":\"map\",\"entries\":[[\"type\",\"warning\"],[\"background\",\"#ffc107\"],[\"icon\",{\"type\":\"map\",\"entries\":[[\"className\",\"fas fa-exclamation-triangle\"],[\"tagName\",\"i\"],[\"color\",\"white\"]]}]]},{\"type\":\"map\",\"entries\":[[\"type\",\"info\"],[\"background\",\"#007bff\"],[\"icon\",{\"type\":\"map\",\"entries\":[[\"className\",\"fas fa-info-circle\"],[\"tagName\",\"i\"],[\"color\",\"white\"]]}]]}]}]},{\"type\":\"model\",\"name\":\"Notification\",\"properties\":[{\"name\":\"background\",\"kind\":\"Any\",\"default\":null},{\"name\":\"duration\",\"kind\":\"Any\",\"default\":3000},{\"name\":\"icon\",\"kind\":\"Any\",\"default\":null},{\"name\":\"message\",\"kind\":\"Any\",\"default\":\"\"},{\"name\":\"notification_type\",\"kind\":\"Any\",\"default\":null},{\"name\":\"_destroyed\",\"kind\":\"Any\",\"default\":false}]},{\"type\":\"model\",\"name\":\"TemplateActions1\",\"properties\":[{\"name\":\"open_modal\",\"kind\":\"Any\",\"default\":0},{\"name\":\"close_modal\",\"kind\":\"Any\",\"default\":0}]},{\"type\":\"model\",\"name\":\"BootstrapTemplateActions1\",\"properties\":[{\"name\":\"open_modal\",\"kind\":\"Any\",\"default\":0},{\"name\":\"close_modal\",\"kind\":\"Any\",\"default\":0}]},{\"type\":\"model\",\"name\":\"TemplateEditor1\",\"properties\":[{\"name\":\"layout\",\"kind\":\"Any\",\"default\":[]}]},{\"type\":\"model\",\"name\":\"MaterialTemplateActions1\",\"properties\":[{\"name\":\"open_modal\",\"kind\":\"Any\",\"default\":0},{\"name\":\"close_modal\",\"kind\":\"Any\",\"default\":0}]},{\"type\":\"model\",\"name\":\"copy_to_clipboard1\",\"properties\":[{\"name\":\"fill\",\"kind\":\"Any\",\"default\":\"none\"},{\"name\":\"value\",\"kind\":\"Any\",\"default\":null}]}]}};\n",
       "  var render_items = [{\"docid\":\"aec7b85c-9ffe-473a-ad4c-dd015f4e2a0e\",\"roots\":{\"p1006\":\"f6ee93c4-5872-454a-b179-327df6673f07\"},\"root_ids\":[\"p1006\"]}];\n",
       "  var docs = Object.values(docs_json)\n",
       "  if (!docs) {\n",
       "    return\n",
       "  }\n",
       "  const py_version = docs[0].version.replace('rc', '-rc.').replace('.dev', '-dev.')\n",
       "  async function embed_document(root) {\n",
       "    var Bokeh = get_bokeh(root)\n",
       "    await Bokeh.embed.embed_items_notebook(docs_json, render_items);\n",
       "    for (const render_item of render_items) {\n",
       "      for (const root_id of render_item.root_ids) {\n",
       "\tconst id_el = document.getElementById(root_id)\n",
       "\tif (id_el.children.length && id_el.children[0].hasAttribute('data-root-id')) {\n",
       "\t  const root_el = id_el.children[0]\n",
       "\t  root_el.id = root_el.id + '-rendered'\n",
       "\t  for (const child of root_el.children) {\n",
       "            // Ensure JupyterLab does not capture keyboard shortcuts\n",
       "            // see: https://jupyterlab.readthedocs.io/en/4.1.x/extension/notebook.html#keyboard-interaction-model\n",
       "\t    child.setAttribute('data-lm-suppress-shortcuts', 'true')\n",
       "\t  }\n",
       "\t}\n",
       "      }\n",
       "    }\n",
       "  }\n",
       "  function get_bokeh(root) {\n",
       "    if (root.Bokeh === undefined) {\n",
       "      return null\n",
       "    } else if (root.Bokeh.version !== py_version) {\n",
       "      if (root.Bokeh.versions === undefined || !root.Bokeh.versions.has(py_version)) {\n",
       "\treturn null\n",
       "      }\n",
       "      return root.Bokeh.versions.get(py_version);\n",
       "    } else if (root.Bokeh.version === py_version) {\n",
       "      return root.Bokeh\n",
       "    }\n",
       "    return null\n",
       "  }\n",
       "  function is_loaded(root) {\n",
       "    var Bokeh = get_bokeh(root)\n",
       "    return (Bokeh != null && Bokeh.Panel !== undefined)\n",
       "  }\n",
       "  if (is_loaded(root)) {\n",
       "    embed_document(root);\n",
       "  } else {\n",
       "    var attempts = 0;\n",
       "    var timer = setInterval(function(root) {\n",
       "      if (is_loaded(root)) {\n",
       "        clearInterval(timer);\n",
       "        embed_document(root);\n",
       "      } else if (document.readyState == \"complete\") {\n",
       "        attempts++;\n",
       "        if (attempts > 200) {\n",
       "          clearInterval(timer);\n",
       "\t  var Bokeh = get_bokeh(root)\n",
       "\t  if (Bokeh == null || Bokeh.Panel == null) {\n",
       "            console.warn(\"Panel: ERROR: Unable to run Panel code because Bokeh or Panel library is missing\");\n",
       "\t  } else {\n",
       "\t    console.warn(\"Panel: WARNING: Attempting to render but not all required libraries could be resolved.\")\n",
       "\t    embed_document(root)\n",
       "\t  }\n",
       "        }\n",
       "      }\n",
       "    }, 25, root)\n",
       "  }\n",
       "})(window);</script>"
      ]
     },
     "metadata": {
      "application/vnd.holoviews_exec.v0+json": {
       "id": "p1006"
      }
     },
     "output_type": "display_data"
    },
    {
     "data": {
      "text/html": [
       "\n",
       "<div class=\"logo-block\">\n",
       "<img src='data:image/png;base64,iVBORw0KGgoAAAANSUhEUgAAAEAAAABACAYAAACqaXHeAAAABHNCSVQICAgIfAhkiAAAAAlwSFlz\n",
       "AAAB+wAAAfsBxc2miwAAABl0RVh0U29mdHdhcmUAd3d3Lmlua3NjYXBlLm9yZ5vuPBoAAA6zSURB\n",
       "VHic7ZtpeFRVmsf/5966taWqUlUJ2UioBBJiIBAwCZtog9IOgjqACsogKtqirT2ttt069nQ/zDzt\n",
       "tI4+CrJIREFaFgWhBXpUNhHZQoKBkIUASchWla1S+3ar7r1nPkDaCAnZKoQP/D7mnPOe9/xy76n3\n",
       "nFSAW9ziFoPFNED2LLK5wcyBDObkb8ZkxuaoSYlI6ZcOKq1eWFdedqNzGHQBk9RMEwFAASkk0Xw3\n",
       "ETacDNi2vtvc7L0ROdw0AjoSotQVkKSvHQz/wRO1lScGModBFbDMaNRN1A4tUBCS3lk7BWhQkgpD\n",
       "lG4852/+7DWr1R3uHAZVQDsbh6ZPN7CyxUrCzJMRouusj0ipRwD2uKm0Zn5d2dFwzX1TCGhnmdGo\n",
       "G62Nna+isiUqhkzuKrkQaJlPEv5mFl2fvGg2t/VnzkEV8F5ioioOEWkLG86fvbpthynjdhXYZziQ\n",
       "x1hC9J2NFyi8vCTt91Fh04KGip0AaG9zuCk2wQCVyoNU3Hjezee9bq92duzzTmxsRJoy+jEZZZYo\n",
       "GTKJ6SJngdJqAfRzpze0+jHreUtPc7gpBLQnIYK6BYp/uGhw9YK688eu7v95ysgshcg9qSLMo3JC\n",
       "4jqLKQFBgdKDPoQ+Pltb8dUyQLpeDjeVgI6EgLIQFT5tEl3rn2losHVsexbZ3EyT9wE1uGdkIPcy\n",
       "BGxn8QUq1QrA5nqW5i2tLqvrrM9NK6AdkVIvL9E9bZL/oyfMVd/jqvc8LylzRBKDJSzIExwhQzuL\n",
       "QYGQj4rHfFTc8mUdu3E7yoLtbTe9gI4EqVgVkug2i5+uXGo919ixbRog+3fTbQ8qJe4ZOYNfMoTI\n",
       "OoshUNosgO60AisX15aeI2PSIp5KiFLI9ubb1vV3Qb2ltwLakUCDAkWX7/nHKRmmGIl9VgYsUhJm\n",
       "2NXjKYADtM1ygne9QQDIXlk49FBstMKx66D1v4+XuQr7vqTe0VcBHQlRWiOCbmmSYe2SqtL6q5rJ\n",
       "zsTb7lKx3FKOYC4DoqyS/B5bvLPxvD9Qtf6saxYLQGJErmDOdOMr/zo96km1nElr8bmPOBwI9COv\n",
       "HnFPRIwmkSOv9kcAS4heRsidOkpeWBgZM+UBrTFAXNYL5Vf2ii9c1trNzpYdaoVil3WIc+wdk+gQ\n",
       "noie3ecCcxt9ITcLAPWt/laGEO/9U6PmzZkenTtsSMQ8uYywJVW+grCstAvCIaAdArAsIWkRDDs/\n",
       "KzLm2YcjY1Lv0UdW73HabE9n6V66cxSzfEmuJssTpKGVp+0vHq73FwL46eOjpMpbRAnNmJFrGJNu\n",
       "Ukf9Yrz+3rghiumCKNXXWPhLYcjxGsIpoCMsIRoFITkW8AuyM8jC1+/QLx4bozCEJIq38+1rtpR6\n",
       "V/yzb8eBlRb3fo5l783N0CWolAzJHaVNzkrTzlEp2bQ2q3TC5gn6wpnoQAmwSiGh2GitnTmVMc5O\n",
       "UyfKWUKCIsU7+fZDKwqdT6DDpvkzAX4/+AMFjk0tDp5GRXLpQ2MUmhgDp5gxQT8+Y7hyPsMi8uxF\n",
       "71H0oebujHALECjFKaW9Lm68n18wXp2kVzIcABytD5iXFzg+WVXkegpAsOOYziqo0OkK76GyquC3\n",
       "ltZAzMhhqlSNmmWTE5T6e3IN05ITFLM4GdN0vtZ3ob8Jh1NAKXFbm5PtLU/eqTSlGjkNAJjdgn/N\n",
       "aedXa0tdi7+t9G0FIF49rtMSEgAs1kDLkTPO7ebm4IUWeyh1bKomXqlgMG6kJmHcSM0clYLJ8XtR\n",
       "1GTnbV3F6I5wCGikAb402npp1h1s7LQUZZSMIfALFOuL3UUrfnS8+rez7v9qcold5tilgHbO1fjK\n",
       "9ubb17u9oshxzMiUBKXWqJNxd+fqb0tLVs4lILFnK71H0Ind7uiPgACVcFJlrb0tV6DzxqqTIhUM\n",
       "CwDf1/rrVhTa33/3pGPxJYdQ2l2cbgVcQSosdx8uqnDtbGjh9SlDVSMNWhlnilfqZk42Th2ZpLpf\n",
       "xrHec5e815zrr0dfBZSwzkZfqsv+1FS1KUknUwPARVvItfKUY+cn57yP7qv07UE3p8B2uhUwLk09\n",
       "e0SCOrK+hbdYHYLjRIl71wWzv9jpEoeOHhGRrJAzyEyNiJuUqX0g2sBN5kGK6y2Blp5M3lsB9Qh4\n",
       "y2Ja6x6+i0ucmKgwMATwhSjdUu49tKrQ/pvN5d53ml2CGwCmJipmKjgmyuaXzNeL2a0AkQ01Th5j\n",
       "2DktO3Jyk8f9vcOBQHV94OK+fPumJmvQHxJoWkaKWq9Vs+yUsbq0zGT1I4RgeH2b5wef7+c7bl8F\n",
       "eKgoHVVZa8ZPEORzR6sT1BzDUAD/d9F78e2Tzv99v8D+fLVTqAKAsbGamKey1Mt9Ann4eH3gTXTz\n",
       "idWtAJ8PQWOk7NzSeQn/OTHDuEikVF1R4z8BQCy+6D1aWRfY0tTGG2OM8rRoPaeIj5ZHzJxszElN\n",
       "VM8K8JS5WOfv8mzRnQAKoEhmt8gyPM4lU9SmBK1MCQBnW4KONT86v1hZ1PbwSXPw4JWussVjtH9Y\n",
       "NCoiL9UoH/6PSu8jFrfY2t36erQHXLIEakMi1SydmzB31h3GGXFDFNPaK8Rme9B79Ixrd0WN+1ij\n",
       "NRQ/doRmuFLBkHSTOm5GruG+pFjFdAmorG4IXH1Qua6ASniclfFtDYt+oUjKipPrCQB7QBQ2lrgP\n",
       "fFzm+9XWUtcqJ3/5vDLDpJ79XHZk3u8nGZ42qlj1+ydtbxysCezrydp6ugmipNJ7WBPB5tydY0jP\n",
       "HaVNzs3QzeE4ZpTbI+ZbnSFPbVOw9vsfnVvqWnirPyCNGD08IlqtYkh2hjZ5dErEQzoNm+6ykyOt\n",
       "Lt5/PQEuSRRKo22VkydK+vvS1XEKlhCJAnsqvcVvH7f/ZU2R67eXbMEGAMiIV5oWZWiWvz5Fv2xG\n",
       "sjqNJQRvn3Rs2lji/lNP19VjAQDgD7FHhujZB9OGqYxRkZxixgRDVlqS6uEOFaJUVu0rPFzctrnF\n",
       "JqijImVp8dEKVWyUXDk92zAuMZ6bFwpBU1HrOw6AdhQgUooChb0+ItMbWJitSo5Ws3IAOGEOtL53\n",
       "0vHZih9sC4vtofZ7Qu6523V/fmGcds1TY3V36pUsBwAbSlxnVh2xLfAD/IAIMDf7XYIkNmXfpp2l\n",
       "18rkAJAy9HKFaIr/qULkeQQKy9zf1JgDB2uaeFNGijo5QsUyacNUUTOnGO42xSnv4oOwpDi1zYkc\n",
       "efUc3I5Gk6PhyTuVKaOGyLUAYPGIoY9Pu/atL/L92+4q9wbflRJ2Trpm/jPjdBtfnqB/dIThcl8A\n",
       "KG7hbRuKnb8qsQsVvVlTrwQAQMUlf3kwJI24Z4JhPMtcfng5GcH49GsrxJpGvvHIaeem2ma+KSjQ\n",
       "lIwUdYyCY8j4dE1KzijNnIP2llF2wcXNnsoapw9XxsgYAl6k+KzUXbi2yP3KR2ecf6z3BFsBICdW\n",
       "nvnIaG3eHybqX7vbpEqUMT+9OL4Qpe8VON7dXuFd39v19FoAABRVePbGGuXTszO0P7tu6lghUonE\n",
       "llRdrhArLvmKdh9u29jcFiRRkfLUxBiFNiqSU9icoZQHo5mYBI1MBgBH6wMNb+U7Pnw337H4gi1Y\n",
       "ciWs+uks3Z9fztUvfzxTm9Ne8XXkvQLHNytOOZeiD4e0PgkAIAYCYknKUNUDSXEKzdWNpnil7r4p\n",
       "xqkjTarZMtk/K8TQ6Qve78qqvXurGwIJqcOUKfUWHsm8KGvxSP68YudXq4pcj39X49uOK2X142O0\n",
       "Tz5/u/7TVybqH0rSya6ZBwD21/gubbrgWdDgEOx9WUhfBaC2ibcEBYm7a7x+ukrBMNcEZggyR0TE\n",
       "T8zUPjikQ4VosQZbTpS4vqizBKvqmvjsqnpfzaZyx9JPiz1/bfGKdgD45XB1zoIMzYbfTdS/NClB\n",
       "Gct0USiY3YL/g0LHy/uq/Ef6uo5+n0R/vyhp17Klpge763f8rMu6YU/zrn2nml+2WtH+Z+5IAAFc\n",
       "2bUTdTDOSNa9+cQY7YLsOIXhevEkCvzph7a8laecz/Un/z4/Ae04XeL3UQb57IwU9ZDr9UuKVajv\n",
       "nxp1+1UVIo/LjztZkKH59fO3G/JemqCfmaCRqbqbd90ZZ8FfjtkfAyD0J/9+C2h1hDwsSxvGjNDc\n",
       "b4zk5NfrSwiQblLHzZhg+Jf4aPlUwpDqkQqa9nimbt1/TDH8OitGMaQnj+RJS6B1fbF7SY1TqO5v\n",
       "/v0WAADl1f7zokgS7s7VT2DZ7pegUjBM7mjtiDZbcN4j0YrHH0rXpCtY0qPX0cVL0rv5jv/ZXend\n",
       "0u/EESYBAFBU4T4Qa5TflZOhTe7pmKpaP8kCVUVw1+yhXfJWvn1P3hnXi33JsTN6PnP3hHZ8Z3/h\n",
       "aLHzmkNPuPj7Bc/F/Q38CwjTpSwQXgE4Vmwry9tpfq/ZFgqFMy4AVDtCvi8rvMvOmv0N4YwbVgEA\n",
       "sPM72/KVnzfspmH7HQGCRLG2yL1+z8XwvPcdCbsAANh+xPzstgMtxeGKt+6MK3/tacfvwhWvIwMi\n",
       "oKEBtm0H7W+UVfkc/Y1V0BhoPlDr/w1w/eu1vjIgAgDg22OtX6/eYfnEz/focrZTHAFR+PSs56/7\n",
       "q32nwpjazxgwAQCwcU/T62t3WL7r6/jVRa6/byp1rei+Z98ZUAEAhEPHPc8fKnTU9nbgtnOe8h0l\n",
       "9hcGIqmODLQAHCy2Xti6v/XNRivf43f4fFvIteu854+VHnR7q9tfBlwAAGz+pnndB9vM26UebAe8\n",
       "SLHujPOTPVW+rwY+sxskAAC2HrA8t2Vvc7ffP1r9o+vwR2dcr92InIAbKKC1FZ5tB1tf+/G8p8sv\n",
       "N/9Q5zd/XR34LYCwV5JdccMEAMDBk45DH243r/X4xGvqxFa/GNpS7n6rwOwNWwHVE26oAADYurf1\n",
       "zx/utOzt+DMKYM0p17YtZZ5VNzqfsB2HewG1WXE8PoZ7gOclbTIvynZf9JV+fqZtfgs/8F/Nu5rB\n",
       "EIBmJ+8QRMmpU7EzGRsf2FzuePqYRbzh/zE26EwdrT10f6r6o8HOYzCJB9Dpff8tbnGLG8L/A/WE\n",
       "roTBs2RqAAAAAElFTkSuQmCC'\n",
       "     style='height:25px; border-radius:12px; display: inline-block; float: left; vertical-align: middle'></img>\n",
       "\n",
       "\n",
       "\n",
       "\n",
       "  <img src='data:image/png;base64,iVBORw0KGgoAAAANSUhEUgAAACAAAAAgCAYAAABzenr0AAAABHNCSVQICAgIfAhkiAAAAAlwSFlz\n",
       "AAAFMAAABTABZarKtgAAABl0RVh0U29mdHdhcmUAd3d3Lmlua3NjYXBlLm9yZ5vuPBoAAArNSURB\n",
       "VFiFnVd5VFNXGv/ee0kgGyQhbFoXIKCFYEXEDVErTucMoKUOWA/VLsNSLPQgFTOdyrHPiIp1lFIQ\n",
       "OlaPShEG3EpPcQmISCuV1bQ1CLKIULeQhJA9JO+9+UMT0x5aPfOdc895373f/e7v/t537/ddBF5Q\n",
       "JBIJl81mJwCACEVRQBCEQhAEAQCgnghCURRCkmS7Wq2+WlJSYn0Rv8jzDHAcD0EQJIVGo5mFQuGF\n",
       "jIyMu39kq1KpkOrq6gU6nS6aIAiGzWY7VVBQ0P9/AcjNzWXy+fxcOp2uiY+Przm0d6+n8dblv/Fo\n",
       "kzM4SzYfPlRePvFnjnt6ehh1dXVv2mw2nlar/byoqMj8wgBwHBchCJIZEhJSeu1yHVi7vtu02t8+\n",
       "NykQ7BMWoOUMhXQsXLv5IQAwSJJEEASxcDicoeTk5DtCoZBy9XX69Gnv3t7ebJIky3EcH3guAKlU\n",
       "GoGiaOKWLVsOvhs7/9XXPMde3/IyIFbMnaPDuD5AUdQuOf2XlD0npTExMWYAgNbWVpZcLg8xGAzB\n",
       "JEnSvby82tPT052LaTQatLy8fBtJkt/s3Lnz5h8CwHFcRKPRNu/YsePAjh072KTs0IGCxRg8RgUB\n",
       "TGpSx6cmHgMAfNqN6Xa1GvJ/D35gYAAViURkcXHxUrPZHDRv3rxv4uLiDI7xPXv2bLdYLBUFBQWD\n",
       "jj7M8ZGbm8tkMpmSrKysQiaTScXGxtpqL7dManT6tcu5mgEWWJyOhicozpk+c3NsbKzNFcBbWWEf\n",
       "1Td9/upA30i3ZJv0h8bGxiSFQmFcuHDhOACAWCy+0d3dvX3lypUtzc3N9t8AiIuLk4SEhByLiooy\n",
       "AgAcO3ZsNlPgH3Cttb35JZo+bCYXIQAA9MDiUW7sWS1KN687w6Mera2twa2trfMvXboUOS28Pyb1\n",
       "U08McRtf/sXBSmt5cc35pqamVQqFwhoZGallMpnU/fv3e7RaberVq1d/AABAn1IfQqfTNRs3blQB\n",
       "AFy+fJk7Nja2XCKRnD3dNSorusPq6NfTPR+gPiEEoLRFXO1tS2+zavv27ReftjNttyr0S1/j0rUP\n",
       "PEJQwNwQYGgAACQSyXmNRhMtk8lYAAApKSlKDMP0+fn5QU4ACIKkxMfH1zjYuHnz5uspKSlOfdX7\n",
       "u68fvOePcCzKQR4YVCgATGfa/F3pnzaHWOAXSDyaMCqH2+r8VXErP3D+snXr1tV2dXW94dATExOr\n",
       "6XT6JgAAVCKRcDEMM4WHh9sAAHJyUqNu//wDymKx7AAAVVVVPiaTKXxByrYMvBsxEMSTwPXhuL+8\n",
       "e/fu9fv371+flvbemogYNz+TnsBOFEwMFO8/KzEYDKFVVVX+AAChoaGT7u7ud48ePRro0DEMs+bl\n",
       "5bFRNpud4O3tfdGBzq5uy/5wTUPM/q2zC9atmbVqeHg4Pi0t7WxGRoZFH5rw76I7LI8HqHfwPL7d\n",
       "rfVagzw1NfW81t4ePUfsP/OrnWZ6fPSuUqFQSEkkkrOjo6OvuQR5q0ajiXLoPj4+lzgcTjwKACLH\n",
       "9SqXy2kzhBO8haGo+UA2wZW+p880DxeveGt9aHx9fT09ctlq3sC0NT9e6xsbjuZblSxl7wKtVotM\n",
       "m6PnXvlmZJBtX91CEMQsxyJsNlteXl4udugIghAajQYFAEhPTx9AEGQOimGY8y4oLt63KlJkdB4t\n",
       "P282Z/c/dPrDH04ktJ9P2tfWXP3+2o1vHzunEp6Xq0lsGt08KzUrcSGTQ3n3XeefLCs5UqnT6Rap\n",
       "VCoEACA7O/snvV4f5gJooLa2NsihoygKKEVRzquTND2OCpttGXdG1tOxwOlgzdvE9v30rV+m3W5I\n",
       "2jfJNQmLH85QUUzPNTwvkAx0+vVGhq2/VV9fT+dyuZ01NTXOXQOA3fGxevXq2waDYY5r8KIoij5b\n",
       "jzB5Cz2oKdOo0erOm+1tVuVtBMZXElNMRJR1fvvjx9iPLQ/RjpuB0Xu/Vp7YmH1864YNG3oNBkPw\n",
       "VD7mzp1rJUnSzZUBmqsBggAgGFC/n6jVA+3WoN3tu1Gg39cg2tEx1Cg3CIJHsclxnl2HRorMN8Z0\n",
       "fRW+vr7GJ36Q56Z5h9BIknzGAMJWtvdQYs0EZe3/FSwqk5tpXEMb1JoYD+n8xRdQJl/fMPEgzKhS\n",
       "L40KCD7lGzg92qIyovpb3y/msT2un2psvFpWVvYyl8vtc1nDSXFXV5c7iqLOtEyS5LNBAADfWeKm\n",
       "Ly4uuvR1++sfv51/P5sfnHm2/Iy+mBmwsaHJbpt+Q0jHSS7TZ/PSNVkNJ/973OxtemD1s91CPb12\n",
       "h9MfvZsk5meo1eqo5ORkxTNWn7HR1tY2l8PhOAsUiqIolCRJcETtv/61qzNySYK5trZ2TCgUUiwW\n",
       "S1FSUhLR+bA/kAzwXcAbHa/cFhrTXrJ/v+7IkSPu3Je4Xm5eboJv2wba5QbO5fQwxhsP679Y+nFO\n",
       "jgAAoKSkJILFYjnBGI1G0YYNGwYBnqRoiqIQlKKojurq6gUAAAKBgKQoiuGYkJWVpTCZTOKmI1Xd\n",
       "HwnDcm+cOnOMw+H0FxYWbqpvqv/r9EV+bky+O+/QoUPiqJRt9JphTLFHbKBCR87tWL9EPN9oNIZn\n",
       "ZWUpXHaMCQQCEgCgsrIyEgBuoGq1+qpOp4t2GPH5/BvFxcVLHXpgYGDD8ePH/56Xl2cCAMjMzOxP\n",
       "S0s7pWfow4RCbz/fAF9RT0+P9yeffHJySSqev+9nxLD1FaAlTR8vlJ8vxxzsFhUVLRMIBB0OvwaD\n",
       "YRlFUdfQkpISK0EQ9J6eHgYAQEZGxl2z2Rw0MjJCBwBITk5+xOVyfzpw4ECSw5lQKKQIbxtJm4EN\n",
       "8eZ7jPz0oNv+dK5FG/jq54eH+IFr/S1KabBy0UerAvI+++wzD4vFEpCWljYEACCTyVh2ux3FcXwS\n",
       "BQCw2WxVdXV1bzrQRURE1FVVVTn1zMzM/pkzZ35/9OjRd0pLS19RqVQIy4/tCwDgOcPTQvFQEQBA\n",
       "aWnpK0ERK2LbyVllN341GUJ4YDu8zD5bKyur7O+85tx9Z2fnO1ar9QjA04KkpaVFs2LFir8olcq7\n",
       "YWFhJpFINNnX16drbGyMjY6Ovg0AIBaLjcuXL5d3d3d7XbhwIW704b3F479MeD1qVfJ5Og/bvb4R\n",
       "LwaDMZabm9uwflNa/z/3HOIv5NsDEK7XS7FeevXPvYNLvm5S/GglCK5KpZorlUobXE8g5ObmMqVS\n",
       "6UG1Wu1BURSHoijOiRMnwgoLC7coFAqBo+9Fm0KhEKStmvvto3TeucFN7pVJYbytarXaQyqVHsRx\n",
       "3N15TF1BuBaljr4rV66wOzo63mAymXdzcnKuwwtIUVHRMqvVGkgQxMV7NXvyJijGvcNXB/7z5Zdf\n",
       "bicI4gSO40NTAgD4bVnuODIAT2pElUq1FEEQO4fD6QsPD++fqixHEATj8/ntjoCrqKhwS0hIsJWV\n",
       "leURBHEOx3G563pT3tn5+flBDAbjg6CgoMMpKSlK17GhoSFMJpMFPk04DJIkEQzDzCwW6+5UD5Oa\n",
       "mhrfO3fufECS5GHXnf8pAAAAHMfdURTdimGYPjExsTo0NHTyj2ynEplMxurs7HyHIAiKJMlSHMct\n",
       "U9k9N2vl5+cH0en0TRiGWX18fC65vnh+LxqNBq2oqFhgMpmi7XY7arVaj+zdu/fxn/l/4bSZl5fH\n",
       "5nK5CQAQMtXznCRJePpEbwOAZhzHX4ix/wHzzC/tu64gcwAAAABJRU5ErkJggg=='\n",
       "       style='height:15px; border-radius:12px; display: inline-block; float: left'></img>\n",
       "  \n",
       "\n",
       "\n",
       "</div>\n"
      ]
     },
     "metadata": {},
     "output_type": "display_data"
    }
   ],
   "source": [
    "import numpy as np\n",
    "import pandas as pd\n",
    "import holoviews as hv\n",
    "\n",
    "hv.extension(\"matplotlib\")\n",
    "# df = get_coinc_df(events)\n",
    "file = \"../../../nabanalysis/TearDropAnalysis/data/Run3516_1.h5\"\n",
    "file = \"../../../nabanalysis/TearDropAnalysis/data/Run\"\n",
    "file = \"//Users/seeker/TNwork/nabonlineanalysis/datafiles/hdf5files/Aug2023/Run3588_3.h5\"\n",
    "run = Nab.File(file)\n",
    "events = run.eventFile().getevents()"
   ]
  },
  {
   "cell_type": "code",
   "execution_count": 11,
   "metadata": {},
   "outputs": [
    {
     "ename": "AttributeError",
     "evalue": "'NoneType' object has no attribute 'parameterFile'",
     "output_type": "error",
     "traceback": [
      "\u001b[0;31m---------------------------------------------------------------------------\u001b[0m",
      "\u001b[0;31mAttributeError\u001b[0m                            Traceback (most recent call last)",
      "Cell \u001b[0;32mIn[11], line 48\u001b[0m\n\u001b[1;32m     45\u001b[0m         \u001b[38;5;66;03m# evtdf['time'] = (evtdf.tstamp - evtdf.tstamp.min())*4e-9\u001b[39;00m\n\u001b[1;32m     46\u001b[0m         \u001b[38;5;28;01mreturn\u001b[39;00m evtdf\n\u001b[0;32m---> 48\u001b[0m data \u001b[38;5;241m=\u001b[39m \u001b[43mMData\u001b[49m\u001b[43m(\u001b[49m\u001b[43m)\u001b[49m\n\u001b[1;32m     49\u001b[0m data\u001b[38;5;241m.\u001b[39m_thisRun \u001b[38;5;241m=\u001b[39m run\n",
      "Cell \u001b[0;32mIn[11], line 4\u001b[0m, in \u001b[0;36mMData.__init__\u001b[0;34m(self)\u001b[0m\n\u001b[1;32m      2\u001b[0m \u001b[38;5;28;01mdef\u001b[39;00m \u001b[38;5;21m__init__\u001b[39m(\u001b[38;5;28mself\u001b[39m) \u001b[38;5;241m-\u001b[39m\u001b[38;5;241m>\u001b[39m \u001b[38;5;28;01mNone\u001b[39;00m:\n\u001b[1;32m      3\u001b[0m     \u001b[38;5;28mself\u001b[39m\u001b[38;5;241m.\u001b[39m_thisRun \u001b[38;5;241m=\u001b[39m \u001b[38;5;28;01mNone\u001b[39;00m\n\u001b[0;32m----> 4\u001b[0m     \u001b[38;5;28;43mself\u001b[39;49m\u001b[38;5;241;43m.\u001b[39;49m\u001b[43mget_eventarray\u001b[49m\u001b[43m(\u001b[49m\u001b[43m)\u001b[49m\n",
      "Cell \u001b[0;32mIn[11], line 25\u001b[0m, in \u001b[0;36mMData.get_eventarray\u001b[0;34m(self)\u001b[0m\n\u001b[1;32m     24\u001b[0m \u001b[38;5;28;01mdef\u001b[39;00m \u001b[38;5;21mget_eventarray\u001b[39m(\u001b[38;5;28mself\u001b[39m):\n\u001b[0;32m---> 25\u001b[0m     \u001b[38;5;28;43mself\u001b[39;49m\u001b[38;5;241;43m.\u001b[39;49m\u001b[43mgetbcpixmap\u001b[49m\u001b[43m(\u001b[49m\u001b[43m)\u001b[49m\n\u001b[1;32m     26\u001b[0m     \u001b[38;5;28mself\u001b[39m\u001b[38;5;241m.\u001b[39mevents \u001b[38;5;241m=\u001b[39m \u001b[38;5;28mself\u001b[39m\u001b[38;5;241m.\u001b[39m_thisRun\u001b[38;5;241m.\u001b[39meventFile()\u001b[38;5;241m.\u001b[39mgetevents()\n\u001b[1;32m     27\u001b[0m     \u001b[38;5;28mself\u001b[39m\u001b[38;5;241m.\u001b[39mevtarr \u001b[38;5;241m=\u001b[39m np\u001b[38;5;241m.\u001b[39marray(\u001b[38;5;28mlist\u001b[39m(\u001b[38;5;28mmap\u001b[39m(\u001b[38;5;28mself\u001b[39m\u001b[38;5;241m.\u001b[39mmake_event_array, \u001b[38;5;28mself\u001b[39m\u001b[38;5;241m.\u001b[39mevents)))\n",
      "Cell \u001b[0;32mIn[11], line 7\u001b[0m, in \u001b[0;36mMData.getbcpixmap\u001b[0;34m(self)\u001b[0m\n\u001b[1;32m      6\u001b[0m \u001b[38;5;28;01mdef\u001b[39;00m \u001b[38;5;21mgetbcpixmap\u001b[39m(\u001b[38;5;28mself\u001b[39m):\n\u001b[0;32m----> 7\u001b[0m     bctopixmap \u001b[38;5;241m=\u001b[39m \u001b[38;5;28;43mself\u001b[39;49m\u001b[38;5;241;43m.\u001b[39;49m\u001b[43m_thisRun\u001b[49m\u001b[38;5;241;43m.\u001b[39;49m\u001b[43mparameterFile\u001b[49m()\u001b[38;5;241m.\u001b[39mBoardChannelPixelMap\n\u001b[1;32m      8\u001b[0m     \u001b[38;5;28mself\u001b[39m\u001b[38;5;241m.\u001b[39mbcpixmap \u001b[38;5;241m=\u001b[39m {}\n\u001b[1;32m      9\u001b[0m     \u001b[38;5;28;01mfor\u001b[39;00m i \u001b[38;5;129;01min\u001b[39;00m bctopixmap:\n",
      "\u001b[0;31mAttributeError\u001b[0m: 'NoneType' object has no attribute 'parameterFile'"
     ]
    }
   ],
   "source": [
    "class MData:\n",
    "    def __init__(self) -> None:\n",
    "        self._thisRun = None\n",
    "\n",
    "    def getbcpixmap(self):\n",
    "        bctopixmap = self._thisRun.parameterFile().BoardChannelPixelMap\n",
    "        self.bcpixmap = {}\n",
    "        for i in bctopixmap:\n",
    "            self.bcpixmap[int(i[0])] = int(i[1])\n",
    "        self.vectorized_map = np.vectorize(self.bcpixmap.get)\n",
    "\n",
    "    def make_event_array(self, ele):\n",
    "        tstamp = ele[7][0]\n",
    "        ptof = (ele[7][0] - ele[8][0]) * 4e-9 / 1e-6  # in microseconds\n",
    "        pener = ele[7][2]\n",
    "        evttype = ele[1]\n",
    "        numtrig = ele[4]\n",
    "        ppix = ele[7][1]\n",
    "        epix = ele[8][1]\n",
    "        eener = ele[8][2] + ele[9][2] + ele[10][2] + ele[11][2] + ele[12][2]\n",
    "        return np.array([evttype, numtrig, ptof, pener, ppix, eener, epix, tstamp])\n",
    "\n",
    "    def get_eventarray(self):\n",
    "        self.getbcpixmap()\n",
    "        self.events = self._thisRun.eventFile().getevents()\n",
    "        self.evtarr = np.array(list(map(self.make_event_array, self.events)))\n",
    "        self.evtarr[:, 4] = self.vectorized_map(self.evtarr[:, 4])\n",
    "        self.evtarr[:, 6] = self.vectorized_map(self.evtarr[:, 6])\n",
    "        return self.evtarr\n",
    "\n",
    "    def get_coinc_df(self):\n",
    "        self.get_eventarray()\n",
    "        evtarr = self.evtarr[self.evtarr[:, 0] == 1]\n",
    "        evtdf = pd.DataFrame(evtarr)\n",
    "        evtdf.columns = [\n",
    "            \"evttype\",\n",
    "            \"numtrig\",\n",
    "            \"ptof\",\n",
    "            \"pener\",\n",
    "            \"ppix\",\n",
    "            \"eener\",\n",
    "            \"epix\",\n",
    "            \"tstamp\",\n",
    "        ]\n",
    "        # evtdf['time'] = (evtdf.tstamp - evtdf.tstamp.min())*4e-9\n",
    "        return evtdf\n",
    "\n",
    "data = MData()\n",
    "data._thisRun = run"
   ]
  },
  {
   "cell_type": "code",
   "execution_count": 14,
   "metadata": {},
   "outputs": [
    {
     "ename": "AttributeError",
     "evalue": "'MData' object has no attribute 'evtarr'",
     "output_type": "error",
     "traceback": [
      "\u001b[0;31m---------------------------------------------------------------------------\u001b[0m",
      "\u001b[0;31mAttributeError\u001b[0m                            Traceback (most recent call last)",
      "Cell \u001b[0;32mIn[14], line 1\u001b[0m\n\u001b[0;32m----> 1\u001b[0m df \u001b[38;5;241m=\u001b[39m \u001b[43mdata\u001b[49m\u001b[38;5;241;43m.\u001b[39;49m\u001b[43mget_coinc_df\u001b[49m\u001b[43m(\u001b[49m\u001b[43m)\u001b[49m\n\u001b[1;32m      2\u001b[0m \u001b[38;5;66;03m# df.head()\u001b[39;00m\n\u001b[1;32m      3\u001b[0m \u001b[38;5;66;03m# run.filenames()\u001b[39;00m\n",
      "Cell \u001b[0;32mIn[6], line 32\u001b[0m, in \u001b[0;36mMData.get_coinc_df\u001b[0;34m(self)\u001b[0m\n\u001b[1;32m     31\u001b[0m \u001b[38;5;28;01mdef\u001b[39;00m \u001b[38;5;21mget_coinc_df\u001b[39m(\u001b[38;5;28mself\u001b[39m):\n\u001b[0;32m---> 32\u001b[0m     evtarr \u001b[38;5;241m=\u001b[39m \u001b[38;5;28;43mself\u001b[39;49m\u001b[38;5;241;43m.\u001b[39;49m\u001b[43mevtarr\u001b[49m[\u001b[38;5;28mself\u001b[39m\u001b[38;5;241m.\u001b[39mevtarr[:, \u001b[38;5;241m0\u001b[39m] \u001b[38;5;241m==\u001b[39m \u001b[38;5;241m1\u001b[39m]\n\u001b[1;32m     33\u001b[0m     evtdf \u001b[38;5;241m=\u001b[39m pd\u001b[38;5;241m.\u001b[39mDataFrame(evtarr)\n\u001b[1;32m     34\u001b[0m     evtdf\u001b[38;5;241m.\u001b[39mcolumns \u001b[38;5;241m=\u001b[39m [\n\u001b[1;32m     35\u001b[0m         \u001b[38;5;124m\"\u001b[39m\u001b[38;5;124mevttype\u001b[39m\u001b[38;5;124m\"\u001b[39m,\n\u001b[1;32m     36\u001b[0m         \u001b[38;5;124m\"\u001b[39m\u001b[38;5;124mnumtrig\u001b[39m\u001b[38;5;124m\"\u001b[39m,\n\u001b[0;32m   (...)\u001b[0m\n\u001b[1;32m     42\u001b[0m         \u001b[38;5;124m\"\u001b[39m\u001b[38;5;124mtstamp\u001b[39m\u001b[38;5;124m\"\u001b[39m,\n\u001b[1;32m     43\u001b[0m     ]\n",
      "\u001b[0;31mAttributeError\u001b[0m: 'MData' object has no attribute 'evtarr'"
     ]
    }
   ],
   "source": [
    "df = data.get_coinc_df()\n",
    "# df.head()\n",
    "# run.filenames()"
   ]
  },
  {
   "cell_type": "code",
   "execution_count": 68,
   "metadata": {},
   "outputs": [
    {
     "data": {
      "text/html": [
       "<div>\n",
       "<style scoped>\n",
       "    .dataframe tbody tr th:only-of-type {\n",
       "        vertical-align: middle;\n",
       "    }\n",
       "\n",
       "    .dataframe tbody tr th {\n",
       "        vertical-align: top;\n",
       "    }\n",
       "\n",
       "    .dataframe thead th {\n",
       "        text-align: right;\n",
       "    }\n",
       "</style>\n",
       "<table border=\"1\" class=\"dataframe\">\n",
       "  <thead>\n",
       "    <tr style=\"text-align: right;\">\n",
       "      <th></th>\n",
       "      <th>evttype</th>\n",
       "      <th>numtrig</th>\n",
       "      <th>ptof</th>\n",
       "      <th>pener</th>\n",
       "      <th>ppix</th>\n",
       "      <th>eener</th>\n",
       "      <th>epix</th>\n",
       "      <th>tstamp</th>\n",
       "      <th>time</th>\n",
       "    </tr>\n",
       "  </thead>\n",
       "  <tbody>\n",
       "    <tr>\n",
       "      <th>3438</th>\n",
       "      <td>1.0</td>\n",
       "      <td>2.0</td>\n",
       "      <td>13.912</td>\n",
       "      <td>46.0</td>\n",
       "      <td>65.0</td>\n",
       "      <td>951.0</td>\n",
       "      <td>144.0</td>\n",
       "      <td>1.007972e+13</td>\n",
       "      <td>77.399810</td>\n",
       "    </tr>\n",
       "    <tr>\n",
       "      <th>3439</th>\n",
       "      <td>1.0</td>\n",
       "      <td>2.0</td>\n",
       "      <td>14.096</td>\n",
       "      <td>26.0</td>\n",
       "      <td>17.0</td>\n",
       "      <td>1193.0</td>\n",
       "      <td>194.0</td>\n",
       "      <td>1.007972e+13</td>\n",
       "      <td>77.410755</td>\n",
       "    </tr>\n",
       "    <tr>\n",
       "      <th>3440</th>\n",
       "      <td>1.0</td>\n",
       "      <td>2.0</td>\n",
       "      <td>25.680</td>\n",
       "      <td>34.0</td>\n",
       "      <td>58.0</td>\n",
       "      <td>510.0</td>\n",
       "      <td>146.0</td>\n",
       "      <td>1.007972e+13</td>\n",
       "      <td>77.416694</td>\n",
       "    </tr>\n",
       "    <tr>\n",
       "      <th>3441</th>\n",
       "      <td>1.0</td>\n",
       "      <td>2.0</td>\n",
       "      <td>17.192</td>\n",
       "      <td>33.0</td>\n",
       "      <td>84.0</td>\n",
       "      <td>1180.0</td>\n",
       "      <td>236.0</td>\n",
       "      <td>1.007973e+13</td>\n",
       "      <td>77.458529</td>\n",
       "    </tr>\n",
       "    <tr>\n",
       "      <th>3442</th>\n",
       "      <td>1.0</td>\n",
       "      <td>2.0</td>\n",
       "      <td>14.264</td>\n",
       "      <td>29.0</td>\n",
       "      <td>25.0</td>\n",
       "      <td>1787.0</td>\n",
       "      <td>184.0</td>\n",
       "      <td>1.007973e+13</td>\n",
       "      <td>77.472315</td>\n",
       "    </tr>\n",
       "  </tbody>\n",
       "</table>\n",
       "</div>"
      ],
      "text/plain": [
       "      evttype  numtrig    ptof  pener  ppix   eener   epix        tstamp  \\\n",
       "3438      1.0      2.0  13.912   46.0  65.0   951.0  144.0  1.007972e+13   \n",
       "3439      1.0      2.0  14.096   26.0  17.0  1193.0  194.0  1.007972e+13   \n",
       "3440      1.0      2.0  25.680   34.0  58.0   510.0  146.0  1.007972e+13   \n",
       "3441      1.0      2.0  17.192   33.0  84.0  1180.0  236.0  1.007973e+13   \n",
       "3442      1.0      2.0  14.264   29.0  25.0  1787.0  184.0  1.007973e+13   \n",
       "\n",
       "           time  \n",
       "3438  77.399810  \n",
       "3439  77.410755  \n",
       "3440  77.416694  \n",
       "3441  77.458529  \n",
       "3442  77.472315  "
      ]
     },
     "execution_count": 68,
     "metadata": {},
     "output_type": "execute_result"
    }
   ],
   "source": [
    "df.tail()"
   ]
  },
  {
   "cell_type": "code",
   "execution_count": 66,
   "metadata": {},
   "outputs": [
    {
     "data": {
      "text/html": [
       "<img src='data:image/png;base64,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' style='max-width:100%; margin: auto; display: block; '/>"
      ],
      "text/plain": [
       ":Scatter   [x]   (y)"
      ]
     },
     "execution_count": 66,
     "metadata": {
      "application/vnd.holoviews_exec.v0+json": {}
     },
     "output_type": "execute_result"
    }
   ],
   "source": [
    "# tbin = np.linspace(df.tstamp.min(), df.tstamp.max(), 100)\n",
    "tbin = np.arange(df.time.min(), df.time.max(), 1)\n",
    "# tbin\n",
    "data = df.groupby(pd.cut(df.time, tbin)).pener.mean().to_numpy()\n",
    "hv.Scatter((tbin[1:], data))"
   ]
  },
  {
   "cell_type": "code",
   "execution_count": 63,
   "metadata": {},
   "outputs": [
    {
     "name": "stdout",
     "output_type": "stream",
     "text": [
      "99 100\n"
     ]
    }
   ],
   "source": [
    "# data['tstamp']\n",
    "# data.to_numpy()\n",
    "print(len(data), len(tbin))"
   ]
  },
  {
   "cell_type": "code",
   "execution_count": 52,
   "metadata": {},
   "outputs": [
    {
     "name": "stderr",
     "output_type": "stream",
     "text": [
      "python(74287) MallocStackLogging: can't turn off malloc stack logging because it was not enabled.\n"
     ]
    },
    {
     "data": {
      "application/javascript": "(function(root) {\n  function now() {\n    return new Date();\n  }\n\n  var force = true;\n  var py_version = '3.4.2'.replace('rc', '-rc.').replace('.dev', '-dev.');\n  var reloading = false;\n  var Bokeh = root.Bokeh;\n\n  if (typeof (root._bokeh_timeout) === \"undefined\" || force) {\n    root._bokeh_timeout = Date.now() + 5000;\n    root._bokeh_failed_load = false;\n  }\n\n  function run_callbacks() {\n    try {\n      root._bokeh_onload_callbacks.forEach(function(callback) {\n        if (callback != null)\n          callback();\n      });\n    } finally {\n      delete root._bokeh_onload_callbacks;\n    }\n    console.debug(\"Bokeh: all callbacks have finished\");\n  }\n\n  function load_libs(css_urls, js_urls, js_modules, js_exports, callback) {\n    if (css_urls == null) css_urls = [];\n    if (js_urls == null) js_urls = [];\n    if (js_modules == null) js_modules = [];\n    if (js_exports == null) js_exports = {};\n\n    root._bokeh_onload_callbacks.push(callback);\n\n    if (root._bokeh_is_loading > 0) {\n      console.debug(\"Bokeh: BokehJS is being loaded, scheduling callback at\", now());\n      return null;\n    }\n    if (js_urls.length === 0 && js_modules.length === 0 && Object.keys(js_exports).length === 0) {\n      run_callbacks();\n      return null;\n    }\n    if (!reloading) {\n      console.debug(\"Bokeh: BokehJS not loaded, scheduling load and callback at\", now());\n    }\n\n    function on_load() {\n      root._bokeh_is_loading--;\n      if (root._bokeh_is_loading === 0) {\n        console.debug(\"Bokeh: all BokehJS libraries/stylesheets loaded\");\n        run_callbacks()\n      }\n    }\n    window._bokeh_on_load = on_load\n\n    function on_error() {\n      console.error(\"failed to load \" + url);\n    }\n\n    var skip = [];\n    if (window.requirejs) {\n      window.requirejs.config({'packages': {}, 'paths': {}, 'shim': {}});\n      root._bokeh_is_loading = css_urls.length + 0;\n    } else {\n      root._bokeh_is_loading = css_urls.length + js_urls.length + js_modules.length + Object.keys(js_exports).length;\n    }\n\n    var existing_stylesheets = []\n    var links = document.getElementsByTagName('link')\n    for (var i = 0; i < links.length; i++) {\n      var link = links[i]\n      if (link.href != null) {\n\texisting_stylesheets.push(link.href)\n      }\n    }\n    for (var i = 0; i < css_urls.length; i++) {\n      var url = css_urls[i];\n      if (existing_stylesheets.indexOf(url) !== -1) {\n\ton_load()\n\tcontinue;\n      }\n      const element = document.createElement(\"link\");\n      element.onload = on_load;\n      element.onerror = on_error;\n      element.rel = \"stylesheet\";\n      element.type = \"text/css\";\n      element.href = url;\n      console.debug(\"Bokeh: injecting link tag for BokehJS stylesheet: \", url);\n      document.body.appendChild(element);\n    }    var existing_scripts = []\n    var scripts = document.getElementsByTagName('script')\n    for (var i = 0; i < scripts.length; i++) {\n      var script = scripts[i]\n      if (script.src != null) {\n\texisting_scripts.push(script.src)\n      }\n    }\n    for (var i = 0; i < js_urls.length; i++) {\n      var url = js_urls[i];\n      if (skip.indexOf(url) !== -1 || existing_scripts.indexOf(url) !== -1) {\n\tif (!window.requirejs) {\n\t  on_load();\n\t}\n\tcontinue;\n      }\n      var element = document.createElement('script');\n      element.onload = on_load;\n      element.onerror = on_error;\n      element.async = false;\n      element.src = url;\n      console.debug(\"Bokeh: injecting script tag for BokehJS library: \", url);\n      document.head.appendChild(element);\n    }\n    for (var i = 0; i < js_modules.length; i++) {\n      var url = js_modules[i];\n      if (skip.indexOf(url) !== -1 || existing_scripts.indexOf(url) !== -1) {\n\tif (!window.requirejs) {\n\t  on_load();\n\t}\n\tcontinue;\n      }\n      var element = document.createElement('script');\n      element.onload = on_load;\n      element.onerror = on_error;\n      element.async = false;\n      element.src = url;\n      element.type = \"module\";\n      console.debug(\"Bokeh: injecting script tag for BokehJS library: \", url);\n      document.head.appendChild(element);\n    }\n    for (const name in js_exports) {\n      var url = js_exports[name];\n      if (skip.indexOf(url) >= 0 || root[name] != null) {\n\tif (!window.requirejs) {\n\t  on_load();\n\t}\n\tcontinue;\n      }\n      var element = document.createElement('script');\n      element.onerror = on_error;\n      element.async = false;\n      element.type = \"module\";\n      console.debug(\"Bokeh: injecting script tag for BokehJS library: \", url);\n      element.textContent = `\n      import ${name} from \"${url}\"\n      window.${name} = ${name}\n      window._bokeh_on_load()\n      `\n      document.head.appendChild(element);\n    }\n    if (!js_urls.length && !js_modules.length) {\n      on_load()\n    }\n  };\n\n  function inject_raw_css(css) {\n    const element = document.createElement(\"style\");\n    element.appendChild(document.createTextNode(css));\n    document.body.appendChild(element);\n  }\n\n  var js_urls = [\"https://cdn.bokeh.org/bokeh/release/bokeh-3.4.2.min.js\", \"https://cdn.bokeh.org/bokeh/release/bokeh-gl-3.4.2.min.js\", \"https://cdn.bokeh.org/bokeh/release/bokeh-widgets-3.4.2.min.js\", \"https://cdn.bokeh.org/bokeh/release/bokeh-tables-3.4.2.min.js\", \"https://cdn.holoviz.org/panel/1.4.5/dist/panel.min.js\"];\n  var js_modules = [];\n  var js_exports = {};\n  var css_urls = [];\n  var inline_js = [    function(Bokeh) {\n      Bokeh.set_log_level(\"info\");\n    },\nfunction(Bokeh) {} // ensure no trailing comma for IE\n  ];\n\n  function run_inline_js() {\n    if ((root.Bokeh !== undefined) || (force === true)) {\n      for (var i = 0; i < inline_js.length; i++) {\n\ttry {\n          inline_js[i].call(root, root.Bokeh);\n\t} catch(e) {\n\t  if (!reloading) {\n\t    throw e;\n\t  }\n\t}\n      }\n      // Cache old bokeh versions\n      if (Bokeh != undefined && !reloading) {\n\tvar NewBokeh = root.Bokeh;\n\tif (Bokeh.versions === undefined) {\n\t  Bokeh.versions = new Map();\n\t}\n\tif (NewBokeh.version !== Bokeh.version) {\n\t  Bokeh.versions.set(NewBokeh.version, NewBokeh)\n\t}\n\troot.Bokeh = Bokeh;\n      }} else if (Date.now() < root._bokeh_timeout) {\n      setTimeout(run_inline_js, 100);\n    } else if (!root._bokeh_failed_load) {\n      console.log(\"Bokeh: BokehJS failed to load within specified timeout.\");\n      root._bokeh_failed_load = true;\n    }\n    root._bokeh_is_initializing = false\n  }\n\n  function load_or_wait() {\n    // Implement a backoff loop that tries to ensure we do not load multiple\n    // versions of Bokeh and its dependencies at the same time.\n    // In recent versions we use the root._bokeh_is_initializing flag\n    // to determine whether there is an ongoing attempt to initialize\n    // bokeh, however for backward compatibility we also try to ensure\n    // that we do not start loading a newer (Panel>=1.0 and Bokeh>3) version\n    // before older versions are fully initialized.\n    if (root._bokeh_is_initializing && Date.now() > root._bokeh_timeout) {\n      root._bokeh_is_initializing = false;\n      root._bokeh_onload_callbacks = undefined;\n      console.log(\"Bokeh: BokehJS was loaded multiple times but one version failed to initialize.\");\n      load_or_wait();\n    } else if (root._bokeh_is_initializing || (typeof root._bokeh_is_initializing === \"undefined\" && root._bokeh_onload_callbacks !== undefined)) {\n      setTimeout(load_or_wait, 100);\n    } else {\n      root._bokeh_is_initializing = true\n      root._bokeh_onload_callbacks = []\n      var bokeh_loaded = Bokeh != null && (Bokeh.version === py_version || (Bokeh.versions !== undefined && Bokeh.versions.has(py_version)));\n      if (!reloading && !bokeh_loaded) {\n\troot.Bokeh = undefined;\n      }\n      load_libs(css_urls, js_urls, js_modules, js_exports, function() {\n\tconsole.debug(\"Bokeh: BokehJS plotting callback run at\", now());\n\trun_inline_js();\n      });\n    }\n  }\n  // Give older versions of the autoload script a head-start to ensure\n  // they initialize before we start loading newer version.\n  setTimeout(load_or_wait, 100)\n}(window));",
      "application/vnd.holoviews_load.v0+json": ""
     },
     "metadata": {},
     "output_type": "display_data"
    },
    {
     "data": {
      "application/javascript": "\nif ((window.PyViz === undefined) || (window.PyViz instanceof HTMLElement)) {\n  window.PyViz = {comms: {}, comm_status:{}, kernels:{}, receivers: {}, plot_index: []}\n}\n\n\n    function JupyterCommManager() {\n    }\n\n    JupyterCommManager.prototype.register_target = function(plot_id, comm_id, msg_handler) {\n      if (window.comm_manager || ((window.Jupyter !== undefined) && (Jupyter.notebook.kernel != null))) {\n        var comm_manager = window.comm_manager || Jupyter.notebook.kernel.comm_manager;\n        comm_manager.register_target(comm_id, function(comm) {\n          comm.on_msg(msg_handler);\n        });\n      } else if ((plot_id in window.PyViz.kernels) && (window.PyViz.kernels[plot_id])) {\n        window.PyViz.kernels[plot_id].registerCommTarget(comm_id, function(comm) {\n          comm.onMsg = msg_handler;\n        });\n      } else if (typeof google != 'undefined' && google.colab.kernel != null) {\n        google.colab.kernel.comms.registerTarget(comm_id, (comm) => {\n          var messages = comm.messages[Symbol.asyncIterator]();\n          function processIteratorResult(result) {\n            var message = result.value;\n            console.log(message)\n            var content = {data: message.data, comm_id};\n            var buffers = []\n            for (var buffer of message.buffers || []) {\n              buffers.push(new DataView(buffer))\n            }\n            var metadata = message.metadata || {};\n            var msg = {content, buffers, metadata}\n            msg_handler(msg);\n            return messages.next().then(processIteratorResult);\n          }\n          return messages.next().then(processIteratorResult);\n        })\n      }\n    }\n\n    JupyterCommManager.prototype.get_client_comm = function(plot_id, comm_id, msg_handler) {\n      if (comm_id in window.PyViz.comms) {\n        return window.PyViz.comms[comm_id];\n      } else if (window.comm_manager || ((window.Jupyter !== undefined) && (Jupyter.notebook.kernel != null))) {\n        var comm_manager = window.comm_manager || Jupyter.notebook.kernel.comm_manager;\n        var comm = comm_manager.new_comm(comm_id, {}, {}, {}, comm_id);\n        if (msg_handler) {\n          comm.on_msg(msg_handler);\n        }\n      } else if ((plot_id in window.PyViz.kernels) && (window.PyViz.kernels[plot_id])) {\n        var comm = window.PyViz.kernels[plot_id].connectToComm(comm_id);\n        comm.open();\n        if (msg_handler) {\n          comm.onMsg = msg_handler;\n        }\n      } else if (typeof google != 'undefined' && google.colab.kernel != null) {\n        var comm_promise = google.colab.kernel.comms.open(comm_id)\n        comm_promise.then((comm) => {\n          window.PyViz.comms[comm_id] = comm;\n          if (msg_handler) {\n            var messages = comm.messages[Symbol.asyncIterator]();\n            function processIteratorResult(result) {\n              var message = result.value;\n              var content = {data: message.data};\n              var metadata = message.metadata || {comm_id};\n              var msg = {content, metadata}\n              msg_handler(msg);\n              return messages.next().then(processIteratorResult);\n            }\n            return messages.next().then(processIteratorResult);\n          }\n        }) \n        var sendClosure = (data, metadata, buffers, disposeOnDone) => {\n          return comm_promise.then((comm) => {\n            comm.send(data, metadata, buffers, disposeOnDone);\n          });\n        };\n        var comm = {\n          send: sendClosure\n        };\n      }\n      window.PyViz.comms[comm_id] = comm;\n      return comm;\n    }\n    window.PyViz.comm_manager = new JupyterCommManager();\n    \n\n\nvar JS_MIME_TYPE = 'application/javascript';\nvar HTML_MIME_TYPE = 'text/html';\nvar EXEC_MIME_TYPE = 'application/vnd.holoviews_exec.v0+json';\nvar CLASS_NAME = 'output';\n\n/**\n * Render data to the DOM node\n */\nfunction render(props, node) {\n  var div = document.createElement(\"div\");\n  var script = document.createElement(\"script\");\n  node.appendChild(div);\n  node.appendChild(script);\n}\n\n/**\n * Handle when a new output is added\n */\nfunction handle_add_output(event, handle) {\n  var output_area = handle.output_area;\n  var output = handle.output;\n  if ((output.data == undefined) || (!output.data.hasOwnProperty(EXEC_MIME_TYPE))) {\n    return\n  }\n  var id = output.metadata[EXEC_MIME_TYPE][\"id\"];\n  var toinsert = output_area.element.find(\".\" + CLASS_NAME.split(' ')[0]);\n  if (id !== undefined) {\n    var nchildren = toinsert.length;\n    var html_node = toinsert[nchildren-1].children[0];\n    html_node.innerHTML = output.data[HTML_MIME_TYPE];\n    var scripts = [];\n    var nodelist = html_node.querySelectorAll(\"script\");\n    for (var i in nodelist) {\n      if (nodelist.hasOwnProperty(i)) {\n        scripts.push(nodelist[i])\n      }\n    }\n\n    scripts.forEach( function (oldScript) {\n      var newScript = document.createElement(\"script\");\n      var attrs = [];\n      var nodemap = oldScript.attributes;\n      for (var j in nodemap) {\n        if (nodemap.hasOwnProperty(j)) {\n          attrs.push(nodemap[j])\n        }\n      }\n      attrs.forEach(function(attr) { newScript.setAttribute(attr.name, attr.value) });\n      newScript.appendChild(document.createTextNode(oldScript.innerHTML));\n      oldScript.parentNode.replaceChild(newScript, oldScript);\n    });\n    if (JS_MIME_TYPE in output.data) {\n      toinsert[nchildren-1].children[1].textContent = output.data[JS_MIME_TYPE];\n    }\n    output_area._hv_plot_id = id;\n    if ((window.Bokeh !== undefined) && (id in Bokeh.index)) {\n      window.PyViz.plot_index[id] = Bokeh.index[id];\n    } else {\n      window.PyViz.plot_index[id] = null;\n    }\n  } else if (output.metadata[EXEC_MIME_TYPE][\"server_id\"] !== undefined) {\n    var bk_div = document.createElement(\"div\");\n    bk_div.innerHTML = output.data[HTML_MIME_TYPE];\n    var script_attrs = bk_div.children[0].attributes;\n    for (var i = 0; i < script_attrs.length; i++) {\n      toinsert[toinsert.length - 1].childNodes[1].setAttribute(script_attrs[i].name, script_attrs[i].value);\n    }\n    // store reference to server id on output_area\n    output_area._bokeh_server_id = output.metadata[EXEC_MIME_TYPE][\"server_id\"];\n  }\n}\n\n/**\n * Handle when an output is cleared or removed\n */\nfunction handle_clear_output(event, handle) {\n  var id = handle.cell.output_area._hv_plot_id;\n  var server_id = handle.cell.output_area._bokeh_server_id;\n  if (((id === undefined) || !(id in PyViz.plot_index)) && (server_id !== undefined)) { return; }\n  var comm = window.PyViz.comm_manager.get_client_comm(\"hv-extension-comm\", \"hv-extension-comm\", function () {});\n  if (server_id !== null) {\n    comm.send({event_type: 'server_delete', 'id': server_id});\n    return;\n  } else if (comm !== null) {\n    comm.send({event_type: 'delete', 'id': id});\n  }\n  delete PyViz.plot_index[id];\n  if ((window.Bokeh !== undefined) & (id in window.Bokeh.index)) {\n    var doc = window.Bokeh.index[id].model.document\n    doc.clear();\n    const i = window.Bokeh.documents.indexOf(doc);\n    if (i > -1) {\n      window.Bokeh.documents.splice(i, 1);\n    }\n  }\n}\n\n/**\n * Handle kernel restart event\n */\nfunction handle_kernel_cleanup(event, handle) {\n  delete PyViz.comms[\"hv-extension-comm\"];\n  window.PyViz.plot_index = {}\n}\n\n/**\n * Handle update_display_data messages\n */\nfunction handle_update_output(event, handle) {\n  handle_clear_output(event, {cell: {output_area: handle.output_area}})\n  handle_add_output(event, handle)\n}\n\nfunction register_renderer(events, OutputArea) {\n  function append_mime(data, metadata, element) {\n    // create a DOM node to render to\n    var toinsert = this.create_output_subarea(\n    metadata,\n    CLASS_NAME,\n    EXEC_MIME_TYPE\n    );\n    this.keyboard_manager.register_events(toinsert);\n    // Render to node\n    var props = {data: data, metadata: metadata[EXEC_MIME_TYPE]};\n    render(props, toinsert[0]);\n    element.append(toinsert);\n    return toinsert\n  }\n\n  events.on('output_added.OutputArea', handle_add_output);\n  events.on('output_updated.OutputArea', handle_update_output);\n  events.on('clear_output.CodeCell', handle_clear_output);\n  events.on('delete.Cell', handle_clear_output);\n  events.on('kernel_ready.Kernel', handle_kernel_cleanup);\n\n  OutputArea.prototype.register_mime_type(EXEC_MIME_TYPE, append_mime, {\n    safe: true,\n    index: 0\n  });\n}\n\nif (window.Jupyter !== undefined) {\n  try {\n    var events = require('base/js/events');\n    var OutputArea = require('notebook/js/outputarea').OutputArea;\n    if (OutputArea.prototype.mime_types().indexOf(EXEC_MIME_TYPE) == -1) {\n      register_renderer(events, OutputArea);\n    }\n  } catch(err) {\n  }\n}\n",
      "application/vnd.holoviews_load.v0+json": ""
     },
     "metadata": {},
     "output_type": "display_data"
    },
    {
     "data": {
      "text/html": [
       "<style>*[data-root-id],\n",
       "*[data-root-id] > * {\n",
       "  box-sizing: border-box;\n",
       "  font-family: var(--jp-ui-font-family);\n",
       "  font-size: var(--jp-ui-font-size1);\n",
       "  color: var(--vscode-editor-foreground, var(--jp-ui-font-color1));\n",
       "}\n",
       "\n",
       "/* Override VSCode background color */\n",
       ".cell-output-ipywidget-background:has(\n",
       "    > .cell-output-ipywidget-background > .lm-Widget > *[data-root-id]\n",
       "  ),\n",
       ".cell-output-ipywidget-background:has(> .lm-Widget > *[data-root-id]) {\n",
       "  background-color: transparent !important;\n",
       "}\n",
       "</style>"
      ]
     },
     "metadata": {},
     "output_type": "display_data"
    },
    {
     "data": {
      "application/vnd.holoviews_exec.v0+json": "",
      "text/html": [
       "<div id='p1002'>\n",
       "  <div id=\"c6307b78-3232-47ea-b645-095258b11739\" data-root-id=\"p1002\" style=\"display: contents;\"></div>\n",
       "</div>\n",
       "<script type=\"application/javascript\">(function(root) {\n",
       "  var docs_json = {\"e2ae9448-4506-452d-93f9-f9af31c6f4f0\":{\"version\":\"3.4.2\",\"title\":\"Bokeh Application\",\"roots\":[{\"type\":\"object\",\"name\":\"panel.models.browser.BrowserInfo\",\"id\":\"p1002\"},{\"type\":\"object\",\"name\":\"panel.models.comm_manager.CommManager\",\"id\":\"p1003\",\"attributes\":{\"plot_id\":\"p1002\",\"comm_id\":\"0336f35ff6ff415e944b71a57c34265c\",\"client_comm_id\":\"f0b93066e2de4cdcb06a9cd22f704816\"}}],\"defs\":[{\"type\":\"model\",\"name\":\"ReactiveHTML1\"},{\"type\":\"model\",\"name\":\"FlexBox1\",\"properties\":[{\"name\":\"align_content\",\"kind\":\"Any\",\"default\":\"flex-start\"},{\"name\":\"align_items\",\"kind\":\"Any\",\"default\":\"flex-start\"},{\"name\":\"flex_direction\",\"kind\":\"Any\",\"default\":\"row\"},{\"name\":\"flex_wrap\",\"kind\":\"Any\",\"default\":\"wrap\"},{\"name\":\"gap\",\"kind\":\"Any\",\"default\":\"\"},{\"name\":\"justify_content\",\"kind\":\"Any\",\"default\":\"flex-start\"}]},{\"type\":\"model\",\"name\":\"FloatPanel1\",\"properties\":[{\"name\":\"config\",\"kind\":\"Any\",\"default\":{\"type\":\"map\"}},{\"name\":\"contained\",\"kind\":\"Any\",\"default\":true},{\"name\":\"position\",\"kind\":\"Any\",\"default\":\"right-top\"},{\"name\":\"offsetx\",\"kind\":\"Any\",\"default\":null},{\"name\":\"offsety\",\"kind\":\"Any\",\"default\":null},{\"name\":\"theme\",\"kind\":\"Any\",\"default\":\"primary\"},{\"name\":\"status\",\"kind\":\"Any\",\"default\":\"normalized\"}]},{\"type\":\"model\",\"name\":\"GridStack1\",\"properties\":[{\"name\":\"mode\",\"kind\":\"Any\",\"default\":\"warn\"},{\"name\":\"ncols\",\"kind\":\"Any\",\"default\":null},{\"name\":\"nrows\",\"kind\":\"Any\",\"default\":null},{\"name\":\"allow_resize\",\"kind\":\"Any\",\"default\":true},{\"name\":\"allow_drag\",\"kind\":\"Any\",\"default\":true},{\"name\":\"state\",\"kind\":\"Any\",\"default\":[]}]},{\"type\":\"model\",\"name\":\"drag1\",\"properties\":[{\"name\":\"slider_width\",\"kind\":\"Any\",\"default\":5},{\"name\":\"slider_color\",\"kind\":\"Any\",\"default\":\"black\"},{\"name\":\"value\",\"kind\":\"Any\",\"default\":50}]},{\"type\":\"model\",\"name\":\"click1\",\"properties\":[{\"name\":\"terminal_output\",\"kind\":\"Any\",\"default\":\"\"},{\"name\":\"debug_name\",\"kind\":\"Any\",\"default\":\"\"},{\"name\":\"clears\",\"kind\":\"Any\",\"default\":0}]},{\"type\":\"model\",\"name\":\"FastWrapper1\",\"properties\":[{\"name\":\"object\",\"kind\":\"Any\",\"default\":null},{\"name\":\"style\",\"kind\":\"Any\",\"default\":null}]},{\"type\":\"model\",\"name\":\"NotificationAreaBase1\",\"properties\":[{\"name\":\"js_events\",\"kind\":\"Any\",\"default\":{\"type\":\"map\"}},{\"name\":\"position\",\"kind\":\"Any\",\"default\":\"bottom-right\"},{\"name\":\"_clear\",\"kind\":\"Any\",\"default\":0}]},{\"type\":\"model\",\"name\":\"NotificationArea1\",\"properties\":[{\"name\":\"js_events\",\"kind\":\"Any\",\"default\":{\"type\":\"map\"}},{\"name\":\"notifications\",\"kind\":\"Any\",\"default\":[]},{\"name\":\"position\",\"kind\":\"Any\",\"default\":\"bottom-right\"},{\"name\":\"_clear\",\"kind\":\"Any\",\"default\":0},{\"name\":\"types\",\"kind\":\"Any\",\"default\":[{\"type\":\"map\",\"entries\":[[\"type\",\"warning\"],[\"background\",\"#ffc107\"],[\"icon\",{\"type\":\"map\",\"entries\":[[\"className\",\"fas fa-exclamation-triangle\"],[\"tagName\",\"i\"],[\"color\",\"white\"]]}]]},{\"type\":\"map\",\"entries\":[[\"type\",\"info\"],[\"background\",\"#007bff\"],[\"icon\",{\"type\":\"map\",\"entries\":[[\"className\",\"fas fa-info-circle\"],[\"tagName\",\"i\"],[\"color\",\"white\"]]}]]}]}]},{\"type\":\"model\",\"name\":\"Notification\",\"properties\":[{\"name\":\"background\",\"kind\":\"Any\",\"default\":null},{\"name\":\"duration\",\"kind\":\"Any\",\"default\":3000},{\"name\":\"icon\",\"kind\":\"Any\",\"default\":null},{\"name\":\"message\",\"kind\":\"Any\",\"default\":\"\"},{\"name\":\"notification_type\",\"kind\":\"Any\",\"default\":null},{\"name\":\"_destroyed\",\"kind\":\"Any\",\"default\":false}]},{\"type\":\"model\",\"name\":\"TemplateActions1\",\"properties\":[{\"name\":\"open_modal\",\"kind\":\"Any\",\"default\":0},{\"name\":\"close_modal\",\"kind\":\"Any\",\"default\":0}]},{\"type\":\"model\",\"name\":\"BootstrapTemplateActions1\",\"properties\":[{\"name\":\"open_modal\",\"kind\":\"Any\",\"default\":0},{\"name\":\"close_modal\",\"kind\":\"Any\",\"default\":0}]},{\"type\":\"model\",\"name\":\"TemplateEditor1\",\"properties\":[{\"name\":\"layout\",\"kind\":\"Any\",\"default\":[]}]},{\"type\":\"model\",\"name\":\"MaterialTemplateActions1\",\"properties\":[{\"name\":\"open_modal\",\"kind\":\"Any\",\"default\":0},{\"name\":\"close_modal\",\"kind\":\"Any\",\"default\":0}]},{\"type\":\"model\",\"name\":\"copy_to_clipboard1\",\"properties\":[{\"name\":\"fill\",\"kind\":\"Any\",\"default\":\"none\"},{\"name\":\"value\",\"kind\":\"Any\",\"default\":null}]}]}};\n",
       "  var render_items = [{\"docid\":\"e2ae9448-4506-452d-93f9-f9af31c6f4f0\",\"roots\":{\"p1002\":\"c6307b78-3232-47ea-b645-095258b11739\"},\"root_ids\":[\"p1002\"]}];\n",
       "  var docs = Object.values(docs_json)\n",
       "  if (!docs) {\n",
       "    return\n",
       "  }\n",
       "  const py_version = docs[0].version.replace('rc', '-rc.').replace('.dev', '-dev.')\n",
       "  async function embed_document(root) {\n",
       "    var Bokeh = get_bokeh(root)\n",
       "    await Bokeh.embed.embed_items_notebook(docs_json, render_items);\n",
       "    for (const render_item of render_items) {\n",
       "      for (const root_id of render_item.root_ids) {\n",
       "\tconst id_el = document.getElementById(root_id)\n",
       "\tif (id_el.children.length && id_el.children[0].hasAttribute('data-root-id')) {\n",
       "\t  const root_el = id_el.children[0]\n",
       "\t  root_el.id = root_el.id + '-rendered'\n",
       "\t  for (const child of root_el.children) {\n",
       "            // Ensure JupyterLab does not capture keyboard shortcuts\n",
       "            // see: https://jupyterlab.readthedocs.io/en/4.1.x/extension/notebook.html#keyboard-interaction-model\n",
       "\t    child.setAttribute('data-lm-suppress-shortcuts', 'true')\n",
       "\t  }\n",
       "\t}\n",
       "      }\n",
       "    }\n",
       "  }\n",
       "  function get_bokeh(root) {\n",
       "    if (root.Bokeh === undefined) {\n",
       "      return null\n",
       "    } else if (root.Bokeh.version !== py_version) {\n",
       "      if (root.Bokeh.versions === undefined || !root.Bokeh.versions.has(py_version)) {\n",
       "\treturn null\n",
       "      }\n",
       "      return root.Bokeh.versions.get(py_version);\n",
       "    } else if (root.Bokeh.version === py_version) {\n",
       "      return root.Bokeh\n",
       "    }\n",
       "    return null\n",
       "  }\n",
       "  function is_loaded(root) {\n",
       "    var Bokeh = get_bokeh(root)\n",
       "    return (Bokeh != null && Bokeh.Panel !== undefined)\n",
       "  }\n",
       "  if (is_loaded(root)) {\n",
       "    embed_document(root);\n",
       "  } else {\n",
       "    var attempts = 0;\n",
       "    var timer = setInterval(function(root) {\n",
       "      if (is_loaded(root)) {\n",
       "        clearInterval(timer);\n",
       "        embed_document(root);\n",
       "      } else if (document.readyState == \"complete\") {\n",
       "        attempts++;\n",
       "        if (attempts > 200) {\n",
       "          clearInterval(timer);\n",
       "\t  var Bokeh = get_bokeh(root)\n",
       "\t  if (Bokeh == null || Bokeh.Panel == null) {\n",
       "            console.warn(\"Panel: ERROR: Unable to run Panel code because Bokeh or Panel library is missing\");\n",
       "\t  } else {\n",
       "\t    console.warn(\"Panel: WARNING: Attempting to render but not all required libraries could be resolved.\")\n",
       "\t    embed_document(root)\n",
       "\t  }\n",
       "        }\n",
       "      }\n",
       "    }, 25, root)\n",
       "  }\n",
       "})(window);</script>"
      ]
     },
     "metadata": {
      "application/vnd.holoviews_exec.v0+json": {
       "id": "p1002"
      }
     },
     "output_type": "display_data"
    },
    {
     "data": {
      "text/html": [
       "\n",
       "<div class=\"logo-block\">\n",
       "<img src='data:image/png;base64,iVBORw0KGgoAAAANSUhEUgAAAEAAAABACAYAAACqaXHeAAAABHNCSVQICAgIfAhkiAAAAAlwSFlz\n",
       "AAAB+wAAAfsBxc2miwAAABl0RVh0U29mdHdhcmUAd3d3Lmlua3NjYXBlLm9yZ5vuPBoAAA6zSURB\n",
       "VHic7ZtpeFRVmsf/5966taWqUlUJ2UioBBJiIBAwCZtog9IOgjqACsogKtqirT2ttt069nQ/zDzt\n",
       "tI4+CrJIREFaFgWhBXpUNhHZQoKBkIUASchWla1S+3ar7r1nPkDaCAnZKoQP/D7mnPOe9/xy76n3\n",
       "nFSAW9ziFoPFNED2LLK5wcyBDObkb8ZkxuaoSYlI6ZcOKq1eWFdedqNzGHQBk9RMEwFAASkk0Xw3\n",
       "ETacDNi2vtvc7L0ROdw0AjoSotQVkKSvHQz/wRO1lScGModBFbDMaNRN1A4tUBCS3lk7BWhQkgpD\n",
       "lG4852/+7DWr1R3uHAZVQDsbh6ZPN7CyxUrCzJMRouusj0ipRwD2uKm0Zn5d2dFwzX1TCGhnmdGo\n",
       "G62Nna+isiUqhkzuKrkQaJlPEv5mFl2fvGg2t/VnzkEV8F5ioioOEWkLG86fvbpthynjdhXYZziQ\n",
       "x1hC9J2NFyi8vCTt91Fh04KGip0AaG9zuCk2wQCVyoNU3Hjezee9bq92duzzTmxsRJoy+jEZZZYo\n",
       "GTKJ6SJngdJqAfRzpze0+jHreUtPc7gpBLQnIYK6BYp/uGhw9YK688eu7v95ysgshcg9qSLMo3JC\n",
       "4jqLKQFBgdKDPoQ+Pltb8dUyQLpeDjeVgI6EgLIQFT5tEl3rn2losHVsexbZ3EyT9wE1uGdkIPcy\n",
       "BGxn8QUq1QrA5nqW5i2tLqvrrM9NK6AdkVIvL9E9bZL/oyfMVd/jqvc8LylzRBKDJSzIExwhQzuL\n",
       "QYGQj4rHfFTc8mUdu3E7yoLtbTe9gI4EqVgVkug2i5+uXGo919ixbRog+3fTbQ8qJe4ZOYNfMoTI\n",
       "OoshUNosgO60AisX15aeI2PSIp5KiFLI9ubb1vV3Qb2ltwLakUCDAkWX7/nHKRmmGIl9VgYsUhJm\n",
       "2NXjKYADtM1ygne9QQDIXlk49FBstMKx66D1v4+XuQr7vqTe0VcBHQlRWiOCbmmSYe2SqtL6q5rJ\n",
       "zsTb7lKx3FKOYC4DoqyS/B5bvLPxvD9Qtf6saxYLQGJErmDOdOMr/zo96km1nElr8bmPOBwI9COv\n",
       "HnFPRIwmkSOv9kcAS4heRsidOkpeWBgZM+UBrTFAXNYL5Vf2ii9c1trNzpYdaoVil3WIc+wdk+gQ\n",
       "noie3ecCcxt9ITcLAPWt/laGEO/9U6PmzZkenTtsSMQ8uYywJVW+grCstAvCIaAdArAsIWkRDDs/\n",
       "KzLm2YcjY1Lv0UdW73HabE9n6V66cxSzfEmuJssTpKGVp+0vHq73FwL46eOjpMpbRAnNmJFrGJNu\n",
       "Ukf9Yrz+3rghiumCKNXXWPhLYcjxGsIpoCMsIRoFITkW8AuyM8jC1+/QLx4bozCEJIq38+1rtpR6\n",
       "V/yzb8eBlRb3fo5l783N0CWolAzJHaVNzkrTzlEp2bQ2q3TC5gn6wpnoQAmwSiGh2GitnTmVMc5O\n",
       "UyfKWUKCIsU7+fZDKwqdT6DDpvkzAX4/+AMFjk0tDp5GRXLpQ2MUmhgDp5gxQT8+Y7hyPsMi8uxF\n",
       "71H0oebujHALECjFKaW9Lm68n18wXp2kVzIcABytD5iXFzg+WVXkegpAsOOYziqo0OkK76GyquC3\n",
       "ltZAzMhhqlSNmmWTE5T6e3IN05ITFLM4GdN0vtZ3ob8Jh1NAKXFbm5PtLU/eqTSlGjkNAJjdgn/N\n",
       "aedXa0tdi7+t9G0FIF49rtMSEgAs1kDLkTPO7ebm4IUWeyh1bKomXqlgMG6kJmHcSM0clYLJ8XtR\n",
       "1GTnbV3F6I5wCGikAb402npp1h1s7LQUZZSMIfALFOuL3UUrfnS8+rez7v9qcold5tilgHbO1fjK\n",
       "9ubb17u9oshxzMiUBKXWqJNxd+fqb0tLVs4lILFnK71H0Ind7uiPgACVcFJlrb0tV6DzxqqTIhUM\n",
       "CwDf1/rrVhTa33/3pGPxJYdQ2l2cbgVcQSosdx8uqnDtbGjh9SlDVSMNWhlnilfqZk42Th2ZpLpf\n",
       "xrHec5e815zrr0dfBZSwzkZfqsv+1FS1KUknUwPARVvItfKUY+cn57yP7qv07UE3p8B2uhUwLk09\n",
       "e0SCOrK+hbdYHYLjRIl71wWzv9jpEoeOHhGRrJAzyEyNiJuUqX0g2sBN5kGK6y2Blp5M3lsB9Qh4\n",
       "y2Ja6x6+i0ucmKgwMATwhSjdUu49tKrQ/pvN5d53ml2CGwCmJipmKjgmyuaXzNeL2a0AkQ01Th5j\n",
       "2DktO3Jyk8f9vcOBQHV94OK+fPumJmvQHxJoWkaKWq9Vs+yUsbq0zGT1I4RgeH2b5wef7+c7bl8F\n",
       "eKgoHVVZa8ZPEORzR6sT1BzDUAD/d9F78e2Tzv99v8D+fLVTqAKAsbGamKey1Mt9Ann4eH3gTXTz\n",
       "idWtAJ8PQWOk7NzSeQn/OTHDuEikVF1R4z8BQCy+6D1aWRfY0tTGG2OM8rRoPaeIj5ZHzJxszElN\n",
       "VM8K8JS5WOfv8mzRnQAKoEhmt8gyPM4lU9SmBK1MCQBnW4KONT86v1hZ1PbwSXPw4JWussVjtH9Y\n",
       "NCoiL9UoH/6PSu8jFrfY2t36erQHXLIEakMi1SydmzB31h3GGXFDFNPaK8Rme9B79Ixrd0WN+1ij\n",
       "NRQ/doRmuFLBkHSTOm5GruG+pFjFdAmorG4IXH1Qua6ASniclfFtDYt+oUjKipPrCQB7QBQ2lrgP\n",
       "fFzm+9XWUtcqJ3/5vDLDpJ79XHZk3u8nGZ42qlj1+ydtbxysCezrydp6ugmipNJ7WBPB5tydY0jP\n",
       "HaVNzs3QzeE4ZpTbI+ZbnSFPbVOw9vsfnVvqWnirPyCNGD08IlqtYkh2hjZ5dErEQzoNm+6ykyOt\n",
       "Lt5/PQEuSRRKo22VkydK+vvS1XEKlhCJAnsqvcVvH7f/ZU2R67eXbMEGAMiIV5oWZWiWvz5Fv2xG\n",
       "sjqNJQRvn3Rs2lji/lNP19VjAQDgD7FHhujZB9OGqYxRkZxixgRDVlqS6uEOFaJUVu0rPFzctrnF\n",
       "JqijImVp8dEKVWyUXDk92zAuMZ6bFwpBU1HrOw6AdhQgUooChb0+ItMbWJitSo5Ws3IAOGEOtL53\n",
       "0vHZih9sC4vtofZ7Qu6523V/fmGcds1TY3V36pUsBwAbSlxnVh2xLfAD/IAIMDf7XYIkNmXfpp2l\n",
       "18rkAJAy9HKFaIr/qULkeQQKy9zf1JgDB2uaeFNGijo5QsUyacNUUTOnGO42xSnv4oOwpDi1zYkc\n",
       "efUc3I5Gk6PhyTuVKaOGyLUAYPGIoY9Pu/atL/L92+4q9wbflRJ2Trpm/jPjdBtfnqB/dIThcl8A\n",
       "KG7hbRuKnb8qsQsVvVlTrwQAQMUlf3kwJI24Z4JhPMtcfng5GcH49GsrxJpGvvHIaeem2ma+KSjQ\n",
       "lIwUdYyCY8j4dE1KzijNnIP2llF2wcXNnsoapw9XxsgYAl6k+KzUXbi2yP3KR2ecf6z3BFsBICdW\n",
       "nvnIaG3eHybqX7vbpEqUMT+9OL4Qpe8VON7dXuFd39v19FoAABRVePbGGuXTszO0P7tu6lghUonE\n",
       "llRdrhArLvmKdh9u29jcFiRRkfLUxBiFNiqSU9icoZQHo5mYBI1MBgBH6wMNb+U7Pnw337H4gi1Y\n",
       "ciWs+uks3Z9fztUvfzxTm9Ne8XXkvQLHNytOOZeiD4e0PgkAIAYCYknKUNUDSXEKzdWNpnil7r4p\n",
       "xqkjTarZMtk/K8TQ6Qve78qqvXurGwIJqcOUKfUWHsm8KGvxSP68YudXq4pcj39X49uOK2X142O0\n",
       "Tz5/u/7TVybqH0rSya6ZBwD21/gubbrgWdDgEOx9WUhfBaC2ibcEBYm7a7x+ukrBMNcEZggyR0TE\n",
       "T8zUPjikQ4VosQZbTpS4vqizBKvqmvjsqnpfzaZyx9JPiz1/bfGKdgD45XB1zoIMzYbfTdS/NClB\n",
       "Gct0USiY3YL/g0LHy/uq/Ef6uo5+n0R/vyhp17Klpge763f8rMu6YU/zrn2nml+2WtH+Z+5IAAFc\n",
       "2bUTdTDOSNa9+cQY7YLsOIXhevEkCvzph7a8laecz/Un/z4/Ae04XeL3UQb57IwU9ZDr9UuKVajv\n",
       "nxp1+1UVIo/LjztZkKH59fO3G/JemqCfmaCRqbqbd90ZZ8FfjtkfAyD0J/9+C2h1hDwsSxvGjNDc\n",
       "b4zk5NfrSwiQblLHzZhg+Jf4aPlUwpDqkQqa9nimbt1/TDH8OitGMaQnj+RJS6B1fbF7SY1TqO5v\n",
       "/v0WAADl1f7zokgS7s7VT2DZ7pegUjBM7mjtiDZbcN4j0YrHH0rXpCtY0qPX0cVL0rv5jv/ZXend\n",
       "0u/EESYBAFBU4T4Qa5TflZOhTe7pmKpaP8kCVUVw1+yhXfJWvn1P3hnXi33JsTN6PnP3hHZ8Z3/h\n",
       "aLHzmkNPuPj7Bc/F/Q38CwjTpSwQXgE4Vmwry9tpfq/ZFgqFMy4AVDtCvi8rvMvOmv0N4YwbVgEA\n",
       "sPM72/KVnzfspmH7HQGCRLG2yL1+z8XwvPcdCbsAANh+xPzstgMtxeGKt+6MK3/tacfvwhWvIwMi\n",
       "oKEBtm0H7W+UVfkc/Y1V0BhoPlDr/w1w/eu1vjIgAgDg22OtX6/eYfnEz/focrZTHAFR+PSs56/7\n",
       "q32nwpjazxgwAQCwcU/T62t3WL7r6/jVRa6/byp1rei+Z98ZUAEAhEPHPc8fKnTU9nbgtnOe8h0l\n",
       "9hcGIqmODLQAHCy2Xti6v/XNRivf43f4fFvIteu854+VHnR7q9tfBlwAAGz+pnndB9vM26UebAe8\n",
       "SLHujPOTPVW+rwY+sxskAAC2HrA8t2Vvc7ffP1r9o+vwR2dcr92InIAbKKC1FZ5tB1tf+/G8p8sv\n",
       "N/9Q5zd/XR34LYCwV5JdccMEAMDBk45DH243r/X4xGvqxFa/GNpS7n6rwOwNWwHVE26oAADYurf1\n",
       "zx/utOzt+DMKYM0p17YtZZ5VNzqfsB2HewG1WXE8PoZ7gOclbTIvynZf9JV+fqZtfgs/8F/Nu5rB\n",
       "EIBmJ+8QRMmpU7EzGRsf2FzuePqYRbzh/zE26EwdrT10f6r6o8HOYzCJB9Dpff8tbnGLG8L/A/WE\n",
       "roTBs2RqAAAAAElFTkSuQmCC'\n",
       "     style='height:25px; border-radius:12px; display: inline-block; float: left; vertical-align: middle'></img>\n",
       "\n",
       "\n",
       "\n",
       "\n",
       "  <img src='data:image/png;base64,iVBORw0KGgoAAAANSUhEUgAAACAAAAAgCAYAAABzenr0AAAABHNCSVQICAgIfAhkiAAAAAlwSFlz\n",
       "AAAFMAAABTABZarKtgAAABl0RVh0U29mdHdhcmUAd3d3Lmlua3NjYXBlLm9yZ5vuPBoAAArNSURB\n",
       "VFiFnVd5VFNXGv/ee0kgGyQhbFoXIKCFYEXEDVErTucMoKUOWA/VLsNSLPQgFTOdyrHPiIp1lFIQ\n",
       "OlaPShEG3EpPcQmISCuV1bQ1CLKIULeQhJA9JO+9+UMT0x5aPfOdc895373f/e7v/t537/ddBF5Q\n",
       "JBIJl81mJwCACEVRQBCEQhAEAQCgnghCURRCkmS7Wq2+WlJSYn0Rv8jzDHAcD0EQJIVGo5mFQuGF\n",
       "jIyMu39kq1KpkOrq6gU6nS6aIAiGzWY7VVBQ0P9/AcjNzWXy+fxcOp2uiY+Przm0d6+n8dblv/Fo\n",
       "kzM4SzYfPlRePvFnjnt6ehh1dXVv2mw2nlar/byoqMj8wgBwHBchCJIZEhJSeu1yHVi7vtu02t8+\n",
       "NykQ7BMWoOUMhXQsXLv5IQAwSJJEEASxcDicoeTk5DtCoZBy9XX69Gnv3t7ebJIky3EcH3guAKlU\n",
       "GoGiaOKWLVsOvhs7/9XXPMde3/IyIFbMnaPDuD5AUdQuOf2XlD0npTExMWYAgNbWVpZcLg8xGAzB\n",
       "JEnSvby82tPT052LaTQatLy8fBtJkt/s3Lnz5h8CwHFcRKPRNu/YsePAjh072KTs0IGCxRg8RgUB\n",
       "TGpSx6cmHgMAfNqN6Xa1GvJ/D35gYAAViURkcXHxUrPZHDRv3rxv4uLiDI7xPXv2bLdYLBUFBQWD\n",
       "jj7M8ZGbm8tkMpmSrKysQiaTScXGxtpqL7dManT6tcu5mgEWWJyOhicozpk+c3NsbKzNFcBbWWEf\n",
       "1Td9/upA30i3ZJv0h8bGxiSFQmFcuHDhOACAWCy+0d3dvX3lypUtzc3N9t8AiIuLk4SEhByLiooy\n",
       "AgAcO3ZsNlPgH3Cttb35JZo+bCYXIQAA9MDiUW7sWS1KN687w6Mera2twa2trfMvXboUOS28Pyb1\n",
       "U08McRtf/sXBSmt5cc35pqamVQqFwhoZGallMpnU/fv3e7RaberVq1d/AABAn1IfQqfTNRs3blQB\n",
       "AFy+fJk7Nja2XCKRnD3dNSorusPq6NfTPR+gPiEEoLRFXO1tS2+zavv27ReftjNttyr0S1/j0rUP\n",
       "PEJQwNwQYGgAACQSyXmNRhMtk8lYAAApKSlKDMP0+fn5QU4ACIKkxMfH1zjYuHnz5uspKSlOfdX7\n",
       "u68fvOePcCzKQR4YVCgATGfa/F3pnzaHWOAXSDyaMCqH2+r8VXErP3D+snXr1tV2dXW94dATExOr\n",
       "6XT6JgAAVCKRcDEMM4WHh9sAAHJyUqNu//wDymKx7AAAVVVVPiaTKXxByrYMvBsxEMSTwPXhuL+8\n",
       "e/fu9fv371+flvbemogYNz+TnsBOFEwMFO8/KzEYDKFVVVX+AAChoaGT7u7ud48ePRro0DEMs+bl\n",
       "5bFRNpud4O3tfdGBzq5uy/5wTUPM/q2zC9atmbVqeHg4Pi0t7WxGRoZFH5rw76I7LI8HqHfwPL7d\n",
       "rfVagzw1NfW81t4ePUfsP/OrnWZ6fPSuUqFQSEkkkrOjo6OvuQR5q0ajiXLoPj4+lzgcTjwKACLH\n",
       "9SqXy2kzhBO8haGo+UA2wZW+p880DxeveGt9aHx9fT09ctlq3sC0NT9e6xsbjuZblSxl7wKtVotM\n",
       "m6PnXvlmZJBtX91CEMQsxyJsNlteXl4udugIghAajQYFAEhPTx9AEGQOimGY8y4oLt63KlJkdB4t\n",
       "P282Z/c/dPrDH04ktJ9P2tfWXP3+2o1vHzunEp6Xq0lsGt08KzUrcSGTQ3n3XeefLCs5UqnT6Rap\n",
       "VCoEACA7O/snvV4f5gJooLa2NsihoygKKEVRzquTND2OCpttGXdG1tOxwOlgzdvE9v30rV+m3W5I\n",
       "2jfJNQmLH85QUUzPNTwvkAx0+vVGhq2/VV9fT+dyuZ01NTXOXQOA3fGxevXq2waDYY5r8KIoij5b\n",
       "jzB5Cz2oKdOo0erOm+1tVuVtBMZXElNMRJR1fvvjx9iPLQ/RjpuB0Xu/Vp7YmH1864YNG3oNBkPw\n",
       "VD7mzp1rJUnSzZUBmqsBggAgGFC/n6jVA+3WoN3tu1Gg39cg2tEx1Cg3CIJHsclxnl2HRorMN8Z0\n",
       "fRW+vr7GJ36Q56Z5h9BIknzGAMJWtvdQYs0EZe3/FSwqk5tpXEMb1JoYD+n8xRdQJl/fMPEgzKhS\n",
       "L40KCD7lGzg92qIyovpb3y/msT2un2psvFpWVvYyl8vtc1nDSXFXV5c7iqLOtEyS5LNBAADfWeKm\n",
       "Ly4uuvR1++sfv51/P5sfnHm2/Iy+mBmwsaHJbpt+Q0jHSS7TZ/PSNVkNJ/973OxtemD1s91CPb12\n",
       "h9MfvZsk5meo1eqo5ORkxTNWn7HR1tY2l8PhOAsUiqIolCRJcETtv/61qzNySYK5trZ2TCgUUiwW\n",
       "S1FSUhLR+bA/kAzwXcAbHa/cFhrTXrJ/v+7IkSPu3Je4Xm5eboJv2wba5QbO5fQwxhsP679Y+nFO\n",
       "jgAAoKSkJILFYjnBGI1G0YYNGwYBnqRoiqIQlKKojurq6gUAAAKBgKQoiuGYkJWVpTCZTOKmI1Xd\n",
       "HwnDcm+cOnOMw+H0FxYWbqpvqv/r9EV+bky+O+/QoUPiqJRt9JphTLFHbKBCR87tWL9EPN9oNIZn\n",
       "ZWUpXHaMCQQCEgCgsrIyEgBuoGq1+qpOp4t2GPH5/BvFxcVLHXpgYGDD8ePH/56Xl2cCAMjMzOxP\n",
       "S0s7pWfow4RCbz/fAF9RT0+P9yeffHJySSqev+9nxLD1FaAlTR8vlJ8vxxzsFhUVLRMIBB0OvwaD\n",
       "YRlFUdfQkpISK0EQ9J6eHgYAQEZGxl2z2Rw0MjJCBwBITk5+xOVyfzpw4ECSw5lQKKQIbxtJm4EN\n",
       "8eZ7jPz0oNv+dK5FG/jq54eH+IFr/S1KabBy0UerAvI+++wzD4vFEpCWljYEACCTyVh2ux3FcXwS\n",
       "BQCw2WxVdXV1bzrQRURE1FVVVTn1zMzM/pkzZ35/9OjRd0pLS19RqVQIy4/tCwDgOcPTQvFQEQBA\n",
       "aWnpK0ERK2LbyVllN341GUJ4YDu8zD5bKyur7O+85tx9Z2fnO1ar9QjA04KkpaVFs2LFir8olcq7\n",
       "YWFhJpFINNnX16drbGyMjY6Ovg0AIBaLjcuXL5d3d3d7XbhwIW704b3F479MeD1qVfJ5Og/bvb4R\n",
       "LwaDMZabm9uwflNa/z/3HOIv5NsDEK7XS7FeevXPvYNLvm5S/GglCK5KpZorlUobXE8g5ObmMqVS\n",
       "6UG1Wu1BURSHoijOiRMnwgoLC7coFAqBo+9Fm0KhEKStmvvto3TeucFN7pVJYbytarXaQyqVHsRx\n",
       "3N15TF1BuBaljr4rV66wOzo63mAymXdzcnKuwwtIUVHRMqvVGkgQxMV7NXvyJijGvcNXB/7z5Zdf\n",
       "bicI4gSO40NTAgD4bVnuODIAT2pElUq1FEEQO4fD6QsPD++fqixHEATj8/ntjoCrqKhwS0hIsJWV\n",
       "leURBHEOx3G563pT3tn5+flBDAbjg6CgoMMpKSlK17GhoSFMJpMFPk04DJIkEQzDzCwW6+5UD5Oa\n",
       "mhrfO3fufECS5GHXnf8pAAAAHMfdURTdimGYPjExsTo0NHTyj2ynEplMxurs7HyHIAiKJMlSHMct\n",
       "U9k9N2vl5+cH0en0TRiGWX18fC65vnh+LxqNBq2oqFhgMpmi7XY7arVaj+zdu/fxn/l/4bSZl5fH\n",
       "5nK5CQAQMtXznCRJePpEbwOAZhzHX4ix/wHzzC/tu64gcwAAAABJRU5ErkJggg=='\n",
       "       style='height:15px; border-radius:12px; display: inline-block; float: left'></img>\n",
       "  \n",
       "\n",
       "\n",
       "</div>\n"
      ]
     },
     "metadata": {},
     "output_type": "display_data"
    }
   ],
   "source": [
    "# data.index.to_numpy()"
   ]
  },
  {
   "cell_type": "code",
   "execution_count": 59,
   "metadata": {},
   "outputs": [
    {
     "data": {
      "text/html": [
       "<img src='data:image/png;base64,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' style='max-width:100%; margin: auto; display: block; '/>"
      ],
      "text/plain": [
       ":Scatter   [x]   (y)"
      ]
     },
     "execution_count": 59,
     "metadata": {
      "application/vnd.holoviews_exec.v0+json": {}
     },
     "output_type": "execute_result"
    }
   ],
   "source": [
    "# hv.Scatter(np.arange(9))"
   ]
  },
  {
   "cell_type": "code",
   "execution_count": 67,
   "metadata": {},
   "outputs": [
    {
     "data": {
      "text/plain": [
       "np.void((357492, 1, 1, 7000, 2, 28000, 1, (2831923013430, 43, 26), (2831922996464, 56, 1606), (0, 0, 0), (0, 0, 0), (0, 0, 0), (0, 0, 0)), dtype=[('eventid', '<u4'), ('type', 'i1'), ('number of waveforms', 'u1'), ('waveform length', '<u2'), ('number of triggers', '<i2'), ('event request size', '<u4'), ('requested?', 'u1'), ('Trig0', [('timestamp', '<u8'), ('bc', 'u1'), ('energy', '<u2')]), ('Trig1', [('timestamp', '<u8'), ('bc', 'u1'), ('energy', '<u2')]), ('Trig2', [('timestamp', '<u8'), ('bc', 'u1'), ('energy', '<u2')]), ('Trig3', [('timestamp', '<u8'), ('bc', 'u1'), ('energy', '<u2')]), ('Trig4', [('timestamp', '<u8'), ('bc', 'u1'), ('energy', '<u2')]), ('Trig5', [('timestamp', '<u8'), ('bc', 'u1'), ('energy', '<u2')])])"
      ]
     },
     "execution_count": 67,
     "metadata": {},
     "output_type": "execute_result"
    }
   ],
   "source": [
    "events[4]"
   ]
  },
  {
   "cell_type": "code",
   "execution_count": 2,
   "metadata": {},
   "outputs": [
    {
     "data": {
      "text/plain": [
       "array([ 2.3,  3.3,  4.3,  5.3,  6.3,  7.3,  8.3,  9.3, 10.3, 11.3, 12.3,\n",
       "       13.3, 14.3, 15.3, 16.3, 17.3, 18.3, 19.3, 20.3, 21.3, 22.3, 23.3,\n",
       "       24.3, 25.3, 26.3, 27.3, 28.3, 29.3, 30.3, 31.3, 32.3, 33.3, 34.3,\n",
       "       35.3, 36.3, 37.3, 38.3, 39.3, 40.3, 41.3, 42.3, 43.3, 44.3, 45.3,\n",
       "       46.3, 47.3, 48.3, 49.3])"
      ]
     },
     "execution_count": 2,
     "metadata": {},
     "output_type": "execute_result"
    }
   ],
   "source": [
    "import numpy as np\n",
    "np.arange(2.3, 50.3, 1)"
   ]
  },
  {
   "cell_type": "code",
   "execution_count": null,
   "metadata": {},
   "outputs": [],
   "source": []
  }
 ],
 "metadata": {
  "kernelspec": {
   "display_name": "Python 3 (ipykernel)",
   "language": "python",
   "name": "python3"
  },
  "language_info": {
   "codemirror_mode": {
    "name": "ipython",
    "version": 3
   },
   "file_extension": ".py",
   "mimetype": "text/x-python",
   "name": "python",
   "nbconvert_exporter": "python",
   "pygments_lexer": "ipython3",
   "version": "3.12.3"
  }
 },
 "nbformat": 4,
 "nbformat_minor": 4
}
